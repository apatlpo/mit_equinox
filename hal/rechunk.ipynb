{
 "cells": [
  {
   "cell_type": "markdown",
   "metadata": {},
   "source": [
    "# rewrite data with larger chunks along time"
   ]
  },
  {
   "cell_type": "code",
   "execution_count": 1,
   "metadata": {},
   "outputs": [],
   "source": [
    "import os, sys\n",
    "import numpy as np\n",
    "import dask\n",
    "import xarray as xr\n",
    "from matplotlib import pyplot as plt\n",
    "%matplotlib inline\n",
    "\n",
    "from mitequinox.utils import *"
   ]
  },
  {
   "cell_type": "code",
   "execution_count": 2,
   "metadata": {},
   "outputs": [],
   "source": [
    "from dask_jobqueue import PBSCluster\n",
    "cluster = PBSCluster(cores=1)\n",
    "#print(cluster.job_script())\n",
    "w = cluster.scale(30)"
   ]
  },
  {
   "cell_type": "code",
   "execution_count": 3,
   "metadata": {},
   "outputs": [],
   "source": [
    "# get dask handles and check dask server status\n",
    "from dask.distributed import Client\n",
    "client = Client(cluster)"
   ]
  },
  {
   "cell_type": "code",
   "execution_count": 4,
   "metadata": {
    "scrolled": true
   },
   "outputs": [
    {
     "data": {
      "text/html": [
       "<table style=\"border: 2px solid white;\">\n",
       "<tr>\n",
       "<td style=\"vertical-align: top; border: 0px solid white\">\n",
       "<h3>Client</h3>\n",
       "<ul>\n",
       "  <li><b>Scheduler: </b>tcp://10.135.36.53:46636\n",
       "  <li><b>Dashboard: </b><a href='http://10.135.36.53:8787/status' target='_blank'>http://10.135.36.53:8787/status</a>\n",
       "</ul>\n",
       "</td>\n",
       "<td style=\"vertical-align: top; border: 0px solid white\">\n",
       "<h3>Cluster</h3>\n",
       "<ul>\n",
       "  <li><b>Workers: </b>0</li>\n",
       "  <li><b>Cores: </b>0</li>\n",
       "  <li><b>Memory: </b>0 B</li>\n",
       "</ul>\n",
       "</td>\n",
       "</tr>\n",
       "</table>"
      ],
      "text/plain": [
       "<Client: scheduler='tcp://10.135.36.53:46636' processes=0 cores=0>"
      ]
     },
     "execution_count": 4,
     "metadata": {},
     "output_type": "execute_result"
    }
   ],
   "source": [
    "client"
   ]
  },
  {
   "cell_type": "markdown",
   "metadata": {},
   "source": [
    "---\n",
    "# try to load standard lay out, rechunk and store right away\n"
   ]
  },
  {
   "cell_type": "code",
   "execution_count": 5,
   "metadata": {},
   "outputs": [],
   "source": [
    "# same but over all variables and faces\n",
    "#V = ['SSU', 'SSV']\n",
    "#V = ['SSU']\n",
    "V = ['Eta']\n",
    "\n",
    "# parameters for rechunking: time and space\n",
    "Nt0, Nc = 24*10, (96, 48) # choice 0, leads to files <4MB\n",
    "#Nt0, Nc = 24*20, (288, 96) # choice 1, to be tested\n",
    "#\n",
    "# 96 x 45 = 4320\n",
    "# other choices: 432, 27 (long scheduling), 288, 864\n",
    "\n",
    "# zarr compression\n",
    "# http://xarray.pydata.org/en/stable/io.html\n",
    "# http://zarr.readthedocs.io/en/stable/tutorial.html#compressors\n",
    "#compressor = None"
   ]
  },
  {
   "cell_type": "markdown",
   "metadata": {},
   "source": [
    "### one face at a time, all variables"
   ]
  },
  {
   "cell_type": "markdown",
   "metadata": {},
   "source": [
    "Goes through with 20 workers, 20 cores, 800GB, `chunks={'face':1, 'j':480}` and all files.\n",
    "Memory saturates at 415GB, i.e. there is probably NO spilling to tmp disk. Wall time= 25min/face"
   ]
  },
  {
   "cell_type": "code",
   "execution_count": 7,
   "metadata": {
    "scrolled": true
   },
   "outputs": [
    {
     "name": "stdout",
     "output_type": "stream",
     "text": [
      "<xarray.Dataset>\n",
      "Dimensions:  (face: 13, i: 4320, j: 4320, time: 10311)\n",
      "Coordinates:\n",
      "  * i        (i) int64 0 1 2 3 4 5 6 7 ... 4313 4314 4315 4316 4317 4318 4319\n",
      "  * j        (j) int64 0 1 2 3 4 5 6 7 ... 4313 4314 4315 4316 4317 4318 4319\n",
      "  * face     (face) int64 0 1 2 3 4 5 6 7 8 9 10 11 12\n",
      "  * time     (time) float64 2.592e+05 2.628e+05 ... 3.737e+07 3.738e+07\n",
      "    iters    (time) int64 10368 10512 10656 10800 ... 1494720 1494864 1495008\n",
      "    dtime    (time) datetime64[ns] 2011-09-13 ... 2012-11-15T14:00:00\n",
      "Data variables:\n",
      "    Eta      (time, face, j, i) float32 dask.array<shape=(10311, 13, 4320, 4320), chunksize=(1, 1, 480, 4320)>\n",
      " Eta face=0  data is 192.1GB \n",
      " Eta face=1  data is 410.8GB \n",
      " Eta face=2  data is 263.6GB \n",
      " Eta face=3  data is 130.0GB \n",
      " Eta face=4  data is 461.8GB \n",
      " Eta face=5  data is 88.1GB \n",
      " Eta face=6  data is 386.3GB \n",
      " Eta face=7  data is 395.6GB \n"
     ]
    },
    {
     "name": "stderr",
     "output_type": "stream",
     "text": [
      "distributed.utils_perf - WARNING - full garbage collections took 21% CPU time recently (threshold: 10%)\n"
     ]
    },
    {
     "name": "stdout",
     "output_type": "stream",
     "text": [
      " Eta face=8  data is 494.8GB \n"
     ]
    },
    {
     "name": "stderr",
     "output_type": "stream",
     "text": [
      "distributed.utils_perf - WARNING - full garbage collections took 21% CPU time recently (threshold: 10%)\n"
     ]
    },
    {
     "name": "stdout",
     "output_type": "stream",
     "text": [
      " Eta face=9  data is 250.8GB \n",
      " Eta face=10  data is 259.7GB \n"
     ]
    },
    {
     "name": "stderr",
     "output_type": "stream",
     "text": [
      "distributed.utils_perf - WARNING - full garbage collections took 22% CPU time recently (threshold: 10%)\n"
     ]
    },
    {
     "name": "stdout",
     "output_type": "stream",
     "text": [
      " Eta face=11  data is 408.5GB \n"
     ]
    },
    {
     "name": "stderr",
     "output_type": "stream",
     "text": [
      "distributed.utils_perf - WARNING - full garbage collections took 22% CPU time recently (threshold: 10%)\n",
      "distributed.utils_perf - WARNING - full garbage collections took 22% CPU time recently (threshold: 10%)\n",
      "distributed.utils_perf - WARNING - full garbage collections took 22% CPU time recently (threshold: 10%)\n",
      "distributed.utils_perf - WARNING - full garbage collections took 22% CPU time recently (threshold: 10%)\n",
      "distributed.utils_perf - WARNING - full garbage collections took 22% CPU time recently (threshold: 10%)\n",
      "distributed.utils_perf - WARNING - full garbage collections took 22% CPU time recently (threshold: 10%)\n",
      "distributed.utils_perf - WARNING - full garbage collections took 22% CPU time recently (threshold: 10%)\n",
      "distributed.utils_perf - WARNING - full garbage collections took 22% CPU time recently (threshold: 10%)\n",
      "distributed.utils_perf - WARNING - full garbage collections took 22% CPU time recently (threshold: 10%)\n"
     ]
    },
    {
     "name": "stdout",
     "output_type": "stream",
     "text": [
      "CPU times: user 22min 16s, sys: 1min 21s, total: 23min 38s\n",
      "Wall time: 29min 18s\n",
      " Eta face=12  data is 231.9GB \n"
     ]
    }
   ],
   "source": [
    "out_dir = work_data_dir+'rechunked/'\n",
    "\n",
    "for v in V:\n",
    "\n",
    "    #files = load_iters_date_files(v).file[:500].tolist()\n",
    "    #ds0 = load_datanc(v, files=files, parallel=True)\n",
    "    if v is 'SSV':\n",
    "        ds0 = load_datanc(v, parallel=True, chunks={'face':1, 'j_g':480})\n",
    "    else:\n",
    "        ds0 = load_datanc(v, parallel=True, chunks={'face':1, 'j':480})            \n",
    "    print(ds0)\n",
    "    \n",
    "    Nt = len(ds0.time) if Nt0 == 0 else Nt0\n",
    "    \n",
    "    #for face in [1]:\n",
    "    for face in range(ds0['face'].size):\n",
    "        \n",
    "        ds = ds0.isel(face=face)\n",
    "        #\n",
    "        ds = ds.isel(time=slice(len(ds.time)//Nt *Nt))\n",
    "        #\n",
    "        chunks = {'time': Nt, 'i': Nc[0], 'j': Nc[1]}\n",
    "        if v is 'SSU':\n",
    "            chunks = {'time': Nt, 'i_g': Nc[0], 'j': Nc[1]}\n",
    "        elif v is 'SSV':\n",
    "            chunks = {'time': Nt, 'i': Nc[0], 'j_g': Nc[1]}\n",
    "        ds = ds.chunk(chunks)\n",
    "        #\n",
    "        # tmp, xarray zarr backend bug: \n",
    "        # https://github.com/pydata/xarray/issues/2278\n",
    "        #del ds['face'].encoding['chunks']\n",
    "        #del ds[v].encoding['chunks']\n",
    "        \n",
    "        file_out = out_dir+'%s_f%02d.zarr'%(v,face)\n",
    "        #print(ds)\n",
    "        if not os.path.isdir(file_out):\n",
    "            try:\n",
    "                %time ds.to_zarr(file_out, mode='w')\n",
    "            except:\n",
    "                print('Failure')\n",
    "        dsize = getsize(file_out)\n",
    "        print(' %s face=%d  data is %.1fGB ' %(v, face, dsize/1e9))\n"
   ]
  },
  {
   "cell_type": "markdown",
   "metadata": {},
   "source": [
    "### rechunked all faces \n",
    "\n",
    "Goes through with 20 workers, 20 cores, 800GB, `chunks={'face':1, 'j':480}` and **1000 files** (i.e not the full dataset!).\n",
    "Memory saturates at 515GB, approx 70% of 800GB (560GB truly), i.e. there is spilling to tmp disk. Wall time= 40min"
   ]
  },
  {
   "cell_type": "code",
   "execution_count": 9,
   "metadata": {},
   "outputs": [
    {
     "name": "stdout",
     "output_type": "stream",
     "text": [
      "<xarray.Dataset>\n",
      "Dimensions:  (face: 13, i_g: 4320, j: 4320, time: 960)\n",
      "Coordinates:\n",
      "  * i_g      (i_g) int64 0 1 2 3 4 5 6 7 ... 4313 4314 4315 4316 4317 4318 4319\n",
      "  * j        (j) int64 0 1 2 3 4 5 6 7 ... 4313 4314 4315 4316 4317 4318 4319\n",
      "  * face     (face) int64 0 1 2 3 4 5 6 7 8 9 10 11 12\n",
      "  * time     (time) float64 5.702e+06 5.706e+06 5.71e+06 ... 9.151e+06 9.155e+06\n",
      "    iters    (time) int64 dask.array<shape=(960,), chunksize=(240,)>\n",
      "    dtime    (time) datetime64[ns] dask.array<shape=(960,), chunksize=(240,)>\n",
      "Data variables:\n",
      "    SSU      (time, face, j, i_g) float32 dask.array<shape=(960, 13, 4320, 4320), chunksize=(240, 1, 48, 96)>\n"
     ]
    },
    {
     "name": "stderr",
     "output_type": "stream",
     "text": [
      "distributed.utils_perf - WARNING - full garbage collections took 17% CPU time recently (threshold: 10%)\n"
     ]
    },
    {
     "name": "stdout",
     "output_type": "stream",
     "text": [
      "CPU times: user 27min 40s, sys: 1min 55s, total: 29min 35s\n",
      "Wall time: 40min 36s\n",
      " SSU  data is 447.3GB \n"
     ]
    }
   ],
   "source": [
    "out_dir = work_data_dir+'rechunked/'\n",
    "\n",
    "for v in V:\n",
    "\n",
    "    files = load_iters_date_files(v).file[:1000].tolist()\n",
    "    #ds0 = load_datanc(v, files=files, parallel=True)\n",
    "    #ds0 = load_datanc(v, parallel=True)\n",
    "    ds0 = load_datanc(v, files=files, parallel=True, chunks={'face':1, 'j':480})\n",
    "    \n",
    "    Nt = len(ds.time) if Nt0 == 0 else Nt0\n",
    "    \n",
    "    #\n",
    "    ds = ds0.isel(time=slice(len(ds0.time)//Nt *Nt))\n",
    "    #\n",
    "    chunks = {'time': Nt, 'i': Nc[0], 'j': Nc[1]}\n",
    "    if v is 'SSU':\n",
    "        chunks = {'time': Nt, 'i_g': Nc[0], 'j': Nc[1]}\n",
    "    elif v is 'SSV':\n",
    "        chunks = {'time': Nt, 'i': Nc[0], 'j_g': Nc[1]}\n",
    "    ds = ds.chunk(chunks)\n",
    "\n",
    "    file_out = out_dir+'%s.zarr'%(v)\n",
    "    print(ds)\n",
    "    try:\n",
    "        %time ds.to_zarr(file_out, mode='w')\n",
    "        # specify compression:\n",
    "        #%time ds.to_zarr(file_out, mode='w', \\\n",
    "        #                 encoding={key: {'compressor': compressor} for key in ds.variables})\n",
    "        # without compression: 601G for face 1\n",
    "    except:\n",
    "        print('Failure')\n",
    "    dsize = getsize(file_out)\n",
    "    print(' %s  data is %.1fGB ' %(v, dsize/1e9))\n"
   ]
  },
  {
   "cell_type": "markdown",
   "metadata": {},
   "source": [
    "### common time line and chunks across variables, standard layout"
   ]
  },
  {
   "cell_type": "code",
   "execution_count": 9,
   "metadata": {},
   "outputs": [
    {
     "name": "stdout",
     "output_type": "stream",
     "text": [
      "2011-11-15 00:00:00  to  2012-11-15 00:00:00\n"
     ]
    }
   ],
   "source": [
    "V = ['SSU', 'SSV', 'Eta']\n",
    "Nt0, Nc = 1, (None, None) # leads to files ??\n",
    "\n",
    "df = load_iters_date_files(V[0]).rename(columns={'file': 'file_'+V[0]})\n",
    "for v in V[1:]:\n",
    "    ldf = load_iters_date_files(v)\n",
    "    ldf = ldf.rename(columns={'file': 'file_'+v})\n",
    "    df = df.join(ldf['file_'+v], how='inner')\n",
    "print(df.index[0], ' to ', df.index[-1]) "
   ]
  },
  {
   "cell_type": "code",
   "execution_count": 10,
   "metadata": {},
   "outputs": [
    {
     "name": "stdout",
     "output_type": "stream",
     "text": [
      "CPU times: user 28min 21s, sys: 1min 29s, total: 29min 50s\n",
      "Wall time: 1h 20min 19s\n",
      " SSU  data is 4082.7GB \n",
      "CPU times: user 23min 25s, sys: 1min 11s, total: 24min 37s\n",
      "Wall time: 1h 41s\n",
      " SSV  data is 4078.5GB \n",
      " Eta  data is 3484.1GB \n"
     ]
    }
   ],
   "source": [
    "out_dir = work_data_dir+'rechunked/'\n",
    "\n",
    "for v in V:\n",
    "\n",
    "    #ds0 = load_datanc(v, files=files, parallel=True)\n",
    "    #files = df['file_'+v][:500].tolist()\n",
    "    files = df['file_'+v][:].tolist()\n",
    "    ds0 = load_datanc(v, files=files, parallel=True, chunks={'face':1})\n",
    "    \n",
    "    Nt = len(ds0.time) if Nt0 == 0 else Nt0\n",
    "        \n",
    "    ds = ds0.isel(time=slice(len(ds0.time)//Nt *Nt))\n",
    "    #\n",
    "    chunks = {'time': Nt, 'i': Nc[0], 'j': Nc[1]}\n",
    "    if v is 'SSU':\n",
    "        chunks = {'time': Nt, 'i_g': Nc[0], 'j': Nc[1]}\n",
    "    elif v is 'SSV':\n",
    "        chunks = {'time': Nt, 'i': Nc[0], 'j_g': Nc[1]}\n",
    "    ds = ds.chunk(chunks)\n",
    "    #\n",
    "    file_out = out_dir+'%s_std.zarr'%(v)\n",
    "    #print(ds)\n",
    "    if not os.path.isdir(file_out):\n",
    "        try:\n",
    "            %time ds.to_zarr(file_out, mode='w')\n",
    "            pass\n",
    "        except:\n",
    "            print('Failure')\n",
    "    dsize = getsize(file_out)\n",
    "    print(' %s  data is %.1fGB ' %(v, dsize/1e9))\n"
   ]
  },
  {
   "cell_type": "markdown",
   "metadata": {},
   "source": [
    "---\n",
    "\n",
    "# grid under zarr format"
   ]
  },
  {
   "cell_type": "code",
   "execution_count": 10,
   "metadata": {},
   "outputs": [
    {
     "name": "stdout",
     "output_type": "stream",
     "text": [
      "<xarray.Dataset>\n",
      "Dimensions:  (face: 13, i: 4320, i_g: 4320, j: 4320, j_g: 4320, k: 90, k_l: 90, k_p1: 91, k_u: 90)\n",
      "Coordinates:\n",
      "  * k        (k) int64 0 1 2 3 4 5 6 7 8 9 10 ... 80 81 82 83 84 85 86 87 88 89\n",
      "    Z        (k) float32 ...\n",
      "  * i_g      (i_g) int64 0 1 2 3 4 5 6 7 ... 4313 4314 4315 4316 4317 4318 4319\n",
      "  * j        (j) int64 0 1 2 3 4 5 6 7 ... 4313 4314 4315 4316 4317 4318 4319\n",
      "  * face     (face) int64 0 1 2 3 4 5 6 7 8 9 10 11 12\n",
      "    dyG      (face, j, i_g) float32 dask.array<shape=(13, 4320, 4320), chunksize=(1, 4320, 4320)>\n",
      "  * i        (i) int64 0 1 2 3 4 5 6 7 ... 4313 4314 4315 4316 4317 4318 4319\n",
      "    XC       (face, j, i) float32 dask.array<shape=(13, 4320, 4320), chunksize=(1, 4320, 4320)>\n",
      "  * j_g      (j_g) int64 0 1 2 3 4 5 6 7 ... 4313 4314 4315 4316 4317 4318 4319\n",
      "    YG       (face, j_g, i_g) float32 dask.array<shape=(13, 4320, 4320), chunksize=(1, 4320, 4320)>\n",
      "  * k_u      (k_u) int64 0 1 2 3 4 5 6 7 8 9 ... 80 81 82 83 84 85 86 87 88 89\n",
      "    Zu       (k_u) float32 ...\n",
      "    rAz      (face, j_g, i_g) float32 ...\n",
      "    SN       (face, j, i) float32 dask.array<shape=(13, 4320, 4320), chunksize=(1, 4320, 4320)>\n",
      "    hFacW    (face, j, i_g) float32 dask.array<shape=(13, 4320, 4320), chunksize=(1, 4320, 4320)>\n",
      "    YC       (face, j, i) float32 dask.array<shape=(13, 4320, 4320), chunksize=(1, 4320, 4320)>\n",
      "  * k_l      (k_l) int64 0 1 2 3 4 5 6 7 8 9 ... 80 81 82 83 84 85 86 87 88 89\n",
      "    Zl       (k_l) float32 ...\n",
      "  * k_p1     (k_p1) int64 0 1 2 3 4 5 6 7 8 9 ... 81 82 83 84 85 86 87 88 89 90\n",
      "    PHrefF   (k_p1) float32 ...\n",
      "    drF      (k) float32 ...\n",
      "    dxC      (face, j, i_g) float32 dask.array<shape=(13, 4320, 4320), chunksize=(1, 4320, 4320)>\n",
      "    PHrefC   (k) float32 ...\n",
      "    drC      (k_p1) float32 ...\n",
      "    hFacC    (face, j, i) float32 dask.array<shape=(13, 4320, 4320), chunksize=(1, 4320, 4320)>\n",
      "    rAs      (face, j_g, i) float32 dask.array<shape=(13, 4320, 4320), chunksize=(1, 4320, 4320)>\n",
      "    dxG      (face, j_g, i) float32 dask.array<shape=(13, 4320, 4320), chunksize=(1, 4320, 4320)>\n",
      "    rAw      (face, j, i_g) float32 dask.array<shape=(13, 4320, 4320), chunksize=(1, 4320, 4320)>\n",
      "    CS       (face, j, i) float32 dask.array<shape=(13, 4320, 4320), chunksize=(1, 4320, 4320)>\n",
      "    rA       (face, j, i) float32 dask.array<shape=(13, 4320, 4320), chunksize=(1, 4320, 4320)>\n",
      "    hFacS    (face, j_g, i) float32 dask.array<shape=(13, 4320, 4320), chunksize=(1, 4320, 4320)>\n",
      "    dyC      (face, j_g, i) float32 dask.array<shape=(13, 4320, 4320), chunksize=(1, 4320, 4320)>\n",
      "    Zp1      (k_p1) float32 ...\n",
      "    XG       (face, j_g, i_g) float32 dask.array<shape=(13, 4320, 4320), chunksize=(1, 4320, 4320)>\n",
      "    Depth    (face, j, i) float32 dask.array<shape=(13, 4320, 4320), chunksize=(1, 4320, 4320)>\n",
      "Data variables:\n",
      "    *empty*\n"
     ]
    },
    {
     "data": {
      "text/plain": [
       "<xarray.backends.zarr.ZarrStore at 0x2aec45d87d30>"
      ]
     },
     "execution_count": 10,
     "metadata": {},
     "output_type": "execute_result"
    }
   ],
   "source": [
    "grd = load_grdnc()\n",
    "# should rechunk maybe\n",
    "print(grd)\n",
    "grd.to_zarr(root_data_dir+'grid.zarr', mode='w')"
   ]
  },
  {
   "cell_type": "markdown",
   "metadata": {},
   "source": [
    "---"
   ]
  },
  {
   "cell_type": "code",
   "execution_count": 17,
   "metadata": {},
   "outputs": [],
   "source": [
    "w = cluster.scale_up(30)"
   ]
  },
  {
   "cell_type": "code",
   "execution_count": null,
   "metadata": {},
   "outputs": [],
   "source": [
    "client.restart()"
   ]
  },
  {
   "cell_type": "code",
   "execution_count": 11,
   "metadata": {},
   "outputs": [],
   "source": [
    "cluster.close()"
   ]
  },
  {
   "cell_type": "code",
   "execution_count": null,
   "metadata": {},
   "outputs": [],
   "source": []
  }
 ],
 "metadata": {
  "kernelspec": {
   "display_name": "equinox",
   "language": "python",
   "name": "equinox"
  },
  "language_info": {
   "codemirror_mode": {
    "name": "ipython",
    "version": 3
   },
   "file_extension": ".py",
   "mimetype": "text/x-python",
   "name": "python",
   "nbconvert_exporter": "python",
   "pygments_lexer": "ipython3",
   "version": "3.6.6"
  }
 },
 "nbformat": 4,
 "nbformat_minor": 2
}
