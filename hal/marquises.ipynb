{
 "cells": [
  {
   "cell_type": "markdown",
   "metadata": {},
   "source": [
    " # marquises, snapshot, movies"
   ]
  },
  {
   "cell_type": "markdown",
   "metadata": {},
   "source": [
    "---"
   ]
  },
  {
   "cell_type": "code",
   "execution_count": 1,
   "metadata": {},
   "outputs": [],
   "source": [
    "import os\n",
    "from glob import glob\n",
    "import numpy as np\n",
    "import dask\n",
    "import xarray as xr\n",
    "from dask import delayed\n",
    "from matplotlib import pyplot as plt\n",
    "%matplotlib inline\n",
    "\n",
    "from mitequinox.utils import *\n",
    "from mitequinox.plot import *"
   ]
  },
  {
   "cell_type": "code",
   "execution_count": 2,
   "metadata": {},
   "outputs": [],
   "source": [
    "from dask_jobqueue import PBSCluster\n",
    "#cluster = PBSCluster()\n",
    "cluster = PBSCluster(cores=12, processes=12,)\n",
    "w = cluster.scale(12*4)"
   ]
  },
  {
   "cell_type": "code",
   "execution_count": 3,
   "metadata": {},
   "outputs": [],
   "source": [
    "# get dask handles and check dask server status\n",
    "from dask.distributed import Client\n",
    "client = Client(cluster)"
   ]
  },
  {
   "cell_type": "code",
   "execution_count": 5,
   "metadata": {},
   "outputs": [
    {
     "data": {
      "text/html": [
       "<table style=\"border: 2px solid white;\">\n",
       "<tr>\n",
       "<td style=\"vertical-align: top; border: 0px solid white\">\n",
       "<h3>Client</h3>\n",
       "<ul>\n",
       "  <li><b>Scheduler: </b>tcp://10.135.39.57:53434\n",
       "  <li><b>Dashboard: </b><a href='http://10.135.39.57:8787/status' target='_blank'>http://10.135.39.57:8787/status</a>\n",
       "</ul>\n",
       "</td>\n",
       "<td style=\"vertical-align: top; border: 0px solid white\">\n",
       "<h3>Cluster</h3>\n",
       "<ul>\n",
       "  <li><b>Workers: </b>48</li>\n",
       "  <li><b>Cores: </b>48</li>\n",
       "  <li><b>Memory: </b>399.84 GB</li>\n",
       "</ul>\n",
       "</td>\n",
       "</tr>\n",
       "</table>"
      ],
      "text/plain": [
       "<Client: scheduler='tcp://10.135.39.57:53434' processes=48 cores=48>"
      ]
     },
     "execution_count": 5,
     "metadata": {},
     "output_type": "execute_result"
    }
   ],
   "source": [
    "client"
   ]
  },
  {
   "cell_type": "markdown",
   "metadata": {},
   "source": [
    "---\n",
    "\n",
    "\n",
    "## define a region of interest"
   ]
  },
  {
   "cell_type": "code",
   "execution_count": 6,
   "metadata": {},
   "outputs": [],
   "source": [
    "region = 'marquises'\n",
    "lon = [-150, -130]\n",
    "lat = [-20, 0]\n",
    "face = 8\n",
    "\n",
    "#v, vmin, vmax = 'Eta', -1., 2.\n",
    "#v, vmin, vmax = 'SSU', -1., 1.\n",
    "v, vmin, vmax = 'SST', 23., 28.\n",
    "\n",
    "grd = load_grd()"
   ]
  },
  {
   "cell_type": "code",
   "execution_count": 7,
   "metadata": {},
   "outputs": [
    {
     "data": {
      "text/plain": [
       "<xarray.Dataset>\n",
       "Dimensions:  (face: 13, i: 4320, i_g: 4320, j: 4320, j_g: 4320, k: 90, k_l: 90, k_p1: 91, k_u: 90)\n",
       "Coordinates:\n",
       "    CS       (face, j, i) float32 dask.array<shape=(13, 4320, 4320), chunksize=(1, 4320, 4320)>\n",
       "    Depth    (face, j, i) float32 dask.array<shape=(13, 4320, 4320), chunksize=(1, 4320, 4320)>\n",
       "    PHrefC   (k) float32 dask.array<shape=(90,), chunksize=(90,)>\n",
       "    PHrefF   (k_p1) float32 dask.array<shape=(91,), chunksize=(91,)>\n",
       "    SN       (face, j, i) float32 dask.array<shape=(13, 4320, 4320), chunksize=(1, 4320, 4320)>\n",
       "    XC       (face, j, i) float32 dask.array<shape=(13, 4320, 4320), chunksize=(1, 4320, 4320)>\n",
       "    XG       (face, j_g, i_g) float32 dask.array<shape=(13, 4320, 4320), chunksize=(1, 4320, 4320)>\n",
       "    YC       (face, j, i) float32 dask.array<shape=(13, 4320, 4320), chunksize=(1, 4320, 4320)>\n",
       "    YG       (face, j_g, i_g) float32 dask.array<shape=(13, 4320, 4320), chunksize=(1, 4320, 4320)>\n",
       "    Z        (k) float32 dask.array<shape=(90,), chunksize=(90,)>\n",
       "    Zl       (k_l) float32 dask.array<shape=(90,), chunksize=(90,)>\n",
       "    Zp1      (k_p1) float32 dask.array<shape=(91,), chunksize=(91,)>\n",
       "    Zu       (k_u) float32 dask.array<shape=(90,), chunksize=(90,)>\n",
       "    drC      (k_p1) float32 dask.array<shape=(91,), chunksize=(91,)>\n",
       "    drF      (k) float32 dask.array<shape=(90,), chunksize=(90,)>\n",
       "    dxC      (face, j, i_g) float32 dask.array<shape=(13, 4320, 4320), chunksize=(1, 4320, 4320)>\n",
       "    dxG      (face, j_g, i) float32 dask.array<shape=(13, 4320, 4320), chunksize=(1, 4320, 4320)>\n",
       "    dyC      (face, j_g, i) float32 dask.array<shape=(13, 4320, 4320), chunksize=(1, 4320, 4320)>\n",
       "    dyG      (face, j, i_g) float32 dask.array<shape=(13, 4320, 4320), chunksize=(1, 4320, 4320)>\n",
       "  * face     (face) int64 0 1 2 3 4 5 6 7 8 9 10 11 12\n",
       "    hFacC    (face, j, i) float32 dask.array<shape=(13, 4320, 4320), chunksize=(1, 4320, 4320)>\n",
       "    hFacS    (face, j_g, i) float32 dask.array<shape=(13, 4320, 4320), chunksize=(1, 4320, 4320)>\n",
       "    hFacW    (face, j, i_g) float32 dask.array<shape=(13, 4320, 4320), chunksize=(1, 4320, 4320)>\n",
       "  * i        (i) int64 0 1 2 3 4 5 6 7 ... 4313 4314 4315 4316 4317 4318 4319\n",
       "  * i_g      (i_g) int64 0 1 2 3 4 5 6 7 ... 4313 4314 4315 4316 4317 4318 4319\n",
       "  * j        (j) int64 0 1 2 3 4 5 6 7 ... 4313 4314 4315 4316 4317 4318 4319\n",
       "  * j_g      (j_g) int64 0 1 2 3 4 5 6 7 ... 4313 4314 4315 4316 4317 4318 4319\n",
       "  * k        (k) int64 0 1 2 3 4 5 6 7 8 9 10 ... 80 81 82 83 84 85 86 87 88 89\n",
       "  * k_l      (k_l) int64 0 1 2 3 4 5 6 7 8 9 ... 80 81 82 83 84 85 86 87 88 89\n",
       "  * k_p1     (k_p1) int64 0 1 2 3 4 5 6 7 8 9 ... 81 82 83 84 85 86 87 88 89 90\n",
       "  * k_u      (k_u) int64 0 1 2 3 4 5 6 7 8 9 ... 80 81 82 83 84 85 86 87 88 89\n",
       "    rA       (face, j, i) float32 dask.array<shape=(13, 4320, 4320), chunksize=(1, 4320, 4320)>\n",
       "    rAs      (face, j_g, i) float32 dask.array<shape=(13, 4320, 4320), chunksize=(1, 4320, 4320)>\n",
       "    rAw      (face, j, i_g) float32 dask.array<shape=(13, 4320, 4320), chunksize=(1, 4320, 4320)>\n",
       "    rAz      (face, j_g, i_g) float32 dask.array<shape=(13, 4320, 4320), chunksize=(2, 540, 540)>\n",
       "Data variables:\n",
       "    *empty*"
      ]
     },
     "execution_count": 7,
     "metadata": {},
     "output_type": "execute_result"
    }
   ],
   "source": [
    "grd"
   ]
  },
  {
   "cell_type": "code",
   "execution_count": 8,
   "metadata": {},
   "outputs": [
    {
     "name": "stderr",
     "output_type": "stream",
     "text": [
      "/home/mp/pontea/.conda/envs/equinox/lib/python3.7/_collections_abc.py:841: MatplotlibDeprecationWarning: \n",
      "The examples.directory rcparam was deprecated in Matplotlib 3.0 and will be removed in 3.2. In the future, examples will be found relative to the 'datapath' directory.\n",
      "  self[key] = other[key]\n",
      "/home/mp/pontea/.conda/envs/equinox/lib/python3.7/_collections_abc.py:841: MatplotlibDeprecationWarning: \n",
      "The savefig.frameon rcparam was deprecated in Matplotlib 3.1 and will be removed in 3.3.\n",
      "  self[key] = other[key]\n",
      "/home/mp/pontea/.conda/envs/equinox/lib/python3.7/_collections_abc.py:841: MatplotlibDeprecationWarning: \n",
      "The text.latex.unicode rcparam was deprecated in Matplotlib 3.0 and will be removed in 3.2.\n",
      "  self[key] = other[key]\n",
      "/home/mp/pontea/.conda/envs/equinox/lib/python3.7/_collections_abc.py:841: MatplotlibDeprecationWarning: \n",
      "The verbose.fileo rcparam was deprecated in Matplotlib 3.1 and will be removed in 3.3.\n",
      "  self[key] = other[key]\n",
      "/home/mp/pontea/.conda/envs/equinox/lib/python3.7/_collections_abc.py:841: MatplotlibDeprecationWarning: \n",
      "The verbose.level rcparam was deprecated in Matplotlib 3.1 and will be removed in 3.3.\n",
      "  self[key] = other[key]\n",
      "/home/mp/pontea/.conda/envs/equinox/lib/python3.7/site-packages/seaborn/apionly.py:9: UserWarning: As seaborn no longer sets a default style on import, the seaborn.apionly module is deprecated. It will be removed in a future version.\n",
      "  warnings.warn(msg, UserWarning)\n"
     ]
    },
    {
     "data": {
      "text/plain": [
       "<matplotlib.contour.QuadContourSet at 0x2b965c789c88>"
      ]
     },
     "execution_count": 8,
     "metadata": {},
     "output_type": "execute_result"
    },
    {
     "data": {
      "image/png": "[encoded data removed]",
      "text/plain": [
       "<Figure size 432x288 with 2 Axes>"
      ]
     },
     "metadata": {
      "needs_background": "light"
     },
     "output_type": "display_data"
    }
   ],
   "source": [
    "xc = grd.XC.isel(i=slice(0,None,4),j=slice(0,None,4), face=face)\n",
    "yc = grd.YC.isel(i=slice(0,None,4),j=slice(0,None,4), face=face)\n",
    "\n",
    "xc.plot()\n",
    "xc.plot.contour(levels=lon, colors='k', linestyles='-')"
   ]
  },
  {
   "cell_type": "code",
   "execution_count": 9,
   "metadata": {},
   "outputs": [
    {
     "data": {
      "text/plain": [
       "<matplotlib.contour.QuadContourSet at 0x2b966a32de80>"
      ]
     },
     "execution_count": 9,
     "metadata": {},
     "output_type": "execute_result"
    },
    {
     "data": {
      "image/png": "[encoded data removed]",
      "text/plain": [
       "<Figure size 432x288 with 2 Axes>"
      ]
     },
     "metadata": {
      "needs_background": "light"
     },
     "output_type": "display_data"
    }
   ],
   "source": [
    "yc.plot()\n",
    "yc.plot.contour(levels=lat, colors='k', linestyles='-')"
   ]
  },
  {
   "cell_type": "code",
   "execution_count": 10,
   "metadata": {},
   "outputs": [],
   "source": [
    "islice = slice(700, 1800)\n",
    "jslice = slice(3200,4200)"
   ]
  },
  {
   "cell_type": "markdown",
   "metadata": {},
   "source": [
    "---\n",
    "\n",
    "## load grid and data"
   ]
  },
  {
   "cell_type": "code",
   "execution_count": 11,
   "metadata": {},
   "outputs": [
    {
     "name": "stdout",
     "output_type": "stream",
     "text": [
      "<xarray.Dataset>\n",
      "Dimensions:  (i: 1100, j: 1000, time: 8785)\n",
      "Coordinates:\n",
      "    dtime    (time) datetime64[ns] dask.array<shape=(8785,), chunksize=(8785,)>\n",
      "    face     int64 8\n",
      "  * i        (i) int64 700 701 702 703 704 705 ... 1794 1795 1796 1797 1798 1799\n",
      "    iters    (time) int64 dask.array<shape=(8785,), chunksize=(1,)>\n",
      "  * j        (j) int64 3200 3201 3202 3203 3204 ... 4195 4196 4197 4198 4199\n",
      "  * time     (time) float64 5.702e+06 5.706e+06 5.71e+06 ... 3.732e+07 3.732e+07\n",
      "    CS       (j, i) float32 dask.array<shape=(1000, 1100), chunksize=(1000, 1100)>\n",
      "    SN       (j, i) float32 dask.array<shape=(1000, 1100), chunksize=(1000, 1100)>\n",
      "    YC       (j, i) float32 dask.array<shape=(1000, 1100), chunksize=(1000, 1100)>\n",
      "    XC       (j, i) float32 dask.array<shape=(1000, 1100), chunksize=(1000, 1100)>\n",
      "Data variables:\n",
      "    SST      (time, j, i) float32 dask.array<shape=(8785, 1000, 1100), chunksize=(1, 1000, 1100)>\n",
      "SST\n",
      "\n",
      " data set (all faces): 38.7 GB\n",
      "\n",
      " variable size (all faces): 38.7 GB\n",
      "\n",
      " data size (1 time): 0.0 GB\n"
     ]
    }
   ],
   "source": [
    "if v in ['Eta','SST','SSS']:\n",
    "    ds = load_data(v)\n",
    "elif v in ['SSU','SSV']:\n",
    "    dsu = load_data('SSU').rename({'i_g':'i'})\n",
    "    dsv = load_data('SSV').rename({'j_g':'j'})\n",
    "    ds = xr.merge([dsu, dsv])      \n",
    "ds = (ds.assign_coords(XC=grd.XC, YC=grd.YC)\n",
    "       .drop(['Depth','rA', 'hFacC']))\n",
    "\n",
    "ds = ds.isel(i=islice, j=jslice, face=face)\n",
    "\n",
    "# rotate if necessary\n",
    "if v in ['SSU','SSV']:\n",
    "    ds['SSU_geo'], ds['SSV_geo'] = rotate(ds.SSU, ds.SSV, ds)\n",
    "    ds = ds.drop(['SSU','SSV'])\n",
    "    if v is 'SSU': v = 'SSU_geo' \n",
    "    if v is 'SSV': v = 'SSV_geo' \n",
    "print(ds)\n",
    "print(v)\n",
    "\n",
    "print('\\n data set (all faces): %.1f GB' %(ds.nbytes / 1e9))\n",
    "print('\\n variable size (all faces): %.1f GB' %(ds[v].nbytes / 1e9))\n",
    "print('\\n data size (1 time): %.1f GB' %(ds[v].isel(time=0).nbytes / 1e9))"
   ]
  },
  {
   "cell_type": "code",
   "execution_count": 15,
   "metadata": {
    "scrolled": true
   },
   "outputs": [
    {
     "data": {
      "text/plain": [
       "<matplotlib.collections.QuadMesh at 0x2b967ba508d0>"
      ]
     },
     "execution_count": 15,
     "metadata": {},
     "output_type": "execute_result"
    },
    {
     "data": {
      "image/png": "[encoded data removed]",
      "text/plain": [
       "<Figure size 720x360 with 2 Axes>"
      ]
     },
     "metadata": {
      "needs_background": "light"
     },
     "output_type": "display_data"
    }
   ],
   "source": [
    "# plot one figure to check lon/lat treatment\n",
    "dv = ds[v].isel(time=0)\n",
    "# for faces that cross the date longitude\n",
    "dv = dv.assign_coords(XC=((dv.XC+180.)% 360))\n",
    "\n",
    "fig = plt.figure(figsize=(10,5))\n",
    "ax = fig.add_subplot(111, projection=ccrs.PlateCarree())\n",
    "cmap = cm.thermal\n",
    "#cmap = cm.balance\n",
    "#cmap = plt.get_cmap('RdGy_r')\n",
    "dv.plot(ax=ax, x='XC', y='YC', transform=ccrs.PlateCarree(), vmin=vmin, vmax=vmax,\n",
    "        cmap=cmap)\n",
    "#ax.grid()\n",
    "#dv.plot(ax=ax, x='XC', y='YC', transform=ccrs.PlateCarree(), vmin=3., vmax=30., cmap=cmap)\n",
    "#dv.plot(ax=ax, x='XC', y='YC', transform=ccrs.PlateCarree(), cmap=cmap)"
   ]
  },
  {
   "cell_type": "markdown",
   "metadata": {},
   "source": [
    "---\n",
    "\n",
    "# make movie"
   ]
  },
  {
   "cell_type": "code",
   "execution_count": 16,
   "metadata": {},
   "outputs": [],
   "source": [
    "_default_cmaps = {'SSU': cm.balance, 'SSV': cm.balance,\n",
    "           'SSU_geo': cm.balance, 'SSV_geo': cm.balance,\n",
    "           'Eta': plt.get_cmap('RdGy_r'), \n",
    "           'SST': cm.thermal, 'SSS': cm.haline}\n",
    "\n",
    "_region_params = {'atlantic': {'faces':[0,1,2,6,10,11,12],'extent':[-110,25,-70,70], 'projection': ccrs.Mollweide()}, \n",
    "                  'south-atlantic':{'faces':[1,11,0,12],'extent':[-50,20,-60,5],\n",
    "                                    'projection': ccrs.LambertAzimuthalEqualArea(central_longitude=-15.,\n",
    "                                                                                 central_latitude=-30)},\n",
    "                  'south-pacific':{'faces':[8,9,11,12],'extent':[170,-80, -50, 5.],\n",
    "                                    'projection': ccrs.Stereographic(central_longitude=-130.,\n",
    "                                                                                 central_latitude=3.0)},\n",
    "                  'marquises':{'faces':[face],'extent':lon+lat,\n",
    "                                    'projection': ccrs.PlateCarree()}}"
   ]
  },
  {
   "cell_type": "code",
   "execution_count": 17,
   "metadata": {
    "scrolled": true
   },
   "outputs": [],
   "source": [
    "#import cartopy.mpl.ticker as cticker\n",
    "\n",
    "def plot_pretty_fake(figsize=(15,15), projection=None, extent=None, region=None):\n",
    "\n",
    "        if region is not None:\n",
    "            _extent = _region_params[region]['extent']\n",
    "            _projection = _region_params[region]['projection']\n",
    "        else:\n",
    "            _projection = ccrs.Robinson()\n",
    "        if extent is not None:\n",
    "            _extent = extent\n",
    "        if projection is not None:\n",
    "            _projection = projection\n",
    "        #\n",
    "        fig = plt.figure(figsize=figsize)\n",
    "        ax = fig.add_subplot(111, projection=_projection)\n",
    "        print(_extent)\n",
    "        ax.set_extent(_extent)\n",
    "        ax.add_feature(cfeature.LAND)\n",
    "        ax.set_xticks(np.arange(_extent[0],_extent[1]+5,5*np.sign(_extent[1]-_extent[0])), crs=ccrs.PlateCarree())\n",
    "        ax.set_yticks(np.arange(_extent[2],_extent[3]+5,5*np.sign(_extent[3]-_extent[2])), crs=ccrs.PlateCarree())\n",
    "        #lon_formatter = cticker.LongitudeFormatter()\n",
    "        #lat_formatter = cticker.LatitudeFormatter()\n",
    "        #ax.xaxis.set_major_formatter(lon_formatter)\n",
    "        #ax.yaxis.set_major_formatter(lat_formatter)\n",
    "        gl = ax.grid()\n",
    "        return fig, ax\n",
    "    \n",
    "\n",
    "#fig, ax = plot_pretty_fake(region='south-atlantic')\n",
    "#fig, ax = plot_pretty_fake(region='marquises')"
   ]
  },
  {
   "cell_type": "code",
   "execution_count": 18,
   "metadata": {},
   "outputs": [],
   "source": [
    "#from cartopy.mpl.ticker import LongitudeFormatter, LatitudeFormatter\n",
    "\n",
    "def _get_cmap(v, cmap):\n",
    "    if cmap is None and v.name in _default_cmaps:\n",
    "        return _default_cmaps[v.name] \n",
    "    else:\n",
    "        return plt.get_cmap('magma')   \n",
    "\n",
    "#                  'south-atlantic':{'faces':[0,1,11,12],'extent':[-100,25,-70,5]},}\n",
    "\n",
    "def plot_pretty(v, colorbar=False, title=None, vmin=None, vmax=None, savefig=None, \n",
    "                offline=False, coast_resolution='110m', figsize=(15,15), cmap=None,\n",
    "                ignore_face=[], projection=None, extent=None, region=None):\n",
    "    #\n",
    "    if vmin is None:\n",
    "        vmin = v.min()\n",
    "    if vmax is None:\n",
    "        vmax = v.max()\n",
    "    #\n",
    "    MPL_LOCK = threading.Lock()\n",
    "    with MPL_LOCK:\n",
    "        if offline:\n",
    "            plt.switch_backend('agg')\n",
    "        colmap = _get_cmap(v, cmap)\n",
    "        #\n",
    "        if 'face' not in v.dims:\n",
    "            v = v.expand_dims('face')\n",
    "        if region is not None:\n",
    "            _extent = _region_params[region]['extent']\n",
    "            gen = (face for face in _region_params[region]['faces'] \n",
    "                   if face not in ignore_face)\n",
    "            _projection = _region_params[region]['projection']\n",
    "        else:\n",
    "            gen = (face for face in v.face.values if face not in ignore_face)\n",
    "            _projection = ccrs.Robinson()\n",
    "        if extent is not None:\n",
    "            _extent = extent\n",
    "        if projection is not None:\n",
    "            _projection = projection\n",
    "        #\n",
    "        fig = plt.figure(figsize=figsize)\n",
    "        ax = fig.add_subplot(111, projection=_projection)\n",
    "        ax.set_extent(_extent)\n",
    "        for face in gen:\n",
    "            vplt = v.sel(face=face)\n",
    "            if face in [6,7,8,9]:\n",
    "                # this deals with dateline crossing areas\n",
    "                im = vplt.where( (vplt.XC>0) & (vplt.XC<179.)).plot.pcolormesh(ax=ax,\n",
    "                                transform=ccrs.PlateCarree(), vmin=vmin, vmax=vmax,\n",
    "                                x='XC', y='YC', cmap=colmap, add_colorbar=False)\n",
    "                im = vplt.where(vplt.XC<0).plot.pcolormesh(ax=ax,                   \n",
    "                                transform=ccrs.PlateCarree(), vmin=vmin, vmax=vmax,\n",
    "                                x='XC', y='YC', cmap=colmap, add_colorbar=False)\n",
    "            else:\n",
    "                im = vplt.plot.pcolormesh(ax=ax,                   \n",
    "                                transform=ccrs.PlateCarree(), vmin=vmin, vmax=vmax,\n",
    "                                x='XC', y='YC', cmap=colmap, add_colorbar=False)\n",
    "        #\n",
    "        if colorbar:\n",
    "            fig.colorbar(im)\n",
    "        # grid lines:\n",
    "        ax.set_xticks(np.arange(_extent[0],_extent[1]+5,5*np.sign(_extent[1]-_extent[0])), crs=ccrs.PlateCarree())\n",
    "        ax.set_yticks(np.arange(_extent[2],_extent[3]+5,5*np.sign(_extent[3]-_extent[2])), crs=ccrs.PlateCarree())\n",
    "        #gl = ax.gridlines()\n",
    "        gl = ax.grid()\n",
    "        #ax.set_xticks([0, 60, 120, 180, 240, 300, 360], crs=ccrs.PlateCarree())\n",
    "        #ax.set_yticks([-90, -60, -30, 0, 30, 60, 90], crs=ccrs.PlateCarree())\n",
    "        #lon_formatter = LongitudeFormatter(zero_direction_label=True)\n",
    "        #lat_formatter = LatitudeFormatter()\n",
    "        #ax.xaxis.set_major_formatter(lon_formatter)\n",
    "        #ax.yaxis.set_major_formatter(lat_formatter)        \n",
    "        # only with platecarre\n",
    "        #if projection is 'PlateCarre':\n",
    "        #    gl=ax.gridlines(crs=ccrs.PlateCarree(), draw_labels=True, linewidth=2, color='k', \n",
    "        #                    alpha=0.5, linestyle='--')\n",
    "        #    gl.xlabels_top = False\n",
    "        \n",
    "        # coastlines and land:\n",
    "        #if coast_resolution is not None:\n",
    "        #    ax.coastlines(resolution=coast_resolution, color='k')\n",
    "        ax.add_feature(cfeature.LAND)\n",
    "        #\n",
    "        if title is not None:\n",
    "            ax.set_title(title,fontdict={'fontsize':20, 'fontweight':'bold'})\n",
    "        #\n",
    "        if savefig is not None:\n",
    "            fig.savefig(savefig, dpi=150)\n",
    "            plt.close(fig)\n",
    "        #\n",
    "        #if not offline:\n",
    "        #    plt.show()\n",
    "        return fig, ax"
   ]
  },
  {
   "cell_type": "code",
   "execution_count": 19,
   "metadata": {},
   "outputs": [
    {
     "name": "stdout",
     "output_type": "stream",
     "text": [
      "Figures directory: /home/mp/pontea/scratch/figs/\n"
     ]
    }
   ],
   "source": [
    "# could delete all figures beforehand\n",
    "figdir = scratch+'figs/'\n",
    "print('Figures directory: '+figdir)\n",
    "\n",
    "def genfig(ds, v, i, pretty=True, overwrite=True):\n",
    "        \n",
    "    # !! passing the variable does not work\n",
    "    dv = ds[v]\n",
    "\n",
    "    #time = pd.to_datetime(str(eta['time'].values))\n",
    "    #time = dv['time'].values/86400.\n",
    "    time = pd.to_datetime(dv['dtime'].values)\n",
    "    #figname = figdir+'%s_f%d_t%05d' %(v, face, i)+'.png'\n",
    "    figname = figdir+'%s_%s_t%05d' %(v, region, i)+'.png'\n",
    "    #\n",
    "    if not os.path.isfile(figname) or overwrite:\n",
    "        #\n",
    "        #title = 'eta %.2f' %time\n",
    "        title = '%s %s' %(v, time.strftime('%Y/%m/%d %Hh'))\n",
    "        if pretty:\n",
    "            fig, ax = plot_pretty(dv, vmin=vmin, vmax=vmax, region=region,\n",
    "                                  colorbar=True, title=title, savefig=figname,\n",
    "                                  offline=True)\n",
    "        else:\n",
    "            figs, ax = plot_scalar(dv, vmin=vmin, vmax=vmax, \n",
    "                                   colorbar=True, title=title, savefig=figname,\n",
    "                                   offline=True, coast_resolution=None, figsize=(15,10))\n",
    "        #\n",
    "        #m = float(dv.mean().values)\n",
    "        m = 1.\n",
    "    else:\n",
    "        m = -1.\n",
    "    return m"
   ]
  },
  {
   "cell_type": "markdown",
   "metadata": {},
   "source": [
    "Process all times: does not work\n",
    "\n",
    "Useful to see a couple of figures"
   ]
  },
  {
   "cell_type": "code",
   "execution_count": 51,
   "metadata": {},
   "outputs": [],
   "source": [
    "#I = range(len(ds['time'])) # does not work\n",
    "I = range(10)\n",
    "values = [delayed(genfig)(ds.isel(time=i), v, i) for i in I]"
   ]
  },
  {
   "cell_type": "code",
   "execution_count": 52,
   "metadata": {},
   "outputs": [
    {
     "name": "stdout",
     "output_type": "stream",
     "text": [
      "CPU times: user 1.72 s, sys: 146 ms, total: 1.86 s\n",
      "Wall time: 12.3 s\n"
     ]
    }
   ],
   "source": [
    "futures = client.compute(values)\n",
    "%time results = client.gather(futures)"
   ]
  },
  {
   "cell_type": "markdown",
   "metadata": {},
   "source": [
    "Process a selection of times"
   ]
  },
  {
   "cell_type": "code",
   "execution_count": 20,
   "metadata": {
    "scrolled": true
   },
   "outputs": [
    {
     "name": "stdout",
     "output_type": "stream",
     "text": [
      "41 loops to be done\n",
      "6000 - 6048\n",
      "CPU times: user 8.23 s, sys: 272 ms, total: 8.5 s\n",
      "Wall time: 18.9 s\n",
      "6049 - 6097\n",
      "CPU times: user 8.14 s, sys: 238 ms, total: 8.38 s\n",
      "Wall time: 16.4 s\n",
      "6098 - 6146\n",
      "CPU times: user 8.23 s, sys: 244 ms, total: 8.47 s\n",
      "Wall time: 16 s\n",
      "6147 - 6195\n",
      "CPU times: user 8.22 s, sys: 248 ms, total: 8.47 s\n",
      "Wall time: 17.4 s\n",
      "6196 - 6244\n",
      "CPU times: user 8.17 s, sys: 216 ms, total: 8.39 s\n",
      "Wall time: 16.6 s\n",
      "6245 - 6293\n",
      "CPU times: user 8.35 s, sys: 215 ms, total: 8.57 s\n",
      "Wall time: 16.2 s\n",
      "6294 - 6342\n",
      "CPU times: user 8.22 s, sys: 239 ms, total: 8.46 s\n",
      "Wall time: 17.5 s\n",
      "6343 - 6391\n",
      "CPU times: user 8.09 s, sys: 205 ms, total: 8.29 s\n",
      "Wall time: 15.5 s\n",
      "6392 - 6440\n",
      "CPU times: user 8.54 s, sys: 256 ms, total: 8.8 s\n",
      "Wall time: 18.2 s\n",
      "6441 - 6489\n",
      "CPU times: user 8.05 s, sys: 202 ms, total: 8.25 s\n",
      "Wall time: 16.1 s\n",
      "6490 - 6538\n",
      "CPU times: user 8.29 s, sys: 219 ms, total: 8.5 s\n",
      "Wall time: 18 s\n",
      "6539 - 6587\n",
      "CPU times: user 8.18 s, sys: 236 ms, total: 8.42 s\n",
      "Wall time: 17.7 s\n",
      "6588 - 6636\n",
      "CPU times: user 8.11 s, sys: 233 ms, total: 8.34 s\n",
      "Wall time: 18 s\n",
      "6637 - 6685\n",
      "CPU times: user 8.19 s, sys: 217 ms, total: 8.4 s\n",
      "Wall time: 15.7 s\n",
      "6686 - 6734\n",
      "CPU times: user 8.31 s, sys: 227 ms, total: 8.54 s\n",
      "Wall time: 16.6 s\n",
      "6735 - 6783\n",
      "CPU times: user 7.97 s, sys: 213 ms, total: 8.18 s\n",
      "Wall time: 15.4 s\n",
      "6784 - 6832\n",
      "CPU times: user 8.01 s, sys: 216 ms, total: 8.22 s\n",
      "Wall time: 15.5 s\n",
      "6833 - 6881\n",
      "CPU times: user 8.29 s, sys: 204 ms, total: 8.5 s\n",
      "Wall time: 16 s\n",
      "6882 - 6930\n",
      "CPU times: user 7.97 s, sys: 221 ms, total: 8.19 s\n",
      "Wall time: 16.2 s\n",
      "6931 - 6979\n",
      "CPU times: user 8.15 s, sys: 205 ms, total: 8.36 s\n",
      "Wall time: 16.9 s\n",
      "6980 - 7028\n",
      "CPU times: user 8.31 s, sys: 249 ms, total: 8.56 s\n",
      "Wall time: 17.4 s\n",
      "7029 - 7077\n",
      "CPU times: user 7.93 s, sys: 208 ms, total: 8.14 s\n",
      "Wall time: 15 s\n",
      "7078 - 7126\n",
      "CPU times: user 8 s, sys: 222 ms, total: 8.22 s\n",
      "Wall time: 16.9 s\n",
      "7127 - 7175\n",
      "CPU times: user 8.29 s, sys: 233 ms, total: 8.52 s\n",
      "Wall time: 17.2 s\n",
      "7176 - 7224\n",
      "CPU times: user 8.01 s, sys: 204 ms, total: 8.21 s\n",
      "Wall time: 15.5 s\n",
      "7225 - 7273\n",
      "CPU times: user 8.03 s, sys: 180 ms, total: 8.21 s\n",
      "Wall time: 16.5 s\n",
      "7274 - 7322\n",
      "CPU times: user 8.47 s, sys: 222 ms, total: 8.69 s\n",
      "Wall time: 18.1 s\n",
      "7323 - 7371\n",
      "CPU times: user 8.09 s, sys: 233 ms, total: 8.32 s\n",
      "Wall time: 17.2 s\n",
      "7372 - 7420\n",
      "CPU times: user 8 s, sys: 193 ms, total: 8.19 s\n",
      "Wall time: 15.9 s\n",
      "7421 - 7469\n",
      "CPU times: user 8.14 s, sys: 205 ms, total: 8.34 s\n",
      "Wall time: 14.5 s\n",
      "7470 - 7518\n",
      "CPU times: user 7.95 s, sys: 216 ms, total: 8.17 s\n",
      "Wall time: 15.6 s\n",
      "7519 - 7567\n",
      "CPU times: user 7.99 s, sys: 207 ms, total: 8.2 s\n",
      "Wall time: 15.3 s\n",
      "7568 - 7615\n",
      "CPU times: user 8.18 s, sys: 219 ms, total: 8.4 s\n",
      "Wall time: 15.3 s\n",
      "7616 - 7663\n",
      "CPU times: user 7.9 s, sys: 213 ms, total: 8.12 s\n",
      "Wall time: 15.5 s\n",
      "7664 - 7711\n",
      "CPU times: user 7.76 s, sys: 186 ms, total: 7.95 s\n",
      "Wall time: 14.2 s\n",
      "7712 - 7759\n",
      "CPU times: user 8 s, sys: 217 ms, total: 8.22 s\n",
      "Wall time: 15.3 s\n",
      "7760 - 7807\n",
      "CPU times: user 7.74 s, sys: 200 ms, total: 7.94 s\n",
      "Wall time: 14.2 s\n",
      "7808 - 7855\n",
      "CPU times: user 7.82 s, sys: 188 ms, total: 8.01 s\n",
      "Wall time: 14.6 s\n",
      "7856 - 7903\n",
      "CPU times: user 7.74 s, sys: 187 ms, total: 7.93 s\n",
      "Wall time: 14.3 s\n",
      "7904 - 7951\n",
      "CPU times: user 8.16 s, sys: 195 ms, total: 8.36 s\n",
      "Wall time: 14.9 s\n",
      "7952 - 7999\n",
      "CPU times: user 7.8 s, sys: 180 ms, total: 7.98 s\n",
      "Wall time: 14.1 s\n"
     ]
    }
   ],
   "source": [
    "#II = np.array_split(np.arange(len(ds['time'])),len(ds['time'])/20) # 4 maybe will work\n",
    "rg = range(6000,8000)\n",
    "#II = np.array_split(rg,len(rg)/20) # 4 maybe will work\n",
    "II = np.array_split(rg,len(rg)/12/4) # 12*4 corresponds to the number of workers\n",
    "print('%d loops to be done'%len(II))\n",
    "for I in II:\n",
    "    print('%d - %d'%(I[0],I[-1]))\n",
    "    #lds = ds.isel(time=slice(I[0],I[-1]+1))\n",
    "    #values = [delayed(genfig)(lds.isel(time=i), v, I[i]) for i in range(len(I))]\n",
    "    values = [delayed(genfig)(ds.isel(time=i), v, i, overwrite=False) for i in I]    \n",
    "    futures = client.compute(values)\n",
    "    %time results = client.gather(futures)"
   ]
  },
  {
   "cell_type": "code",
   "execution_count": 18,
   "metadata": {},
   "outputs": [
    {
     "name": "stderr",
     "output_type": "stream",
     "text": [
      "Worker tcp://10.135.36.87:41937 restart in Job 7833055. This can be due to memory issue.\n",
      "Worker tcp://10.135.36.88:43250 restart in Job 7833056. This can be due to memory issue.\n",
      "Worker tcp://10.135.36.85:43709 restart in Job 7833053. This can be due to memory issue.\n",
      "Worker tcp://10.135.36.86:35217 restart in Job 7833054. This can be due to memory issue.\n"
     ]
    },
    {
     "data": {
      "text/html": [
       "<table style=\"border: 2px solid white;\">\n",
       "<tr>\n",
       "<td style=\"vertical-align: top; border: 0px solid white\">\n",
       "<h3>Client</h3>\n",
       "<ul>\n",
       "  <li><b>Scheduler: </b>tcp://10.135.39.57:39853\n",
       "  <li><b>Dashboard: </b><a href='http://10.135.39.57:8787/status' target='_blank'>http://10.135.39.57:8787/status</a>\n",
       "</ul>\n",
       "</td>\n",
       "<td style=\"vertical-align: top; border: 0px solid white\">\n",
       "<h3>Cluster</h3>\n",
       "<ul>\n",
       "  <li><b>Workers: </b>48</li>\n",
       "  <li><b>Cores: </b>48</li>\n",
       "  <li><b>Memory: </b>399.84 GB</li>\n",
       "</ul>\n",
       "</td>\n",
       "</tr>\n",
       "</table>"
      ],
      "text/plain": [
       "<Client: scheduler='tcp://10.135.39.57:39853' processes=0 cores=0>"
      ]
     },
     "execution_count": 18,
     "metadata": {},
     "output_type": "execute_result"
    }
   ],
   "source": [
    "client.restart()"
   ]
  },
  {
   "cell_type": "code",
   "execution_count": 21,
   "metadata": {},
   "outputs": [
    {
     "name": "stderr",
     "output_type": "stream",
     "text": [
      "Future exception was never retrieved\n",
      "future: <Future finished exception=OSError(\"Timed out trying to connect to 'tcp://10.135.36.125:42680' after 10 s: in <distributed.comm.tcp.TCPConnector object at 0x2b96919c2b38>: ConnectionRefusedError: [Errno 111] Connection refused\")>\n",
      "Traceback (most recent call last):\n",
      "  File \"/home/mp/pontea/.conda/envs/equinox/lib/python3.7/site-packages/distributed/comm/tcp.py\", line 359, in connect\n",
      "    ip, port, max_buffer_size=MAX_BUFFER_SIZE, **kwargs\n",
      "  File \"/home/mp/pontea/.conda/envs/equinox/lib/python3.7/site-packages/tornado/gen.py\", line 735, in run\n",
      "    value = future.result()\n",
      "  File \"/home/mp/pontea/.conda/envs/equinox/lib/python3.7/site-packages/tornado/tcpclient.py\", line 280, in connect\n",
      "    af, addr, stream = await connector.start(connect_timeout=timeout)\n",
      "  File \"/home/mp/pontea/.conda/envs/equinox/lib/python3.7/site-packages/tornado/tcpclient.py\", line 143, in on_connect_done\n",
      "    stream = future.result()\n",
      "tornado.iostream.StreamClosedError: Stream is closed\n",
      "\n",
      "During handling of the above exception, another exception occurred:\n",
      "\n",
      "Traceback (most recent call last):\n",
      "  File \"/home/mp/pontea/.conda/envs/equinox/lib/python3.7/site-packages/distributed/comm/core.py\", line 218, in connect\n",
      "    quiet_exceptions=EnvironmentError,\n",
      "  File \"/home/mp/pontea/.conda/envs/equinox/lib/python3.7/site-packages/tornado/gen.py\", line 735, in run\n",
      "    value = future.result()\n",
      "  File \"/home/mp/pontea/.conda/envs/equinox/lib/python3.7/site-packages/tornado/gen.py\", line 742, in run\n",
      "    yielded = self.gen.throw(*exc_info)  # type: ignore\n",
      "  File \"/home/mp/pontea/.conda/envs/equinox/lib/python3.7/site-packages/distributed/comm/tcp.py\", line 371, in connect\n",
      "    convert_stream_closed_error(self, e)\n",
      "  File \"/home/mp/pontea/.conda/envs/equinox/lib/python3.7/site-packages/distributed/comm/tcp.py\", line 139, in convert_stream_closed_error\n",
      "    raise CommClosedError(\"in %s: %s: %s\" % (obj, exc.__class__.__name__, exc))\n",
      "distributed.comm.core.CommClosedError: in <distributed.comm.tcp.TCPConnector object at 0x2b9691980d30>: ConnectionRefusedError: [Errno 111] Connection refused\n",
      "\n",
      "During handling of the above exception, another exception occurred:\n",
      "\n",
      "Traceback (most recent call last):\n",
      "  File \"/home/mp/pontea/.conda/envs/equinox/lib/python3.7/site-packages/tornado/gen.py\", line 742, in run\n",
      "    yielded = self.gen.throw(*exc_info)  # type: ignore\n",
      "  File \"/home/mp/pontea/.conda/envs/equinox/lib/python3.7/site-packages/distributed/utils.py\", line 221, in All\n",
      "    result = yield tasks.next()\n",
      "  File \"/home/mp/pontea/.conda/envs/equinox/lib/python3.7/site-packages/tornado/gen.py\", line 735, in run\n",
      "    value = future.result()\n",
      "  File \"/home/mp/pontea/.conda/envs/equinox/lib/python3.7/site-packages/tornado/gen.py\", line 742, in run\n",
      "    yielded = self.gen.throw(*exc_info)  # type: ignore\n",
      "  File \"/home/mp/pontea/.conda/envs/equinox/lib/python3.7/site-packages/distributed/scheduler.py\", line 2685, in send_message\n",
      "    addr, deserialize=self.deserialize, connection_args=self.connection_args\n",
      "  File \"/home/mp/pontea/.conda/envs/equinox/lib/python3.7/site-packages/tornado/gen.py\", line 735, in run\n",
      "    value = future.result()\n",
      "  File \"/home/mp/pontea/.conda/envs/equinox/lib/python3.7/site-packages/tornado/gen.py\", line 742, in run\n",
      "    yielded = self.gen.throw(*exc_info)  # type: ignore\n",
      "  File \"/home/mp/pontea/.conda/envs/equinox/lib/python3.7/site-packages/distributed/comm/core.py\", line 228, in connect\n",
      "    _raise(error)\n",
      "  File \"/home/mp/pontea/.conda/envs/equinox/lib/python3.7/site-packages/distributed/comm/core.py\", line 207, in _raise\n",
      "    raise IOError(msg)\n",
      "OSError: Timed out trying to connect to 'tcp://10.135.36.125:43413' after 10 s: in <distributed.comm.tcp.TCPConnector object at 0x2b9691980d30>: ConnectionRefusedError: [Errno 111] Connection refused\n",
      "\n",
      "During handling of the above exception, another exception occurred:\n",
      "\n",
      "Traceback (most recent call last):\n",
      "  File \"/home/mp/pontea/.conda/envs/equinox/lib/python3.7/site-packages/tornado/gen.py\", line 742, in run\n",
      "    yielded = self.gen.throw(*exc_info)  # type: ignore\n",
      "  File \"/home/mp/pontea/.conda/envs/equinox/lib/python3.7/site-packages/distributed/utils.py\", line 234, in quiet\n",
      "    yield task\n",
      "  File \"/home/mp/pontea/.conda/envs/equinox/lib/python3.7/site-packages/tornado/gen.py\", line 735, in run\n",
      "    value = future.result()\n",
      "  File \"/home/mp/pontea/.conda/envs/equinox/lib/python3.7/site-packages/tornado/gen.py\", line 742, in run\n",
      "    yielded = self.gen.throw(*exc_info)  # type: ignore\n",
      "  File \"/home/mp/pontea/.conda/envs/equinox/lib/python3.7/site-packages/distributed/scheduler.py\", line 2685, in send_message\n",
      "    addr, deserialize=self.deserialize, connection_args=self.connection_args\n",
      "  File \"/home/mp/pontea/.conda/envs/equinox/lib/python3.7/site-packages/tornado/gen.py\", line 735, in run\n",
      "    value = future.result()\n",
      "  File \"/home/mp/pontea/.conda/envs/equinox/lib/python3.7/site-packages/tornado/gen.py\", line 742, in run\n",
      "    yielded = self.gen.throw(*exc_info)  # type: ignore\n",
      "  File \"/home/mp/pontea/.conda/envs/equinox/lib/python3.7/site-packages/distributed/comm/core.py\", line 228, in connect\n",
      "    _raise(error)\n",
      "  File \"/home/mp/pontea/.conda/envs/equinox/lib/python3.7/site-packages/distributed/comm/core.py\", line 207, in _raise\n",
      "    raise IOError(msg)\n",
      "OSError: Timed out trying to connect to 'tcp://10.135.36.125:42680' after 10 s: in <distributed.comm.tcp.TCPConnector object at 0x2b96919c2b38>: ConnectionRefusedError: [Errno 111] Connection refused\n",
      "Future exception was never retrieved\n",
      "future: <Future finished exception=OSError(\"Timed out trying to connect to 'tcp://10.135.36.125:43413' after 10 s: in <distributed.comm.tcp.TCPConnector object at 0x2b9691980d30>: ConnectionRefusedError: [Errno 111] Connection refused\")>\n",
      "Traceback (most recent call last):\n",
      "  File \"/home/mp/pontea/.conda/envs/equinox/lib/python3.7/site-packages/distributed/comm/tcp.py\", line 359, in connect\n",
      "    ip, port, max_buffer_size=MAX_BUFFER_SIZE, **kwargs\n",
      "  File \"/home/mp/pontea/.conda/envs/equinox/lib/python3.7/site-packages/tornado/gen.py\", line 735, in run\n",
      "    value = future.result()\n",
      "  File \"/home/mp/pontea/.conda/envs/equinox/lib/python3.7/site-packages/tornado/tcpclient.py\", line 280, in connect\n",
      "    af, addr, stream = await connector.start(connect_timeout=timeout)\n",
      "  File \"/home/mp/pontea/.conda/envs/equinox/lib/python3.7/site-packages/tornado/tcpclient.py\", line 143, in on_connect_done\n",
      "    stream = future.result()\n",
      "tornado.iostream.StreamClosedError: Stream is closed\n",
      "\n",
      "During handling of the above exception, another exception occurred:\n",
      "\n",
      "Traceback (most recent call last):\n",
      "  File \"/home/mp/pontea/.conda/envs/equinox/lib/python3.7/site-packages/distributed/comm/core.py\", line 218, in connect\n",
      "    quiet_exceptions=EnvironmentError,\n",
      "  File \"/home/mp/pontea/.conda/envs/equinox/lib/python3.7/site-packages/tornado/gen.py\", line 735, in run\n",
      "    value = future.result()\n",
      "  File \"/home/mp/pontea/.conda/envs/equinox/lib/python3.7/site-packages/tornado/gen.py\", line 742, in run\n",
      "    yielded = self.gen.throw(*exc_info)  # type: ignore\n",
      "  File \"/home/mp/pontea/.conda/envs/equinox/lib/python3.7/site-packages/distributed/comm/tcp.py\", line 371, in connect\n",
      "    convert_stream_closed_error(self, e)\n",
      "  File \"/home/mp/pontea/.conda/envs/equinox/lib/python3.7/site-packages/distributed/comm/tcp.py\", line 139, in convert_stream_closed_error\n",
      "    raise CommClosedError(\"in %s: %s: %s\" % (obj, exc.__class__.__name__, exc))\n",
      "distributed.comm.core.CommClosedError: in <distributed.comm.tcp.TCPConnector object at 0x2b9691980d30>: ConnectionRefusedError: [Errno 111] Connection refused\n",
      "\n",
      "During handling of the above exception, another exception occurred:\n",
      "\n",
      "Traceback (most recent call last):\n",
      "  File \"/home/mp/pontea/.conda/envs/equinox/lib/python3.7/site-packages/tornado/gen.py\", line 742, in run\n",
      "    yielded = self.gen.throw(*exc_info)  # type: ignore\n",
      "  File \"/home/mp/pontea/.conda/envs/equinox/lib/python3.7/site-packages/distributed/scheduler.py\", line 2692, in broadcast\n",
      "    [send_message(address) for address in addresses if address is not None]\n",
      "  File \"/home/mp/pontea/.conda/envs/equinox/lib/python3.7/site-packages/tornado/gen.py\", line 735, in run\n",
      "    value = future.result()\n",
      "  File \"/home/mp/pontea/.conda/envs/equinox/lib/python3.7/site-packages/tornado/gen.py\", line 742, in run\n",
      "    yielded = self.gen.throw(*exc_info)  # type: ignore\n",
      "  File \"/home/mp/pontea/.conda/envs/equinox/lib/python3.7/site-packages/distributed/utils.py\", line 221, in All\n",
      "    result = yield tasks.next()\n",
      "  File \"/home/mp/pontea/.conda/envs/equinox/lib/python3.7/site-packages/tornado/gen.py\", line 735, in run\n",
      "    value = future.result()\n",
      "  File \"/home/mp/pontea/.conda/envs/equinox/lib/python3.7/site-packages/tornado/gen.py\", line 742, in run\n",
      "    yielded = self.gen.throw(*exc_info)  # type: ignore\n",
      "  File \"/home/mp/pontea/.conda/envs/equinox/lib/python3.7/site-packages/distributed/scheduler.py\", line 2685, in send_message\n",
      "    addr, deserialize=self.deserialize, connection_args=self.connection_args\n",
      "  File \"/home/mp/pontea/.conda/envs/equinox/lib/python3.7/site-packages/tornado/gen.py\", line 735, in run\n",
      "    value = future.result()\n",
      "  File \"/home/mp/pontea/.conda/envs/equinox/lib/python3.7/site-packages/tornado/gen.py\", line 742, in run\n",
      "    yielded = self.gen.throw(*exc_info)  # type: ignore\n",
      "  File \"/home/mp/pontea/.conda/envs/equinox/lib/python3.7/site-packages/distributed/comm/core.py\", line 228, in connect\n",
      "    _raise(error)\n",
      "  File \"/home/mp/pontea/.conda/envs/equinox/lib/python3.7/site-packages/distributed/comm/core.py\", line 207, in _raise\n",
      "    raise IOError(msg)\n",
      "OSError: Timed out trying to connect to 'tcp://10.135.36.125:43413' after 10 s: in <distributed.comm.tcp.TCPConnector object at 0x2b9691980d30>: ConnectionRefusedError: [Errno 111] Connection refused\n"
     ]
    },
    {
     "name": "stderr",
     "output_type": "stream",
     "text": [
      "distributed.client - ERROR - Failed to reconnect to scheduler after 10.00 seconds, closing client\n"
     ]
    }
   ],
   "source": [
    "cluster.close()"
   ]
  },
  {
   "cell_type": "markdown",
   "metadata": {},
   "source": [
    "---\n",
    "\n",
    "### another strategy: load data in each loop"
   ]
  },
  {
   "cell_type": "code",
   "execution_count": 24,
   "metadata": {},
   "outputs": [
    {
     "name": "stdout",
     "output_type": "stream",
     "text": [
      "Figures directory: /home/mp/pontea/scratch/figs/\n"
     ]
    }
   ],
   "source": [
    "# could delete all figures beforehand\n",
    "figdir = scratch+'figs/'\n",
    "print('Figures directory: '+figdir)\n",
    "\n",
    "def load_and_genfig(v, i, pretty=True, overwrite=True):\n",
    "    \n",
    "    region = 'south-atlantic'\n",
    "    figname = figdir+'%s_%s_t%05d' %(v, region, i)+'.png'\n",
    "\n",
    "    if not os.path.isfile(figname) or overwrite:\n",
    "\n",
    "        grd = load_grd()\n",
    "        if v in ['Eta','SST','SSS']:\n",
    "            ds = load_data(v).isel(time=i)\n",
    "        elif v in ['SSU','SSV','SSU_geo','SSV_geo']:\n",
    "            dsu = load_data('SSU').rename({'i_g':'i'}).isel(time=i)\n",
    "            dsv = load_data('SSV').rename({'j_g':'j'}).isel(time=i)\n",
    "            ds = xr.merge([dsu, dsv])      \n",
    "        ds = (ds.assign_coords(XC=grd.XC, YC=grd.YC)\n",
    "               .drop(['Depth','rA', 'hFacC']))\n",
    "\n",
    "        # rotate if necessary\n",
    "        if v in ['SSU','SSV','SSU_geo','SSV_geo']:\n",
    "            ds['SSU_geo'], ds['SSV_geo'] = rotate(ds.SSU, ds.SSV, ds)\n",
    "            ds = ds.drop(['SSU','SSV'])\n",
    "            if v is 'SSU': v = 'SSU_geo' \n",
    "            if v is 'SSV': v = 'SSV_geo'\n",
    "\n",
    "        dv = ds[v]    \n",
    "        time = pd.to_datetime(dv['dtime'].values)\n",
    "        #title = 'eta %.2f' %time\n",
    "        title = '%s %s' %(v, time.strftime('%Y/%m/%d %Hh'))\n",
    "        \n",
    "        if pretty:\n",
    "            fig, ax = plot_pretty(dv, vmin=vmin, vmax=vmax, region=region,\n",
    "                                  colorbar=False, title=title, savefig=figname,\n",
    "                                  offline=True)\n",
    "        else:\n",
    "            figs, ax = plot_scalar(dv, vmin=vmin, vmax=vmax, \n",
    "                                   colorbar=False, title=title, savefig=figname,\n",
    "                                   offline=True, coast_resolution=None, figsize=(15,10))\n",
    "        #\n",
    "        #m = float(dv.mean().values)\n",
    "        m = 1.\n",
    "    else:\n",
    "        m = -1.\n",
    "    return m"
   ]
  },
  {
   "cell_type": "code",
   "execution_count": null,
   "metadata": {},
   "outputs": [],
   "source": [
    "#II = np.array_split(np.arange(len(ds['time'])),len(ds['time'])/20) # 4 maybe will work\n",
    "rg = range(6000,8000)\n",
    "II = np.array_split(rg,len(rg)/20) # 4 maybe will work\n",
    "print('%d loops to be done'%len(II))\n",
    "I = II[0]\n",
    "print('%d - %d'%(I[0],I[-1]))\n",
    "values = [delayed(load_and_genfig)(v, i) for i in I]    \n",
    "futures = client.compute(values)\n",
    "%time results = client.gather(futures)"
   ]
  },
  {
   "cell_type": "code",
   "execution_count": 11,
   "metadata": {},
   "outputs": [
    {
     "name": "stdout",
     "output_type": "stream",
     "text": [
      "100 loops to be done\n",
      "6000 - 6019\n",
      "CPU times: user 1min 15s, sys: 4.26 s, total: 1min 20s\n",
      "Wall time: 2min 45s\n",
      "6020 - 6039\n",
      "CPU times: user 1min 9s, sys: 3.75 s, total: 1min 13s\n",
      "Wall time: 2min 37s\n",
      "6040 - 6059\n",
      "CPU times: user 1min 10s, sys: 4.17 s, total: 1min 14s\n",
      "Wall time: 2min 44s\n",
      "6060 - 6079\n",
      "CPU times: user 1min 11s, sys: 4.32 s, total: 1min 16s\n",
      "Wall time: 2min 44s\n",
      "6080 - 6099\n",
      "CPU times: user 1min 11s, sys: 4.25 s, total: 1min 15s\n",
      "Wall time: 2min 38s\n",
      "6100 - 6119\n",
      "CPU times: user 1min 11s, sys: 4.26 s, total: 1min 15s\n",
      "Wall time: 2min 43s\n",
      "6120 - 6139\n",
      "CPU times: user 1min 8s, sys: 4.12 s, total: 1min 12s\n",
      "Wall time: 2min 40s\n",
      "6140 - 6159\n",
      "CPU times: user 1min 12s, sys: 4.45 s, total: 1min 16s\n",
      "Wall time: 2min 47s\n",
      "6160 - 6179\n",
      "CPU times: user 1min 16s, sys: 4.78 s, total: 1min 21s\n",
      "Wall time: 2min 49s\n",
      "6180 - 6199\n",
      "CPU times: user 1min 12s, sys: 4.35 s, total: 1min 17s\n",
      "Wall time: 2min 47s\n",
      "6200 - 6219\n",
      "CPU times: user 1min 10s, sys: 4.04 s, total: 1min 14s\n",
      "Wall time: 2min 40s\n",
      "6220 - 6239\n",
      "CPU times: user 1min 16s, sys: 4.58 s, total: 1min 20s\n",
      "Wall time: 2min 57s\n",
      "6240 - 6259\n",
      "CPU times: user 1min 12s, sys: 4.37 s, total: 1min 17s\n",
      "Wall time: 2min 48s\n",
      "6260 - 6279\n",
      "CPU times: user 1min 12s, sys: 4.29 s, total: 1min 17s\n",
      "Wall time: 2min 50s\n",
      "6280 - 6299\n",
      "CPU times: user 1min 14s, sys: 4.41 s, total: 1min 19s\n",
      "Wall time: 3min\n",
      "6300 - 6319\n",
      "CPU times: user 1min 7s, sys: 4.07 s, total: 1min 11s\n",
      "Wall time: 2min 41s\n",
      "6320 - 6339\n",
      "CPU times: user 1min 11s, sys: 4.27 s, total: 1min 16s\n",
      "Wall time: 2min 46s\n",
      "6340 - 6359\n",
      "CPU times: user 1min 11s, sys: 4.37 s, total: 1min 16s\n",
      "Wall time: 2min 49s\n",
      "6360 - 6379\n",
      "CPU times: user 1min 12s, sys: 4.31 s, total: 1min 17s\n",
      "Wall time: 2min 53s\n",
      "6380 - 6399\n",
      "CPU times: user 1min 12s, sys: 4.29 s, total: 1min 16s\n",
      "Wall time: 2min 44s\n",
      "6400 - 6419\n",
      "CPU times: user 1min 12s, sys: 4.3 s, total: 1min 17s\n",
      "Wall time: 2min 43s\n",
      "6420 - 6439\n",
      "CPU times: user 1min 15s, sys: 4.41 s, total: 1min 19s\n",
      "Wall time: 2min 46s\n",
      "6440 - 6459\n",
      "CPU times: user 1min 13s, sys: 4.49 s, total: 1min 18s\n",
      "Wall time: 2min 50s\n",
      "6460 - 6479\n",
      "CPU times: user 1min 12s, sys: 4.19 s, total: 1min 16s\n",
      "Wall time: 2min 45s\n",
      "6480 - 6499\n",
      "CPU times: user 1min 15s, sys: 4.49 s, total: 1min 20s\n",
      "Wall time: 2min 54s\n",
      "6500 - 6519\n",
      "CPU times: user 1min 14s, sys: 4.53 s, total: 1min 18s\n",
      "Wall time: 2min 44s\n",
      "6520 - 6539\n",
      "CPU times: user 1min 12s, sys: 4.21 s, total: 1min 16s\n",
      "Wall time: 2min 51s\n",
      "6540 - 6559\n",
      "CPU times: user 1min 11s, sys: 4.37 s, total: 1min 16s\n",
      "Wall time: 2min 42s\n",
      "6560 - 6579\n",
      "CPU times: user 1min 15s, sys: 4.57 s, total: 1min 20s\n",
      "Wall time: 2min 56s\n",
      "6580 - 6599\n",
      "CPU times: user 1min 14s, sys: 4.44 s, total: 1min 19s\n",
      "Wall time: 2min 52s\n",
      "6600 - 6619\n",
      "CPU times: user 1min 12s, sys: 4.26 s, total: 1min 16s\n",
      "Wall time: 2min 44s\n",
      "6620 - 6639\n",
      "CPU times: user 1min 13s, sys: 4.4 s, total: 1min 17s\n",
      "Wall time: 2min 46s\n",
      "6640 - 6659\n",
      "CPU times: user 1min 8s, sys: 3.87 s, total: 1min 12s\n",
      "Wall time: 2min 43s\n",
      "6660 - 6679\n",
      "CPU times: user 1min 14s, sys: 4.4 s, total: 1min 18s\n",
      "Wall time: 2min 50s\n",
      "6680 - 6699\n",
      "CPU times: user 1min 15s, sys: 4.71 s, total: 1min 20s\n",
      "Wall time: 2min 52s\n",
      "6700 - 6719\n",
      "CPU times: user 1min 16s, sys: 4.71 s, total: 1min 21s\n",
      "Wall time: 2min 48s\n",
      "6720 - 6739\n",
      "CPU times: user 1min 14s, sys: 4.32 s, total: 1min 18s\n",
      "Wall time: 2min 48s\n",
      "6740 - 6759\n",
      "CPU times: user 1min 13s, sys: 4.27 s, total: 1min 17s\n",
      "Wall time: 2min 48s\n",
      "6760 - 6779\n",
      "CPU times: user 1min 13s, sys: 4.23 s, total: 1min 17s\n",
      "Wall time: 2min 43s\n",
      "6780 - 6799\n",
      "CPU times: user 1min 14s, sys: 4.37 s, total: 1min 19s\n",
      "Wall time: 2min 53s\n",
      "6800 - 6819\n",
      "CPU times: user 1min 12s, sys: 4.39 s, total: 1min 16s\n",
      "Wall time: 2min 41s\n",
      "6820 - 6839\n",
      "CPU times: user 1min 11s, sys: 4.41 s, total: 1min 16s\n",
      "Wall time: 2min 40s\n",
      "6840 - 6859\n",
      "CPU times: user 1min 15s, sys: 4.51 s, total: 1min 19s\n",
      "Wall time: 3min 1s\n",
      "6860 - 6879\n",
      "CPU times: user 1min 13s, sys: 4.36 s, total: 1min 17s\n",
      "Wall time: 2min 44s\n",
      "6880 - 6899\n",
      "CPU times: user 1min 15s, sys: 4.48 s, total: 1min 19s\n",
      "Wall time: 2min 52s\n",
      "6900 - 6919\n",
      "CPU times: user 1min 13s, sys: 4.45 s, total: 1min 17s\n",
      "Wall time: 2min 43s\n",
      "6920 - 6939\n",
      "CPU times: user 1min 13s, sys: 4.47 s, total: 1min 18s\n",
      "Wall time: 2min 48s\n",
      "6940 - 6959\n",
      "CPU times: user 1min 13s, sys: 4.39 s, total: 1min 17s\n",
      "Wall time: 2min 44s\n",
      "6960 - 6979\n",
      "CPU times: user 1min 9s, sys: 4.09 s, total: 1min 14s\n",
      "Wall time: 2min 36s\n",
      "6980 - 6999\n",
      "CPU times: user 1min 12s, sys: 4.34 s, total: 1min 16s\n",
      "Wall time: 2min 45s\n",
      "7000 - 7019\n",
      "CPU times: user 1min 14s, sys: 4.56 s, total: 1min 18s\n",
      "Wall time: 2min 42s\n",
      "7020 - 7039\n",
      "CPU times: user 1min 9s, sys: 4.02 s, total: 1min 13s\n",
      "Wall time: 2min 39s\n",
      "7040 - 7059\n",
      "CPU times: user 1min 14s, sys: 4.26 s, total: 1min 19s\n",
      "Wall time: 2min 56s\n",
      "7060 - 7079\n",
      "CPU times: user 1min 15s, sys: 4.57 s, total: 1min 19s\n",
      "Wall time: 2min 56s\n",
      "7080 - 7099\n",
      "CPU times: user 1min 13s, sys: 4.35 s, total: 1min 17s\n",
      "Wall time: 2min 43s\n",
      "7100 - 7119\n",
      "CPU times: user 1min 16s, sys: 4.82 s, total: 1min 21s\n",
      "Wall time: 2min 49s\n",
      "7120 - 7139\n",
      "CPU times: user 1min 12s, sys: 4.14 s, total: 1min 16s\n",
      "Wall time: 2min 40s\n",
      "7140 - 7159\n",
      "CPU times: user 1min 11s, sys: 4.33 s, total: 1min 15s\n",
      "Wall time: 2min 39s\n",
      "7160 - 7179\n",
      "CPU times: user 1min 7s, sys: 3.96 s, total: 1min 11s\n",
      "Wall time: 2min 34s\n",
      "7180 - 7199\n",
      "CPU times: user 1min 11s, sys: 4.23 s, total: 1min 15s\n",
      "Wall time: 2min 40s\n",
      "7200 - 7219\n",
      "CPU times: user 1min 12s, sys: 4.31 s, total: 1min 16s\n",
      "Wall time: 2min 45s\n",
      "7220 - 7239\n",
      "CPU times: user 1min 14s, sys: 4.43 s, total: 1min 19s\n",
      "Wall time: 2min 50s\n",
      "7240 - 7259\n",
      "CPU times: user 1min 17s, sys: 4.61 s, total: 1min 21s\n",
      "Wall time: 3min 4s\n",
      "7260 - 7279\n",
      "CPU times: user 1min 13s, sys: 4.2 s, total: 1min 17s\n",
      "Wall time: 2min 49s\n",
      "7280 - 7299\n",
      "CPU times: user 1min 14s, sys: 4.44 s, total: 1min 18s\n",
      "Wall time: 2min 49s\n",
      "7300 - 7319\n",
      "CPU times: user 1min 14s, sys: 4.5 s, total: 1min 19s\n",
      "Wall time: 2min 48s\n",
      "7320 - 7339\n",
      "CPU times: user 1min 12s, sys: 4.17 s, total: 1min 16s\n",
      "Wall time: 2min 45s\n",
      "7340 - 7359\n",
      "CPU times: user 1min 16s, sys: 4.59 s, total: 1min 21s\n",
      "Wall time: 2min 50s\n",
      "7360 - 7379\n",
      "CPU times: user 1min 11s, sys: 4.17 s, total: 1min 15s\n",
      "Wall time: 2min 44s\n",
      "7380 - 7399\n",
      "CPU times: user 1min 14s, sys: 4.46 s, total: 1min 19s\n",
      "Wall time: 2min 49s\n",
      "7400 - 7419\n",
      "CPU times: user 1min 10s, sys: 4 s, total: 1min 14s\n",
      "Wall time: 2min 45s\n",
      "7420 - 7439\n",
      "CPU times: user 1min 10s, sys: 4.05 s, total: 1min 14s\n",
      "Wall time: 2min 37s\n",
      "7440 - 7459\n",
      "CPU times: user 1min 12s, sys: 4.31 s, total: 1min 16s\n",
      "Wall time: 2min 47s\n",
      "7460 - 7479\n",
      "CPU times: user 1min 11s, sys: 4.23 s, total: 1min 15s\n",
      "Wall time: 2min 46s\n",
      "7480 - 7499\n",
      "CPU times: user 1min 9s, sys: 4.13 s, total: 1min 13s\n",
      "Wall time: 2min 43s\n",
      "7500 - 7519\n",
      "CPU times: user 1min 11s, sys: 4.05 s, total: 1min 15s\n",
      "Wall time: 2min 45s\n",
      "7520 - 7539\n",
      "CPU times: user 1min 14s, sys: 4.33 s, total: 1min 19s\n",
      "Wall time: 2min 46s\n",
      "7540 - 7559\n",
      "CPU times: user 1min 14s, sys: 4.34 s, total: 1min 18s\n",
      "Wall time: 2min 47s\n",
      "7560 - 7579\n",
      "CPU times: user 1min 11s, sys: 4.2 s, total: 1min 16s\n",
      "Wall time: 2min 43s\n",
      "7580 - 7599\n",
      "CPU times: user 1min 9s, sys: 4.01 s, total: 1min 13s\n",
      "Wall time: 2min 43s\n",
      "7600 - 7619\n",
      "CPU times: user 1min 10s, sys: 4.13 s, total: 1min 14s\n",
      "Wall time: 2min 42s\n",
      "7620 - 7639\n",
      "CPU times: user 1min 14s, sys: 4.53 s, total: 1min 19s\n",
      "Wall time: 2min 45s\n",
      "7640 - 7659\n",
      "CPU times: user 1min 11s, sys: 4.22 s, total: 1min 15s\n",
      "Wall time: 2min 44s\n",
      "7660 - 7679\n",
      "CPU times: user 1min 12s, sys: 4.26 s, total: 1min 16s\n",
      "Wall time: 2min 46s\n",
      "7680 - 7699\n",
      "CPU times: user 1min 12s, sys: 4.19 s, total: 1min 16s\n",
      "Wall time: 2min 46s\n",
      "7700 - 7719\n",
      "CPU times: user 1min 15s, sys: 4.48 s, total: 1min 19s\n",
      "Wall time: 2min 48s\n",
      "7720 - 7739\n",
      "CPU times: user 1min 13s, sys: 4.33 s, total: 1min 17s\n",
      "Wall time: 2min 49s\n",
      "7740 - 7759\n",
      "CPU times: user 1min 12s, sys: 4.35 s, total: 1min 16s\n",
      "Wall time: 2min 51s\n",
      "7760 - 7779\n",
      "CPU times: user 1min 14s, sys: 4.49 s, total: 1min 18s\n",
      "Wall time: 2min 53s\n",
      "7780 - 7799\n",
      "CPU times: user 1min 13s, sys: 4.29 s, total: 1min 18s\n",
      "Wall time: 2min 48s\n",
      "7800 - 7819\n",
      "CPU times: user 1min 13s, sys: 4.29 s, total: 1min 18s\n",
      "Wall time: 2min 52s\n",
      "7820 - 7839\n",
      "CPU times: user 1min 11s, sys: 4.15 s, total: 1min 15s\n",
      "Wall time: 2min 38s\n",
      "7840 - 7859\n",
      "CPU times: user 1min 12s, sys: 4.31 s, total: 1min 17s\n",
      "Wall time: 2min 50s\n",
      "7860 - 7879\n",
      "CPU times: user 1min 7s, sys: 3.88 s, total: 1min 11s\n",
      "Wall time: 2min 39s\n",
      "7880 - 7899\n",
      "CPU times: user 1min 11s, sys: 4.32 s, total: 1min 15s\n",
      "Wall time: 2min 46s\n",
      "7900 - 7919\n"
     ]
    },
    {
     "name": "stdout",
     "output_type": "stream",
     "text": [
      "CPU times: user 1min 13s, sys: 4.25 s, total: 1min 17s\n",
      "Wall time: 2min 46s\n",
      "7920 - 7939\n",
      "CPU times: user 1min 14s, sys: 4.4 s, total: 1min 19s\n",
      "Wall time: 2min 54s\n",
      "7940 - 7959\n",
      "CPU times: user 1min 14s, sys: 4.43 s, total: 1min 19s\n",
      "Wall time: 2min 55s\n",
      "7960 - 7979\n",
      "CPU times: user 1min 13s, sys: 4.4 s, total: 1min 17s\n",
      "Wall time: 2min 45s\n",
      "7980 - 7999\n",
      "CPU times: user 1min 11s, sys: 4.19 s, total: 1min 15s\n",
      "Wall time: 2min 40s\n"
     ]
    }
   ],
   "source": [
    "#II = np.array_split(np.arange(len(ds['time'])),len(ds['time'])/20) # 4 maybe will work\n",
    "rg = range(6000,8000)\n",
    "II = np.array_split(rg,len(rg)/20) # 4 maybe will work\n",
    "print('%d loops to be done'%len(II))\n",
    "for I in II:\n",
    "    print('%d - %d'%(I[0],I[-1]))\n",
    "    values = [delayed(load_and_genfig)(v, i) for i in I]    \n",
    "    futures = client.compute(values)\n",
    "    %time results = client.gather(futures)"
   ]
  },
  {
   "cell_type": "code",
   "execution_count": 12,
   "metadata": {},
   "outputs": [],
   "source": [
    "cluster.close()"
   ]
  },
  {
   "cell_type": "markdown",
   "metadata": {},
   "source": [
    "```\n",
    "ffmpeg -f image2 -r 20 -pattern_type glob -i \"./figs/*_t00*.png\" -q:v 1 ./out.mp4\n",
    "```"
   ]
  },
  {
   "cell_type": "markdown",
   "metadata": {},
   "source": [
    "---\n",
    "\n",
    "# individual figures\n",
    "\n",
    "(for colormaps ...)"
   ]
  },
  {
   "cell_type": "code",
   "execution_count": null,
   "metadata": {},
   "outputs": [],
   "source": [
    "fig, ax = plot_pretty(ds[v].isel(time=0), vmin=vmin, vmax=vmax, region=region,\n",
    "                      title=v, colorbar=True)"
   ]
  },
  {
   "cell_type": "markdown",
   "metadata": {},
   "source": [
    "---\n",
    "\n",
    "# info, shutdown"
   ]
  },
  {
   "cell_type": "code",
   "execution_count": 55,
   "metadata": {
    "scrolled": true
   },
   "outputs": [],
   "source": [
    "cluster.close()"
   ]
  },
  {
   "cell_type": "code",
   "execution_count": null,
   "metadata": {
    "scrolled": true
   },
   "outputs": [],
   "source": [
    "client.restart()"
   ]
  },
  {
   "cell_type": "code",
   "execution_count": null,
   "metadata": {},
   "outputs": [],
   "source": []
  }
 ],
 "metadata": {
  "kernelspec": {
   "display_name": "equinox",
   "language": "python",
   "name": "equinox"
  },
  "language_info": {
   "codemirror_mode": {
    "name": "ipython",
    "version": 3
   },
   "file_extension": ".py",
   "mimetype": "text/x-python",
   "name": "python",
   "nbconvert_exporter": "python",
   "pygments_lexer": "ipython3",
   "version": "3.7.3"
  }
 },
 "nbformat": 4,
 "nbformat_minor": 2
}
