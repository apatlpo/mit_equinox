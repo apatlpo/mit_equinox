{
 "cells": [
  {
   "cell_type": "markdown",
   "metadata": {},
   "source": [
    "# store geostrophic fields\n",
    "\n",
    "Xiaolong initial [notebook](https://github.com/xy6g13/equinox_working/blob/master/sandbox/Reconstruction/Geostrophy%20metric.ipynb)"
   ]
  },
  {
   "cell_type": "code",
   "execution_count": 1,
   "metadata": {},
   "outputs": [],
   "source": [
    "import os, sys, shutil\n",
    "import numpy as np\n",
    "import dask\n",
    "import xarray as xr\n",
    "from matplotlib import pyplot as plt\n",
    "%matplotlib inline\n",
    "\n",
    "import xgcm\n",
    "\n",
    "from mitequinox.utils import *\n",
    "from mitequinox.dynamic import *\n",
    "from mitequinox.plot import *"
   ]
  },
  {
   "cell_type": "code",
   "execution_count": 2,
   "metadata": {},
   "outputs": [
    {
     "name": "stderr",
     "output_type": "stream",
     "text": [
      "/home/mp/pontea/.conda/envs/equinox/lib/python3.6/site-packages/dask_jobqueue/config.py:12: YAMLLoadWarning: calling yaml.load() without Loader=... is deprecated, as the default Loader is unsafe. Please read https://msg.pyyaml.org/load for full details.\n",
      "  defaults = yaml.load(f)\n",
      "/home/mp/pontea/.conda/envs/equinox/lib/python3.6/site-packages/distributed/deploy/local.py:138: UserWarning: diagnostics_port has been deprecated. Please use `dashboard_address=` instead\n",
      "  \"diagnostics_port has been deprecated. \"\n"
     ]
    }
   ],
   "source": [
    "from dask_jobqueue import PBSCluster\n",
    "cluster = PBSCluster(cores=12, walltime='12:00:00')\n",
    "w = cluster.scale(60*12)\n",
    "#w = cluster.scale(5) # postprocessing"
   ]
  },
  {
   "cell_type": "code",
   "execution_count": 3,
   "metadata": {},
   "outputs": [],
   "source": [
    "# get dask handles and check dask server status\n",
    "from dask.distributed import Client\n",
    "client = Client(cluster)"
   ]
  },
  {
   "cell_type": "code",
   "execution_count": 4,
   "metadata": {
    "scrolled": true
   },
   "outputs": [
    {
     "data": {
      "application/vnd.jupyter.widget-view+json": {
       "model_id": "ca02d7ac11b94b92afbdd1cba2c51276",
       "version_major": 2,
       "version_minor": 0
      },
      "text/plain": [
       "VBox(children=(HTML(value='<h2>PBSCluster</h2>'), HBox(children=(HTML(value='\\n<div>\\n  <style scoped>\\n    .d…"
      ]
     },
     "metadata": {},
     "output_type": "display_data"
    }
   ],
   "source": [
    "cluster"
   ]
  },
  {
   "cell_type": "markdown",
   "metadata": {},
   "source": [
    "---\n",
    "# load data\n"
   ]
  },
  {
   "cell_type": "code",
   "execution_count": 5,
   "metadata": {},
   "outputs": [],
   "source": [
    "grd = load_grd().drop(['hFacC','hFacW','hFacS','rA','rAw','rAs'])\n",
    "\n",
    "dsU = xr.open_zarr(root_data_dir+'zarr/%s.zarr'%('SSU'))\n",
    "dsV = xr.open_zarr(root_data_dir+'zarr/%s.zarr'%('SSV'))\n",
    "dsE = xr.open_zarr(root_data_dir+'zarr/%s.zarr'%('Eta'))\n",
    "\n",
    "ds = (xr.merge([dsU,dsV, dsE], join='inner')\n",
    "      .assign_coords(**grd.variables))\n",
    "grid = xgcm.Grid(ds, periodic=['X', 'Y'])\n",
    "\n",
    "# add coriolis parameters to dataset\n",
    "#omega = 7.3/100000 # XY, \n",
    "# see, http://mitgcm.org/public/r2_manual/final/code_reference/vdb/names/R.htm\n",
    "f = 2*omega_earth*np.sin(np.deg2rad(ds['YG'])) # at vorticity points\n",
    "f_i = grid.interp(f,'X').chunk({'i':None}) # at v points\n",
    "f_j = grid.interp(f,'Y').chunk({'j':None}) # at u points\n",
    "ds0 = ds.assign_coords(f=f,f_i=f_i,f_j=f_j)"
   ]
  },
  {
   "cell_type": "markdown",
   "metadata": {},
   "source": [
    "---\n",
    "\n",
    "## start computing and storing\n",
    "\n",
    "is the storing really necessary?"
   ]
  },
  {
   "cell_type": "code",
   "execution_count": 6,
   "metadata": {},
   "outputs": [],
   "source": [
    "terms = ['u_coriolis_linear','u_gradp', 'v_coriolis_linear','v_gradp']"
   ]
  },
  {
   "cell_type": "code",
   "execution_count": 7,
   "metadata": {},
   "outputs": [],
   "source": [
    "#Nt, Ni, Nj = 24*20, 188, 96\n",
    "Nt, Ni, Nj = 24*40, 376, 188"
   ]
  },
  {
   "cell_type": "code",
   "execution_count": 9,
   "metadata": {},
   "outputs": [
    {
     "name": "stdout",
     "output_type": "stream",
     "text": [
      "--- start processing face 11\n",
      "  u_gradp, face=11 - processed\n",
      "mbal terms computed for face=11\n"
     ]
    }
   ],
   "source": [
    "overwrite=True\n",
    "\n",
    "#face=1\n",
    "#for face in range(13):\n",
    "for face in range(11,12):\n",
    "\n",
    "    print('--- start processing face %d'%face)\n",
    "    ds = ds0.sel(face=face)\n",
    "\n",
    "    #t = terms[1]\n",
    "    for t in terms:\n",
    "        \n",
    "        bterm = get_mbal(t, ds, grid)\n",
    "\n",
    "        if t[0]=='u':\n",
    "            chunks = {'time': Nt, 'i_g': Ni, 'j': Nj}\n",
    "        elif t[0]=='v':\n",
    "            chunks = {'time': Nt, 'i': Ni, 'j_g': Nj}\n",
    "        bterm = bterm.isel(time=slice(len(ds.time)//Nt *Nt))\n",
    "        bterm = bterm.chunk(chunks)\n",
    "\n",
    "        file_out = work_data_dir+'mbal/%s_f%02d.zarr'%(t,face)\n",
    "        if not os.path.isdir(file_out) or overwrite:\n",
    "            bterm.to_dataset().to_zarr(file_out, mode='w')\n",
    "        print('  %s, face=%d - processed'%(t, face))\n",
    "\n",
    "print('mbal terms computed for face=%d'%(face))"
   ]
  },
  {
   "cell_type": "code",
   "execution_count": 10,
   "metadata": {
    "scrolled": true
   },
   "outputs": [
    {
     "name": "stderr",
     "output_type": "stream",
     "text": [
      "distributed.client - ERROR - Failed to reconnect to scheduler after 10.00 seconds, closing client\n"
     ]
    }
   ],
   "source": [
    "cluster.close()"
   ]
  },
  {
   "cell_type": "markdown",
   "metadata": {},
   "source": [
    "---"
   ]
  },
  {
   "cell_type": "code",
   "execution_count": 17,
   "metadata": {},
   "outputs": [],
   "source": [
    "w = cluster.scale_up(30)"
   ]
  },
  {
   "cell_type": "code",
   "execution_count": null,
   "metadata": {},
   "outputs": [],
   "source": [
    "client.restart()"
   ]
  },
  {
   "cell_type": "code",
   "execution_count": 9,
   "metadata": {},
   "outputs": [
    {
     "name": "stderr",
     "output_type": "stream",
     "text": [
      "distributed.client - ERROR - Failed to reconnect to scheduler after 10.00 seconds, closing client\n"
     ]
    }
   ],
   "source": [
    "cluster.close()"
   ]
  },
  {
   "cell_type": "code",
   "execution_count": null,
   "metadata": {},
   "outputs": [],
   "source": []
  }
 ],
 "metadata": {
  "kernelspec": {
   "display_name": "equinox",
   "language": "python",
   "name": "equinox"
  },
  "language_info": {
   "codemirror_mode": {
    "name": "ipython",
    "version": 3
   },
   "file_extension": ".py",
   "mimetype": "text/x-python",
   "name": "python",
   "nbconvert_exporter": "python",
   "pygments_lexer": "ipython3",
   "version": "3.6.7"
  }
 },
 "nbformat": 4,
 "nbformat_minor": 2
}
