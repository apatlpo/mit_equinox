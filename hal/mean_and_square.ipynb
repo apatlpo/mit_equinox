{
 "cells": [
  {
   "cell_type": "markdown",
   "metadata": {},
   "source": [
    "# compute basic statistics on llc4320 native grid\n",
    "\n",
    "Computation is best performed on HAL, combined with filesender to bring it back to datarmor\n"
   ]
  },
  {
   "cell_type": "code",
   "execution_count": 1,
   "metadata": {},
   "outputs": [],
   "source": [
    "import numpy as np\n",
    "import xarray as xr\n",
    "\n",
    "from matplotlib import pyplot as plt\n",
    "%matplotlib inline\n",
    "\n",
    "import mitequinox.utils as ut\n",
    "import mitequinox.plot as pl"
   ]
  },
  {
   "cell_type": "code",
   "execution_count": 2,
   "metadata": {},
   "outputs": [
    {
     "data": {
      "text/html": [
       "<table style=\"border: 2px solid white;\">\n",
       "<tr>\n",
       "<td style=\"vertical-align: top; border: 0px solid white\">\n",
       "<h3 style=\"text-align: left;\">Client</h3>\n",
       "<ul style=\"text-align: left; list-style: none; margin: 0; padding: 0;\">\n",
       "  <li><b>Scheduler: </b>tcp://127.0.0.1:40893</li>\n",
       "  <li><b>Dashboard: </b><a href='http://127.0.0.1:8787/status' target='_blank'>http://127.0.0.1:8787/status</a></li>\n",
       "</ul>\n",
       "</td>\n",
       "<td style=\"vertical-align: top; border: 0px solid white\">\n",
       "<h3 style=\"text-align: left;\">Cluster</h3>\n",
       "<ul style=\"text-align: left; list-style:none; margin: 0; padding: 0;\">\n",
       "  <li><b>Workers: </b>8</li>\n",
       "  <li><b>Cores: </b>56</li>\n",
       "  <li><b>Memory: </b>107.37 GB</li>\n",
       "</ul>\n",
       "</td>\n",
       "</tr>\n",
       "</table>"
      ],
      "text/plain": [
       "<Client: 'tcp://127.0.0.1:40893' processes=8 threads=56, memory=107.37 GB>"
      ]
     },
     "execution_count": 2,
     "metadata": {},
     "output_type": "execute_result"
    }
   ],
   "source": [
    "if False:\n",
    "    from dask.distributed import Client, LocalCluster\n",
    "    from dask_jobqueue import PBSCluster\n",
    "    cluster = PBSCluster(walltime='06:00:00')\n",
    "    w = cluster.scale(jobs=20)\n",
    "    client = Client(cluster)\n",
    "else:\n",
    "    from dask.distributed import Client, LocalCluster\n",
    "    #\n",
    "    cluster = LocalCluster()\n",
    "    client = Client(cluster)\n",
    "client"
   ]
  },
  {
   "cell_type": "code",
   "execution_count": 3,
   "metadata": {},
   "outputs": [],
   "source": [
    "#cluster"
   ]
  },
  {
   "cell_type": "markdown",
   "metadata": {},
   "source": [
    "---\n",
    "# compute simple diagnostics\n"
   ]
  },
  {
   "cell_type": "code",
   "execution_count": 4,
   "metadata": {},
   "outputs": [],
   "source": [
    "# same but over all variables and faces\n",
    "V = [\"Eta\", \"SSU\", \"SSV\", \"SST\", \"SSS\"]\n",
    "#V = V+[\"KPPhbl\", \"qsoceTAUX\", \"oceTAUY\"]"
   ]
  },
  {
   "cell_type": "code",
   "execution_count": 10,
   "metadata": {},
   "outputs": [],
   "source": [
    "def compute_store(v, ds, diag, op):\n",
    "    #i, j = ut.get_ij_dims(ds)\n",
    "    diag_zarr = diag+\"_\"+v\n",
    "    if not ut.is_diagnostic(diag_zarr):\n",
    "        out, tmp_zarr = ut.custom_distribute(ds, op, \n",
    "                                             tmp_dir=ut.scratch+\"tmp/\", \n",
    "                                             face=1, ) # **{j: 1080}\n",
    "        ut.store_diagnostic(diag_zarr, out, overwrite=True)\n",
    "        print(\"{} {} stored\".format(v, diag))\n",
    "    else:\n",
    "        print(\"{} {} already exists\".format(v, diag))"
   ]
  },
  {
   "cell_type": "code",
   "execution_count": null,
   "metadata": {},
   "outputs": [
    {
     "name": "stdout",
     "output_type": "stream",
     "text": [
      "Eta mean already exists\n",
      "data stored in /work/ALT/swot/aval/syn/diags/square_mean_Eta.zarr\n",
      "Eta square_mean stored\n",
      "data stored in /work/ALT/swot/aval/syn/diags/mean_SSU.zarr\n",
      "SSU mean stored\n",
      "data stored in /work/ALT/swot/aval/syn/diags/square_mean_SSU.zarr\n",
      "SSU square_mean stored\n",
      "data stored in /work/ALT/swot/aval/syn/diags/mean_SSV.zarr\n",
      "SSV mean stored\n"
     ]
    }
   ],
   "source": [
    "diags = {\"mean\": lambda x: x.mean(\"time\"),\n",
    "         \"mean_square\": lambda x: (x**2).mean(\"time\"),\n",
    "        }\n",
    "        \n",
    "for v in V:\n",
    "    ds = ut.load_data(v)\n",
    "    for diag, op in diags.items():\n",
    "        compute_store(v, ds, diag, op)"
   ]
  },
  {
   "cell_type": "code",
   "execution_count": null,
   "metadata": {},
   "outputs": [],
   "source": [
    "cluster.close()"
   ]
  },
  {
   "cell_type": "markdown",
   "metadata": {},
   "source": [
    "---\n",
    "\n",
    "# plots ..."
   ]
  },
  {
   "cell_type": "code",
   "execution_count": 4,
   "metadata": {},
   "outputs": [],
   "source": [
    "# load diagnostics\n",
    "V = [\"SSU\", \"SSV\",]\n",
    "D = [\"mean\", \"mean_square\"]\n",
    "\n",
    "ds = xr.merge([ut.load_diagnostic(d+\"_\"+v).rename({v:d+\"_\"+v}) \n",
    "               for v in V for d in D])"
   ]
  },
  {
   "cell_type": "code",
   "execution_count": null,
   "metadata": {},
   "outputs": [],
   "source": []
  },
  {
   "cell_type": "markdown",
   "metadata": {},
   "source": [
    "---"
   ]
  },
  {
   "cell_type": "code",
   "execution_count": null,
   "metadata": {},
   "outputs": [],
   "source": [
    "client.restart()"
   ]
  },
  {
   "cell_type": "code",
   "execution_count": 8,
   "metadata": {},
   "outputs": [],
   "source": [
    "cluster.close()"
   ]
  },
  {
   "cell_type": "code",
   "execution_count": null,
   "metadata": {},
   "outputs": [],
   "source": []
  }
 ],
 "metadata": {
  "kernelspec": {
   "display_name": "Python 3",
   "language": "python",
   "name": "python3"
  },
  "language_info": {
   "codemirror_mode": {
    "name": "ipython",
    "version": 3
   },
   "file_extension": ".py",
   "mimetype": "text/x-python",
   "name": "python",
   "nbconvert_exporter": "python",
   "pygments_lexer": "ipython3",
   "version": "3.8.6"
  }
 },
 "nbformat": 4,
 "nbformat_minor": 4
}
