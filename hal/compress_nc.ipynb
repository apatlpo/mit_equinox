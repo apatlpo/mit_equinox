{
 "cells": [
  {
   "cell_type": "code",
   "execution_count": 1,
   "metadata": {},
   "outputs": [],
   "source": [
    "import os, sys\n",
    "import numpy as np\n",
    "import dask\n",
    "from dask import delayed\n",
    "import xarray as xr\n",
    "from matplotlib import pyplot as plt\n",
    "%matplotlib inline\n",
    "\n",
    "from mitequinox.utils import *"
   ]
  },
  {
   "cell_type": "code",
   "execution_count": 5,
   "metadata": {},
   "outputs": [],
   "source": [
    "from dask_jobqueue import PBSCluster\n",
    "cluster = PBSCluster(cores=4)\n",
    "w = cluster.scale(40)"
   ]
  },
  {
   "cell_type": "code",
   "execution_count": 6,
   "metadata": {},
   "outputs": [],
   "source": [
    "from dask.distributed import Client\n",
    "client = Client(cluster)"
   ]
  },
  {
   "cell_type": "code",
   "execution_count": 8,
   "metadata": {},
   "outputs": [
    {
     "data": {
      "text/html": [
       "<table style=\"border: 2px solid white;\">\n",
       "<tr>\n",
       "<td style=\"vertical-align: top; border: 0px solid white\">\n",
       "<h3>Client</h3>\n",
       "<ul>\n",
       "  <li><b>Scheduler: </b>tcp://10.135.36.114:45737\n",
       "  <li><b>Dashboard: </b><a href='http://10.135.36.114:8787/status' target='_blank'>http://10.135.36.114:8787/status</a>\n",
       "</ul>\n",
       "</td>\n",
       "<td style=\"vertical-align: top; border: 0px solid white\">\n",
       "<h3>Cluster</h3>\n",
       "<ul>\n",
       "  <li><b>Workers: </b>40</li>\n",
       "  <li><b>Cores: </b>160</li>\n",
       "  <li><b>Memory: </b>1.60 TB</li>\n",
       "</ul>\n",
       "</td>\n",
       "</tr>\n",
       "</table>"
      ],
      "text/plain": [
       "<Client: scheduler='tcp://10.135.36.114:45737' processes=40 cores=160>"
      ]
     },
     "execution_count": 8,
     "metadata": {},
     "output_type": "execute_result"
    }
   ],
   "source": [
    "client"
   ]
  },
  {
   "cell_type": "code",
   "execution_count": 13,
   "metadata": {},
   "outputs": [],
   "source": [
    "def compress(file, v, delete=False, verbose=False):\n",
    "    \n",
    "    filesp = file.split('/')\n",
    "    file_out = '/'.join([*filesp[:-2],'compressed',filesp[-2],filesp[-1]])\n",
    "    \n",
    "    if not os.path.isfile(file_out) or ((os.path.getsize(file_out)>>20)<250):\n",
    "        if verbose:\n",
    "            print('Compress ',file_out)\n",
    "        #\n",
    "        df = xr.open_dataset(file)\n",
    "        #\n",
    "        #df.to_netcdf(file_out)\n",
    "        # http://unidata.github.io/netcdf4-python/#section9\n",
    "        df.to_netcdf(file_out, encoding={v:{'zlib': True, 'complevel': 2, \n",
    "                                            'chunksizes': [1, 4320, 4320]}})\n",
    "\n",
    "        if delete:\n",
    "            os.remove(file)\n",
    "            \n",
    "    return file_out\n"
   ]
  },
  {
   "cell_type": "code",
   "execution_count": 14,
   "metadata": {},
   "outputs": [],
   "source": [
    "v = 'Eta'\n",
    "v = 'SSU'\n",
    "v = 'SSV'\n",
    "v = 'SST'\n",
    "v = 'SSS'\n",
    "df = load_iters_date_files(v)"
   ]
  },
  {
   "cell_type": "markdown",
   "metadata": {},
   "source": [
    "### parallelize conversion"
   ]
  },
  {
   "cell_type": "code",
   "execution_count": 10,
   "metadata": {},
   "outputs": [],
   "source": [
    "I = range(len(df))\n",
    "#I = range(10)\n",
    "values = [delayed(compress)(df['file'].iloc[i], v, delete=False) for i in I]"
   ]
  },
  {
   "cell_type": "code",
   "execution_count": 11,
   "metadata": {
    "scrolled": true
   },
   "outputs": [
    {
     "name": "stdout",
     "output_type": "stream",
     "text": [
      "CPU times: user 12min 23s, sys: 41.5 s, total: 13min 4s\n",
      "Wall time: 55min\n"
     ]
    }
   ],
   "source": [
    "futures = client.compute(values)\n",
    "%time results = client.gather(futures)"
   ]
  },
  {
   "cell_type": "markdown",
   "metadata": {},
   "source": [
    "### tests, non parallelized"
   ]
  },
  {
   "cell_type": "code",
   "execution_count": 4,
   "metadata": {},
   "outputs": [],
   "source": [
    "file = df['file'].iloc[0]\n",
    "compress(file, v)"
   ]
  },
  {
   "cell_type": "code",
   "execution_count": 15,
   "metadata": {},
   "outputs": [
    {
     "name": "stdout",
     "output_type": "stream",
     "text": [
      "Compress  /work/ALT/swot/swotpub/LLC4320/compressed/SSS/SSS_t0000228816.nc\n"
     ]
    }
   ],
   "source": [
    "for file in df['file']:\n",
    "    compress(file,v, verbose=True)"
   ]
  },
  {
   "cell_type": "markdown",
   "metadata": {},
   "source": [
    "### fix files from zarr standard layout"
   ]
  },
  {
   "cell_type": "code",
   "execution_count": 41,
   "metadata": {},
   "outputs": [],
   "source": [
    "ds = xr.open_zarr(work_data_dir+'rechunked/SSS_std.zarr').drop('dtime')\n",
    "#for time in ds['time']:\n",
    "for time, iters in zip(ds['time'].values,ds['iters'].values):\n",
    "    file = root_data_dir+'netcdf/SSS/SSS_t%010d.nc'%iters\n",
    "    #print(file)\n",
    "    if not os.path.isfile(file) or ((os.path.getsize(file)>>20)<250):\n",
    "        print(iters)\n",
    "        file_out = root_data_dir+'netcdf/SSS/tmp/SSS_t%010d.nc'%iters\n",
    "        ds.sel(time=time).to_netcdf(file_out, encoding={'SSS':{'zlib': True, \n",
    "                                                           'complevel': 2, \n",
    "                                                           'chunksizes': [1, 4320, 4320]}})"
   ]
  },
  {
   "cell_type": "code",
   "execution_count": 40,
   "metadata": {},
   "outputs": [
    {
     "name": "stdout",
     "output_type": "stream",
     "text": [
      "<xarray.Dataset>\n",
      "Dimensions:  (face: 13, i: 4320, j: 4320)\n",
      "Coordinates:\n",
      "  * i        (i) int64 0 1 2 3 4 5 6 7 ... 4313 4314 4315 4316 4317 4318 4319\n",
      "  * j        (j) int64 0 1 2 3 4 5 6 7 ... 4313 4314 4315 4316 4317 4318 4319\n",
      "  * face     (face) int64 0 1 2 3 4 5 6 7 8 9 10 11 12\n",
      "    time     float64 ...\n",
      "    iters    int64 ...\n",
      "Data variables:\n",
      "    SSS      (face, j, i) float32 ...\n",
      "<xarray.Dataset>\n",
      "Dimensions:  (face: 13, i: 4320, j: 4320)\n",
      "Coordinates:\n",
      "  * face     (face) int64 0 1 2 3 4 5 6 7 8 9 10 11 12\n",
      "  * i        (i) int64 0 1 2 3 4 5 6 7 ... 4313 4314 4315 4316 4317 4318 4319\n",
      "    iters    int64 ...\n",
      "  * j        (j) int64 0 1 2 3 4 5 6 7 ... 4313 4314 4315 4316 4317 4318 4319\n",
      "    time     float64 ...\n",
      "Data variables:\n",
      "    SSS      (face, j, i) float32 ...\n"
     ]
    }
   ],
   "source": [
    "ds_good = xr.open_dataset(root_data_dir+'netcdf/SSS/SSS_t0001492992.nc')\n",
    "ds = xr.open_dataset(root_data_dir+'netcdf/SSS/tmp/SSS_t0000232704.nc')\n",
    "print(ds_good)\n",
    "print(ds)"
   ]
  },
  {
   "cell_type": "markdown",
   "metadata": {},
   "source": [
    "# log SSS, corrupted files\n",
    "\n",
    "232704\n",
    "237168\n",
    "240624\n",
    "266688\n",
    "274608\n",
    "275040\n",
    "284688\n",
    "294192\n",
    "306432\n",
    "334656\n",
    "345888\n",
    "348480\n",
    "349920\n",
    "372528\n",
    "373824\n",
    "374832\n",
    "398880\n",
    "405936\n",
    "412704\n",
    "414144\n",
    "434880\n",
    "436464\n",
    "442368\n",
    "445536\n",
    "456768\n",
    "482688\n",
    "502848\n",
    "503712\n",
    "507168\n",
    "511920\n",
    "525024\n",
    "530352\n",
    "561168\n",
    "576432\n",
    "581328\n",
    "606384\n",
    "610560\n",
    "644688\n",
    "659808\n",
    "660096\n",
    "684144\n",
    "695232\n",
    "701856\n",
    "709776\n",
    "732960\n",
    "745632\n",
    "749808\n",
    "753408\n",
    "756720\n",
    "757728\n",
    "767088\n",
    "768240\n",
    "772560\n",
    "781488\n",
    "786240\n",
    "786672\n",
    "794304\n",
    "816048\n",
    "821952\n",
    "836784\n",
    "837936\n",
    "847152\n",
    "857520\n",
    "874944\n",
    "899424\n",
    "902304\n",
    "908208\n",
    "913392\n",
    "948960\n",
    "951840\n",
    "966816\n",
    "973872\n",
    "995760\n",
    "1003392\n",
    "1031040\n",
    "1032048\n",
    "1042272\n",
    "1044144\n",
    "1049472\n",
    "1054080\n",
    "1062288\n",
    "1132416\n",
    "1150128\n",
    "1154304\n",
    "1160784\n",
    "1175184\n",
    "1180800\n",
    "1184544\n",
    "1184688\n",
    "1191744\n",
    "1193040\n",
    "1205856\n",
    "1214352\n",
    "1218528\n",
    "1220400\n",
    "1228320\n",
    "1276128\n",
    "1279008\n",
    "1287216\n",
    "1290384\n",
    "1293120\n",
    "1294416\n",
    "1326096\n",
    "1350576\n",
    "1351872\n",
    "1360512\n",
    "1378080\n",
    "1418544\n",
    "1423008\n",
    "1426464\n",
    "1435824\n",
    "1446336\n",
    "1455552\n",
    "1475856\n",
    "1488528\n",
    "1490832"
   ]
  },
  {
   "cell_type": "code",
   "execution_count": null,
   "metadata": {},
   "outputs": [],
   "source": []
  },
  {
   "cell_type": "code",
   "execution_count": 16,
   "metadata": {},
   "outputs": [],
   "source": [
    "cluster.close()"
   ]
  },
  {
   "cell_type": "code",
   "execution_count": null,
   "metadata": {},
   "outputs": [],
   "source": []
  }
 ],
 "metadata": {
  "kernelspec": {
   "display_name": "equinox",
   "language": "python",
   "name": "equinox"
  },
  "language_info": {
   "codemirror_mode": {
    "name": "ipython",
    "version": 3
   },
   "file_extension": ".py",
   "mimetype": "text/x-python",
   "name": "python",
   "nbconvert_exporter": "python",
   "pygments_lexer": "ipython3",
   "version": "3.6.8"
  }
 },
 "nbformat": 4,
 "nbformat_minor": 2
}
