{
 "cells": [
  {
   "cell_type": "markdown",
   "id": "19af7ee5-5285-44ee-8592-c3214ec39a28",
   "metadata": {},
   "source": [
    "# play with parquet, engines, compression\n",
    "\n",
    "Try to identify performance issues at read time\n",
    "\n",
    "https://github.com/dask/dask/issues/4701\n",
    "\n",
    "https://github.com/dask/dask/issues/6376\n",
    "\n"
   ]
  },
  {
   "cell_type": "code",
   "execution_count": 2,
   "id": "3221e159-b5f2-4ea8-9efb-3a2177ed8cea",
   "metadata": {},
   "outputs": [],
   "source": [
    "import os, shutil\n",
    "from glob import glob\n",
    "\n",
    "import dask\n",
    "import dask.dataframe as dd\n",
    "\n",
    "import pandas as pd\n",
    "import numpy as np\n",
    "\n",
    "from matplotlib import pyplot as plt\n",
    "%matplotlib inline"
   ]
  },
  {
   "cell_type": "markdown",
   "id": "48654d50-53ae-4152-92b1-231d462dcfa1",
   "metadata": {},
   "source": [
    "---\n",
    "\n",
    "## local dask cluster"
   ]
  },
  {
   "cell_type": "code",
   "execution_count": 2,
   "id": "b79710eb-9bc3-45a9-b576-9e68748d64dc",
   "metadata": {
    "tags": []
   },
   "outputs": [
    {
     "data": {
      "text/html": [
       "<table style=\"border: 2px solid white;\">\n",
       "<tr>\n",
       "<td style=\"vertical-align: top; border: 0px solid white\">\n",
       "<h3 style=\"text-align: left;\">Client</h3>\n",
       "<ul style=\"text-align: left; list-style: none; margin: 0; padding: 0;\">\n",
       "  <li><b>Scheduler: </b>tcp://127.0.0.1:47190</li>\n",
       "  <li><b>Dashboard: </b><a href='http://127.0.0.1:8787/status' target='_blank'>http://127.0.0.1:8787/status</a></li>\n",
       "</ul>\n",
       "</td>\n",
       "<td style=\"vertical-align: top; border: 0px solid white\">\n",
       "<h3 style=\"text-align: left;\">Cluster</h3>\n",
       "<ul style=\"text-align: left; list-style:none; margin: 0; padding: 0;\">\n",
       "  <li><b>Workers: </b>8</li>\n",
       "  <li><b>Cores: </b>56</li>\n",
       "  <li><b>Memory: </b>100.00 GiB</li>\n",
       "</ul>\n",
       "</td>\n",
       "</tr>\n",
       "</table>"
      ],
      "text/plain": [
       "<Client: 'tcp://127.0.0.1:47190' processes=8 threads=56, memory=100.00 GiB>"
      ]
     },
     "execution_count": 2,
     "metadata": {},
     "output_type": "execute_result"
    }
   ],
   "source": [
    "from dask.distributed import Client, LocalCluster\n",
    "#\n",
    "cluster = LocalCluster()\n",
    "client = Client(cluster)\n",
    "client"
   ]
  },
  {
   "cell_type": "code",
   "execution_count": 3,
   "id": "6de30fc3-f139-43ea-939a-76eebb5a61c5",
   "metadata": {},
   "outputs": [],
   "source": [
    "parquet = \"/home1/scratch/aponte/dummy_parquet\""
   ]
  },
  {
   "cell_type": "code",
   "execution_count": 4,
   "id": "77c93ae9-794f-44fa-8ca1-a74992f3eed6",
   "metadata": {},
   "outputs": [],
   "source": [
    "def store_parquet(df, engine=\"fastparquet\", compression=None):\n",
    "    _parquet = parquet+\"_\"+engine+\"_\"+str(compression)\n",
    "    if os.path.isdir(_parquet):\n",
    "        shutil.rmtree(_parquet)\n",
    "    df.to_parquet(_parquet, engine=engine, compression=compression)\n",
    "    \n",
    "def load_mean_parquet(engine=\"fastparquet\", compression=None, **kwargs):\n",
    "    _parquet = parquet+\"_\"+engine+\"_\"+str(compression)\n",
    "    df = dd.read_parquet(_parquet, engine=engine, **kwargs)\n",
    "    return df.mean().compute()"
   ]
  },
  {
   "cell_type": "code",
   "execution_count": 5,
   "id": "c5ba4985-09e8-43fb-b692-8b7ab6246b96",
   "metadata": {},
   "outputs": [
    {
     "data": {
      "text/html": [
       "<div><strong>Dask DataFrame Structure:</strong></div>\n",
       "<div>\n",
       "<style scoped>\n",
       "    .dataframe tbody tr th:only-of-type {\n",
       "        vertical-align: middle;\n",
       "    }\n",
       "\n",
       "    .dataframe tbody tr th {\n",
       "        vertical-align: top;\n",
       "    }\n",
       "\n",
       "    .dataframe thead th {\n",
       "        text-align: right;\n",
       "    }\n",
       "</style>\n",
       "<table border=\"1\" class=\"dataframe\">\n",
       "  <thead>\n",
       "    <tr style=\"text-align: right;\">\n",
       "      <th></th>\n",
       "      <th>lat</th>\n",
       "      <th>lon</th>\n",
       "      <th>v</th>\n",
       "    </tr>\n",
       "    <tr>\n",
       "      <th>npartitions=1096</th>\n",
       "      <th></th>\n",
       "      <th></th>\n",
       "      <th></th>\n",
       "    </tr>\n",
       "  </thead>\n",
       "  <tbody>\n",
       "    <tr>\n",
       "      <th>2000-01-01</th>\n",
       "      <td>float64</td>\n",
       "      <td>float64</td>\n",
       "      <td>float64</td>\n",
       "    </tr>\n",
       "    <tr>\n",
       "      <th>2000-01-02</th>\n",
       "      <td>...</td>\n",
       "      <td>...</td>\n",
       "      <td>...</td>\n",
       "    </tr>\n",
       "    <tr>\n",
       "      <th>...</th>\n",
       "      <td>...</td>\n",
       "      <td>...</td>\n",
       "      <td>...</td>\n",
       "    </tr>\n",
       "    <tr>\n",
       "      <th>2002-12-31</th>\n",
       "      <td>...</td>\n",
       "      <td>...</td>\n",
       "      <td>...</td>\n",
       "    </tr>\n",
       "    <tr>\n",
       "      <th>2003-01-01</th>\n",
       "      <td>...</td>\n",
       "      <td>...</td>\n",
       "      <td>...</td>\n",
       "    </tr>\n",
       "  </tbody>\n",
       "</table>\n",
       "</div>\n",
       "<div>Dask Name: make-timeseries, 1096 tasks</div>"
      ],
      "text/plain": [
       "Dask DataFrame Structure:\n",
       "                      lat      lon        v\n",
       "npartitions=1096                           \n",
       "2000-01-01        float64  float64  float64\n",
       "2000-01-02            ...      ...      ...\n",
       "...                   ...      ...      ...\n",
       "2002-12-31            ...      ...      ...\n",
       "2003-01-01            ...      ...      ...\n",
       "Dask Name: make-timeseries, 1096 tasks"
      ]
     },
     "execution_count": 5,
     "metadata": {},
     "output_type": "execute_result"
    }
   ],
   "source": [
    "df = dask.datasets.timeseries(end=\"2003-01-01\", \n",
    "                              dtypes=dict(lon=float, lat=float, v=float),\n",
    "                              seed=0,\n",
    "                             ).persist()\n",
    "df"
   ]
  },
  {
   "cell_type": "code",
   "execution_count": 6,
   "id": "6ce61a64-1ab1-4dbc-adae-57dc8a54ee23",
   "metadata": {},
   "outputs": [
    {
     "name": "stdout",
     "output_type": "stream",
     "text": [
      "Partition size = 3 MB\n",
      "Dataset global size = 3 GB\n"
     ]
    }
   ],
   "source": [
    "partition_size = df.memory_usage_per_partition().compute().loc[0]\n",
    "print(\"Partition size = {:.0f} MB\".format(partition_size/1e6))\n",
    "\n",
    "df_size = df.memory_usage().compute().sum()\n",
    "print(\"Dataset global size = {:.0f} GB\".format(df_size/1e9))"
   ]
  },
  {
   "cell_type": "code",
   "execution_count": 19,
   "id": "59b704a5-3c53-4770-b8a0-27edd59f910b",
   "metadata": {},
   "outputs": [
    {
     "name": "stdout",
     "output_type": "stream",
     "text": [
      "CPU times: user 1.87 s, sys: 112 ms, total: 1.98 s\n",
      "Wall time: 3.19 s\n"
     ]
    }
   ],
   "source": [
    "%time store_parquet(df)"
   ]
  },
  {
   "cell_type": "code",
   "execution_count": 9,
   "id": "563c675a-0c9d-4d41-b24e-da7daf91fd04",
   "metadata": {},
   "outputs": [],
   "source": [
    "#%time store_parquet(df, engine=\"fastparquet\", compression=\"ZSTD\") # hangs?"
   ]
  },
  {
   "cell_type": "code",
   "execution_count": 20,
   "id": "d18b26bc-1c22-4d67-912d-d96ee214ecfd",
   "metadata": {},
   "outputs": [
    {
     "name": "stdout",
     "output_type": "stream",
     "text": [
      "CPU times: user 3.12 s, sys: 196 ms, total: 3.32 s\n",
      "Wall time: 4.78 s\n"
     ]
    }
   ],
   "source": [
    "%time store_parquet(df, engine=\"pyarrow\")"
   ]
  },
  {
   "cell_type": "code",
   "execution_count": 21,
   "id": "14154095-0570-4751-ae94-abf165bf0743",
   "metadata": {},
   "outputs": [
    {
     "name": "stdout",
     "output_type": "stream",
     "text": [
      "CPU times: user 2.32 s, sys: 160 ms, total: 2.48 s\n",
      "Wall time: 4.87 s\n"
     ]
    },
    {
     "data": {
      "text/plain": [
       "lat    0.000023\n",
       "lon    0.000109\n",
       "v     -0.000103\n",
       "dtype: float64"
      ]
     },
     "execution_count": 21,
     "metadata": {},
     "output_type": "execute_result"
    }
   ],
   "source": [
    "%time load_mean_parquet(engine=\"fastparquet\")"
   ]
  },
  {
   "cell_type": "code",
   "execution_count": 22,
   "id": "694abba4-0c95-4e73-a75a-a443550c7e64",
   "metadata": {},
   "outputs": [
    {
     "name": "stdout",
     "output_type": "stream",
     "text": [
      "CPU times: user 2.49 s, sys: 244 ms, total: 2.74 s\n",
      "Wall time: 4.91 s\n"
     ]
    },
    {
     "data": {
      "text/plain": [
       "lat    0.000023\n",
       "lon    0.000109\n",
       "v     -0.000103\n",
       "dtype: float64"
      ]
     },
     "execution_count": 22,
     "metadata": {},
     "output_type": "execute_result"
    }
   ],
   "source": [
    "%time load_mean_parquet(engine=\"pyarrow\")"
   ]
  },
  {
   "cell_type": "code",
   "execution_count": 23,
   "id": "aaaf740d-a1b9-4995-97ec-3894d0da8409",
   "metadata": {},
   "outputs": [
    {
     "name": "stderr",
     "output_type": "stream",
     "text": [
      "distributed.client - ERROR - Failed to reconnect to scheduler after 10.00 seconds, closing client\n",
      "_GatheringFuture exception was never retrieved\n",
      "future: <_GatheringFuture finished exception=CancelledError()>\n",
      "asyncio.exceptions.CancelledError\n"
     ]
    }
   ],
   "source": [
    "cluster.close()"
   ]
  },
  {
   "cell_type": "markdown",
   "id": "1b21ae0a-4ce7-4de8-be9c-e90b5a16ca94",
   "metadata": {},
   "source": [
    "---\n",
    "\n",
    "## distributed dask cluster"
   ]
  },
  {
   "cell_type": "code",
   "execution_count": 24,
   "id": "d4503c3d-ce98-4f31-b742-4cea066bb399",
   "metadata": {},
   "outputs": [
    {
     "data": {
      "application/vnd.jupyter.widget-view+json": {
       "model_id": "531abdfafd054c4a84a11fbe270061ca",
       "version_major": 2,
       "version_minor": 0
      },
      "text/plain": [
       "VBox(children=(HTML(value='<h2>PBSCluster</h2>'), HBox(children=(HTML(value='\\n<div>\\n  <style scoped>\\n    .d…"
      ]
     },
     "metadata": {},
     "output_type": "display_data"
    }
   ],
   "source": [
    "from dask.distributed import Client\n",
    "from dask_jobqueue import PBSCluster\n",
    "cluster = PBSCluster(walltime='01:00:00')\n",
    "w = cluster.scale(jobs=4)\n",
    "client = Client(cluster)\n",
    "cluster"
   ]
  },
  {
   "cell_type": "code",
   "execution_count": 25,
   "id": "8fa95ed1-2504-4bc4-b308-29c508347d99",
   "metadata": {},
   "outputs": [
    {
     "name": "stdout",
     "output_type": "stream",
     "text": [
      "CPU times: user 4.71 s, sys: 308 ms, total: 5.02 s\n",
      "Wall time: 35 s\n"
     ]
    },
    {
     "data": {
      "text/plain": [
       "lat    0.000023\n",
       "lon    0.000109\n",
       "v     -0.000103\n",
       "dtype: float64"
      ]
     },
     "execution_count": 25,
     "metadata": {},
     "output_type": "execute_result"
    }
   ],
   "source": [
    "%time load_mean_parquet(engine=\"fastparquet\")"
   ]
  },
  {
   "cell_type": "markdown",
   "id": "1ae4bb0f-2808-4b40-afca-6bb5c3c2ffea",
   "metadata": {},
   "source": [
    "dominated by `deserialize-read-parquet`: 9s-25s"
   ]
  },
  {
   "cell_type": "code",
   "execution_count": 26,
   "id": "148674ed-a16a-4673-abb9-c6092324d74b",
   "metadata": {},
   "outputs": [
    {
     "name": "stdout",
     "output_type": "stream",
     "text": [
      "CPU times: user 1.78 s, sys: 156 ms, total: 1.93 s\n",
      "Wall time: 3.28 s\n"
     ]
    },
    {
     "data": {
      "text/plain": [
       "lat    0.000023\n",
       "lon    0.000109\n",
       "v     -0.000103\n",
       "dtype: float64"
      ]
     },
     "execution_count": 26,
     "metadata": {},
     "output_type": "execute_result"
    }
   ],
   "source": [
    "%time load_mean_parquet(engine=\"fastparquet\")"
   ]
  },
  {
   "cell_type": "code",
   "execution_count": 27,
   "id": "6997e974-882a-4960-ace8-7a3c8a08f17b",
   "metadata": {},
   "outputs": [
    {
     "name": "stdout",
     "output_type": "stream",
     "text": [
      "CPU times: user 5.03 s, sys: 328 ms, total: 5.36 s\n",
      "Wall time: 44.1 s\n"
     ]
    },
    {
     "data": {
      "text/plain": [
       "lat    0.000023\n",
       "lon    0.000109\n",
       "v     -0.000103\n",
       "dtype: float64"
      ]
     },
     "execution_count": 27,
     "metadata": {},
     "output_type": "execute_result"
    }
   ],
   "source": [
    "%time load_mean_parquet(engine=\"pyarrow\")"
   ]
  },
  {
   "cell_type": "code",
   "execution_count": 28,
   "id": "f409b4e8-affd-477a-8754-553643b31af6",
   "metadata": {},
   "outputs": [
    {
     "name": "stdout",
     "output_type": "stream",
     "text": [
      "CPU times: user 1.95 s, sys: 264 ms, total: 2.21 s\n",
      "Wall time: 3.12 s\n"
     ]
    },
    {
     "data": {
      "text/plain": [
       "lat    0.000023\n",
       "lon    0.000109\n",
       "v     -0.000103\n",
       "dtype: float64"
      ]
     },
     "execution_count": 28,
     "metadata": {},
     "output_type": "execute_result"
    }
   ],
   "source": [
    "%time load_mean_parquet(engine=\"pyarrow\")"
   ]
  },
  {
   "cell_type": "code",
   "execution_count": null,
   "id": "3f90232b-caec-4e8e-858a-e82126eb2f32",
   "metadata": {},
   "outputs": [],
   "source": []
  },
  {
   "cell_type": "markdown",
   "id": "87cf110e-a1fe-4c85-a26b-e45308c35de0",
   "metadata": {},
   "source": [
    "Recreate datasets"
   ]
  },
  {
   "cell_type": "code",
   "execution_count": 30,
   "id": "4acc17ce-6f8d-4037-89ad-459b0622606f",
   "metadata": {},
   "outputs": [
    {
     "data": {
      "text/html": [
       "<div><strong>Dask DataFrame Structure:</strong></div>\n",
       "<div>\n",
       "<style scoped>\n",
       "    .dataframe tbody tr th:only-of-type {\n",
       "        vertical-align: middle;\n",
       "    }\n",
       "\n",
       "    .dataframe tbody tr th {\n",
       "        vertical-align: top;\n",
       "    }\n",
       "\n",
       "    .dataframe thead th {\n",
       "        text-align: right;\n",
       "    }\n",
       "</style>\n",
       "<table border=\"1\" class=\"dataframe\">\n",
       "  <thead>\n",
       "    <tr style=\"text-align: right;\">\n",
       "      <th></th>\n",
       "      <th>lat</th>\n",
       "      <th>lon</th>\n",
       "      <th>v</th>\n",
       "    </tr>\n",
       "    <tr>\n",
       "      <th>npartitions=1096</th>\n",
       "      <th></th>\n",
       "      <th></th>\n",
       "      <th></th>\n",
       "    </tr>\n",
       "  </thead>\n",
       "  <tbody>\n",
       "    <tr>\n",
       "      <th>2000-01-01</th>\n",
       "      <td>float64</td>\n",
       "      <td>float64</td>\n",
       "      <td>float64</td>\n",
       "    </tr>\n",
       "    <tr>\n",
       "      <th>2000-01-02</th>\n",
       "      <td>...</td>\n",
       "      <td>...</td>\n",
       "      <td>...</td>\n",
       "    </tr>\n",
       "    <tr>\n",
       "      <th>...</th>\n",
       "      <td>...</td>\n",
       "      <td>...</td>\n",
       "      <td>...</td>\n",
       "    </tr>\n",
       "    <tr>\n",
       "      <th>2002-12-31</th>\n",
       "      <td>...</td>\n",
       "      <td>...</td>\n",
       "      <td>...</td>\n",
       "    </tr>\n",
       "    <tr>\n",
       "      <th>2003-01-01</th>\n",
       "      <td>...</td>\n",
       "      <td>...</td>\n",
       "      <td>...</td>\n",
       "    </tr>\n",
       "  </tbody>\n",
       "</table>\n",
       "</div>\n",
       "<div>Dask Name: make-timeseries, 1096 tasks</div>"
      ],
      "text/plain": [
       "Dask DataFrame Structure:\n",
       "                      lat      lon        v\n",
       "npartitions=1096                           \n",
       "2000-01-01        float64  float64  float64\n",
       "2000-01-02            ...      ...      ...\n",
       "...                   ...      ...      ...\n",
       "2002-12-31            ...      ...      ...\n",
       "2003-01-01            ...      ...      ...\n",
       "Dask Name: make-timeseries, 1096 tasks"
      ]
     },
     "execution_count": 30,
     "metadata": {},
     "output_type": "execute_result"
    }
   ],
   "source": [
    "df = dask.datasets.timeseries(end=\"2003-01-01\", \n",
    "                              dtypes=dict(lon=float, lat=float, v=float),\n",
    "                              seed=0,\n",
    "                             ).persist()\n",
    "df"
   ]
  },
  {
   "cell_type": "code",
   "execution_count": 31,
   "id": "25e939ec-87a5-439f-914d-13d30fb569bb",
   "metadata": {},
   "outputs": [
    {
     "name": "stdout",
     "output_type": "stream",
     "text": [
      "CPU times: user 964 ms, sys: 80 ms, total: 1.04 s\n",
      "Wall time: 1.26 s\n"
     ]
    }
   ],
   "source": [
    "%time store_parquet(df)"
   ]
  },
  {
   "cell_type": "code",
   "execution_count": 32,
   "id": "313ebb71-0f96-4eb5-88ce-fa82b5e56858",
   "metadata": {},
   "outputs": [
    {
     "name": "stdout",
     "output_type": "stream",
     "text": [
      "CPU times: user 1.88 s, sys: 116 ms, total: 1.99 s\n",
      "Wall time: 3.46 s\n"
     ]
    }
   ],
   "source": [
    "%time store_parquet(df, engine=\"pyarrow\")"
   ]
  },
  {
   "cell_type": "code",
   "execution_count": null,
   "id": "71fc1da8-a0de-4574-bcd3-2fa4b747c334",
   "metadata": {},
   "outputs": [],
   "source": []
  },
  {
   "cell_type": "markdown",
   "id": "3050c45b-7734-4a15-b534-dcf795e3b368",
   "metadata": {},
   "source": [
    "---\n",
    "\n",
    "## original dataset"
   ]
  },
  {
   "cell_type": "code",
   "execution_count": 3,
   "id": "f83d6d85-8657-45cd-b681-ef23add8c858",
   "metadata": {},
   "outputs": [],
   "source": [
    "root_dir =  \"/home1/datawork/aponte/parcels/global_extra_T365j_dt1j_dij50/parquets/\"\n",
    "parquet = root_dir+\"trajectory\"\n",
    "#parquet = root_dir+\"trajectory_mean\"\n",
    "\n",
    "def load_mean_parquet(parquet, engine=\"pyarrow\", **kwargs):\n",
    "    df = dd.read_parquet(parquet, engine=engine, **kwargs)\n",
    "    return df.mean().compute()"
   ]
  },
  {
   "cell_type": "code",
   "execution_count": 4,
   "id": "6b172f75-0906-4bc1-9754-fbcb19827eab",
   "metadata": {},
   "outputs": [
    {
     "data": {
      "application/vnd.jupyter.widget-view+json": {
       "model_id": "fd4a087db0414aef827c88db3c1ffd38",
       "version_major": 2,
       "version_minor": 0
      },
      "text/plain": [
       "VBox(children=(HTML(value='<h2>PBSCluster</h2>'), HBox(children=(HTML(value='\\n<div>\\n  <style scoped>\\n    .d…"
      ]
     },
     "metadata": {},
     "output_type": "display_data"
    }
   ],
   "source": [
    "from dask.distributed import Client\n",
    "from dask_jobqueue import PBSCluster\n",
    "cluster = PBSCluster(walltime='01:00:00')\n",
    "w = cluster.scale(jobs=2)\n",
    "client = Client(cluster)\n",
    "cluster"
   ]
  },
  {
   "cell_type": "code",
   "execution_count": 5,
   "id": "f60f8a3b-5b28-4cdd-a8c9-eb52bb82ba58",
   "metadata": {},
   "outputs": [
    {
     "name": "stderr",
     "output_type": "stream",
     "text": [
      "/home1/datahome/aponte/.miniconda3/envs/equinox/lib/python3.8/site-packages/dask/dataframe/core.py:1860: FutureWarning: DataFrame.mean and DataFrame.median with numeric_only=None will include datetime64 and datetime64tz columns in a future version.\n",
      "  meta = self._meta_nonempty.mean(axis=axis, skipna=skipna)\n"
     ]
    },
    {
     "name": "stdout",
     "output_type": "stream",
     "text": [
      "CPU times: user 6.42 s, sys: 284 ms, total: 6.71 s\n",
      "Wall time: 1min 13s\n"
     ]
    },
    {
     "data": {
      "text/plain": [
       "lat                   -1.612673e+01\n",
       "lon                   -4.706660e+00\n",
       "z                      0.000000e+00\n",
       "zonal_velocity         3.601927e-07\n",
       "meridional_velocity    6.823303e-08\n",
       "sea_level             -3.931222e-02\n",
       "temperature            1.372074e+01\n",
       "salinity               3.435661e+01\n",
       "dtype: float64"
      ]
     },
     "execution_count": 5,
     "metadata": {},
     "output_type": "execute_result"
    }
   ],
   "source": [
    "%time load_mean_parquet(parquet) # hangs?"
   ]
  },
  {
   "cell_type": "markdown",
   "id": "679a3019-aa34-49e2-854b-e2db4e540f39",
   "metadata": {},
   "source": [
    "Make a copy of the original dataset"
   ]
  },
  {
   "cell_type": "code",
   "execution_count": 6,
   "id": "42654904-409e-43a1-bb7f-3c1a272f896b",
   "metadata": {},
   "outputs": [
    {
     "name": "stdout",
     "output_type": "stream",
     "text": [
      "CPU times: user 2.82 s, sys: 156 ms, total: 2.98 s\n",
      "Wall time: 16.7 s\n"
     ]
    },
    {
     "data": {
      "text/plain": [
       "lat                   -1.612673e+01\n",
       "lon                   -4.706660e+00\n",
       "z                      0.000000e+00\n",
       "zonal_velocity         3.601927e-07\n",
       "meridional_velocity    6.823303e-08\n",
       "sea_level             -3.931222e-02\n",
       "temperature            1.372074e+01\n",
       "salinity               3.435661e+01\n",
       "dtype: float64"
      ]
     },
     "execution_count": 6,
     "metadata": {},
     "output_type": "execute_result"
    }
   ],
   "source": [
    "%time load_mean_parquet(parquet, engined=\"fastparquet\") # hangs?"
   ]
  },
  {
   "cell_type": "code",
   "execution_count": null,
   "id": "19322fd9-ca23-4abd-acab-37b2b92cf573",
   "metadata": {},
   "outputs": [],
   "source": []
  },
  {
   "cell_type": "code",
   "execution_count": 20,
   "id": "b73f434c-55f1-47fc-9e7f-c05568fff9d7",
   "metadata": {},
   "outputs": [],
   "source": [
    "# hack\n",
    "parquet_file_list = glob(parquet+\"/*\")\n",
    "\n",
    "def read_parquet_file(filename, engine=\"pyarrow\"):\n",
    "    with open(filename, mode='rb') as f:\n",
    "        return pd.read_parquet(f, engine=engine) # also tried fastparquet, pyarrow was faster\n",
    "\n",
    "df = dd.from_delayed(map(dask.delayed(read_parquet_file), parquet_file_list)).persist()"
   ]
  },
  {
   "cell_type": "code",
   "execution_count": null,
   "id": "62b23938-4aff-4099-a375-0ae5e422e9f7",
   "metadata": {},
   "outputs": [],
   "source": [
    "for f in parquet_file_list:\n",
    "    _df = read_parquet_file(f)\n",
    "    print(_df[\"lon\"].mean())\n",
    "# crashes with: OSError: Tried reading 5708205 bytes starting at position 33972 from file but only got 1037084"
   ]
  },
  {
   "cell_type": "code",
   "execution_count": null,
   "id": "52bccd20-2b96-4448-bcb0-5bccd636907f",
   "metadata": {},
   "outputs": [],
   "source": []
  },
  {
   "cell_type": "code",
   "execution_count": 7,
   "id": "812279d8-85f1-498a-a5da-92d3e15ab924",
   "metadata": {},
   "outputs": [
    {
     "name": "stderr",
     "output_type": "stream",
     "text": [
      "distributed.client - ERROR - Failed to reconnect to scheduler after 10.00 seconds, closing client\n",
      "_GatheringFuture exception was never retrieved\n",
      "future: <_GatheringFuture finished exception=CancelledError()>\n",
      "asyncio.exceptions.CancelledError\n"
     ]
    }
   ],
   "source": [
    "cluster.close()"
   ]
  },
  {
   "cell_type": "code",
   "execution_count": null,
   "id": "13b78f89-d54e-484a-b4f3-341bc06f92a0",
   "metadata": {},
   "outputs": [],
   "source": []
  }
 ],
 "metadata": {
  "kernelspec": {
   "display_name": "Python 3",
   "language": "python",
   "name": "python3"
  },
  "language_info": {
   "codemirror_mode": {
    "name": "ipython",
    "version": 3
   },
   "file_extension": ".py",
   "mimetype": "text/x-python",
   "name": "python",
   "nbconvert_exporter": "python",
   "pygments_lexer": "ipython3",
   "version": "3.8.8"
  }
 },
 "nbformat": 4,
 "nbformat_minor": 5
}
