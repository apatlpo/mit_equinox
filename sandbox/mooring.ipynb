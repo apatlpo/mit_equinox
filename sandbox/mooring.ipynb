{
 "cells": [
  {
   "cell_type": "markdown",
   "metadata": {},
   "source": [
    "# compute kinetic energy from mooring surface currents\n",
    "Data was downloaded from the ifremer [ftp](ftp://ftp.ifremer.fr/ifremer/oceansites/DATA/)"
   ]
  },
  {
   "cell_type": "code",
   "execution_count": 2,
   "metadata": {},
   "outputs": [],
   "source": [
    "import os, sys\n",
    "import numpy as np\n",
    "import xarray as xr\n",
    "from matplotlib import pyplot as plt\n",
    "%matplotlib inline"
   ]
  },
  {
   "cell_type": "code",
   "execution_count": 48,
   "metadata": {},
   "outputs": [],
   "source": [
    "#ds = xr.open_dataset('OS_T0N110W_DM072A-20140621_D_CURR_20min.nc')\n",
    "ds = xr.open_dataset('OS_T0N140W_DM092A-20140916_R_CURR_hourly.nc')\n",
    "#u, v = ds['UCUR'].where(np.abs(ds['UCUR']<1e10), ds['VCUR'].where(ds['VCUR']<1e10)\n",
    "u, v = ds['UCUR'].where(ds.UCUR_QC<4), ds['VCUR'].where(ds.UCUR_QC<4)\n",
    "ke = (u**2 + v**2).rename('kinetic energy')"
   ]
  },
  {
   "cell_type": "code",
   "execution_count": 49,
   "metadata": {},
   "outputs": [
    {
     "name": "stdout",
     "output_type": "stream",
     "text": [
      "<xarray.Dataset>\n",
      "Dimensions:    (DEPTH: 5, LATITUDE: 1, LONGITUDE: 1, TIME: 4437)\n",
      "Coordinates:\n",
      "  * TIME       (TIME) datetime64[ns] 2014-09-16T05:30:00 ...\n",
      "  * DEPTH      (DEPTH) float32 10.0 25.0 45.0 80.0 120.0\n",
      "  * LATITUDE   (LATITUDE) float32 0.0\n",
      "  * LONGITUDE  (LONGITUDE) float32 -140.0\n",
      "Data variables:\n",
      "    UCUR       (TIME, DEPTH) float32 ...\n",
      "    UCUR_QC    (TIME, DEPTH) float32 2.0 2.0 2.0 2.0 2.0 9.0 2.0 2.0 2.0 2.0 ...\n",
      "    UCUR_DM    (TIME, DEPTH) |S1 ...\n",
      "    VCUR       (TIME, DEPTH) float32 ...\n",
      "    WCUR       (TIME, DEPTH) float32 ...\n",
      "    CSPD       (TIME, DEPTH) float32 ...\n",
      "    CSPD_QC    (TIME, DEPTH) float32 ...\n",
      "    CSPD_DM    (TIME, DEPTH) |S1 ...\n",
      "    CDIR       (TIME, DEPTH) float32 ...\n",
      "Attributes:\n",
      "    time_coverage_start:           2014-09-16T05:30:00Z\n",
      "    time_coverage_end:             2015-03-22T11:00:00Z\n",
      "    featureType:                   timeSeriesProfile\n",
      "    format_version:                1.3\n",
      "    platform_code:                 T0N140W\n",
      "    platform_type:                 TAO Refresh\n",
      "    site_code:                     T0N140W\n",
      "    network:                       TAO\n",
      "    wmo_platform_code:             51311\n",
      "    update_interval:               void\n",
      "    title:                         TAO Real-time Transmitted Data\n",
      "    summary:                       Real-time transmitted data from NDBC Tropi...\n",
      "    source:                        subsurface mooring\n",
      "    keywords:                      EARTH SCIENCE > OCEANS > OCEAN CIRCULATION...\n",
      "    keywords_vocabulary:           GCMD Science Keywords\n",
      "    data_mode:                     R\n",
      "    Conventions:                   CF-1.6, OceanSITES 1.3\n",
      "    netcdf_version:                NetCDF-4 classic\n",
      "    naming_authority:              NOAA/NDBC\n",
      "    id:                            TAO_T0N140W_DM092A-20140916_R_CURR_hourly\n",
      "    cdm_data_type:                 Station\n",
      "    area:                          Tropical Pacific Ocean\n",
      "    geospatial_lat_units:          degrees_north\n",
      "    geospatial_lon_units:          degrees_east\n",
      "    geospatial_lat_min:            0.0\n",
      "    geospatial_lat_max:            0.0\n",
      "    geospatial_lon_min:            -140.0\n",
      "    geospatial_lon_max:            -140.0\n",
      "    geospatial_vertical_positive:  down\n",
      "    geospatial_vertical_units:     meters\n",
      "    geospatial_vertical_min:       0\n",
      "    geospatial_vertical_max:       500\n",
      "    citation:                      These data were collected and made freely ...\n",
      "    program:                       NOAA/NDBC/TAO\n",
      "    references:                    http://tao.ndbc.noaa.gov\n",
      "    principal_investigator:        NOAA/National Data Buoy Center (NDBC)\n",
      "    institution:                   NOAA/National Data Buoy Center (NDBC), U.S.\n",
      "    institution_references:        http://www.ndbc.noaa.gov\n",
      "    data_assembly_center:          NDBC\n",
      "    publisher_name:                NDBC Webmaster\n",
      "    publisher_email:               webmaster.ndbc@noaa.gov\n",
      "    date_created:                  2015-03-24T12:49:58Z\n",
      "    date_modified:                 2015-03-24T12:49:58Z\n",
      "    processing_level:              Data manually reviewed\n",
      "    history:                       2015-03-24T12:49:58Z data and metadata ass...\n"
     ]
    }
   ],
   "source": [
    "print(ds)"
   ]
  },
  {
   "cell_type": "code",
   "execution_count": 50,
   "metadata": {},
   "outputs": [
    {
     "name": "stdout",
     "output_type": "stream",
     "text": [
      "<xarray.DataArray (TIME: 4437, DEPTH: 5)>\n",
      "array([[-77.5     , -71.      , -52.5     ,  -0.899963,  66.      ],\n",
      "       [       nan, -66.2     , -53.9     ,  -2.20001 ,  57.2     ],\n",
      "       [-72.6     , -66.2     , -53.9     ,  -2.20001 ,  57.2     ],\n",
      "       ...,\n",
      "       [       nan,  16.5     ,  36.6     ,  70.      , 124.8     ],\n",
      "       [       nan,  17.3     ,  30.6     ,  69.8     , 131.      ],\n",
      "       [       nan,  16.      ,  32.8     ,  71.      , 122.6     ]],\n",
      "      dtype=float32)\n",
      "Coordinates:\n",
      "  * TIME     (TIME) datetime64[ns] 2014-09-16T05:30:00 ...\n",
      "  * DEPTH    (DEPTH) float32 10.0 25.0 45.0 80.0 120.0\n",
      "Attributes:\n",
      "    standard_name:         eastward_sea_water_velocity\n",
      "    long_name:             Zonal Current\n",
      "    units:                 cm/s\n",
      "    valid_min:             -600.0\n",
      "    valid_max:             600.0\n",
      "    accuracy:              5.0\n",
      "    resolution:            0.1\n",
      "    sensor_name:           Dopper Current Meter [SonTek/Argonaut-MD]\n",
      "    sensor_serial_number:  D759/10m D829/25m D828/45m D764/80m D762/120m\n",
      "    ancillary_variables:   UCUR_QC UCUR_DM\n",
      "    cell_methods:          TIME: mean (interval: 2 minutes) DEPTH:point LATIT...\n"
     ]
    }
   ],
   "source": [
    "print(u)"
   ]
  },
  {
   "cell_type": "code",
   "execution_count": 51,
   "metadata": {},
   "outputs": [
    {
     "name": "stdout",
     "output_type": "stream",
     "text": [
      "<xarray.DataArray (TIME: 4437, DEPTH: 5)>\n",
      "array([[ -7.29999,  -7.70001, -34.1    , -20.1    ,  -5.59998],\n",
      "       [      nan,  -6.79999, -31.     , -22.8    , -10.5    ],\n",
      "       [ -6.20001,  -6.79999, -31.     , -22.8    , -10.5    ],\n",
      "       ...,\n",
      "       [      nan,  56.7    ,  53.3    ,  40.2    ,  47.2    ],\n",
      "       [      nan,  50.5    ,  48.6    ,  36.1    ,  42.9    ],\n",
      "       [      nan,  50.6    ,  47.9    ,  35.5    ,  40.2    ]], dtype=float32)\n",
      "Coordinates:\n",
      "  * TIME     (TIME) datetime64[ns] 2014-09-16T05:30:00 ...\n",
      "  * DEPTH    (DEPTH) float32 10.0 25.0 45.0 80.0 120.0\n",
      "Attributes:\n",
      "    standard_name:         northward_sea_water_velocity\n",
      "    long_name:             Meridional Current\n",
      "    units:                 cm/s\n",
      "    valid_min:             -600.0\n",
      "    valid_max:             600.0\n",
      "    accuracy:              5.0\n",
      "    resolution:            0.1\n",
      "    sensor_name:           Dopper Current Meter [SonTek/Argonaut-MD]\n",
      "    sensor_serial_number:  D759/10m D829/25m D828/45m D764/80m D762/120m\n",
      "    ancillary_variables:   UCUR_QC UCUR_DM\n",
      "    cell_methods:          TIME: mean (interval: 2 minutes) DEPTH:point LATIT...\n"
     ]
    }
   ],
   "source": [
    "print(v)"
   ]
  },
  {
   "cell_type": "code",
   "execution_count": 53,
   "metadata": {},
   "outputs": [
    {
     "data": {
      "text/plain": [
       "[<matplotlib.lines.Line2D at 0x31b08ba20>]"
      ]
     },
     "execution_count": 53,
     "metadata": {},
     "output_type": "execute_result"
    },
    {
     "data": {
      "image/png": "[encoded data removed]",
      "text/plain": [
       "<Figure size 432x288 with 1 Axes>"
      ]
     },
     "metadata": {},
     "output_type": "display_data"
    }
   ],
   "source": [
    "v.sel(DEPTH=10).plot()"
   ]
  },
  {
   "cell_type": "code",
   "execution_count": 54,
   "metadata": {},
   "outputs": [
    {
     "data": {
      "text/plain": [
       "[<matplotlib.lines.Line2D at 0x31b2d4dd8>]"
      ]
     },
     "execution_count": 54,
     "metadata": {},
     "output_type": "execute_result"
    },
    {
     "data": {
      "image/png": "[encoded data removed]",
      "text/plain": [
       "<Figure size 432x288 with 1 Axes>"
      ]
     },
     "metadata": {},
     "output_type": "display_data"
    }
   ],
   "source": [
    "ke.mean(dim='TIME').plot()"
   ]
  },
  {
   "cell_type": "code",
   "execution_count": null,
   "metadata": {},
   "outputs": [],
   "source": []
  },
  {
   "cell_type": "code",
   "execution_count": null,
   "metadata": {},
   "outputs": [],
   "source": []
  },
  {
   "cell_type": "code",
   "execution_count": 47,
   "metadata": {},
   "outputs": [
    {
     "name": "stdout",
     "output_type": "stream",
     "text": [
      "<xarray.DataArray 'UCUR_QC' (TIME: 4437, DEPTH: 5)>\n",
      "array([[2., 2., 2., 2., 2.],\n",
      "       [9., 2., 2., 2., 2.],\n",
      "       [2., 2., 2., 2., 2.],\n",
      "       ...,\n",
      "       [9., 2., 2., 2., 2.],\n",
      "       [9., 2., 2., 2., 2.],\n",
      "       [9., 2., 2., 2., 2.]], dtype=float32)\n",
      "Coordinates:\n",
      "  * TIME     (TIME) datetime64[ns] 2014-09-16T05:30:00 ...\n",
      "  * DEPTH    (DEPTH) float32 10.0 25.0 45.0 80.0 120.0\n",
      "Attributes:\n",
      "    long_name:      quality flag\n",
      "    valid_min:      0\n",
      "    valid_max:      9\n",
      "    flag_values:    [0 1 2 3 4 5 9]\n",
      "    flag_meanings:  unknown good_data probably_good_data questionable_data ba...\n"
     ]
    }
   ],
   "source": [
    "print(ds.UCUR_QC)"
   ]
  },
  {
   "cell_type": "code",
   "execution_count": null,
   "metadata": {},
   "outputs": [],
   "source": []
  }
 ],
 "metadata": {
  "kernelspec": {
   "display_name": "Python 3",
   "language": "python",
   "name": "python3"
  },
  "language_info": {
   "codemirror_mode": {
    "name": "ipython",
    "version": 3
   },
   "file_extension": ".py",
   "mimetype": "text/x-python",
   "name": "python",
   "nbconvert_exporter": "python",
   "pygments_lexer": "ipython3",
   "version": "3.6.5"
  }
 },
 "nbformat": 4,
 "nbformat_minor": 2
}
