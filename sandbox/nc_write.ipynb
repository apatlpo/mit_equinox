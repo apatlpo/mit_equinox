{
 "cells": [
  {
   "cell_type": "code",
   "execution_count": 1,
   "metadata": {},
   "outputs": [],
   "source": [
    "import os\n",
    "import numpy as np\n",
    "import xarray as xr"
   ]
  },
  {
   "cell_type": "code",
   "execution_count": 2,
   "metadata": {},
   "outputs": [
    {
     "name": "stdout",
     "output_type": "stream",
     "text": [
      "<xarray.DataArray (face: 13, j: 4320, i: 4320)>\n",
      "array([[[-1.321105,  1.033815, ...,  0.587158, -0.729946],\n",
      "        [ 0.234374,  0.68208 , ..., -1.862445, -0.442025],\n",
      "        ...,\n",
      "        [-1.549333,  0.078258, ..., -0.284995,  0.652925],\n",
      "        [ 1.230595,  1.648931, ..., -1.234113, -0.290793]],\n",
      "\n",
      "       [[ 0.054723, -1.416382, ...,  0.825612,  0.066992],\n",
      "        [-2.062359,  0.214945, ...,  0.820767, -1.616257],\n",
      "        ...,\n",
      "        [ 0.461256,  0.371898, ...,  0.254162, -0.595766],\n",
      "        [-0.482888, -0.18784 , ..., -0.486934,  1.20026 ]],\n",
      "\n",
      "       ...,\n",
      "\n",
      "       [[-0.074135, -1.960219, ...,  0.316702,  1.199595],\n",
      "        [-0.680669, -0.065165, ..., -1.812377, -0.570844],\n",
      "        ...,\n",
      "        [ 2.397756, -0.616961, ...,  0.428156, -0.324541],\n",
      "        [-0.22007 , -0.187226, ...,  1.007564,  1.143238]],\n",
      "\n",
      "       [[ 1.231999,  0.760958, ...,  0.449394,  0.753126],\n",
      "        [-0.062479,  0.910513, ...,  0.925385,  0.617246],\n",
      "        ...,\n",
      "        [ 0.831836, -0.192207, ..., -0.879088,  0.812767],\n",
      "        [ 1.28343 , -0.8159  , ..., -1.593421, -0.707986]]])\n",
      "Coordinates:\n",
      "  * i        (i) int64 0 1 2 3 4 5 6 7 8 9 10 11 12 13 14 15 16 17 18 19 20 ...\n",
      "  * j        (j) int64 0 1 2 3 4 5 6 7 8 9 10 11 12 13 14 15 16 17 18 19 20 ...\n",
      "  * face     (face) int64 0 1 2 3 4 5 6 7 8 9 10 11 12\n"
     ]
    }
   ],
   "source": [
    "i = np.arange(4320)\n",
    "j = np.arange(4320)\n",
    "face = np.arange(13)\n",
    "v = xr.DataArray(np.random.randn(face.size, j.size, i.size), \\\n",
    "                  coords={'i': i, 'j': j, 'face': face}, dims=['face','j','i'])\n",
    "print(v)"
   ]
  },
  {
   "cell_type": "code",
   "execution_count": 3,
   "metadata": {},
   "outputs": [
    {
     "name": "stderr",
     "output_type": "stream",
     "text": [
      "/home1/datahome/aponte/.miniconda3/envs/equinox/lib/python3.6/site-packages/distributed/utils.py:128: RuntimeWarning: Couldn't detect a suitable IP address for reaching '8.8.8.8', defaulting to '127.0.0.1': [Errno 101] Network is unreachable\n",
      "  % (host, default, e), RuntimeWarning)\n"
     ]
    }
   ],
   "source": [
    "file_out = 'rand.nc'\n",
    "if os.path.isfile(file_out):\n",
    "    os.remove(file_out)\n",
    "v.to_netcdf(file_out)"
   ]
  },
  {
   "cell_type": "code",
   "execution_count": 5,
   "metadata": {},
   "outputs": [],
   "source": [
    "file_out = '/home1/datawork/aponte/mit_tmp/rand.nc' # fails\n",
    "file_out = '/home1/scratch/aponte/mit_nc/rand.nc' # works\n",
    "if os.path.isfile(file_out):\n",
    "    os.remove(file_out)\n",
    "v.to_netcdf(file_out)"
   ]
  },
  {
   "cell_type": "code",
   "execution_count": null,
   "metadata": {},
   "outputs": [],
   "source": [
    "xr.show_versions()"
   ]
  },
  {
   "cell_type": "code",
   "execution_count": null,
   "metadata": {},
   "outputs": [],
   "source": []
  }
 ],
 "metadata": {
  "kernelspec": {
   "display_name": "Python 3",
   "language": "python",
   "name": "python3"
  },
  "language_info": {
   "codemirror_mode": {
    "name": "ipython",
    "version": 3
   },
   "file_extension": ".py",
   "mimetype": "text/x-python",
   "name": "python",
   "nbconvert_exporter": "python",
   "pygments_lexer": "ipython3",
   "version": "3.6.5"
  }
 },
 "nbformat": 4,
 "nbformat_minor": 2
}
