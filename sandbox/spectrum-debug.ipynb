{
 "cells": [
  {
   "cell_type": "markdown",
   "metadata": {},
   "source": [
    "# compute spectra on mitgcm outputs"
   ]
  },
  {
   "cell_type": "markdown",
   "metadata": {},
   "source": [
    "---"
   ]
  },
  {
   "cell_type": "code",
   "execution_count": 1,
   "metadata": {},
   "outputs": [
    {
     "name": "stderr",
     "output_type": "stream",
     "text": [
      "/home1/datahome/aponte/.miniconda3/envs/equinox/lib/python3.6/site-packages/cmocean/tools.py:76: MatplotlibDeprecationWarning: The is_string_like function was deprecated in version 2.1.\n",
      "  if not mpl.cbook.is_string_like(rgbin[0]):\n"
     ]
    }
   ],
   "source": [
    "import os\n",
    "from glob import glob\n",
    "import numpy as np\n",
    "import dask\n",
    "#from dask_jobqueue import PBSCluster\n",
    "import xarray as xr\n",
    "from matplotlib import pyplot as plt\n",
    "%matplotlib inline\n",
    "\n",
    "import xrft\n",
    "\n",
    "from mitequinox.utils import *"
   ]
  },
  {
   "cell_type": "code",
   "execution_count": 2,
   "metadata": {},
   "outputs": [
    {
     "name": "stderr",
     "output_type": "stream",
     "text": [
      "/home1/datahome/aponte/.miniconda3/envs/equinox/lib/python3.6/site-packages/distributed/utils.py:128: RuntimeWarning: Couldn't detect a suitable IP address for reaching '8.8.8.8', defaulting to '127.0.0.1': [Errno 101] Network is unreachable\n",
      "  % (host, default, e), RuntimeWarning)\n"
     ]
    }
   ],
   "source": [
    "dmethod = 1\n",
    "#\n",
    "if dmethod == 1:\n",
    "    from dask.distributed import Client\n",
    "    scheduler = os.getenv('DATAWORK')+'/dask/scheduler.json'\n",
    "    client = Client(scheduler_file=scheduler)\n",
    "elif dmethod == 2:\n",
    "    from dask_jobqueue import PBSCluster\n",
    "    # folder where data is spilled when RAM is filled up\n",
    "    local_dir = os.getenv('TMPDIR')\n",
    "    #\n",
    "    cluster = PBSCluster(queue='mpi_1', local_directory=local_dir, interface='ib0', walltime='24:00:00',\n",
    "                         threads=14, processes=2, memory='50GB', resource_spec='select=1:ncpus=28:mem=100g', \n",
    "                         death_timeout=100)\n",
    "    w = cluster.start_workers(40)"
   ]
  },
  {
   "cell_type": "code",
   "execution_count": 3,
   "metadata": {},
   "outputs": [],
   "source": [
    "# you need to wait for workers to spin up\n",
    "if dmethod == 2:\n",
    "    cluster.scheduler"
   ]
  },
  {
   "cell_type": "code",
   "execution_count": 4,
   "metadata": {},
   "outputs": [],
   "source": [
    "# get dask handles and check dask server status\n",
    "if dmethod == 2:\n",
    "    from dask.distributed import Client\n",
    "    client = Client(cluster)"
   ]
  },
  {
   "cell_type": "code",
   "execution_count": 5,
   "metadata": {},
   "outputs": [
    {
     "data": {
      "text/html": [
       "<table style=\"border: 2px solid white;\">\n",
       "<tr>\n",
       "<td style=\"vertical-align: top; border: 0px solid white\">\n",
       "<h3>Client</h3>\n",
       "<ul>\n",
       "  <li><b>Scheduler: </b>tcp://10.148.0.47:8786\n",
       "  <li><b>Dashboard: </b><a href='http://10.148.0.47:8787/status' target='_blank'>http://10.148.0.47:8787/status</a>\n",
       "</ul>\n",
       "</td>\n",
       "<td style=\"vertical-align: top; border: 0px solid white\">\n",
       "<h3>Cluster</h3>\n",
       "<ul>\n",
       "  <li><b>Workers: </b>7</li>\n",
       "  <li><b>Cores: </b>98</li>\n",
       "  <li><b>Memory: </b>700.00 GB</li>\n",
       "</ul>\n",
       "</td>\n",
       "</tr>\n",
       "</table>"
      ],
      "text/plain": [
       "<Client: scheduler='tcp://10.148.0.47:8786' processes=7 cores=98>"
      ]
     },
     "execution_count": 5,
     "metadata": {},
     "output_type": "execute_result"
    }
   ],
   "source": [
    "client"
   ]
  },
  {
   "cell_type": "markdown",
   "metadata": {},
   "source": [
    "--- \n",
    "\n",
    "# load data"
   ]
  },
  {
   "cell_type": "code",
   "execution_count": null,
   "metadata": {},
   "outputs": [],
   "source": [
    "v = 'Eta'\n",
    "face = 1\n",
    "\n",
    "## open files, binary files\n",
    "#data_dir = root_data_dir+v+'/'\n",
    "#iters, time = get_iters_time(v, data_dir, delta_t=25.)\n",
    "#ds = get_compressed_data('Eta', data_dir, grid_dir, iters='all', time=time, client=client)\n",
    "\n",
    "\n",
    "## open files, nc files\n",
    "#ncdata_dir = datawork+'/mit_nc_t/'\n",
    "ncdata_dir = scratch+'/mit_nc_t/'\n",
    "# search for right files, for example: Eta_f01_t*.nc\n",
    "filenames = sorted(glob(ncdata_dir+v+'_f%02d_t*.nc' %(face)))\n",
    "print('Number of files available: %d' %len(filenames))\n",
    "filenames = filenames[:2]\n",
    "print('Number of files processed: %d' %len(filenames))\n",
    "\n",
    "grid = xr.open_dataset('/home1/scratch/aponte/mit_grid_t.nc')\n",
    "#grid = xr.open_dataset('/home1/scratch/aponte/mit_grid_t.nc', chunks={'i':10, 'j':432})\n",
    "#grid = xr.open_dataset('/home1/scratch/aponte/mit_grid_t.nc', chunks={'i':10, 'j':432}, decode_coords=True)\n",
    "grid = grid.isel(face=face)\n",
    "print(grid)"
   ]
  },
  {
   "cell_type": "code",
   "execution_count": 7,
   "metadata": {},
   "outputs": [
    {
     "name": "stdout",
     "output_type": "stream",
     "text": [
      "CPU times: user 88 ms, sys: 16 ms, total: 104 ms\n",
      "Wall time: 103 ms\n",
      "<xarray.Dataset>\n",
      "Dimensions:  (i: 4320, i_g: 4320, j: 4320, j_g: 4320, k: 90, k_l: 90, k_p1: 91, k_u: 90, time: 480)\n",
      "Coordinates:\n",
      "  * i        (i) int64 0 1 2 3 4 5 6 7 8 9 10 11 12 13 14 15 16 17 18 19 20 ...\n",
      "  * j        (j) int64 0 1 2 3 4 5 6 7 8 9 10 11 12 13 14 15 16 17 18 19 20 ...\n",
      "    face     int64 1\n",
      "  * time     (time) float64 2.592e+05 2.628e+05 2.664e+05 2.7e+05 2.736e+05 ...\n",
      "  * i_g      (i_g) int64 0 1 2 3 4 5 6 7 8 9 10 11 12 13 14 15 16 17 18 19 ...\n",
      "  * j_g      (j_g) int64 0 1 2 3 4 5 6 7 8 9 10 11 12 13 14 15 16 17 18 19 ...\n",
      "  * k        (k) int64 0 1 2 3 4 5 6 7 8 9 10 11 12 13 14 15 16 17 18 19 20 ...\n",
      "  * k_u      (k_u) int64 0 1 2 3 4 5 6 7 8 9 10 11 12 13 14 15 16 17 18 19 ...\n",
      "  * k_l      (k_l) int64 0 1 2 3 4 5 6 7 8 9 10 11 12 13 14 15 16 17 18 19 ...\n",
      "  * k_p1     (k_p1) int64 0 1 2 3 4 5 6 7 8 9 10 11 12 13 14 15 16 17 18 19 ...\n",
      "    XC       (i, j) float32 ...\n",
      "    YC       (i, j) float32 ...\n",
      "    XG       (i_g, j_g) float32 ...\n",
      "    YG       (i_g, j_g) float32 ...\n",
      "    rA       (i, j) float32 ...\n",
      "    Depth    (i, j) float32 ...\n",
      "Data variables:\n",
      "    Eta      (i, j, time) float32 dask.array<shape=(4320, 4320, 480), chunksize=(10, 432, 240)>\n",
      "\n",
      " data size: 36.3 GB\n"
     ]
    }
   ],
   "source": [
    "#%time ds = xr.open_mfdataset(filenames, concat_dim='time', compat='equals')\n",
    "%time ds = xr.open_mfdataset(filenames, chunks={'i':10, 'j':432}, concat_dim='time', compat='equals')\n",
    "\n",
    "ds = ds.isel(time=slice(0,3000))\n",
    "\n",
    "ds = xr.merge([ds,grid])\n",
    "\n",
    "print(ds)\n",
    "print('\\n data size: %.1f GB' %(ds.nbytes / 1e9))"
   ]
  },
  {
   "cell_type": "code",
   "execution_count": 8,
   "metadata": {},
   "outputs": [
    {
     "name": "stdout",
     "output_type": "stream",
     "text": [
      "CPU times: user 108 ms, sys: 0 ns, total: 108 ms\n",
      "Wall time: 110 ms\n",
      "<xarray.Dataset>\n",
      "Dimensions:  (i: 4320, i_g: 4320, j: 4320, j_g: 4320, k: 90, k_l: 90, k_p1: 91, k_u: 90, time: 480)\n",
      "Coordinates:\n",
      "  * i        (i) int64 0 1 2 3 4 5 6 7 8 9 10 11 12 13 14 15 16 17 18 19 20 ...\n",
      "  * j        (j) int64 0 1 2 3 4 5 6 7 8 9 10 11 12 13 14 15 16 17 18 19 20 ...\n",
      "    face     int64 1\n",
      "  * time     (time) float64 2.592e+05 2.628e+05 2.664e+05 2.7e+05 2.736e+05 ...\n",
      "  * i_g      (i_g) int64 0 1 2 3 4 5 6 7 8 9 10 11 12 13 14 15 16 17 18 19 ...\n",
      "  * j_g      (j_g) int64 0 1 2 3 4 5 6 7 8 9 10 11 12 13 14 15 16 17 18 19 ...\n",
      "  * k        (k) int64 0 1 2 3 4 5 6 7 8 9 10 11 12 13 14 15 16 17 18 19 20 ...\n",
      "  * k_u      (k_u) int64 0 1 2 3 4 5 6 7 8 9 10 11 12 13 14 15 16 17 18 19 ...\n",
      "  * k_l      (k_l) int64 0 1 2 3 4 5 6 7 8 9 10 11 12 13 14 15 16 17 18 19 ...\n",
      "  * k_p1     (k_p1) int64 0 1 2 3 4 5 6 7 8 9 10 11 12 13 14 15 16 17 18 19 ...\n",
      "    XC       (i, j) float32 dask.array<shape=(4320, 4320), chunksize=(4320, 4320)>\n",
      "    YC       (i, j) float32 dask.array<shape=(4320, 4320), chunksize=(4320, 4320)>\n",
      "    XG       (i_g, j_g) float32 dask.array<shape=(4320, 4320), chunksize=(4320, 4320)>\n",
      "    YG       (i_g, j_g) float32 dask.array<shape=(4320, 4320), chunksize=(4320, 4320)>\n",
      "    rA       (i, j) float32 dask.array<shape=(4320, 4320), chunksize=(4320, 4320)>\n",
      "    Depth    (i, j) float32 dask.array<shape=(4320, 4320), chunksize=(4320, 4320)>\n",
      "Data variables:\n",
      "    Eta      (i, j, time) float32 dask.array<shape=(4320, 4320, 480), chunksize=(10, 432, 480)>\n"
     ]
    }
   ],
   "source": [
    "#chunks={'time': len(ds['time']), 'face':1,  'i': 100, 'j': 100}\n",
    "#chunks={'time': len(ds['time']), 'i': 10, 'j': 432}\n",
    "chunks={'time': len(ds['time'])}\n",
    "%time ds = ds.chunk(chunks)\n",
    "print(ds)"
   ]
  },
  {
   "cell_type": "code",
   "execution_count": 9,
   "metadata": {},
   "outputs": [
    {
     "name": "stdout",
     "output_type": "stream",
     "text": [
      "CPU times: user 1.88 s, sys: 48 ms, total: 1.92 s\n",
      "Wall time: 1.93 s\n"
     ]
    }
   ],
   "source": [
    "#%time eta = ds['Eta'].isel(face=1).persist()\n",
    "%time eta = ds['Eta'].persist()\n",
    "#%time eta = ds['Eta']"
   ]
  },
  {
   "cell_type": "markdown",
   "metadata": {},
   "source": [
    "---\n",
    "\n",
    "# spectral computations "
   ]
  },
  {
   "cell_type": "code",
   "execution_count": 10,
   "metadata": {},
   "outputs": [
    {
     "name": "stderr",
     "output_type": "stream",
     "text": [
      "/home1/datahome/aponte/.miniconda3/envs/equinox/lib/python3.6/site-packages/xrft/xrft.py:272: FutureWarning: xarray.DataArray.__contains__ currently checks membership in DataArray.coords, but in xarray v0.11 will change to check membership in array values.\n",
      "  elif d in da:\n"
     ]
    }
   ],
   "source": [
    "v_fft = xrft.dft(eta.fillna(0.), dim=['time'], shift=False, detrend='linear')\n",
    "E = (v_fft*v_fft.conj()).where(v_fft!=0., drop=False).mean(dim=('i','j'))\n",
    "E = E.astype('f8').rename('eta_power_spectrum ()')"
   ]
  },
  {
   "cell_type": "code",
   "execution_count": 11,
   "metadata": {},
   "outputs": [
    {
     "name": "stdout",
     "output_type": "stream",
     "text": [
      "CPU times: user 23.6 s, sys: 264 ms, total: 23.9 s\n",
      "Wall time: 3min 12s\n"
     ]
    },
    {
     "data": {
      "text/plain": [
       "<xarray.DataArray 'eta_power_spectrum ()' (freq_time: 480)>\n",
       "array([5.928565e-10, 1.403779e+02, 2.312437e+02, ..., 8.740686e+01,\n",
       "       2.312437e+02, 1.403779e+02])\n",
       "Coordinates:\n",
       "  * freq_time          (freq_time) float64 0.0 5.787e-07 1.157e-06 1.736e-06 ...\n",
       "    freq_time_spacing  float64 5.787e-07"
      ]
     },
     "execution_count": 11,
     "metadata": {},
     "output_type": "execute_result"
    }
   ],
   "source": [
    "%time E.load()"
   ]
  },
  {
   "cell_type": "code",
   "execution_count": 13,
   "metadata": {},
   "outputs": [
    {
     "name": "stderr",
     "output_type": "stream",
     "text": [
      "No handles with labels found to put in legend.\n"
     ]
    },
    {
     "data": {
      "image/png": "[encoded data removed]",
      "text/plain": [
       "<Figure size 504x504 with 1 Axes>"
      ]
     },
     "metadata": {},
     "output_type": "display_data"
    }
   ],
   "source": [
    "# and plot\n",
    "fig, ax = plt.subplots(figsize=(7,7))\n",
    "E.where(E.freq_time>0).plot(ax=ax)\n",
    "ax.legend(); ax.grid()\n",
    "ax.set_xscale('log'); ax.set_yscale('log')\n",
    "ax.set_ylabel(''); \n",
    "#ax.set_ylim([1e-1,1e5])"
   ]
  },
  {
   "cell_type": "markdown",
   "metadata": {},
   "source": [
    "---\n",
    "# i averaged"
   ]
  },
  {
   "cell_type": "code",
   "execution_count": 18,
   "metadata": {},
   "outputs": [
    {
     "name": "stderr",
     "output_type": "stream",
     "text": [
      "/home1/datahome/aponte/.miniconda3/envs/equinox/lib/python3.6/site-packages/xrft/xrft.py:272: FutureWarning: xarray.DataArray.__contains__ currently checks membership in DataArray.coords, but in xarray v0.11 will change to check membership in array values.\n",
      "  elif d in da:\n"
     ]
    },
    {
     "name": "stdout",
     "output_type": "stream",
     "text": [
      "CPU times: user 20.8 s, sys: 204 ms, total: 21 s\n",
      "Wall time: 5min 39s\n"
     ]
    },
    {
     "data": {
      "text/plain": [
       "<xarray.DataArray 'eta_power_spectrum ()' (j: 4320, freq_time: 3000)>\n",
       "array([[6.100417e-07, 1.709440e+04, 8.777749e+03, ..., 3.885412e+03,\n",
       "        8.777749e+03, 1.709440e+04],\n",
       "       [6.133078e-07, 1.695549e+04, 8.691818e+03, ..., 3.844150e+03,\n",
       "        8.691818e+03, 1.695549e+04],\n",
       "       [6.271161e-07, 1.682240e+04, 8.605289e+03, ..., 3.805105e+03,\n",
       "        8.605289e+03, 1.682240e+04],\n",
       "       ...,\n",
       "       [6.401297e-08, 3.744548e+03, 6.442668e+02, ..., 3.887815e+02,\n",
       "        6.442668e+02, 3.744548e+03],\n",
       "       [7.888247e-08, 3.731280e+03, 6.406590e+02, ..., 3.971922e+02,\n",
       "        6.406590e+02, 3.731280e+03],\n",
       "       [5.328227e-08, 3.711034e+03, 6.334194e+02, ..., 4.055229e+02,\n",
       "        6.334194e+02, 3.711034e+03]])\n",
       "Coordinates:\n",
       "  * j                  (j) int64 0 1 2 3 4 5 6 7 8 9 10 11 12 13 14 15 16 17 ...\n",
       "  * freq_time          (freq_time) float64 0.0 9.259e-08 1.852e-07 2.778e-07 ...\n",
       "    freq_time_spacing  float64 9.259e-08"
      ]
     },
     "execution_count": 18,
     "metadata": {},
     "output_type": "execute_result"
    }
   ],
   "source": [
    "v_fft = xrft.dft(eta.fillna(0.), dim=['time'], shift=False, detrend='linear')\n",
    "E = (v_fft*v_fft.conj()).where(v_fft!=0., drop=False).mean(dim=('i'))\n",
    "E = E.astype('f8').rename('eta_power_spectrum ()')\n",
    "%time E.load()"
   ]
  },
  {
   "cell_type": "code",
   "execution_count": 23,
   "metadata": {},
   "outputs": [
    {
     "data": {
      "text/plain": [
       "[<matplotlib.lines.Line2D at 0x2aaafa2cf278>]"
      ]
     },
     "execution_count": 23,
     "metadata": {},
     "output_type": "execute_result"
    },
    {
     "data": {
      "image/png": "[encoded data removed]",
      "text/plain": [
       "<Figure size 432x288 with 1 Axes>"
      ]
     },
     "metadata": {},
     "output_type": "display_data"
    }
   ],
   "source": [
    "E['freq_time'].plot()\n",
    "#E['j'].plot()"
   ]
  },
  {
   "cell_type": "code",
   "execution_count": null,
   "metadata": {},
   "outputs": [
    {
     "name": "stderr",
     "output_type": "stream",
     "text": [
      "No handles with labels found to put in legend.\n"
     ]
    }
   ],
   "source": [
    "# and plot\n",
    "fig, ax = plt.subplots(figsize=(7,7))\n",
    "plt.pcolormesh(np.log10(E.values))\n",
    "#E.plot.pcolormesh(y=E['freq_time'], x=E['j'])\n",
    "#np.log10(E).plot(ax=ax)\n",
    "ax.legend(); ax.grid()\n",
    "#ax.set_xscale('log'); ax.set_yscale('log')\n",
    "ax.set_ylabel('');\n",
    "#ax.set_ylim([1e-1,1e5])"
   ]
  },
  {
   "cell_type": "code",
   "execution_count": 17,
   "metadata": {},
   "outputs": [
    {
     "data": {
      "text/plain": [
       "<xarray.DataArray 'time' ()>\n",
       "array(3600.)\n",
       "Coordinates:\n",
       "    face     int64 1"
      ]
     },
     "execution_count": 17,
     "metadata": {},
     "output_type": "execute_result"
    }
   ],
   "source": [
    "ds['time'][1]-ds['time'][0]"
   ]
  },
  {
   "cell_type": "code",
   "execution_count": 2,
   "metadata": {},
   "outputs": [
    {
     "ename": "NameError",
     "evalue": "name 'E' is not defined",
     "output_type": "error",
     "traceback": [
      "\u001b[0;31m---------------------------------------------------------------------------\u001b[0m",
      "\u001b[0;31mNameError\u001b[0m                                 Traceback (most recent call last)",
      "\u001b[0;32m<ipython-input-2-d36af52b3039>\u001b[0m in \u001b[0;36m<module>\u001b[0;34m()\u001b[0m\n\u001b[0;32m----> 1\u001b[0;31m \u001b[0mE\u001b[0m\u001b[0;34m.\u001b[0m\u001b[0mvalues\u001b[0m\u001b[0;34m(\u001b[0m\u001b[0;34m)\u001b[0m\u001b[0;34m\u001b[0m\u001b[0m\n\u001b[0m",
      "\u001b[0;31mNameError\u001b[0m: name 'E' is not defined"
     ]
    }
   ],
   "source": [
    "E.values()"
   ]
  },
  {
   "cell_type": "markdown",
   "metadata": {},
   "source": [
    "---\n",
    "# zonally averaged"
   ]
  },
  {
   "cell_type": "code",
   "execution_count": 28,
   "metadata": {},
   "outputs": [
    {
     "name": "stdout",
     "output_type": "stream",
     "text": [
      "<xarray.DataArray 'fftn-a42c5cc1bb1c29090f2c46b0b037c13b' (i: 4320, j: 4320, freq_time: 480)>\n",
      "dask.array<shape=(4320, 4320, 480), dtype=complex128, chunksize=(10, 432, 480)>\n",
      "Coordinates:\n",
      "  * i                  (i) int64 0 1 2 3 4 5 6 7 8 9 10 11 12 13 14 15 16 17 ...\n",
      "  * j                  (j) int64 0 1 2 3 4 5 6 7 8 9 10 11 12 13 14 15 16 17 ...\n",
      "  * freq_time          (freq_time) float64 0.0 5.787e-07 1.157e-06 1.736e-06 ...\n",
      "    freq_time_spacing  float64 5.787e-07\n",
      "<xarray.DataArray 'Eta' (i: 4320, j: 4320, time: 480)>\n",
      "dask.array<shape=(4320, 4320, 480), dtype=float32, chunksize=(10, 432, 480)>\n",
      "Coordinates:\n",
      "  * i        (i) int64 0 1 2 3 4 5 6 7 8 9 10 11 12 13 14 15 16 17 18 19 20 ...\n",
      "  * j        (j) int64 0 1 2 3 4 5 6 7 8 9 10 11 12 13 14 15 16 17 18 19 20 ...\n",
      "    face     int64 1\n",
      "  * time     (time) float64 2.592e+05 2.628e+05 2.664e+05 2.7e+05 2.736e+05 ...\n",
      "    XC       (i, j) float32 dask.array<shape=(4320, 4320), chunksize=(4320, 4320)>\n",
      "    YC       (i, j) float32 dask.array<shape=(4320, 4320), chunksize=(4320, 4320)>\n",
      "    rA       (i, j) float32 dask.array<shape=(4320, 4320), chunksize=(4320, 4320)>\n",
      "    Depth    (i, j) float32 dask.array<shape=(4320, 4320), chunksize=(4320, 4320)>\n"
     ]
    },
    {
     "name": "stderr",
     "output_type": "stream",
     "text": [
      "/home1/datahome/aponte/.miniconda3/envs/equinox/lib/python3.6/site-packages/xrft/xrft.py:272: FutureWarning: xarray.DataArray.__contains__ currently checks membership in DataArray.coords, but in xarray v0.11 will change to check membership in array values.\n",
      "  elif d in da:\n"
     ]
    }
   ],
   "source": [
    "v_fft = xrft.dft(eta.fillna(0.), dim=['time'], shift=False, detrend='linear')\n",
    "print(v_fft)\n",
    "print(eta)"
   ]
  },
  {
   "cell_type": "code",
   "execution_count": 11,
   "metadata": {},
   "outputs": [
    {
     "name": "stdout",
     "output_type": "stream",
     "text": [
      "<xarray.DataArray 'freq_time' (freq_time: 480)>\n",
      "array([ 0.000000e+00,  5.787037e-07,  1.157407e-06, ..., -1.736111e-06,\n",
      "       -1.157407e-06, -5.787037e-07])\n",
      "Coordinates:\n",
      "  * freq_time          (freq_time) float64 0.0 5.787e-07 1.157e-06 1.736e-06 ...\n",
      "    freq_time_spacing  float64 5.787e-07\n"
     ]
    }
   ],
   "source": [
    "dlat = 1.\n",
    "f = v_fft.freq_time\n",
    "#f = f.where(f>0, drop=True)\n",
    "print(f)"
   ]
  },
  {
   "cell_type": "code",
   "execution_count": 12,
   "metadata": {},
   "outputs": [
    {
     "data": {
      "text/plain": [
       "array(-57.00102615)"
      ]
     },
     "execution_count": 12,
     "metadata": {},
     "output_type": "execute_result"
    }
   ],
   "source": [
    "#eta.YC.min().values\n",
    "grid.YC.min().values"
   ]
  },
  {
   "cell_type": "code",
   "execution_count": 14,
   "metadata": {},
   "outputs": [],
   "source": [
    "v1b = {'min': dlat*np.ceil(eta.YC.min().values/dlat),'max': dlat*np.floor(eta.YC.max().values/dlat), 'd': dlat}\n",
    "#v2b = {'min': v_fft.freq_time.min().values, 'max': v_fft.freq_time.max().values, 'd': v_fft.freq_time[1]-v_fft.freq_time[0]}\n",
    "v2b = {'min': f.min().values, 'max': f.max().values, 'd': f[1]-f[0]}\n",
    "#v1min, v1max, dv1= dlat*np.ceil(ds.YC.min().values/dlat), dlat*np.floor(ds.YC.max().values/dlat), 1.\n",
    "#v2min, v2max, dv2= v_fft.freq_time.min().values, v_fft.freq_time.max().values, v_fft.freq_time[1]-v_fft.freq_time[0]"
   ]
  },
  {
   "cell_type": "code",
   "execution_count": 15,
   "metadata": {},
   "outputs": [
    {
     "name": "stdout",
     "output_type": "stream",
     "text": [
      "lat: min -5.700000e+01, max 1.300000e+01, step 1.000000e+00 \n",
      "freq: min -1.388889e-04, max 1.383102e-04, step 5.787037e-07 \n",
      "<xarray.DataArray 'freq_time' ()>\n",
      "array(34578.)\n",
      "Coordinates:\n",
      "    freq_time_spacing  float64 5.787e-07\n"
     ]
    }
   ],
   "source": [
    "def fmap(v1,v2):\n",
    "        ''' This function provides the index of (v1,v2) coupled value position\n",
    "        in the 2D histogram array\n",
    "        '''\n",
    "        i1max = np.int(np.rint((v1b['max']-v1b['min'])/v1b['d']))+1\n",
    "        i2max = np.int(np.rint((v2b['max']-v2b['min'])/v2b['d']))+1\n",
    "        #\n",
    "        i1 = np.maximum(np.rint((v1-v1b['min'])/v1b['d'])+1,0)\n",
    "        i1 = np.minimum(i1,i1max)\n",
    "        #\n",
    "        i2 = np.maximum(np.rint((v2-v2b['min'])/v2b['d'])+1,0)\n",
    "        i2 = np.minimum(i2,i2max)\n",
    "        return i1+i2*(i1max+1)\n",
    "\n",
    "#def imap(i)\n",
    "#    return lat, f\n",
    "\n",
    "def printb(v,label):\n",
    "    print('%s: min %e, max %e, step %e '%(label, v['min'], v['max'], v['d']) )\n",
    "\n",
    "printb(v1b, 'lat')\n",
    "printb(v2b, 'freq')\n",
    "\n",
    "print(fmap(-40.,1e-3))\n",
    "    "
   ]
  },
  {
   "cell_type": "code",
   "execution_count": 16,
   "metadata": {},
   "outputs": [
    {
     "name": "stdout",
     "output_type": "stream",
     "text": [
      "<xarray.DataArray (j: 4320, i: 4320, freq_time: 480)>\n",
      "dask.array<shape=(4320, 4320, 480), dtype=float64, chunksize=(4320, 4320, 480)>\n",
      "Coordinates:\n",
      "  * i                  (i) int64 0 1 2 3 4 5 6 7 8 9 10 11 12 13 14 15 16 17 ...\n",
      "  * j                  (j) int64 0 1 2 3 4 5 6 7 8 9 10 11 12 13 14 15 16 17 ...\n",
      "    face               int64 1\n",
      "    XC                 (j, i) float32 dask.array<shape=(4320, 4320), chunksize=(4320, 4320)>\n",
      "    YC                 (j, i) float32 dask.array<shape=(4320, 4320), chunksize=(4320, 4320)>\n",
      "    rA                 (j, i) float32 dask.array<shape=(4320, 4320), chunksize=(4320, 4320)>\n",
      "    Depth              (j, i) float32 dask.array<shape=(4320, 4320), chunksize=(4320, 4320)>\n",
      "  * freq_time          (freq_time) float64 0.0 5.787e-07 1.157e-06 1.736e-06 ...\n",
      "    freq_time_spacing  float64 5.787e-07\n",
      "<xarray.DataArray (j: 4320, i: 4320, freq_time: 480)>\n",
      "dask.array<shape=(4320, 4320, 480), dtype=float64, chunksize=(4320, 4320, 480)>\n",
      "Coordinates:\n",
      "  * i                  (i) int64 0 1 2 3 4 5 6 7 8 9 10 11 12 13 14 15 16 17 ...\n",
      "  * j                  (j) int64 0 1 2 3 4 5 6 7 8 9 10 11 12 13 14 15 16 17 ...\n",
      "    face               int64 1\n",
      "    XC                 (j, i) float32 dask.array<shape=(4320, 4320), chunksize=(4320, 4320)>\n",
      "    YC                 (j, i) float32 dask.array<shape=(4320, 4320), chunksize=(4320, 4320)>\n",
      "    rA                 (j, i) float32 dask.array<shape=(4320, 4320), chunksize=(4320, 4320)>\n",
      "    Depth              (j, i) float32 dask.array<shape=(4320, 4320), chunksize=(4320, 4320)>\n",
      "  * freq_time          (freq_time) float64 0.0 5.787e-07 1.157e-06 1.736e-06 ...\n",
      "    freq_time_spacing  float64 5.787e-07\n"
     ]
    }
   ],
   "source": [
    "lat = ds.YC + 0*v_fft.freq_time\n",
    "f = ds.YC*0. + v_fft.freq_time\n",
    "print(lat)\n",
    "print(f)"
   ]
  },
  {
   "cell_type": "code",
   "execution_count": null,
   "metadata": {},
   "outputs": [],
   "source": [
    "i = fmap(lat, f)\n",
    "print(i)\n",
    "\n",
    "i.isel(i=slice(0,100), j=slice(0,100), freq_time=0).plot()"
   ]
  },
  {
   "cell_type": "code",
   "execution_count": 27,
   "metadata": {},
   "outputs": [
    {
     "name": "stdout",
     "output_type": "stream",
     "text": [
      "dask.array<fmap, shape=(4320, 4320, 480), dtype=float64, chunksize=(4320, 4320, 480)>\n"
     ]
    }
   ],
   "source": [
    "    \n",
    "# apply get_index to v1 and v2 arrays\n",
    "v12 = dask.array.map_blocks(fmap, lat.data, f.data, dtype='float')\n",
    "# compute histogram of linear indices\n",
    "#h, lbins = dask.array.histogram(v12, bins=np.arange(-.5,(i1max+1)*(i2max+1)+0.5,1.))\n",
    "print(v12)"
   ]
  },
  {
   "cell_type": "code",
   "execution_count": 37,
   "metadata": {},
   "outputs": [
    {
     "name": "stderr",
     "output_type": "stream",
     "text": [
      "/home1/datahome/aponte/.miniconda3/envs/equinox/lib/python3.6/site-packages/xrft/xrft.py:272: FutureWarning: xarray.DataArray.__contains__ currently checks membership in DataArray.coords, but in xarray v0.11 will change to check membership in array values.\n",
      "  elif d in da:\n"
     ]
    },
    {
     "name": "stdout",
     "output_type": "stream",
     "text": [
      "[-57. -56. -55. -54. -53. -52. -51. -50. -49. -48. -47. -46. -45. -44.\n",
      " -43. -42. -41. -40. -39. -38. -37. -36. -35. -34. -33. -32. -31. -30.\n",
      " -29. -28. -27. -26. -25. -24. -23. -22. -21. -20. -19. -18. -17. -16.\n",
      " -15. -14. -13. -12. -11. -10.  -9.  -8.  -7.  -6.  -5.  -4.  -3.  -2.\n",
      "  -1.   0.   1.   2.   3.   4.   5.   6.   7.   8.   9.  10.  11.  12.]\n",
      "<xarray.Dataset>\n",
      "Dimensions:                                (freq_time: 480, i: 4320, i_g: 4320, j: 4320, j_g: 4320, k: 90, k_l: 90, k_p1: 91, k_u: 90)\n",
      "Coordinates:\n",
      "  * i                                      (i) int64 0 1 2 3 4 5 6 7 8 9 10 ...\n",
      "  * j                                      (j) int64 0 1 2 3 4 5 6 7 8 9 10 ...\n",
      "  * freq_time                              (freq_time) float64 0.0 5.787e-07 ...\n",
      "    freq_time_spacing                      float64 5.787e-07\n",
      "  * i_g                                    (i_g) int64 0 1 2 3 4 5 6 7 8 9 ...\n",
      "  * j_g                                    (j_g) int64 0 1 2 3 4 5 6 7 8 9 ...\n",
      "  * k                                      (k) int64 0 1 2 3 4 5 6 7 8 9 10 ...\n",
      "  * k_u                                    (k_u) int64 0 1 2 3 4 5 6 7 8 9 ...\n",
      "  * k_l                                    (k_l) int64 0 1 2 3 4 5 6 7 8 9 ...\n",
      "  * k_p1                                   (k_p1) int64 0 1 2 3 4 5 6 7 8 9 ...\n",
      "    face                                   int64 1\n",
      "    XC                                     (j, i) float32 ...\n",
      "    YC                                     (j, i) float32 -57.001026 ...\n",
      "    XG                                     (j_g, i_g) float32 ...\n",
      "    YG                                     (j_g, i_g) float32 ...\n",
      "    rA                                     (j, i) float32 ...\n",
      "    Depth                                  (j, i) float32 ...\n",
      "Data variables:\n",
      "    fftn-a42c5cc1bb1c29090f2c46b0b037c13b  (i, j, freq_time) complex128 dask.array<shape=(4320, 4320, 480), chunksize=(10, 432, 480)>\n",
      "<xarray.core.groupby.DatasetGroupBy object at 0x2aaaf62ba518>\n"
     ]
    }
   ],
   "source": [
    "#v_fft = xrft.dft(eta.fillna(0.), dim=['time'], shift=False, detrend='linear')\n",
    "E = (v_fft*v_fft.conj()).where(v_fft!=0., drop=False) #.groupby('YC') #.mean(dim=('i'))\n",
    "E = xr.merge([E,grid])\n",
    "dlat = 1.\n",
    "lat_bins = dlat*np.arange(np.ceil(E.YC.min().values/dlat), np.floor(E.YC.max().values/dlat))\n",
    "print(lat_bins)\n",
    "print(E)\n",
    "E = E.groupby_bins('YC', lat_bins) #.mean(dim=['i','j'])\n",
    "print(E)\n",
    "#E = E.astype('f8').rename('eta_power_spectrum ()')\n",
    "#%time E.load()"
   ]
  },
  {
   "cell_type": "code",
   "execution_count": null,
   "metadata": {},
   "outputs": [],
   "source": []
  },
  {
   "cell_type": "markdown",
   "metadata": {},
   "source": [
    "--- \n",
    "\n",
    "# store spectra"
   ]
  },
  {
   "cell_type": "code",
   "execution_count": 10,
   "metadata": {},
   "outputs": [
    {
     "name": "stderr",
     "output_type": "stream",
     "text": [
      "/home1/datahome/aponte/.miniconda3/envs/equinox/lib/python3.6/site-packages/xrft/xrft.py:272: FutureWarning: xarray.DataArray.__contains__ currently checks membership in DataArray.coords, but in xarray v0.11 will change to check membership in array values.\n",
      "  elif d in da:\n"
     ]
    },
    {
     "name": "stdout",
     "output_type": "stream",
     "text": [
      "<xarray.DataArray 'eta_power_spectrum (??)' (i: 4320, j: 4320, freq_time: 480)>\n",
      "dask.array<shape=(4320, 4320, 480), dtype=float64, chunksize=(10, 432, 480)>\n",
      "Coordinates:\n",
      "  * i                  (i) int64 0 1 2 3 4 5 6 7 8 9 10 11 12 13 14 15 16 17 ...\n",
      "  * j                  (j) int64 0 1 2 3 4 5 6 7 8 9 10 11 12 13 14 15 16 17 ...\n",
      "  * freq_time          (freq_time) float64 0.0 5.787e-07 1.157e-06 1.736e-06 ...\n",
      "    freq_time_spacing  float64 5.787e-07\n"
     ]
    }
   ],
   "source": [
    "v_fft = xrft.dft(eta.fillna(0.), dim=['time'], shift=False, detrend='linear')\n",
    "E = (v_fft*v_fft.conj()).where(v_fft!=0., drop=False)\n",
    "E = E.astype('f8').rename('E_eta')\n",
    "print(E)"
   ]
  },
  {
   "cell_type": "code",
   "execution_count": 11,
   "metadata": {},
   "outputs": [],
   "source": [
    "file_E = scratch+'/mit_spec/E.nc'"
   ]
  },
  {
   "cell_type": "code",
   "execution_count": null,
   "metadata": {},
   "outputs": [
    {
     "name": "stderr",
     "output_type": "stream",
     "text": [
      "/home1/datahome/aponte/.miniconda3/envs/equinox/lib/python3.6/site-packages/distributed/worker.py:742: UserWarning: Large object of size 1.89 MB detected in task graph: \n",
      "  (\"('where-astype-d54a3c5db2cc5e42f2e4717b3b22b00c' ... b16f>]), False)\n",
      "Consider scattering large objects ahead of time\n",
      "with client.scatter to reduce scheduler burden and \n",
      "keep data on workers\n",
      "\n",
      "    future = client.submit(func, big_data)    # bad\n",
      "\n",
      "    big_future = client.scatter(big_data)     # good\n",
      "    future = client.submit(func, big_future)  # good\n",
      "  % (format_bytes(len(b)), s))\n"
     ]
    }
   ],
   "source": [
    "E = xr.merge([E, grid])\n",
    "E.to_netcdf(file_E,mode='w')\n",
    "# should transpose?"
   ]
  },
  {
   "cell_type": "markdown",
   "metadata": {},
   "source": [
    "### load E"
   ]
  },
  {
   "cell_type": "code",
   "execution_count": 6,
   "metadata": {},
   "outputs": [
    {
     "name": "stdout",
     "output_type": "stream",
     "text": [
      "<xarray.Dataset>\n",
      "Dimensions:            (freq_time: 480, i: 4320, i_g: 4320, j: 4320, j_g: 4320, k: 90, k_l: 90, k_p1: 91, k_u: 90)\n",
      "Coordinates:\n",
      "  * i                  (i) int64 0 1 2 3 4 5 6 7 8 9 10 11 12 13 14 15 16 17 ...\n",
      "  * j                  (j) int64 0 1 2 3 4 5 6 7 8 9 10 11 12 13 14 15 16 17 ...\n",
      "  * freq_time          (freq_time) float64 0.0 5.787e-07 1.157e-06 1.736e-06 ...\n",
      "    freq_time_spacing  float64 ...\n",
      "  * i_g                (i_g) int64 0 1 2 3 4 5 6 7 8 9 10 11 12 13 14 15 16 ...\n",
      "  * j_g                (j_g) int64 0 1 2 3 4 5 6 7 8 9 10 11 12 13 14 15 16 ...\n",
      "  * k                  (k) int64 0 1 2 3 4 5 6 7 8 9 10 11 12 13 14 15 16 17 ...\n",
      "  * k_u                (k_u) int64 0 1 2 3 4 5 6 7 8 9 10 11 12 13 14 15 16 ...\n",
      "  * k_l                (k_l) int64 0 1 2 3 4 5 6 7 8 9 10 11 12 13 14 15 16 ...\n",
      "  * k_p1               (k_p1) int64 0 1 2 3 4 5 6 7 8 9 10 11 12 13 14 15 16 ...\n",
      "    face               int64 ...\n",
      "    XC                 (i, j) float32 dask.array<shape=(4320, 4320), chunksize=(1, 4320)>\n",
      "    YC                 (i, j) float32 dask.array<shape=(4320, 4320), chunksize=(1, 4320)>\n",
      "    XG                 (i_g, j_g) float32 dask.array<shape=(4320, 4320), chunksize=(4320, 4320)>\n",
      "    YG                 (i_g, j_g) float32 dask.array<shape=(4320, 4320), chunksize=(4320, 4320)>\n",
      "    rA                 (i, j) float32 dask.array<shape=(4320, 4320), chunksize=(1, 4320)>\n",
      "    Depth              (i, j) float32 dask.array<shape=(4320, 4320), chunksize=(1, 4320)>\n",
      "Data variables:\n",
      "    E_eta              (i, j, freq_time) float64 dask.array<shape=(4320, 4320, 480), chunksize=(1, 4320, 480)>\n"
     ]
    }
   ],
   "source": [
    "file_E = scratch+'/mit_spec/E.nc'\n",
    "#Enc = xr.open_dataset(file_E, chunks={'freq_time': 1})\n",
    "Enc = xr.open_dataset(file_E, chunks={'i': 1})\n",
    "Enc.rename({'eta_power_spectrum (??)': 'E_eta'}, inplace=True) # tmp\n",
    "Enc.drop(['XG','YG']) # tmp, should be dropped while creating spectrum\n",
    "Enc = Enc.persist()\n",
    "print(Enc)"
   ]
  },
  {
   "cell_type": "code",
   "execution_count": null,
   "metadata": {},
   "outputs": [],
   "source": []
  },
  {
   "cell_type": "code",
   "execution_count": null,
   "metadata": {},
   "outputs": [],
   "source": []
  },
  {
   "cell_type": "code",
   "execution_count": 7,
   "metadata": {},
   "outputs": [
    {
     "name": "stdout",
     "output_type": "stream",
     "text": [
      "<xarray.DataArray 'YC' (i: 4320, j: 4320)>\n",
      "dask.array<shape=(4320, 4320), dtype=float32, chunksize=(1, 4320)>\n",
      "Coordinates:\n",
      "  * i                  (i) int64 0 1 2 3 4 5 6 7 8 9 10 11 12 13 14 15 16 17 ...\n",
      "  * j                  (j) int64 0 1 2 3 4 5 6 7 8 9 10 11 12 13 14 15 16 17 ...\n",
      "    freq_time_spacing  float64 ...\n",
      "    face               int64 ...\n",
      "    XC                 (i, j) float32 dask.array<shape=(4320, 4320), chunksize=(1, 4320)>\n",
      "    YC                 (i, j) float32 dask.array<shape=(4320, 4320), chunksize=(1, 4320)>\n",
      "    rA                 (i, j) float32 dask.array<shape=(4320, 4320), chunksize=(1, 4320)>\n",
      "    Depth              (i, j) float32 dask.array<shape=(4320, 4320), chunksize=(1, 4320)>\n",
      "Attributes:\n",
      "    standard_name:  latitude\n",
      "    long_name:      latitude\n",
      "    units:          degrees_north\n",
      "    coordinate:     YC XC\n"
     ]
    }
   ],
   "source": [
    "print(Enc['YC'])\n",
    "dlat=1.\n",
    "#v1b = {'min': dlat*np.ceil(grid.YC.min().values/dlat),'max': dlat*np.floor(grid.YC.max().values/dlat), 'd': dlat}\n",
    "#lat_bins = np.arange(dlat*np.ceil(Enc.YC.min().values/dlat),dlat*np.floor(Enc.YC.max().values/dlat),dlat)\n",
    "lat_bins = np.arange(-60.,60.,dlat)\n",
    "lat_center = (lat_bins[:-1]+lat_bins[1:])*.5"
   ]
  },
  {
   "cell_type": "code",
   "execution_count": 21,
   "metadata": {},
   "outputs": [],
   "source": [
    "#Enc = xr.merge([Enc, grid])\n",
    "#print(Enc)"
   ]
  },
  {
   "cell_type": "code",
   "execution_count": 8,
   "metadata": {},
   "outputs": [
    {
     "name": "stdout",
     "output_type": "stream",
     "text": [
      "CPU times: user 43.8 s, sys: 1.59 s, total: 45.4 s\n",
      "Wall time: 53.6 s\n"
     ]
    }
   ],
   "source": [
    "# look at one frequency first\n",
    "%time Ef0 = Enc.isel(freq_time=0, drop=False).groupby_bins('YC', lat_bins).mean()"
   ]
  },
  {
   "cell_type": "code",
   "execution_count": 9,
   "metadata": {},
   "outputs": [
    {
     "name": "stdout",
     "output_type": "stream",
     "text": [
      "<xarray.Dataset>\n",
      "Dimensions:  (YC_bins: 69)\n",
      "Coordinates:\n",
      "    lat      (YC_bins) float64 -56.5 -55.5 -54.5 -53.5 -52.5 -51.5 -50.5 ...\n",
      "Dimensions without coordinates: YC_bins\n",
      "Data variables:\n",
      "    E_eta    (YC_bins) float64 dask.array<shape=(69,), chunksize=(1,)>\n"
     ]
    }
   ],
   "source": [
    "Ef = Ef0.assign_coords(lat=xr.DataArray(lat_center,dims=['YC_bins'])).drop('YC_bins')\n",
    "print(Ef)"
   ]
  },
  {
   "cell_type": "code",
   "execution_count": 10,
   "metadata": {},
   "outputs": [
    {
     "name": "stderr",
     "output_type": "stream",
     "text": [
      "/home1/datahome/aponte/.miniconda3/envs/equinox/lib/python3.6/site-packages/distributed/worker.py:742: UserWarning: Large object of size 187.41 MB detected in task graph: \n",
      "  (\"('concatenate-ba831207edf0e9e9ab900a73aef020d1', ... 3860>]), False)\n",
      "Consider scattering large objects ahead of time\n",
      "with client.scatter to reduce scheduler burden and \n",
      "keep data on workers\n",
      "\n",
      "    future = client.submit(func, big_data)    # bad\n",
      "\n",
      "    big_future = client.scatter(big_data)     # good\n",
      "    future = client.submit(func, big_future)  # good\n",
      "  % (format_bytes(len(b)), s))\n",
      "\n",
      "KeyboardInterrupt\n",
      "\n"
     ]
    }
   ],
   "source": [
    "%time Ef.to_netcdf(scratch+'/mit_spec/E_%03d.nc'%0, mode='w')"
   ]
  },
  {
   "cell_type": "code",
   "execution_count": null,
   "metadata": {},
   "outputs": [],
   "source": []
  },
  {
   "cell_type": "code",
   "execution_count": 21,
   "metadata": {},
   "outputs": [
    {
     "data": {
      "text/plain": [
       "[<matplotlib.lines.Line2D at 0x2aab5b840a90>]"
      ]
     },
     "execution_count": 21,
     "metadata": {},
     "output_type": "execute_result"
    },
    {
     "data": {
      "image/png": "[encoded data removed]",
      "text/plain": [
       "<Figure size 432x288 with 1 Axes>"
      ]
     },
     "metadata": {},
     "output_type": "display_data"
    }
   ],
   "source": [
    "plt.plot(lat_center, Ef['eta_power_spectrum (??)'].values)"
   ]
  },
  {
   "cell_type": "code",
   "execution_count": null,
   "metadata": {},
   "outputs": [],
   "source": [
    "\n",
    "Eb = xr.concat([Enc['E_eta'].isel(freq_time=i).groupby_bins('YC', lat_bins).mean().expand_dims(dim='f', axis=1) \\\n",
    "    for i in range(len(Enc.freq_time))], dim='f')\n",
    "#len(Enc.freq_time)\n",
    "\n",
    "# should maybe store data with an explicit for loop?\n",
    "# this is not performant but should work\n",
    "\n",
    "print(Eb)\n",
    "#print(Eb.values)"
   ]
  },
  {
   "cell_type": "code",
   "execution_count": null,
   "metadata": {},
   "outputs": [],
   "source": [
    "for i in range(len(Enc['freq_time'])):\n",
    "    Ef = Enc['E_eta'].isel(freq_time=i).groupby_bins('YC', lat_bins).mean()\n",
    "    Ef = Ef.expand_dims(dim='f', axis=1)\n",
    "    Ef = Ef.assign_coords(lat=xr.DataArray(lat_center,dims=['YC_bins'])).drop('YC_bins')    \n",
    "    Ef.to_netcdf(scratch+'/mit_spec/E_%03d.nc'%i, mode='w')\n",
    "    print(i)"
   ]
  },
  {
   "cell_type": "code",
   "execution_count": null,
   "metadata": {},
   "outputs": [],
   "source": []
  },
  {
   "cell_type": "markdown",
   "metadata": {},
   "source": [
    "### with dask objects"
   ]
  },
  {
   "cell_type": "code",
   "execution_count": 7,
   "metadata": {},
   "outputs": [
    {
     "name": "stdout",
     "output_type": "stream",
     "text": [
      "<xarray.Dataset>\n",
      "Dimensions:            (freq_time: 480, i: 4320, i_g: 4320, j: 4320, j_g: 4320, k: 90, k_l: 90, k_p1: 91, k_u: 90)\n",
      "Coordinates:\n",
      "  * i                  (i) int64 0 1 2 3 4 5 6 7 8 9 10 11 12 13 14 15 16 17 ...\n",
      "  * j                  (j) int64 0 1 2 3 4 5 6 7 8 9 10 11 12 13 14 15 16 17 ...\n",
      "  * freq_time          (freq_time) float64 0.0 5.787e-07 1.157e-06 1.736e-06 ...\n",
      "    freq_time_spacing  float64 ...\n",
      "  * i_g                (i_g) int64 0 1 2 3 4 5 6 7 8 9 10 11 12 13 14 15 16 ...\n",
      "  * j_g                (j_g) int64 0 1 2 3 4 5 6 7 8 9 10 11 12 13 14 15 16 ...\n",
      "  * k                  (k) int64 0 1 2 3 4 5 6 7 8 9 10 11 12 13 14 15 16 17 ...\n",
      "  * k_u                (k_u) int64 0 1 2 3 4 5 6 7 8 9 10 11 12 13 14 15 16 ...\n",
      "  * k_l                (k_l) int64 0 1 2 3 4 5 6 7 8 9 10 11 12 13 14 15 16 ...\n",
      "  * k_p1               (k_p1) int64 0 1 2 3 4 5 6 7 8 9 10 11 12 13 14 15 16 ...\n",
      "    face               int64 ...\n",
      "    XC                 (i, j) float32 dask.array<shape=(4320, 4320), chunksize=(1, 4320)>\n",
      "    YC                 (i, j) float32 dask.array<shape=(4320, 4320), chunksize=(1, 4320)>\n",
      "    XG                 (i_g, j_g) float32 dask.array<shape=(4320, 4320), chunksize=(4320, 4320)>\n",
      "    YG                 (i_g, j_g) float32 dask.array<shape=(4320, 4320), chunksize=(4320, 4320)>\n",
      "    rA                 (i, j) float32 dask.array<shape=(4320, 4320), chunksize=(1, 4320)>\n",
      "    Depth              (i, j) float32 dask.array<shape=(4320, 4320), chunksize=(1, 4320)>\n",
      "Data variables:\n",
      "    E_eta              (i, j, freq_time) float64 dask.array<shape=(4320, 4320, 480), chunksize=(1, 4320, 480)>\n"
     ]
    }
   ],
   "source": [
    "print(Enc)"
   ]
  },
  {
   "cell_type": "code",
   "execution_count": 8,
   "metadata": {},
   "outputs": [
    {
     "name": "stdout",
     "output_type": "stream",
     "text": [
      "lat: min -6.000000e+01, max 6.000000e+01, step 1.000000e+00 \n",
      "freq: min -1.388889e-04, max 1.383102e-04, step 5.787037e-07 \n",
      "58581.0\n"
     ]
    }
   ],
   "source": [
    "lat = Enc['YC']\n",
    "f = Enc['freq_time']\n",
    "\n",
    "dlat=1.\n",
    "\n",
    "v1b = {'min': -60.,'max': 60., 'd': dlat}\n",
    "v2b = {'min': f.min().values, 'max': f.max().values, 'd': f[1].values-f[0].values}\n",
    "\n",
    "i1max = np.int(np.rint((v1b['max']-v1b['min'])/v1b['d']))+1\n",
    "i2max = np.int(np.rint((v2b['max']-v2b['min'])/v2b['d']))+1\n",
    "\n",
    "def fmap(v1,v2):\n",
    "        ''' This function provides the index of (v1,v2) coupled value position\n",
    "        in the 2D histogram array\n",
    "        '''\n",
    "        #\n",
    "        i1 = np.maximum(np.rint((v1-v1b['min'])/v1b['d'])+1,0)\n",
    "        i1 = np.minimum(i1,i1max)\n",
    "        #\n",
    "        i2 = np.maximum(np.rint((v2-v2b['min'])/v2b['d'])+1,0)\n",
    "        i2 = np.minimum(i2,i2max)\n",
    "        return i1+i2*(i1max+1)\n",
    "\n",
    "#def imap(i)\n",
    "#    return lat, f\n",
    "\n",
    "def printb(v,label):\n",
    "    print('%s: min %e, max %e, step %e '%(label, v['min'], v['max'], v['d']) )\n",
    "\n",
    "printb(v1b, 'lat')\n",
    "printb(v2b, 'freq')\n",
    "\n",
    "print(fmap(-40., 1e-3))\n"
   ]
  },
  {
   "cell_type": "code",
   "execution_count": 20,
   "metadata": {},
   "outputs": [
    {
     "name": "stdout",
     "output_type": "stream",
     "text": [
      "<xarray.DataArray (i: 4320, j: 4320, freq_time: 480)>\n",
      "dask.array<shape=(4320, 4320, 480), dtype=float64, chunksize=(1, 4320, 480)>\n",
      "Coordinates:\n",
      "  * i                  (i) int64 0 1 2 3 4 5 6 7 8 9 10 11 12 13 14 15 16 17 ...\n",
      "  * j                  (j) int64 0 1 2 3 4 5 6 7 8 9 10 11 12 13 14 15 16 17 ...\n",
      "    freq_time_spacing  float64 5.787e-07\n",
      "    face               int64 1\n",
      "    XC                 (i, j) float32 dask.array<shape=(4320, 4320), chunksize=(1, 4320)>\n",
      "    YC                 (i, j) float32 dask.array<shape=(4320, 4320), chunksize=(1, 4320)>\n",
      "    rA                 (i, j) float32 dask.array<shape=(4320, 4320), chunksize=(1, 4320)>\n",
      "    Depth              (i, j) float32 dask.array<shape=(4320, 4320), chunksize=(1, 4320)>\n",
      "  * freq_time          (freq_time) float64 0.0 5.787e-07 1.157e-06 1.736e-06 ...\n",
      "<xarray.DataArray (i: 4320, j: 4320, freq_time: 480)>\n",
      "dask.array<shape=(4320, 4320, 480), dtype=float64, chunksize=(1, 4320, 480)>\n",
      "Coordinates:\n",
      "  * i                  (i) int64 0 1 2 3 4 5 6 7 8 9 10 11 12 13 14 15 16 17 ...\n",
      "  * j                  (j) int64 0 1 2 3 4 5 6 7 8 9 10 11 12 13 14 15 16 17 ...\n",
      "    freq_time_spacing  float64 5.787e-07\n",
      "    face               int64 1\n",
      "    XC                 (i, j) float32 dask.array<shape=(4320, 4320), chunksize=(1, 4320)>\n",
      "    YC                 (i, j) float32 dask.array<shape=(4320, 4320), chunksize=(1, 4320)>\n",
      "    rA                 (i, j) float32 dask.array<shape=(4320, 4320), chunksize=(1, 4320)>\n",
      "    Depth              (i, j) float32 dask.array<shape=(4320, 4320), chunksize=(1, 4320)>\n",
      "  * freq_time          (freq_time) float64 0.0 5.787e-07 1.157e-06 1.736e-06 ...\n"
     ]
    }
   ],
   "source": [
    "lat2 = lat + f*0.\n",
    "f2 = lat*0. + f\n",
    "# reset land data\n",
    "lat2 = (lat2 + 0.*Enc['E_eta']).fillna(-100.)\n",
    "#\n",
    "#lat2, f2 = xr.broadcast(lat,f) # f2 is not a dask array chunked along i\n",
    "#f2 = f2.chunk({'i':1})\n",
    "#\n",
    "f2 = f2.persist()\n",
    "\n",
    "\n",
    "print(lat2)\n",
    "print(f2)"
   ]
  },
  {
   "cell_type": "code",
   "execution_count": 21,
   "metadata": {},
   "outputs": [
    {
     "name": "stdout",
     "output_type": "stream",
     "text": [
      "dask.array<fmap, shape=(4320, 4320, 480), dtype=float64, chunksize=(1, 4320, 480)>\n"
     ]
    }
   ],
   "source": [
    "# apply get_index to v1 and v2 arrays\n",
    "i = dask.array.map_blocks(fmap, lat2.data, f2.data, dtype='float')\n",
    "print(i)"
   ]
  },
  {
   "cell_type": "code",
   "execution_count": 29,
   "metadata": {},
   "outputs": [
    {
     "name": "stdout",
     "output_type": "stream",
     "text": [
      "<xarray.DataArray (i: 4320, j: 4320, freq_time: 480)>\n",
      "dask.array<shape=(4320, 4320, 480), dtype=float64, chunksize=(1, 4320, 480)>\n",
      "Coordinates:\n",
      "  * i                  (i) int64 0 1 2 3 4 5 6 7 8 9 10 11 12 13 14 15 16 17 ...\n",
      "  * j                  (j) int64 0 1 2 3 4 5 6 7 8 9 10 11 12 13 14 15 16 17 ...\n",
      "    freq_time_spacing  float64 5.787e-07\n",
      "    face               int64 1\n",
      "    XC                 (i, j) float32 dask.array<shape=(4320, 4320), chunksize=(1, 4320)>\n",
      "    YC                 (i, j) float32 dask.array<shape=(4320, 4320), chunksize=(1, 4320)>\n",
      "    rA                 (i, j) float32 dask.array<shape=(4320, 4320), chunksize=(1, 4320)>\n",
      "    Depth              (i, j) float32 dask.array<shape=(4320, 4320), chunksize=(1, 4320)>\n",
      "  * freq_time          (freq_time) float64 0.0 5.787e-07 1.157e-06 1.736e-06 ...\n",
      "<xarray.DataArray (i: 4320, j: 4320, freq_time: 480)>\n",
      "dask.array<shape=(4320, 4320, 480), dtype=float64, chunksize=(1, 4320, 480)>\n",
      "Coordinates:\n",
      "  * i                  (i) int64 0 1 2 3 4 5 6 7 8 9 10 11 12 13 14 15 16 17 ...\n",
      "  * j                  (j) int64 0 1 2 3 4 5 6 7 8 9 10 11 12 13 14 15 16 17 ...\n",
      "  * freq_time          (freq_time) float64 0.0 5.787e-07 1.157e-06 1.736e-06 ...\n",
      "    freq_time_spacing  float64 5.787e-07\n",
      "    face               int64 1\n",
      "    XC                 (i, j) float32 dask.array<shape=(4320, 4320), chunksize=(1, 4320)>\n",
      "    YC                 (i, j) float32 dask.array<shape=(4320, 4320), chunksize=(1, 4320)>\n",
      "    rA                 (i, j) float32 dask.array<shape=(4320, 4320), chunksize=(1, 4320)>\n",
      "    Depth              (i, j) float32 dask.array<shape=(4320, 4320), chunksize=(1, 4320)>\n"
     ]
    }
   ],
   "source": [
    "dA = Enc['rA'] + 0.*f2\n",
    "EdA = Enc['E_eta'].fillna(0.)*dA\n",
    "print(dA)\n",
    "print(EdA)"
   ]
  },
  {
   "cell_type": "code",
   "execution_count": 30,
   "metadata": {},
   "outputs": [],
   "source": [
    "# compute histogram of linear indices\n",
    "h, lbins = dask.array.histogram(i, bins=np.arange(-.5,(i1max+1)*(i2max+1)+0.5,1.), \\\n",
    "                                weights=EdA.data)\n",
    "hnorm, lbins = dask.array.histogram(i, bins=np.arange(-.5,(i1max+1)*(i2max+1)+0.5,1.), \\\n",
    "                                weights=dA.data)"
   ]
  },
  {
   "cell_type": "code",
   "execution_count": 31,
   "metadata": {},
   "outputs": [
    {
     "name": "stderr",
     "output_type": "stream",
     "text": [
      "/home1/datahome/aponte/.miniconda3/envs/equinox/lib/python3.6/site-packages/ipykernel_launcher.py:4: RuntimeWarning: divide by zero encountered in true_divide\n",
      "  after removing the cwd from sys.path.\n",
      "/home1/datahome/aponte/.miniconda3/envs/equinox/lib/python3.6/site-packages/ipykernel_launcher.py:4: RuntimeWarning: invalid value encountered in true_divide\n",
      "  after removing the cwd from sys.path.\n"
     ]
    }
   ],
   "source": [
    "# normalize and reshape\n",
    "H = h.compute()\n",
    "Hnorm = hnorm.compute()\n",
    "H = H/Hnorm\n",
    "H = H.reshape((i1max+1,i2max+1), order='F')"
   ]
  },
  {
   "cell_type": "code",
   "execution_count": 24,
   "metadata": {},
   "outputs": [
    {
     "data": {
      "text/plain": [
       "array([[0., 0., 0., ..., 0., 0., 0.],\n",
       "       [0., 0., 0., ..., 0., 0., 0.],\n",
       "       [0., 0., 0., ..., 0., 0., 0.],\n",
       "       ...,\n",
       "       [0., 0., 0., ..., 0., 0., 0.],\n",
       "       [0., 0., 0., ..., 0., 0., 0.],\n",
       "       [0., 0., 0., ..., 0., 0., 0.]])"
      ]
     },
     "execution_count": 24,
     "metadata": {},
     "output_type": "execute_result"
    }
   ],
   "source": [
    "H"
   ]
  },
  {
   "cell_type": "code",
   "execution_count": 33,
   "metadata": {},
   "outputs": [
    {
     "name": "stderr",
     "output_type": "stream",
     "text": [
      "/home1/datahome/aponte/.miniconda3/envs/equinox/lib/python3.6/site-packages/ipykernel_launcher.py:2: RuntimeWarning: divide by zero encountered in log10\n",
      "  \n"
     ]
    },
    {
     "data": {
      "text/plain": [
       "<matplotlib.image.AxesImage at 0x2aaaf63b3898>"
      ]
     },
     "execution_count": 33,
     "metadata": {},
     "output_type": "execute_result"
    },
    {
     "data": {
      "image/png": "[encoded data removed]",
      "text/plain": [
       "<Figure size 720x720 with 1 Axes>"
      ]
     },
     "metadata": {},
     "output_type": "display_data"
    }
   ],
   "source": [
    "plt.figure(figsize=(10,10))\n",
    "plt.imshow(np.log10(H))"
   ]
  },
  {
   "cell_type": "markdown",
   "metadata": {},
   "source": [
    "### with dask delayed"
   ]
  },
  {
   "cell_type": "code",
   "execution_count": 18,
   "metadata": {},
   "outputs": [],
   "source": [
    "from dask import compute, delayed"
   ]
  },
  {
   "cell_type": "code",
   "execution_count": 19,
   "metadata": {},
   "outputs": [],
   "source": [
    "def process(lE, i):    \n",
    "    Ef = lE['eta_power_spectrum (??)'].groupby_bins('YC', lat_bins).mean()\n",
    "    Ef.to_netcdf(scratch+'/mit_spec/E_%03d.nc'%i)\n",
    "    return Ef.mean()\n",
    "\n",
    "I = range(len(Enc['freq_time']))\n",
    "values = [delayed(process)(Enc.isel(freq_time=i),i) for i in I]"
   ]
  },
  {
   "cell_type": "code",
   "execution_count": null,
   "metadata": {},
   "outputs": [
    {
     "name": "stderr",
     "output_type": "stream",
     "text": [
      "/home1/datahome/aponte/.miniconda3/envs/equinox/lib/python3.6/site-packages/distributed/worker.py:742: UserWarning: Large object of size 74.80 MB detected in task graph: \n",
      "  ([[[\"('getitem-57f7f9562bff9d4baa84364946dcfc7e',  ... (), None, None)\n",
      "Consider scattering large objects ahead of time\n",
      "with client.scatter to reduce scheduler burden and \n",
      "keep data on workers\n",
      "\n",
      "    future = client.submit(func, big_data)    # bad\n",
      "\n",
      "    big_future = client.scatter(big_data)     # good\n",
      "    future = client.submit(func, big_future)  # good\n",
      "  % (format_bytes(len(b)), s))\n"
     ]
    }
   ],
   "source": [
    "%time results = compute(*values, get=client.get)\n",
    "# Large object of size 74.80 MB detected in task graph"
   ]
  },
  {
   "cell_type": "code",
   "execution_count": null,
   "metadata": {},
   "outputs": [],
   "source": []
  },
  {
   "cell_type": "code",
   "execution_count": null,
   "metadata": {},
   "outputs": [],
   "source": [
    "lat = Enc.YC + 0.*Enc.freq_time\n",
    "f = Enc.YC*0. + Enc.freq_time\n",
    "print(lat)\n",
    "print(f)"
   ]
  },
  {
   "cell_type": "code",
   "execution_count": null,
   "metadata": {},
   "outputs": [],
   "source": [
    "i = fmap(lat, f)\n",
    "print(i)"
   ]
  },
  {
   "cell_type": "code",
   "execution_count": null,
   "metadata": {},
   "outputs": [],
   "source": [
    "i.isel(i=slice(0,100), j=slice(0,100), freq_time=0).plot()"
   ]
  },
  {
   "cell_type": "code",
   "execution_count": null,
   "metadata": {},
   "outputs": [],
   "source": []
  },
  {
   "cell_type": "code",
   "execution_count": null,
   "metadata": {},
   "outputs": [],
   "source": []
  },
  {
   "cell_type": "code",
   "execution_count": null,
   "metadata": {},
   "outputs": [],
   "source": [
    "grid = xr.open_dataset('/home1/scratch/aponte/mit_grid.nc')\n",
    "grid = grid.isel(face=face)\n",
    "print(grid)\n",
    "%time print(grid['YC'].mean().values)"
   ]
  },
  {
   "cell_type": "code",
   "execution_count": null,
   "metadata": {},
   "outputs": [],
   "source": [
    "grid = xr.open_dataset('/home1/scratch/aponte/mit_grid.nc', chunks={'i':10, 'j':432})\n",
    "grid = grid.isel(face=face)\n",
    "print(grid)\n",
    "%time print(grid['YC'].mean().values)"
   ]
  },
  {
   "cell_type": "code",
   "execution_count": null,
   "metadata": {},
   "outputs": [],
   "source": []
  },
  {
   "cell_type": "markdown",
   "metadata": {},
   "source": [
    "---"
   ]
  },
  {
   "cell_type": "code",
   "execution_count": 13,
   "metadata": {},
   "outputs": [
    {
     "data": {
      "text/html": [
       "<table style=\"border: 2px solid white;\">\n",
       "<tr>\n",
       "<td style=\"vertical-align: top; border: 0px solid white\">\n",
       "<h3>Client</h3>\n",
       "<ul>\n",
       "  <li><b>Scheduler: </b>tcp://10.148.0.44:8786\n",
       "  <li><b>Dashboard: </b><a href='http://10.148.0.44:8787/status' target='_blank'>http://10.148.0.44:8787/status</a>\n",
       "</ul>\n",
       "</td>\n",
       "<td style=\"vertical-align: top; border: 0px solid white\">\n",
       "<h3>Cluster</h3>\n",
       "<ul>\n",
       "  <li><b>Workers: </b>7</li>\n",
       "  <li><b>Cores: </b>98</li>\n",
       "  <li><b>Memory: </b>700.00 GB</li>\n",
       "</ul>\n",
       "</td>\n",
       "</tr>\n",
       "</table>"
      ],
      "text/plain": [
       "<Client: scheduler='tcp://10.148.0.44:8786' processes=0 cores=0>"
      ]
     },
     "execution_count": 13,
     "metadata": {},
     "output_type": "execute_result"
    }
   ],
   "source": [
    "client.restart()"
   ]
  },
  {
   "cell_type": "code",
   "execution_count": 14,
   "metadata": {},
   "outputs": [
    {
     "name": "stdout",
     "output_type": "stream",
     "text": [
      "/home1/datawork/aponte\n"
     ]
    }
   ],
   "source": [
    "print(datawork)"
   ]
  },
  {
   "cell_type": "code",
   "execution_count": null,
   "metadata": {},
   "outputs": [],
   "source": [
    "\n",
    "data_dir = root_data_dir+'Eta/'\n",
    "\n",
    "iters, time = get_iters_time('Eta', data_dir, delta_t=25.)\n",
    "\n",
    "ds = get_compressed_data('Eta', data_dir, grid_dir, iters='all', time=time, client=client)\n",
    "print(ds)\n",
    "print('\\n data size: %.1f GB' %(ds.nbytes / 1e9))\n"
   ]
  }
 ],
 "metadata": {
  "kernelspec": {
   "display_name": "Python 3",
   "language": "python",
   "name": "python3"
  },
  "language_info": {
   "codemirror_mode": {
    "name": "ipython",
    "version": 3
   },
   "file_extension": ".py",
   "mimetype": "text/x-python",
   "name": "python",
   "nbconvert_exporter": "python",
   "pygments_lexer": "ipython3",
   "version": "3.6.5"
  }
 },
 "nbformat": 4,
 "nbformat_minor": 2
}
