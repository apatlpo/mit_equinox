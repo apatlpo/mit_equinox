{
 "cells": [
  {
   "cell_type": "markdown",
   "metadata": {},
   "source": [
    "# compute spectra on mitgcm outputs\n",
    "\n",
    "https://github.com/pydata/xarray/pull/924\n",
    "\n",
    "https://github.com/pydata/xarray/issues/1603\n",
    "\n"
   ]
  },
  {
   "cell_type": "markdown",
   "metadata": {},
   "source": [
    "---"
   ]
  },
  {
   "cell_type": "code",
   "execution_count": 1,
   "metadata": {},
   "outputs": [
    {
     "name": "stderr",
     "output_type": "stream",
     "text": [
      "/home1/datahome/aponte/.miniconda3/envs/equinox/lib/python3.6/site-packages/cmocean/tools.py:76: MatplotlibDeprecationWarning: The is_string_like function was deprecated in version 2.1.\n",
      "  if not mpl.cbook.is_string_like(rgbin[0]):\n"
     ]
    }
   ],
   "source": [
    "import os\n",
    "from glob import glob\n",
    "import numpy as np\n",
    "import dask\n",
    "import xarray as xr\n",
    "from matplotlib import pyplot as plt\n",
    "%matplotlib inline\n",
    "\n",
    "import xrft\n",
    "\n",
    "from mitequinox.utils import *"
   ]
  },
  {
   "cell_type": "code",
   "execution_count": 2,
   "metadata": {},
   "outputs": [
    {
     "name": "stderr",
     "output_type": "stream",
     "text": [
      "/home1/datahome/aponte/.miniconda3/envs/equinox/lib/python3.6/site-packages/distributed/utils.py:128: RuntimeWarning: Couldn't detect a suitable IP address for reaching '8.8.8.8', defaulting to '127.0.0.1': [Errno 101] Network is unreachable\n",
      "  % (host, default, e), RuntimeWarning)\n"
     ]
    }
   ],
   "source": [
    "dmethod = 1\n",
    "#\n",
    "if dmethod == 1:\n",
    "    from dask.distributed import Client\n",
    "    scheduler = os.getenv('DATAWORK')+'/dask/scheduler.json'\n",
    "    client = Client(scheduler_file=scheduler)\n",
    "elif dmethod == 2:\n",
    "    from dask_jobqueue import PBSCluster\n",
    "    # folder where data is spilled when RAM is filled up\n",
    "    local_dir = os.getenv('TMPDIR')\n",
    "    #\n",
    "    cluster = PBSCluster(queue='mpi_1', local_directory=local_dir, interface='ib0', walltime='24:00:00',\n",
    "                         threads=14, processes=2, memory='50GB', resource_spec='select=1:ncpus=28:mem=100g', \n",
    "                         death_timeout=100)\n",
    "    w = cluster.start_workers(40)"
   ]
  },
  {
   "cell_type": "code",
   "execution_count": 3,
   "metadata": {},
   "outputs": [],
   "source": [
    "# you need to wait for workers to spin up\n",
    "if dmethod == 2:\n",
    "    cluster.scheduler"
   ]
  },
  {
   "cell_type": "code",
   "execution_count": 4,
   "metadata": {},
   "outputs": [],
   "source": [
    "# get dask handles and check dask server status\n",
    "if dmethod == 2:\n",
    "    from dask.distributed import Client\n",
    "    client = Client(cluster)"
   ]
  },
  {
   "cell_type": "code",
   "execution_count": 5,
   "metadata": {},
   "outputs": [
    {
     "data": {
      "text/html": [
       "<table style=\"border: 2px solid white;\">\n",
       "<tr>\n",
       "<td style=\"vertical-align: top; border: 0px solid white\">\n",
       "<h3>Client</h3>\n",
       "<ul>\n",
       "  <li><b>Scheduler: </b>tcp://10.148.0.220:8786\n",
       "  <li><b>Dashboard: </b><a href='http://10.148.0.220:8787/status' target='_blank'>http://10.148.0.220:8787/status</a>\n",
       "</ul>\n",
       "</td>\n",
       "<td style=\"vertical-align: top; border: 0px solid white\">\n",
       "<h3>Cluster</h3>\n",
       "<ul>\n",
       "  <li><b>Workers: </b>31</li>\n",
       "  <li><b>Cores: </b>434</li>\n",
       "  <li><b>Memory: </b>3100.00 GB</li>\n",
       "</ul>\n",
       "</td>\n",
       "</tr>\n",
       "</table>"
      ],
      "text/plain": [
       "<Client: scheduler='tcp://10.148.0.220:8786' processes=31 cores=434>"
      ]
     },
     "execution_count": 5,
     "metadata": {},
     "output_type": "execute_result"
    }
   ],
   "source": [
    "client"
   ]
  },
  {
   "cell_type": "markdown",
   "metadata": {},
   "source": [
    "---\n",
    "\n",
    "# 0: variable select and path\n"
   ]
  },
  {
   "cell_type": "code",
   "execution_count": null,
   "metadata": {},
   "outputs": [],
   "source": [
    "v = 'Eta'\n",
    "\n",
    "## open files, nc files\n",
    "#ncdata_dir = datawork+'/mit_nc_t/'\n",
    "ncdata_dir = scratch+'/mit_nc_t/'\n",
    "\n",
    "# dir where spectra are stored\n",
    "E_dir = '/home/datawork-lops-osi/aponte/mit_spec/'"
   ]
  },
  {
   "cell_type": "markdown",
   "metadata": {},
   "source": [
    "--- \n",
    "\n",
    "# 1: One face "
   ]
  },
  {
   "cell_type": "markdown",
   "metadata": {},
   "source": [
    "## load data"
   ]
  },
  {
   "cell_type": "code",
   "execution_count": 7,
   "metadata": {},
   "outputs": [
    {
     "name": "stdout",
     "output_type": "stream",
     "text": [
      "Number of files available: 24\n",
      "Number of files processed: 24\n",
      "<xarray.Dataset>\n",
      "Dimensions:  (i: 4320, j: 4320)\n",
      "Coordinates:\n",
      "  * i        (i) int64 0 1 2 3 4 5 6 7 8 9 10 11 12 13 14 15 16 17 18 19 20 ...\n",
      "  * j        (j) int64 0 1 2 3 4 5 6 7 8 9 10 11 12 13 14 15 16 17 18 19 20 ...\n",
      "    face     int64 1\n",
      "    XC       (i, j) float32 ...\n",
      "    YC       (i, j) float32 ...\n",
      "    rA       (i, j) float32 ...\n",
      "    Depth    (i, j) float32 ...\n",
      "Data variables:\n",
      "    *empty*\n",
      "Attributes:\n",
      "    Conventions:  CF-1.6\n",
      "    title:        netCDF wrapper of MITgcm MDS binary data\n",
      "    source:       MITgcm\n",
      "    history:      Created by calling `open_mdsdataset(llc_method='smallchunks...\n"
     ]
    }
   ],
   "source": [
    "face = 1\n",
    "\n",
    "# search for right files, for example: Eta_f01_t*.nc\n",
    "filenames = sorted(glob(ncdata_dir+v+'_f%02d_t*.nc' %(face)))\n",
    "print('Number of files available: %d' %len(filenames))\n",
    "#filenames = filenames[:2] # tmp\n",
    "print('Number of files processed: %d' %len(filenames))\n",
    "\n",
    "grid = xr.open_dataset('/home1/scratch/aponte/mit_grid_t.nc')\n",
    "grid = grid.isel(face=face).drop(['XG','YG','i_g','j_g','k','k_u','k_l','k_p1'])\n",
    "print(grid)"
   ]
  },
  {
   "cell_type": "code",
   "execution_count": 7,
   "metadata": {},
   "outputs": [
    {
     "name": "stdout",
     "output_type": "stream",
     "text": [
      "CPU times: user 928 ms, sys: 116 ms, total: 1.04 s\n",
      "Wall time: 1.06 s\n",
      "<xarray.Dataset>\n",
      "Dimensions:  (i: 4320, j: 4320, time: 3000)\n",
      "Coordinates:\n",
      "  * i        (i) int64 0 1 2 3 4 5 6 7 8 9 10 11 12 13 14 15 16 17 18 19 20 ...\n",
      "  * j        (j) int64 0 1 2 3 4 5 6 7 8 9 10 11 12 13 14 15 16 17 18 19 20 ...\n",
      "    face     int64 1\n",
      "  * time     (time) float64 2.592e+05 2.628e+05 2.664e+05 2.7e+05 2.736e+05 ...\n",
      "Data variables:\n",
      "    Eta      (i, j, time) float32 dask.array<shape=(4320, 4320, 3000), chunksize=(10, 432, 240)>\n",
      "\n",
      " data size: 223.9 GB\n"
     ]
    }
   ],
   "source": [
    "#%time ds = xr.open_mfdataset(filenames, concat_dim='time', compat='equals')\n",
    "%time ds = xr.open_mfdataset(filenames, chunks={'i':10, 'j':432}, concat_dim='time', compat='equals')\n",
    "\n",
    "print(ds)\n",
    "print('\\n data size: %.1f GB' %(ds.nbytes / 1e9))"
   ]
  },
  {
   "cell_type": "code",
   "execution_count": 8,
   "metadata": {},
   "outputs": [
    {
     "name": "stdout",
     "output_type": "stream",
     "text": [
      "CPU times: user 192 ms, sys: 8 ms, total: 200 ms\n",
      "Wall time: 202 ms\n",
      "<xarray.Dataset>\n",
      "Dimensions:  (i: 4320, j: 4320, time: 3000)\n",
      "Coordinates:\n",
      "  * i        (i) int64 0 1 2 3 4 5 6 7 8 9 10 11 12 13 14 15 16 17 18 19 20 ...\n",
      "  * j        (j) int64 0 1 2 3 4 5 6 7 8 9 10 11 12 13 14 15 16 17 18 19 20 ...\n",
      "    face     int64 1\n",
      "  * time     (time) float64 2.592e+05 2.628e+05 2.664e+05 2.7e+05 2.736e+05 ...\n",
      "Data variables:\n",
      "    Eta      (i, j, time) float32 dask.array<shape=(4320, 4320, 3000), chunksize=(10, 432, 3000)>\n"
     ]
    }
   ],
   "source": [
    "chunks={'time': len(ds['time'])}\n",
    "%time ds = ds.chunk(chunks)\n",
    "print(ds)"
   ]
  },
  {
   "cell_type": "code",
   "execution_count": 9,
   "metadata": {},
   "outputs": [
    {
     "name": "stdout",
     "output_type": "stream",
     "text": [
      "CPU times: user 15.7 s, sys: 212 ms, total: 15.9 s\n",
      "Wall time: 16 s\n"
     ]
    }
   ],
   "source": [
    "%time eta = ds['Eta'].persist()"
   ]
  },
  {
   "cell_type": "markdown",
   "metadata": {},
   "source": [
    "\n",
    "## compute and store spectra\n"
   ]
  },
  {
   "cell_type": "code",
   "execution_count": 10,
   "metadata": {},
   "outputs": [
    {
     "name": "stderr",
     "output_type": "stream",
     "text": [
      "/home1/datahome/aponte/.miniconda3/envs/equinox/lib/python3.6/site-packages/xrft/xrft.py:272: FutureWarning: xarray.DataArray.__contains__ currently checks membership in DataArray.coords, but in xarray v0.11 will change to check membership in array values.\n",
      "  elif d in da:\n"
     ]
    },
    {
     "name": "stdout",
     "output_type": "stream",
     "text": [
      "<xarray.Dataset>\n",
      "Dimensions:            (freq_time: 3000, i: 4320, i_g: 4320, j: 4320, j_g: 4320, k: 90, k_l: 90, k_p1: 91, k_u: 90)\n",
      "Coordinates:\n",
      "  * i                  (i) int64 0 1 2 3 4 5 6 7 8 9 10 11 12 13 14 15 16 17 ...\n",
      "  * j                  (j) int64 0 1 2 3 4 5 6 7 8 9 10 11 12 13 14 15 16 17 ...\n",
      "  * freq_time          (freq_time) float64 0.0 9.259e-08 1.852e-07 2.778e-07 ...\n",
      "    freq_time_spacing  float64 9.259e-08\n",
      "  * i_g                (i_g) int64 0 1 2 3 4 5 6 7 8 9 10 11 12 13 14 15 16 ...\n",
      "  * j_g                (j_g) int64 0 1 2 3 4 5 6 7 8 9 10 11 12 13 14 15 16 ...\n",
      "  * k                  (k) int64 0 1 2 3 4 5 6 7 8 9 10 11 12 13 14 15 16 17 ...\n",
      "  * k_u                (k_u) int64 0 1 2 3 4 5 6 7 8 9 10 11 12 13 14 15 16 ...\n",
      "  * k_l                (k_l) int64 0 1 2 3 4 5 6 7 8 9 10 11 12 13 14 15 16 ...\n",
      "  * k_p1               (k_p1) int64 0 1 2 3 4 5 6 7 8 9 10 11 12 13 14 15 16 ...\n",
      "    face               int64 1\n",
      "    XC                 (i, j) float32 ...\n",
      "    YC                 (i, j) float32 ...\n",
      "    rA                 (i, j) float32 ...\n",
      "    Depth              (i, j) float32 ...\n",
      "Data variables:\n",
      "    E_eta              (i, j, freq_time) float64 dask.array<shape=(4320, 4320, 3000), chunksize=(10, 432, 3000)>\n"
     ]
    }
   ],
   "source": [
    "v_fft = xrft.dft(eta.fillna(0.), dim=['time'], shift=False, detrend='linear')\n",
    "E = (v_fft*v_fft.conj()).where(v_fft!=0., drop=False)\n",
    "E = E.astype('f8').rename('E_eta')\n",
    "E = xr.merge([E, grid])\n",
    "print(E)"
   ]
  },
  {
   "cell_type": "code",
   "execution_count": null,
   "metadata": {},
   "outputs": [
    {
     "name": "stderr",
     "output_type": "stream",
     "text": [
      "/home1/datahome/aponte/.miniconda3/envs/equinox/lib/python3.6/site-packages/distributed/worker.py:742: UserWarning: Large object of size 1.89 MB detected in task graph: \n",
      "  (\"('where-astype-12d84734e188a4d616102f647bdb65e1' ... 6af9>]), False)\n",
      "Consider scattering large objects ahead of time\n",
      "with client.scatter to reduce scheduler burden and \n",
      "keep data on workers\n",
      "\n",
      "    future = client.submit(func, big_data)    # bad\n",
      "\n",
      "    big_future = client.scatter(big_data)     # good\n",
      "    future = client.submit(func, big_future)  # good\n",
      "  % (format_bytes(len(b)), s))\n"
     ]
    }
   ],
   "source": [
    "file_E = scratch+'/mit_spec/E.nc'\n",
    "E.to_netcdf(file_E,mode='w')\n",
    "# should transpose?"
   ]
  },
  {
   "cell_type": "markdown",
   "metadata": {},
   "source": [
    "## zonally average spectra"
   ]
  },
  {
   "cell_type": "code",
   "execution_count": null,
   "metadata": {},
   "outputs": [],
   "source": [
    "def fmap(v1, v2, b1, b2):\n",
    "        ''' This function provides the index of (v1,v2) coupled value position\n",
    "        in the 2D histogram array\n",
    "        '''\n",
    "        #\n",
    "        i1 = np.maximum(np.rint((v1-b1['min'])/b1['d'])+1,0)\n",
    "        i1 = np.minimum(i1,b1['imax'])\n",
    "        #\n",
    "        i2 = np.maximum(np.rint((v2-b2['min'])/b2['d'])+1,0)\n",
    "        i2 = np.minimum(i2,b2['imax'])\n",
    "        return i1+i2*(b1['imax']+1)"
   ]
  },
  {
   "cell_type": "code",
   "execution_count": null,
   "metadata": {},
   "outputs": [],
   "source": [
    "file_E = E_dir+'E_f%02d.nc'%face    \n",
    "ds = xr.open_dataset(file_E, chunks={'i': 1, 'j': 2160})\n",
    "\n",
    "#\n",
    "f = ds['freq_time']\n",
    "fv = f.values\n",
    "# lat\n",
    "vb1 = {'min': -60.,'max': 60., 'd': 1.}\n",
    "# frequency\n",
    "vb2 = {'min': fv.min(), 'max': fv.max(), 'd': fv[1]-fv[0]}\n",
    "#\n",
    "vb1['imax'] = np.int(np.rint((vb1['max']-vb1['min'])/vb1['d']))+1\n",
    "vb2['imax'] = np.int(np.rint((vb2['max']-vb2['min'])/vb2['d']))+1\n",
    "#\n",
    "lat_edges = np.arange(vb1['min'], vb1['max']+vb1['d']*.1, vb1['d'])\n",
    "lat_center = (lat_edges[:-1]+lat_edges[1:])*.5\n",
    "f_edges = np.arange(vb2['min'], vb2['max']+vb2['d']*.1, vb2['d'])\n",
    "f_center = (f_edges[:-1]+f_edges[1:])*.5\n",
    "\n",
    "# broadcast coordinates\n",
    "lat = ds['YC']    \n",
    "lat2 = (lat + 0.*ds.E).fillna(-100.)\n",
    "f2 = lat2*0. + f\n",
    "dA = ds.rA + 0.*f2\n",
    "EdA = ds.E.fillna(0.)*dA\n",
    "\n",
    "# apply get_index to v1 and v2 arrays\n",
    "i = dask.array.map_blocks(fmap, lat2.data, f2.data, vb1, vb2,  dtype='float')\n",
    "\n",
    "# compute histogram of linear indices\n",
    "h, lbins = dask.array.histogram(i, bins=np.arange(-.5,(vb1['imax']+1)*(vb2['imax']+1)+0.5,1.), \\\n",
    "                                weights=EdA.data)\n",
    "hnorm, lbins = dask.array.histogram(i, bins=np.arange(-.5,(vb1['imax']+1)*(vb2['imax']+1)+0.5,1.), \\\n",
    "                                weights=dA.data)\n",
    "\n",
    "# normalize and reshape\n",
    "H = h.compute()\n",
    "Hnorm = hnorm.compute()\n",
    "H = H/Hnorm\n",
    "H = H.reshape((vb1['imax']+1,vb2['imax']+1), order='F')\n",
    "Hnorm = Hnorm.reshape((vb1['imax']+1,vb2['imax']+1), order='F')\n",
    "\n",
    "# put H back into an xarray\n",
    "ds_zavg = xr.Dataset({'E': (['lat', 'freq_time'],  H[1:-1,1:-1]), \\\n",
    "                      'A': (['lat'],  Hnorm[1:-1,1])}, \\\n",
    "                     coords={'lat': lat_center, 'freq_time': f_center})\n",
    "ds_zavg = ds_zavg.sortby('freq_time')\n",
    "ds_zavg.to_netcdf(E_dir+'E_zavg_f%02d.nc'%face, mode='w')\n",
    "    "
   ]
  },
  {
   "cell_type": "code",
   "execution_count": null,
   "metadata": {},
   "outputs": [],
   "source": [
    "# plot\n",
    "\n",
    "# ds_zavg = xr.open_dataset(E_dir+'E_zavg_f%02d.nc'%face)\n",
    "np.log10(ds_zavg.E).plot()"
   ]
  },
  {
   "cell_type": "markdown",
   "metadata": {},
   "source": [
    "---\n",
    "\n",
    "# 2: All faces"
   ]
  },
  {
   "cell_type": "markdown",
   "metadata": {},
   "source": [
    "## compute and store spectra for all faces"
   ]
  },
  {
   "cell_type": "code",
   "execution_count": null,
   "metadata": {},
   "outputs": [
    {
     "name": "stderr",
     "output_type": "stream",
     "text": [
      "/home1/datahome/aponte/.miniconda3/envs/equinox/lib/python3.6/site-packages/xrft/xrft.py:272: FutureWarning: xarray.DataArray.__contains__ currently checks membership in DataArray.coords, but in xarray v0.11 will change to check membership in array values.\n",
      "  elif d in da:\n",
      "/home1/datahome/aponte/.miniconda3/envs/equinox/lib/python3.6/site-packages/distributed/worker.py:742: UserWarning: Large object of size 4.70 MB detected in task graph: \n",
      "  (\"('astype-3379f1512f49c194ee0bb19309ac6f7e', 0, 0 ... bd30>]), False)\n",
      "Consider scattering large objects ahead of time\n",
      "with client.scatter to reduce scheduler burden and \n",
      "keep data on workers\n",
      "\n",
      "    future = client.submit(func, big_data)    # bad\n",
      "\n",
      "    big_future = client.scatter(big_data)     # good\n",
      "    future = client.submit(func, big_future)  # good\n",
      "  % (format_bytes(len(b)), s))\n"
     ]
    }
   ],
   "source": [
    "# same but loop over faces now\n",
    "\n",
    "# number of files to load for each face (1 file = 10 days)\n",
    "Nf = 4\n",
    "\n",
    "mgrid = xr.open_dataset('/home1/scratch/aponte/mit_grid_t.nc')\n",
    "mgrid = mgrid.drop(['XG','YG','i_g','j_g','k','k_u','k_l','k_p1'])\n",
    "\n",
    "for face in range(13):\n",
    "\n",
    "    # could add a test if files exists\n",
    "    \n",
    "    filenames = sorted(glob(ncdata_dir+v+'_f%02d_t*.nc' %(face)))\n",
    "    filenames = filenames[:Nf]\n",
    "\n",
    "    grid = mgrid.isel(face=face)\n",
    "    \n",
    "    ds = xr.open_mfdataset(filenames, chunks={'i':10, 'j':432}, concat_dim='time', compat='equals')\n",
    "    #ds = ds.isel(time=slice(0,3000))\n",
    "    \n",
    "    chunks={'time': len(ds['time'])}\n",
    "    ds = ds.chunk(chunks)\n",
    "\n",
    "    eta = ds[v]\n",
    "    \n",
    "    v_fft = xrft.dft(eta.fillna(0.), dim=['time'], shift=False, detrend='linear')\n",
    "    E = (v_fft*v_fft.conj()).where(v_fft!=0., drop=False)\n",
    "    E = E.astype('f8').rename('E')\n",
    "    E = xr.merge([E, grid])\n",
    "\n",
    "    #file_E = scratch+'/mit_spec/E_f%02d.nc'%face\n",
    "    file_E = E_dir+'E_f%02d.nc'%face    \n",
    "    E.to_netcdf(file_E, mode='w')\n",
    "    \n",
    "    print('face %d done'%face )\n"
   ]
  },
  {
   "cell_type": "markdown",
   "metadata": {},
   "source": [
    "## zonally average spectra\n",
    "\n",
    "Faces are processed independantly, this alleviate the computational burden on the scheduler (large task graph issue)\n"
   ]
  },
  {
   "cell_type": "code",
   "execution_count": null,
   "metadata": {},
   "outputs": [
    {
     "name": "stderr",
     "output_type": "stream",
     "text": [
      "/home1/datahome/aponte/.miniconda3/envs/equinox/lib/python3.6/site-packages/ipykernel_launcher.py:57: RuntimeWarning: divide by zero encountered in true_divide\n",
      "/home1/datahome/aponte/.miniconda3/envs/equinox/lib/python3.6/site-packages/ipykernel_launcher.py:57: RuntimeWarning: invalid value encountered in true_divide\n"
     ]
    }
   ],
   "source": [
    "def fmap(v1, v2, b1, b2):\n",
    "        ''' This function provides the index of (v1,v2) coupled value position\n",
    "        in the 2D histogram array\n",
    "        '''\n",
    "        #\n",
    "        i1 = np.maximum(np.rint((v1-b1['min'])/b1['d'])+1,0)\n",
    "        i1 = np.minimum(i1,b1['imax'])\n",
    "        #\n",
    "        i2 = np.maximum(np.rint((v2-b2['min'])/b2['d'])+1,0)\n",
    "        i2 = np.minimum(i2,b2['imax'])\n",
    "        return i1+i2*(b1['imax']+1)\n",
    "\n",
    "idum = 0\n",
    "for face in range(13):\n",
    "\n",
    "    file_E = E_dir+'E_f%02d.nc'%face    \n",
    "    ds = xr.open_dataset(file_E, chunks={'i': 1, 'j': 2160})\n",
    "\n",
    "    #\n",
    "    if idum == 0:\n",
    "        f = ds['freq_time']\n",
    "        fv = f.values\n",
    "        # lat\n",
    "        vb1 = {'min': -60.,'max': 60., 'd': 1.}\n",
    "        # frequency\n",
    "        vb2 = {'min': fv.min(), 'max': fv.max(), 'd': fv[1]-fv[0]}\n",
    "        #\n",
    "        vb1['imax'] = np.int(np.rint((vb1['max']-vb1['min'])/vb1['d']))+1\n",
    "        vb2['imax'] = np.int(np.rint((vb2['max']-vb2['min'])/vb2['d']))+1\n",
    "        #\n",
    "        lat_edges = np.arange(vb1['min'], vb1['max']+vb1['d']*.1, vb1['d'])\n",
    "        lat_center = (lat_edges[:-1]+lat_edges[1:])*.5\n",
    "        f_edges = np.arange(vb2['min'], vb2['max']+vb2['d']*.1, vb2['d'])\n",
    "        f_center = (f_edges[:-1]+f_edges[1:])*.5\n",
    "        idum +=1 \n",
    "\n",
    "    # broadcast coordinates\n",
    "    lat = ds['YC']    \n",
    "    lat2 = (lat + 0.*ds.E).fillna(-100.)\n",
    "    f2 = lat2*0. + f\n",
    "    dA = ds.rA + 0.*f2\n",
    "    EdA = ds.E.fillna(0.)*dA\n",
    "\n",
    "    # apply get_index to v1 and v2 arrays\n",
    "    i = dask.array.map_blocks(fmap, lat2.data, f2.data, vb1, vb2,  dtype='float')\n",
    "    #print(i)\n",
    "\n",
    "    # compute histogram of linear indices\n",
    "    h, lbins = dask.array.histogram(i, bins=np.arange(-.5,(vb1['imax']+1)*(vb2['imax']+1)+0.5,1.), \\\n",
    "                                    weights=EdA.data)\n",
    "    hnorm, lbins = dask.array.histogram(i, bins=np.arange(-.5,(vb1['imax']+1)*(vb2['imax']+1)+0.5,1.), \\\n",
    "                                    weights=dA.data)\n",
    "\n",
    "    # normalize and reshape\n",
    "    H = h.compute()\n",
    "    Hnorm = hnorm.compute()\n",
    "    H = H/Hnorm\n",
    "    H = H.reshape((vb1['imax']+1,vb2['imax']+1), order='F')\n",
    "    Hnorm = Hnorm.reshape((vb1['imax']+1,vb2['imax']+1), order='F')\n",
    "\n",
    "    # put H back into an xarray\n",
    "    ds_zavg = xr.Dataset({'E': (['lat', 'freq_time'],  H[1:-1,1:-1]), \\\n",
    "                          'A': (['lat'],  Hnorm[1:-1,1])}, \\\n",
    "                         coords={'lat': lat_center, 'freq_time': f_center})\n",
    "    ds_zavg = ds_zavg.sortby('freq_time')\n",
    "    ds_zavg.to_netcdf(E_dir+'E_zavg_f%02d.nc'%face, mode='w')\n",
    "    "
   ]
  },
  {
   "cell_type": "markdown",
   "metadata": {},
   "source": [
    "## load and plot zonally averaged spectra"
   ]
  },
  {
   "cell_type": "code",
   "execution_count": 3,
   "metadata": {},
   "outputs": [
    {
     "name": "stdout",
     "output_type": "stream",
     "text": [
      "CPU times: user 128 ms, sys: 24 ms, total: 152 ms\n",
      "Wall time: 1.06 s\n",
      "<xarray.Dataset>\n",
      "Dimensions:    (face: 13, freq_time: 959, lat: 120)\n",
      "Coordinates:\n",
      "  * lat        (lat) float64 -59.5 -58.5 -57.5 -56.5 -55.5 -54.5 -53.5 -52.5 ...\n",
      "  * freq_time  (freq_time) float64 -0.0001387 -0.0001385 -0.0001382 ...\n",
      "Dimensions without coordinates: face\n",
      "Data variables:\n",
      "    E          (face, lat, freq_time) float64 dask.array<shape=(13, 120, 959), chunksize=(1, 120, 959)>\n",
      "    A          (face, lat) float64 dask.array<shape=(13, 120), chunksize=(1, 120)>\n"
     ]
    }
   ],
   "source": [
    "filenames = sorted(glob(E_dir+'E_zavg_f*.nc'))\n",
    "%time ds = xr.open_mfdataset(filenames, concat_dim='face', compat='equals')\n",
    "print(ds)"
   ]
  },
  {
   "cell_type": "code",
   "execution_count": 4,
   "metadata": {},
   "outputs": [
    {
     "name": "stdout",
     "output_type": "stream",
     "text": [
      "<xarray.DataArray (lat: 120, freq_time: 959)>\n",
      "dask.array<shape=(120, 959), dtype=float64, chunksize=(120, 959)>\n",
      "Coordinates:\n",
      "  * lat        (lat) float64 -59.5 -58.5 -57.5 -56.5 -55.5 -54.5 -53.5 -52.5 ...\n",
      "  * freq_time  (freq_time) float64 -0.0001387 -0.0001385 -0.0001382 ...\n"
     ]
    }
   ],
   "source": [
    "E = (ds.E*ds.A).sum(dim='face') / ds.A.sum(dim='face')\n",
    "print(E)"
   ]
  },
  {
   "cell_type": "code",
   "execution_count": 25,
   "metadata": {},
   "outputs": [
    {
     "data": {
      "text/plain": [
       "[<matplotlib.lines.Line2D at 0x2aabb7ea76a0>]"
      ]
     },
     "execution_count": 25,
     "metadata": {},
     "output_type": "execute_result"
    },
    {
     "data": {
      "image/png": "[encoded data removed]",
      "text/plain": [
       "<Figure size 1080x720 with 2 Axes>"
      ]
     },
     "metadata": {},
     "output_type": "display_data"
    }
   ],
   "source": [
    "plt.figure(figsize=(15,10))\n",
    "ax = plt.subplot(1,1,1)\n",
    "E = E.assign_coords(freq_cpd=E.freq_time * 86400.)\n",
    "np.log10(E).plot.pcolormesh(ax=ax, vmin=-2., vmax=3., x='freq_cpd', y='lat')\n",
    "ax.set_xticks(list(ax.get_xticks()) + [-2., -1., 1., 2.])\n",
    "ax.set_xlim(-12., 12.)\n",
    "ax.set_xlim(-5., 5.)\n",
    "\n",
    "# add coriolis frequency\n",
    "f = 2.*2.*np.pi/86400. * np.sin(np.deg2rad(E.lat))\n",
    "ax.plot(f*86400./2./np.pi,f.lat,'k--')\n",
    "ax.plot(-f*86400./2./np.pi,f.lat,'k--')\n",
    "\n",
    "\n",
    "#, x=E.freq_time*86400)"
   ]
  },
  {
   "cell_type": "markdown",
   "metadata": {},
   "source": [
    "---"
   ]
  },
  {
   "cell_type": "code",
   "execution_count": 15,
   "metadata": {},
   "outputs": [
    {
     "data": {
      "text/html": [
       "<table style=\"border: 2px solid white;\">\n",
       "<tr>\n",
       "<td style=\"vertical-align: top; border: 0px solid white\">\n",
       "<h3>Client</h3>\n",
       "<ul>\n",
       "  <li><b>Scheduler: </b>tcp://10.148.0.220:8786\n",
       "  <li><b>Dashboard: </b><a href='http://10.148.0.220:8787/status' target='_blank'>http://10.148.0.220:8787/status</a>\n",
       "</ul>\n",
       "</td>\n",
       "<td style=\"vertical-align: top; border: 0px solid white\">\n",
       "<h3>Cluster</h3>\n",
       "<ul>\n",
       "  <li><b>Workers: </b>31</li>\n",
       "  <li><b>Cores: </b>434</li>\n",
       "  <li><b>Memory: </b>3100.00 GB</li>\n",
       "</ul>\n",
       "</td>\n",
       "</tr>\n",
       "</table>"
      ],
      "text/plain": [
       "<Client: scheduler='tcp://10.148.0.220:8786' processes=30 cores=420>"
      ]
     },
     "execution_count": 15,
     "metadata": {},
     "output_type": "execute_result"
    }
   ],
   "source": [
    "client.restart()"
   ]
  }
 ],
 "metadata": {
  "kernelspec": {
   "display_name": "Python 3",
   "language": "python",
   "name": "python3"
  },
  "language_info": {
   "codemirror_mode": {
    "name": "ipython",
    "version": 3
   },
   "file_extension": ".py",
   "mimetype": "text/x-python",
   "name": "python",
   "nbconvert_exporter": "python",
   "pygments_lexer": "ipython3",
   "version": "3.6.5"
  }
 },
 "nbformat": 4,
 "nbformat_minor": 2
}
