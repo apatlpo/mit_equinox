{
 "cells": [
  {
   "cell_type": "markdown",
   "metadata": {},
   "source": [
    "# band-pass filtering\n",
    "\n",
    "FIR filter\n",
    "\n",
    "with `apply_ufunc`, an alternative would have been with [xscale](http://xscale.readthedocs.io/en/latest/)\n"
   ]
  },
  {
   "cell_type": "markdown",
   "metadata": {},
   "source": [
    "---"
   ]
  },
  {
   "cell_type": "code",
   "execution_count": 1,
   "metadata": {},
   "outputs": [
    {
     "name": "stderr",
     "output_type": "stream",
     "text": [
      "/home1/datahome/aponte/.miniconda3/envs/equinox/lib/python3.6/site-packages/cmocean/tools.py:76: MatplotlibDeprecationWarning: The is_string_like function was deprecated in version 2.1.\n",
      "  if not mpl.cbook.is_string_like(rgbin[0]):\n"
     ]
    }
   ],
   "source": [
    "import os\n",
    "from glob import glob\n",
    "import numpy as np\n",
    "import dask\n",
    "import xarray as xr\n",
    "from matplotlib import pyplot as plt\n",
    "%matplotlib inline\n",
    "\n",
    "from scipy import signal\n",
    "import scipy.ndimage as im\n",
    "\n",
    "from mitequinox.utils import *"
   ]
  },
  {
   "cell_type": "code",
   "execution_count": 2,
   "metadata": {},
   "outputs": [
    {
     "name": "stderr",
     "output_type": "stream",
     "text": [
      "/home1/datahome/aponte/.miniconda3/envs/equinox/lib/python3.6/site-packages/distributed/utils.py:128: RuntimeWarning: Couldn't detect a suitable IP address for reaching '8.8.8.8', defaulting to '127.0.0.1': [Errno 101] Network is unreachable\n",
      "  % (host, default, e), RuntimeWarning)\n"
     ]
    }
   ],
   "source": [
    "from dask_jobqueue import PBSCluster\n",
    "local_dir = os.getenv('TMPDIR')\n",
    "cluster = PBSCluster(local_directory=local_dir)\n",
    "#print(cluster.job_script())\n",
    "w = cluster.start_workers(20)"
   ]
  },
  {
   "cell_type": "code",
   "execution_count": 3,
   "metadata": {},
   "outputs": [],
   "source": [
    "# get dask handles and check dask server status\n",
    "from dask.distributed import Client\n",
    "client = Client(cluster)"
   ]
  },
  {
   "cell_type": "code",
   "execution_count": 7,
   "metadata": {},
   "outputs": [
    {
     "data": {
      "text/html": [
       "<table style=\"border: 2px solid white;\">\n",
       "<tr>\n",
       "<td style=\"vertical-align: top; border: 0px solid white\">\n",
       "<h3>Client</h3>\n",
       "<ul>\n",
       "  <li><b>Scheduler: </b>tcp://10.148.1.2:47180\n",
       "  <li><b>Dashboard: </b><a href='http://10.148.1.2:8787/status' target='_blank'>http://10.148.1.2:8787/status</a>\n",
       "</ul>\n",
       "</td>\n",
       "<td style=\"vertical-align: top; border: 0px solid white\">\n",
       "<h3>Cluster</h3>\n",
       "<ul>\n",
       "  <li><b>Workers: </b>16</li>\n",
       "  <li><b>Cores: </b>64</li>\n",
       "  <li><b>Memory: </b>800.00 GB</li>\n",
       "</ul>\n",
       "</td>\n",
       "</tr>\n",
       "</table>"
      ],
      "text/plain": [
       "<Client: scheduler='tcp://10.148.1.2:47180' processes=16 cores=64>"
      ]
     },
     "execution_count": 7,
     "metadata": {},
     "output_type": "execute_result"
    }
   ],
   "source": [
    "client"
   ]
  },
  {
   "cell_type": "markdown",
   "metadata": {},
   "source": [
    "---\n",
    "\n",
    "# 0: variable select and path\n"
   ]
  },
  {
   "cell_type": "code",
   "execution_count": 5,
   "metadata": {},
   "outputs": [],
   "source": [
    "v = 'SSU'\n",
    "\n",
    "## open files, nc files\n",
    "#ncdata_dir = datawork+'/mit_nc_t/'\n",
    "ncdata_dir = scratch+'/mit_nc_t/'\n",
    "#ncdata_dir = osi+'/mit_nc_t/'\n",
    "\n",
    "# dir where filtered data is stored\n",
    "out_dir = scratch+'/mit_filtered/'\n",
    "#out_dir = osi+'/mit_filtered/'"
   ]
  },
  {
   "cell_type": "markdown",
   "metadata": {},
   "source": [
    "--- \n",
    "\n",
    "# 1: One face "
   ]
  },
  {
   "cell_type": "markdown",
   "metadata": {},
   "source": [
    "## load data"
   ]
  },
  {
   "cell_type": "code",
   "execution_count": 6,
   "metadata": {},
   "outputs": [
    {
     "name": "stdout",
     "output_type": "stream",
     "text": [
      "Number of files available: 73\n",
      "Number of files processed: 73\n",
      "<xarray.Dataset>\n",
      "Dimensions:  (i: 4320, j: 4320)\n",
      "Coordinates:\n",
      "  * i        (i) int64 0 1 2 3 4 5 6 7 8 9 10 11 12 13 14 15 16 17 18 19 20 ...\n",
      "  * j        (j) int64 0 1 2 3 4 5 6 7 8 9 10 11 12 13 14 15 16 17 18 19 20 ...\n",
      "    face     int64 1\n",
      "    XC       (i, j) float32 ...\n",
      "    YC       (i, j) float32 ...\n",
      "    rA       (i, j) float32 ...\n",
      "    Depth    (i, j) float32 ...\n",
      "Data variables:\n",
      "    *empty*\n",
      "Attributes:\n",
      "    Conventions:  CF-1.6\n",
      "    title:        netCDF wrapper of MITgcm MDS binary data\n",
      "    source:       MITgcm\n",
      "    history:      Created by calling `open_mdsdataset(llc_method='smallchunks...\n"
     ]
    }
   ],
   "source": [
    "face = 1\n",
    "\n",
    "# search for right files, for example: Eta_f01_t*.nc\n",
    "filenames = sorted(glob(ncdata_dir+v+'_f%02d_t*.nc' %(face)))\n",
    "print('Number of files available: %d' %len(filenames))\n",
    "#filenames = filenames[:2] # tmp£\n",
    "print('Number of files processed: %d' %len(filenames))\n",
    "\n",
    "grid = xr.open_dataset(osi+'mit_grid_t.nc')\n",
    "grid = grid.isel(face=face).drop(['XG','YG','i_g','j_g','k','k_u','k_l','k_p1'])\n",
    "print(grid)"
   ]
  },
  {
   "cell_type": "code",
   "execution_count": 18,
   "metadata": {},
   "outputs": [
    {
     "name": "stdout",
     "output_type": "stream",
     "text": [
      "CPU times: user 3.5 s, sys: 368 ms, total: 3.87 s\n",
      "Wall time: 3.84 s\n",
      "<xarray.Dataset>\n",
      "Dimensions:    (i: 4320, j: 4320, time: 8760)\n",
      "Coordinates:\n",
      "  * i          (i) int64 0 1 2 3 4 5 6 7 8 9 10 11 12 13 14 15 16 17 18 19 ...\n",
      "  * j          (j) int64 0 1 2 3 4 5 6 7 8 9 10 11 12 13 14 15 16 17 18 19 ...\n",
      "    face       int64 1\n",
      "  * time       (time) float64 5.702e+06 5.706e+06 5.71e+06 5.713e+06 ...\n",
      "    dtime      (time) datetime64[ns] dask.array<shape=(8760,), chunksize=(120,)>\n",
      "    time_days  (time) float64 66.0 66.04 66.08 66.12 66.17 66.21 66.25 66.29 ...\n",
      "Data variables:\n",
      "    SSU        (i, j, time) float32 dask.array<shape=(4320, 4320, 8760), chunksize=(1, 4320, 120)>\n",
      "\n",
      " data size: 653.9 GB\n"
     ]
    }
   ],
   "source": [
    "%time ds0 = xr.open_mfdataset(filenames, chunks={'i':1}, concat_dim='time', compat='equals')\n",
    "\n",
    "ds = ds0\n",
    "\n",
    "ds = ds.assign_coords(time_days=ds['time']/86400.)\n",
    "\n",
    "print(ds)\n",
    "print('\\n data size: %.1f GB' %(ds.nbytes / 1e9))"
   ]
  },
  {
   "cell_type": "code",
   "execution_count": 19,
   "metadata": {},
   "outputs": [
    {
     "name": "stdout",
     "output_type": "stream",
     "text": [
      "CPU times: user 1.55 s, sys: 28 ms, total: 1.58 s\n",
      "Wall time: 1.57 s\n"
     ]
    }
   ],
   "source": [
    "# apply_ufunc requires one chunk along core dimensions\n",
    "chunks={'time': len(ds['time'])}\n",
    "%time ds = ds.chunk(chunks)"
   ]
  },
  {
   "cell_type": "code",
   "execution_count": 20,
   "metadata": {},
   "outputs": [],
   "source": [
    "#%time eta = ds['Eta'].persist()"
   ]
  },
  {
   "cell_type": "markdown",
   "metadata": {},
   "source": [
    "---\n",
    "\n",
    "## define the filter\n"
   ]
  },
  {
   "cell_type": "code",
   "execution_count": 21,
   "metadata": {},
   "outputs": [
    {
     "data": {
      "image/png": "[encoded data removed]",
      "text/plain": [
       "<Figure size 432x288 with 1 Axes>"
      ]
     },
     "metadata": {},
     "output_type": "display_data"
    }
   ],
   "source": [
    "dt = (ds.time[1]-ds.time[0])\n",
    "h = signal.firwin(24*5, cutoff=[1./(14.*3600.),1./(10.*3600.)], pass_zero=False, nyq=1./2/dt, scale=True)\n",
    "\n",
    "ax = plt.subplot(111)\n",
    "ax.plot(h)\n",
    "ax.grid()"
   ]
  },
  {
   "cell_type": "markdown",
   "metadata": {},
   "source": [
    "---\n",
    "\n",
    "## filtering @ 1 location"
   ]
  },
  {
   "cell_type": "code",
   "execution_count": 22,
   "metadata": {},
   "outputs": [],
   "source": [
    "#lds = ds.isel(i=slice(5), j=slice(4000,4100))\n",
    "lds = ds.isel(i=slice(5), j=slice(0,100))"
   ]
  },
  {
   "cell_type": "code",
   "execution_count": 23,
   "metadata": {},
   "outputs": [
    {
     "data": {
      "text/plain": [
       "[<matplotlib.lines.Line2D at 0x2aab2bc5cba8>]"
      ]
     },
     "execution_count": 23,
     "metadata": {},
     "output_type": "execute_result"
    },
    {
     "data": {
      "image/png": "[encoded data removed]",
      "text/plain": [
       "<Figure size 432x288 with 1 Axes>"
      ]
     },
     "metadata": {},
     "output_type": "display_data"
    }
   ],
   "source": [
    "lds[v].isel(i=0,j=0).plot()"
   ]
  },
  {
   "cell_type": "code",
   "execution_count": 24,
   "metadata": {},
   "outputs": [],
   "source": [
    "def conv(x):\n",
    "    return im.convolve1d(x, h, axis=2, mode='constant')\n",
    "\n",
    "def filt(v):\n",
    "    return xr.apply_ufunc(conv, v,\n",
    "                    dask='parallelized', output_dtypes=[float],\n",
    "                    input_core_dims=[['time']],\n",
    "                    output_core_dims=[['time']],\n",
    "                    output_sizes={'time': len(v.time)})    \n",
    "    "
   ]
  },
  {
   "cell_type": "code",
   "execution_count": 25,
   "metadata": {},
   "outputs": [
    {
     "name": "stdout",
     "output_type": "stream",
     "text": [
      "<xarray.DataArray 'SSU' (i: 5, j: 100, time: 8760)>\n",
      "dask.array<shape=(5, 100, 8760), dtype=float64, chunksize=(1, 100, 8760)>\n",
      "Coordinates:\n",
      "  * i          (i) int64 0 1 2 3 4\n",
      "  * j          (j) int64 0 1 2 3 4 5 6 7 8 9 10 11 12 13 14 15 16 17 18 19 ...\n",
      "    face       int64 1\n",
      "  * time       (time) float64 5.702e+06 5.706e+06 5.71e+06 5.713e+06 ...\n",
      "    dtime      (time) datetime64[ns] dask.array<shape=(8760,), chunksize=(8760,)>\n",
      "    time_days  (time) float64 dask.array<shape=(8760,), chunksize=(8760,)>\n"
     ]
    }
   ],
   "source": [
    "lds_f = filt(lds[v])\n",
    "print(lds_f)"
   ]
  },
  {
   "cell_type": "code",
   "execution_count": 26,
   "metadata": {},
   "outputs": [
    {
     "data": {
      "text/plain": [
       "[<matplotlib.lines.Line2D at 0x2aab2bcd1c88>]"
      ]
     },
     "execution_count": 26,
     "metadata": {},
     "output_type": "execute_result"
    },
    {
     "data": {
      "image/png": "[encoded data removed]",
      "text/plain": [
       "<Figure size 432x288 with 1 Axes>"
      ]
     },
     "metadata": {},
     "output_type": "display_data"
    }
   ],
   "source": [
    "it = slice(500,1000)\n",
    "lds[v].isel(i=0,j=0,time=it).plot()\n",
    "(lds[v] - lds_f).isel(i=0,j=0,time=it).plot()\n",
    "lds_f.isel(i=0,j=0,time=it).plot()"
   ]
  },
  {
   "cell_type": "markdown",
   "metadata": {},
   "source": [
    "---\n",
    "\n",
    "## filtering over the entire tile"
   ]
  },
  {
   "cell_type": "code",
   "execution_count": 27,
   "metadata": {},
   "outputs": [],
   "source": [
    "v_f =filt(ds[v])"
   ]
  },
  {
   "cell_type": "code",
   "execution_count": 28,
   "metadata": {},
   "outputs": [
    {
     "name": "stdout",
     "output_type": "stream",
     "text": [
      "<xarray.DataArray 'SSU' (i: 4320, j: 4320, time: 8760)>\n",
      "dask.array<shape=(4320, 4320, 8760), dtype=float64, chunksize=(1, 4320, 8760)>\n",
      "Coordinates:\n",
      "  * i          (i) int64 0 1 2 3 4 5 6 7 8 9 10 11 12 13 14 15 16 17 18 19 ...\n",
      "  * j          (j) int64 0 1 2 3 4 5 6 7 8 9 10 11 12 13 14 15 16 17 18 19 ...\n",
      "    face       int64 1\n",
      "  * time       (time) float64 5.702e+06 5.706e+06 5.71e+06 5.713e+06 ...\n",
      "    dtime      (time) datetime64[ns] dask.array<shape=(8760,), chunksize=(8760,)>\n",
      "    time_days  (time) float64 dask.array<shape=(8760,), chunksize=(8760,)>\n"
     ]
    }
   ],
   "source": [
    "print(v_f)"
   ]
  },
  {
   "cell_type": "code",
   "execution_count": null,
   "metadata": {},
   "outputs": [],
   "source": [
    "it=100\n",
    "\n",
    "lv =  ds[v].isel(time=it)\n",
    "lv = lv.persist()\n",
    "\n",
    "lvf = v_f.isel(time=it)\n",
    "lvf = lvf.persist()"
   ]
  },
  {
   "cell_type": "code",
   "execution_count": null,
   "metadata": {},
   "outputs": [],
   "source": [
    "plt.figure(figsize=(10,10))\n",
    "\n",
    "#\n",
    "ax=plt.subplot(221)\n",
    "lv.plot(ax=ax, x='i', y='j')\n",
    "ax.set_title(v)\n",
    "\n",
    "#\n",
    "ax=plt.subplot(222)\n",
    "lvf.plot(ax=ax, x='i', y='j')\n",
    "ax.set_title('filtered '+v)\n",
    "\n",
    "#\n",
    "ax=plt.subplot(223)\n",
    "(lv-lvf).plot(ax=ax, x='i', y='j')\n",
    "ax.set_title('anomaly '+v)\n"
   ]
  },
  {
   "cell_type": "code",
   "execution_count": null,
   "metadata": {},
   "outputs": [],
   "source": []
  },
  {
   "cell_type": "code",
   "execution_count": null,
   "metadata": {},
   "outputs": [],
   "source": []
  },
  {
   "cell_type": "code",
   "execution_count": null,
   "metadata": {},
   "outputs": [],
   "source": []
  },
  {
   "cell_type": "code",
   "execution_count": null,
   "metadata": {},
   "outputs": [],
   "source": [
    "# store in netcdf files\n",
    "to do \n",
    "\n",
    "Nt = 24*10 # time windows to consider\n",
    "fsize_bound = 1e20\n",
    "it = np.arange(lds.time.size/Nt-1).astype(int)*Nt\n",
    "#it = np.arange(10).astype(int)*Nt # tmp\n",
    "assert it[-1]+Nt<lds.time.size\n",
    "#\n",
    "#for face in range(ds['face'].size):\n",
    "for i, t in enumerate(it):\n",
    "    #\n",
    "    file_out = out_dir+'/%s_filtered_f%02d_t%02d.nc'%(v, face, i)\n",
    "    if not os.path.isfile(file_out) or os.path.getsize(file_out) < fsize_bound:            \n",
    "        dv = lds_f.isel(time=slice(t,t+Nt))\n",
    "        #\n",
    "        dv = dv.chunk({'time': dv['time'].size, 'i': 432, 'j': 432})\n",
    "        chunksizes = [432, 432, dv['time'].size]\n",
    "        #\n",
    "        dv = dv.load() # this may be required in order to prevent pickle related errors\n",
    "        #\n",
    "        while True:\n",
    "            try:\n",
    "                %time dv.to_netcdf(file_out, mode='w', unlimited_dims=['time'], \\\n",
    "                                   encoding={'Eta': {'chunksizes': chunksizes}})\n",
    "            except:\n",
    "                print('Failure')\n",
    "            break\n",
    "            #if os.path.isfile(file_out) and os.path.getsize(file_out)>fsize_bound:\n",
    "            #    #\n",
    "            #    print('face=%d / i=%d'%(face,i))\n",
    "            #    break\n",
    "    else:\n",
    "        print('face=%d / i=%d - allready processed'%(face,i))"
   ]
  },
  {
   "cell_type": "code",
   "execution_count": null,
   "metadata": {},
   "outputs": [],
   "source": []
  },
  {
   "cell_type": "markdown",
   "metadata": {},
   "source": [
    "---"
   ]
  },
  {
   "cell_type": "code",
   "execution_count": 27,
   "metadata": {},
   "outputs": [],
   "source": [
    "# add workers\n",
    "w = cluster.start_workers(10)"
   ]
  },
  {
   "cell_type": "code",
   "execution_count": null,
   "metadata": {},
   "outputs": [],
   "source": [
    "# kill scheduler, workers\n",
    "cluster.scheduler.close()\n",
    "#cluster.stop_workers(cluster.jobs)"
   ]
  },
  {
   "cell_type": "code",
   "execution_count": null,
   "metadata": {},
   "outputs": [],
   "source": [
    "# restart workers\n",
    "client.restart()"
   ]
  },
  {
   "cell_type": "code",
   "execution_count": 31,
   "metadata": {},
   "outputs": [
    {
     "data": {
      "text/html": [
       "<table style=\"border: 2px solid white;\">\n",
       "<tr>\n",
       "<td style=\"vertical-align: top; border: 0px solid white\">\n",
       "<h3>Client</h3>\n",
       "<ul>\n",
       "  <li><b>Scheduler: </b>tcp://10.148.1.2:50233\n",
       "  <li><b>Dashboard: </b><a href='http://10.148.1.2:8787/status' target='_blank'>http://10.148.1.2:8787/status</a>\n",
       "</ul>\n",
       "</td>\n",
       "<td style=\"vertical-align: top; border: 0px solid white\">\n",
       "<h3>Cluster</h3>\n",
       "<ul>\n",
       "  <li><b>Workers: </b>60</li>\n",
       "  <li><b>Cores: </b>240</li>\n",
       "  <li><b>Memory: </b>3000.00 GB</li>\n",
       "</ul>\n",
       "</td>\n",
       "</tr>\n",
       "</table>"
      ],
      "text/plain": [
       "<Client: scheduler='tcp://10.148.1.2:50233' processes=60 cores=240>"
      ]
     },
     "execution_count": 31,
     "metadata": {},
     "output_type": "execute_result"
    }
   ],
   "source": [
    "client"
   ]
  },
  {
   "cell_type": "code",
   "execution_count": null,
   "metadata": {},
   "outputs": [],
   "source": []
  }
 ],
 "metadata": {
  "kernelspec": {
   "display_name": "Python 3",
   "language": "python",
   "name": "python3"
  },
  "language_info": {
   "codemirror_mode": {
    "name": "ipython",
    "version": 3
   },
   "file_extension": ".py",
   "mimetype": "text/x-python",
   "name": "python",
   "nbconvert_exporter": "python",
   "pygments_lexer": "ipython3",
   "version": "3.6.5"
  }
 },
 "nbformat": 4,
 "nbformat_minor": 2
}
