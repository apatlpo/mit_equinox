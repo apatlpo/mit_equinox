{
 "cells": [
  {
   "cell_type": "code",
   "execution_count": 1,
   "metadata": {},
   "outputs": [],
   "source": [
    "import os\n",
    "from glob import glob\n",
    "import pickle\n",
    "\n",
    "import dask.bag as db\n",
    "import dask.dataframe as dd\n",
    "import xarray as xr\n",
    "import pandas as pd\n",
    "import geopandas\n",
    "import numpy as np\n",
    "import datetime\n",
    "\n",
    "from matplotlib import pyplot as plt\n",
    "%matplotlib inline\n",
    "import cartopy.crs as ccrs\n",
    "import cartopy.feature as cfeature\n",
    "\n",
    "#from mitequinox.utils import *\n",
    "\n",
    "#root_dir = '/home1/datawork/xyu/Drifters/'\n",
    "#root_dir = '/Users/aponte/data/drifters/'\n",
    "#data_dir = root_dir+'drifter_data_v1.02/'\n",
    "data_dir = '/home/mp/pontea/scratch/'"
   ]
  },
  {
   "cell_type": "code",
   "execution_count": 2,
   "metadata": {},
   "outputs": [
    {
     "name": "stderr",
     "output_type": "stream",
     "text": [
      "/home/mp/pontea/.conda/envs/equinox/lib/python3.6/site-packages/dask_jobqueue/config.py:12: YAMLLoadWarning: calling yaml.load() without Loader=... is deprecated, as the default Loader is unsafe. Please read https://msg.pyyaml.org/load for full details.\n",
      "  defaults = yaml.load(f)\n",
      "/home/mp/pontea/.conda/envs/equinox/lib/python3.6/site-packages/distributed/deploy/local.py:138: UserWarning: diagnostics_port has been deprecated. Please use `dashboard_address=` instead\n",
      "  \"diagnostics_port has been deprecated. \"\n"
     ]
    }
   ],
   "source": [
    "from dask_jobqueue import PBSCluster\n",
    "cluster = PBSCluster(cores=1, walltime='12:00:00', memory='10GB')\n",
    "w = cluster.scale(40)\n",
    "#w = cluster.scale(5) # postprocessing"
   ]
  },
  {
   "cell_type": "code",
   "execution_count": 3,
   "metadata": {},
   "outputs": [],
   "source": [
    "# get dask handles and check dask server status\n",
    "from dask.distributed import Client\n",
    "client = Client(cluster)\n",
    "#client = Client()"
   ]
  },
  {
   "cell_type": "code",
   "execution_count": 5,
   "metadata": {},
   "outputs": [
    {
     "data": {
      "text/html": [
       "<table style=\"border: 2px solid white;\">\n",
       "<tr>\n",
       "<td style=\"vertical-align: top; border: 0px solid white\">\n",
       "<h3>Client</h3>\n",
       "<ul>\n",
       "  <li><b>Scheduler: </b>tcp://10.135.39.59:60192\n",
       "  <li><b>Dashboard: </b><a href='http://10.135.39.59:8787/status' target='_blank'>http://10.135.39.59:8787/status</a>\n",
       "</ul>\n",
       "</td>\n",
       "<td style=\"vertical-align: top; border: 0px solid white\">\n",
       "<h3>Cluster</h3>\n",
       "<ul>\n",
       "  <li><b>Workers: </b>40</li>\n",
       "  <li><b>Cores: </b>40</li>\n",
       "  <li><b>Memory: </b>400.00 GB</li>\n",
       "</ul>\n",
       "</td>\n",
       "</tr>\n",
       "</table>"
      ],
      "text/plain": [
       "<Client: scheduler='tcp://10.135.39.59:60192' processes=40 cores=40>"
      ]
     },
     "execution_count": 5,
     "metadata": {},
     "output_type": "execute_result"
    }
   ],
   "source": [
    "client"
   ]
  },
  {
   "cell_type": "code",
   "execution_count": null,
   "metadata": {},
   "outputs": [],
   "source": []
  },
  {
   "cell_type": "code",
   "execution_count": 16,
   "metadata": {},
   "outputs": [
    {
     "name": "stderr",
     "output_type": "stream",
     "text": [
      "distributed.client - ERROR - Failed to reconnect to scheduler after 10.00 seconds, closing client\n"
     ]
    }
   ],
   "source": [
    "#client.close()\n",
    "cluster.close()"
   ]
  },
  {
   "cell_type": "markdown",
   "metadata": {},
   "source": [
    "---\n",
    "## utils"
   ]
  },
  {
   "cell_type": "code",
   "execution_count": 2,
   "metadata": {},
   "outputs": [],
   "source": [
    "def load_trajectory(ij, ncfile):\n",
    "    ds = xr.open_dataset(ncfile).isel(TIME=slice(ij[0],ij[1]-1))\n",
    "    df = ds.to_dataframe()\n",
    "    id = int(df['ID'][0])\n",
    "    df = df.drop(columns='ID')\n",
    "    return df, id\n",
    "\n",
    "def store(d):\n",
    "    file = data_dir+'drifters/d_%d.p' %d[1]\n",
    "    pickle.dump( d, open( file, 'wb' ) , protocol=-1)"
   ]
  },
  {
   "cell_type": "code",
   "execution_count": 3,
   "metadata": {},
   "outputs": [],
   "source": [
    "RADIUS_EARTH = 6378.0\n",
    "deg2rad = np.pi / 180.\n",
    "def haversine(lon1, lat1, lon2, lat2):\n",
    "    \"\"\"Computes the Haversine distance in kilometres between two points\n",
    "    :param x: first point or points as array, each as array of latitude, longitude in degrees\n",
    "    :param y: second point or points as array, each as array of latitude, longitude in degrees\n",
    "    :return: distance between the two points in kilometres\n",
    "    \"\"\"\n",
    "    llat1 = lat1 * deg2rad\n",
    "    llat2 = lat2 * deg2rad\n",
    "    llon1 = lon1 * deg2rad\n",
    "    llon2 = lon2 * deg2rad\n",
    "    arclen = 2 * np.arcsin(np.sqrt((np.sin((llat2 - llat1) / 2)) ** 2 +\n",
    "                                   np.cos(llat1) * np.cos(llat2) * (np.sin((llon2 - llon1) / 2)) ** 2))\n",
    "    return arclen * RADIUS_EARTH"
   ]
  },
  {
   "cell_type": "code",
   "execution_count": null,
   "metadata": {},
   "outputs": [],
   "source": [
    "def cross_traj(d1, iD):\n",
    "    D = [pickle.load(open(f, 'rb')) for f in files[iD]]\n",
    "    out = []\n",
    "    for d in D:\n",
    "        d2 = d[0]\n",
    "        try:\n",
    "            df = d1[0].join(d2, how='inner',lsuffix='_l',rsuffix='_r')\n",
    "            # groupby block of time and average\n",
    "            #dj = dj.groupby(pd.Grouper(freq='10D'))\n",
    "            #dj = dj.resample('10D').mean()\n",
    "            if not df.empty:\n",
    "                # compute distance\n",
    "                df['r'] = haversine(df['LON_l'],df['LAT_l'], \n",
    "                                    df['LON_r'],df['LAT_r'])\n",
    "                if not df[df['r']<300].empty:\n",
    "                    out.append([d[1],d1[1]])\n",
    "        except:\n",
    "            out.append([d[1],d1[1],'error'])\n",
    "    if out:\n",
    "        return out"
   ]
  },
  {
   "cell_type": "code",
   "execution_count": null,
   "metadata": {},
   "outputs": [],
   "source": [
    "def load_pair(p):\n",
    "    d0, id0 = pickle.load(open(data_dir+'drifters/%d.p'%p[0], 'rb'))\n",
    "    d1, id1 = pickle.load(open(data_dir+'drifters/%d.p'%p[1], 'rb'))\n",
    "    # get rid of gaps and interpolate if necessary\n",
    "    d0 = d0[~pd.isnull(d0.index)]\n",
    "    d1 = d1[~pd.isnull(d1.index)]\n",
    "    #\n",
    "    d0, d1 = d0.align(d1, join='inner')\n",
    "    # fill gaps, should keep track of this\n",
    "    d0 = d0.resample('H').interpolate('linear')\n",
    "    d1 = d1.resample('H').interpolate('linear')\n",
    "    # could convert to geopandas here\n",
    "    gd0 = geopandas.GeoDataFrame(d0, geometry=geopandas.points_from_xy(\n",
    "        d0.LON, d0.LAT))\n",
    "    gd1 = geopandas.GeoDataFrame(d1, geometry=geopandas.points_from_xy(\n",
    "        d1.LON, d1.LAT))\n",
    "    return gd0, gd1"
   ]
  },
  {
   "cell_type": "markdown",
   "metadata": {},
   "source": [
    "---\n",
    "\n",
    "## rewrite hourly data"
   ]
  },
  {
   "cell_type": "markdown",
   "metadata": {},
   "source": [
    "### inspect single file"
   ]
  },
  {
   "cell_type": "code",
   "execution_count": 4,
   "metadata": {},
   "outputs": [
    {
     "name": "stdout",
     "output_type": "stream",
     "text": [
      "<xarray.Dataset>\n",
      "Dimensions:  (TIME: 15230718)\n",
      "Coordinates:\n",
      "  * TIME     (TIME) datetime64[ns] 2005-04-15T20:00:00 ... NaT\n",
      "Data variables:\n",
      "    ID       (TIME) float64 ...\n",
      "    LAT      (TIME) float64 ...\n",
      "    LON      (TIME) float64 ...\n",
      "    U        (TIME) float64 ...\n",
      "    V        (TIME) float64 ...\n",
      "    LAT_ERR  (TIME) float64 ...\n",
      "    LON_ERR  (TIME) float64 ...\n",
      "    U_ERR    (TIME) float64 ...\n",
      "    V_ERR    (TIME) float64 ...\n",
      "    GAP      (TIME) timedelta64[ns] ...\n",
      "    RMSGAP   (TIME) timedelta64[ns] ...\n",
      "    DROGUE   (TIME) float64 ...\n",
      "Attributes:\n",
      "    title:        Hourly Argos-tracked drifters location and velocity estimat...\n",
      "    description:  This is version 1.02, block 1 of the dataset. See http://ww...\n",
      "    note:         For all variables of dimension TIME, interruptions in the e...\n",
      "    creator:      Shane Elipot and Rick Lumpkin\n",
      "    timestamp:    19-Dec-2018 13:25:49\n",
      "For all variables of dimension TIME, interruptions in the estimation along a single trajectory are indicated by \"Inf\" values; Individual trajectories are separated by \"NaN\" values; Thus, one can use the COL2CELL function of the JLAB Matlab toolbox (http://www.jmlilly.net) to convert each data matrix into a cell array with one component for each individual trajectory, without the need to load and loop for individual IDs, e.g. lat = col2cell(lat);\n"
     ]
    }
   ],
   "source": [
    "ncfile = data_dir+'driftertrajWMLE_1.02_block1.nc'\n",
    "ds = xr.open_dataset(ncfile)\n",
    "print(ds)\n",
    "print(ds.note)"
   ]
  },
  {
   "cell_type": "code",
   "execution_count": 5,
   "metadata": {},
   "outputs": [
    {
     "data": {
      "text/html": [
       "<div>\n",
       "<style scoped>\n",
       "    .dataframe tbody tr th:only-of-type {\n",
       "        vertical-align: middle;\n",
       "    }\n",
       "\n",
       "    .dataframe tbody tr th {\n",
       "        vertical-align: top;\n",
       "    }\n",
       "\n",
       "    .dataframe thead th {\n",
       "        text-align: right;\n",
       "    }\n",
       "</style>\n",
       "<table border=\"1\" class=\"dataframe\">\n",
       "  <thead>\n",
       "    <tr style=\"text-align: right;\">\n",
       "      <th></th>\n",
       "      <th>LAT</th>\n",
       "      <th>LON</th>\n",
       "      <th>U</th>\n",
       "      <th>V</th>\n",
       "      <th>LAT_ERR</th>\n",
       "      <th>LON_ERR</th>\n",
       "      <th>U_ERR</th>\n",
       "      <th>V_ERR</th>\n",
       "      <th>GAP</th>\n",
       "      <th>RMSGAP</th>\n",
       "      <th>DROGUE</th>\n",
       "    </tr>\n",
       "    <tr>\n",
       "      <th>TIME</th>\n",
       "      <th></th>\n",
       "      <th></th>\n",
       "      <th></th>\n",
       "      <th></th>\n",
       "      <th></th>\n",
       "      <th></th>\n",
       "      <th></th>\n",
       "      <th></th>\n",
       "      <th></th>\n",
       "      <th></th>\n",
       "      <th></th>\n",
       "    </tr>\n",
       "  </thead>\n",
       "  <tbody>\n",
       "    <tr>\n",
       "      <th>2005-04-15 20:00:00</th>\n",
       "      <td>47.47501</td>\n",
       "      <td>312.05118</td>\n",
       "      <td>-0.1733</td>\n",
       "      <td>0.2009</td>\n",
       "      <td>0.01129</td>\n",
       "      <td>0.04254</td>\n",
       "      <td>0.0</td>\n",
       "      <td>0.0</td>\n",
       "      <td>00:54:43.200000</td>\n",
       "      <td>01:08:24</td>\n",
       "      <td>1.0</td>\n",
       "    </tr>\n",
       "    <tr>\n",
       "      <th>2005-04-15 21:00:00</th>\n",
       "      <td>47.46839</td>\n",
       "      <td>312.04200</td>\n",
       "      <td>-0.1616</td>\n",
       "      <td>-0.5554</td>\n",
       "      <td>0.00987</td>\n",
       "      <td>0.01140</td>\n",
       "      <td>0.0</td>\n",
       "      <td>0.0</td>\n",
       "      <td>01:04:48</td>\n",
       "      <td>00:58:12</td>\n",
       "      <td>1.0</td>\n",
       "    </tr>\n",
       "    <tr>\n",
       "      <th>2005-04-15 22:00:00</th>\n",
       "      <td>47.44858</td>\n",
       "      <td>312.03870</td>\n",
       "      <td>0.8653</td>\n",
       "      <td>-0.5284</td>\n",
       "      <td>0.00537</td>\n",
       "      <td>0.01501</td>\n",
       "      <td>0.0</td>\n",
       "      <td>0.0</td>\n",
       "      <td>00:33:07.200000</td>\n",
       "      <td>00:47:38.400000</td>\n",
       "      <td>1.0</td>\n",
       "    </tr>\n",
       "    <tr>\n",
       "      <th>2005-04-15 23:00:00</th>\n",
       "      <td>47.43282</td>\n",
       "      <td>312.07433</td>\n",
       "      <td>0.4313</td>\n",
       "      <td>-0.4776</td>\n",
       "      <td>0.00058</td>\n",
       "      <td>0.00803</td>\n",
       "      <td>0.0</td>\n",
       "      <td>0.0</td>\n",
       "      <td>00:28:48</td>\n",
       "      <td>00:49:33.600000</td>\n",
       "      <td>1.0</td>\n",
       "    </tr>\n",
       "    <tr>\n",
       "      <th>2005-04-16 00:00:00</th>\n",
       "      <td>47.41716</td>\n",
       "      <td>312.07013</td>\n",
       "      <td>0.0575</td>\n",
       "      <td>-0.4887</td>\n",
       "      <td>0.00049</td>\n",
       "      <td>0.00729</td>\n",
       "      <td>0.0</td>\n",
       "      <td>0.0</td>\n",
       "      <td>01:12:00</td>\n",
       "      <td>00:57:18</td>\n",
       "      <td>1.0</td>\n",
       "    </tr>\n",
       "  </tbody>\n",
       "</table>\n",
       "</div>"
      ],
      "text/plain": [
       "                          LAT        LON       U       V  LAT_ERR  LON_ERR  \\\n",
       "TIME                                                                         \n",
       "2005-04-15 20:00:00  47.47501  312.05118 -0.1733  0.2009  0.01129  0.04254   \n",
       "2005-04-15 21:00:00  47.46839  312.04200 -0.1616 -0.5554  0.00987  0.01140   \n",
       "2005-04-15 22:00:00  47.44858  312.03870  0.8653 -0.5284  0.00537  0.01501   \n",
       "2005-04-15 23:00:00  47.43282  312.07433  0.4313 -0.4776  0.00058  0.00803   \n",
       "2005-04-16 00:00:00  47.41716  312.07013  0.0575 -0.4887  0.00049  0.00729   \n",
       "\n",
       "                     U_ERR  V_ERR             GAP          RMSGAP  DROGUE  \n",
       "TIME                                                                       \n",
       "2005-04-15 20:00:00    0.0    0.0 00:54:43.200000        01:08:24     1.0  \n",
       "2005-04-15 21:00:00    0.0    0.0        01:04:48        00:58:12     1.0  \n",
       "2005-04-15 22:00:00    0.0    0.0 00:33:07.200000 00:47:38.400000     1.0  \n",
       "2005-04-15 23:00:00    0.0    0.0        00:28:48 00:49:33.600000     1.0  \n",
       "2005-04-16 00:00:00    0.0    0.0        01:12:00        00:57:18     1.0  "
      ]
     },
     "execution_count": 5,
     "metadata": {},
     "output_type": "execute_result"
    }
   ],
   "source": [
    "inan = np.where(np.isnan(ds.LAT.values))[0]\n",
    "b = (db.from_sequence([(i+1,j) for i,j in zip(np.hstack([-1,inan])[:-1],inan)], \n",
    "                      npartitions=1000)\n",
    "     .map(load_trajectory, ncfile))\n",
    "b.take(1)[0][0].head()"
   ]
  },
  {
   "cell_type": "markdown",
   "metadata": {},
   "source": [
    "### process all nc block files"
   ]
  },
  {
   "cell_type": "code",
   "execution_count": 12,
   "metadata": {},
   "outputs": [
    {
     "name": "stdout",
     "output_type": "stream",
     "text": [
      "/home/mp/pontea/scratch/driftertrajWMLE_1.02_block1.nc\n",
      "/home/mp/pontea/scratch/driftertrajWMLE_1.02_block2.nc\n",
      "/home/mp/pontea/scratch/driftertrajWMLE_1.02_block3.nc\n",
      "/home/mp/pontea/scratch/driftertrajWMLE_1.02_block4.nc\n",
      "/home/mp/pontea/scratch/driftertrajWMLE_1.02_block5.nc\n",
      "/home/mp/pontea/scratch/driftertrajWMLE_1.02_block6.nc\n",
      "/home/mp/pontea/scratch/driftertrajWMLE_1.02_block7.nc\n"
     ]
    }
   ],
   "source": [
    "for ifile in range(1,8):\n",
    "    ncfile = data_dir+'driftertrajWMLE_1.02_block%d.nc' %ifile\n",
    "    #\n",
    "    ds = xr.open_dataset(ncfile)\n",
    "    inan = np.where(np.isnan(ds.LAT.values))[0]\n",
    "    #\n",
    "    b = (db.from_sequence([(i+1,j) for i,j in zip(np.hstack([-1,inan])[:-1],inan)], \n",
    "                          npartitions=1000)\n",
    "         .map(load_trajectory, ncfile))\n",
    "    b.map(store).compute()\n",
    "    print(ncfile)"
   ]
  },
  {
   "cell_type": "code",
   "execution_count": 12,
   "metadata": {},
   "outputs": [],
   "source": [
    "cluster.close()"
   ]
  },
  {
   "cell_type": "markdown",
   "metadata": {},
   "source": [
    "---\n",
    "\n",
    "## reload files and search for temporal and geographical proximity"
   ]
  },
  {
   "cell_type": "code",
   "execution_count": 30,
   "metadata": {},
   "outputs": [
    {
     "name": "stdout",
     "output_type": "stream",
     "text": [
      "12287\n"
     ]
    }
   ],
   "source": [
    "#files = glob('data/*.nc')\n",
    "files = glob(data_dir+'drifters/d_*.p')\n",
    "files = [f for f in files if 'pairs' not in f]\n",
    "print(len(files))"
   ]
  },
  {
   "cell_type": "markdown",
   "metadata": {},
   "source": [
    "### profile with few pairs"
   ]
  },
  {
   "cell_type": "code",
   "execution_count": 12,
   "metadata": {},
   "outputs": [
    {
     "name": "stdout",
     "output_type": "stream",
     "text": [
      "CPU times: user 22.2 ms, sys: 2.02 ms, total: 24.2 ms\n",
      "Wall time: 23.1 ms\n",
      "CPU times: user 7.04 ms, sys: 1 ms, total: 8.04 ms\n",
      "Wall time: 7.11 ms\n",
      "CPU times: user 1min 16s, sys: 1.59 s, total: 1min 17s\n",
      "Wall time: 1min 53s\n"
     ]
    }
   ],
   "source": [
    "Nc = 10\n",
    "i=0\n",
    "iD = slice(i, min(i+Nc,len(files)))\n",
    "%time b = ( db.from_sequence(files[:],npartitions=1000) \\\n",
    "              .map(lambda f: pickle.load(open(f, 'rb'))) )\n",
    "%time lb = b.map(cross, iD)\n",
    "%time p = lb.compute()"
   ]
  },
  {
   "cell_type": "code",
   "execution_count": 13,
   "metadata": {},
   "outputs": [
    {
     "name": "stdout",
     "output_type": "stream",
     "text": [
      "CPU times: user 21.6 ms, sys: 29 µs, total: 21.6 ms\n",
      "Wall time: 18.9 ms\n",
      "CPU times: user 9.3 ms, sys: 1.04 ms, total: 10.3 ms\n",
      "Wall time: 8.49 ms\n",
      "CPU times: user 12.6 s, sys: 520 ms, total: 13.2 s\n",
      "Wall time: 1min 1s\n"
     ]
    }
   ],
   "source": [
    "iD = slice(i, min(i+Nc,len(files)))\n",
    "b = ( db.from_sequence(files[:],npartitions=100) \\\n",
    "              .map(lambda f: pickle.load(open(f, 'rb'))) )\n",
    "lb = b.map(cross, iD)\n",
    "%time p = lb.compute()"
   ]
  },
  {
   "cell_type": "markdown",
   "metadata": {},
   "source": [
    "Best answer:"
   ]
  },
  {
   "cell_type": "code",
   "execution_count": 15,
   "metadata": {},
   "outputs": [
    {
     "name": "stdout",
     "output_type": "stream",
     "text": [
      "CPU times: user 85.1 ms, sys: 2.03 ms, total: 87.1 ms\n",
      "Wall time: 83.1 ms\n",
      "CPU times: user 12.5 ms, sys: 0 ns, total: 12.5 ms\n",
      "Wall time: 10.7 ms\n",
      "CPU times: user 1min 45s, sys: 4.03 s, total: 1min 49s\n",
      "Wall time: 8min 27s\n"
     ]
    }
   ],
   "source": [
    "Nc = 100\n",
    "iD = slice(i, min(i+Nc,len(files)))\n",
    "b = ( db.from_sequence(files[:],npartitions=100) \\\n",
    "              .map(lambda f: pickle.load(open(f, 'rb'))) )\n",
    "lb = b.map(cross, iD)\n",
    "%time p = lb.compute()"
   ]
  },
  {
   "cell_type": "markdown",
   "metadata": {},
   "source": [
    "### process all pairs"
   ]
  },
  {
   "cell_type": "code",
   "execution_count": 41,
   "metadata": {},
   "outputs": [
    {
     "name": "stdout",
     "output_type": "stream",
     "text": [
      "730 / 12287\n",
      "830 / 12287\n",
      "930 / 12287\n",
      "1030 / 12287\n",
      "1130 / 12287\n",
      "1230 / 12287\n",
      "1330 / 12287\n",
      "1430 / 12287\n",
      "1530 / 12287\n",
      "1630 / 12287\n",
      "1730 / 12287\n",
      "1830 / 12287\n",
      "1930 / 12287\n",
      "2030 / 12287\n",
      "2130 / 12287\n",
      "2230 / 12287\n",
      "2330 / 12287\n",
      "2430 / 12287\n",
      "2530 / 12287\n",
      "2630 / 12287\n",
      "2730 / 12287\n",
      "2830 / 12287\n",
      "2930 / 12287\n",
      "3030 / 12287\n",
      "3130 / 12287\n",
      "3230 / 12287\n",
      "3330 / 12287\n",
      "3430 / 12287\n",
      "3530 / 12287\n",
      "3630 / 12287\n",
      "3730 / 12287\n",
      "3830 / 12287\n",
      "3930 / 12287\n",
      "4030 / 12287\n",
      "4130 / 12287\n",
      "4230 / 12287\n",
      "4330 / 12287\n",
      "4430 / 12287\n",
      "4530 / 12287\n",
      "4630 / 12287\n",
      "4730 / 12287\n",
      "4830 / 12287\n",
      "4930 / 12287\n",
      "5030 / 12287\n",
      "5130 / 12287\n",
      "5230 / 12287\n",
      "5330 / 12287\n",
      "5430 / 12287\n",
      "5530 / 12287\n",
      "5630 / 12287\n",
      "5730 / 12287\n",
      "5830 / 12287\n",
      "5930 / 12287\n",
      "6030 / 12287\n",
      "6130 / 12287\n",
      "6230 / 12287\n",
      "6330 / 12287\n",
      "6430 / 12287\n",
      "6530 / 12287\n",
      "6630 / 12287\n",
      "6730 / 12287\n",
      "6830 / 12287\n",
      "6930 / 12287\n",
      "7030 / 12287\n",
      "7130 / 12287\n",
      "7230 / 12287\n",
      "7330 / 12287\n",
      "7430 / 12287\n",
      "7530 / 12287\n",
      "7630 / 12287\n",
      "7730 / 12287\n",
      "7830 / 12287\n",
      "7930 / 12287\n",
      "8030 / 12287\n",
      "8130 / 12287\n",
      "8230 / 12287\n",
      "8330 / 12287\n",
      "8430 / 12287\n",
      "8530 / 12287\n",
      "8630 / 12287\n",
      "8730 / 12287\n",
      "8830 / 12287\n",
      "8930 / 12287\n",
      "9030 / 12287\n",
      "9130 / 12287\n",
      "9230 / 12287\n",
      "9330 / 12287\n",
      "9430 / 12287\n",
      "9530 / 12287\n",
      "9630 / 12287\n",
      "9730 / 12287\n",
      "9830 / 12287\n",
      "9930 / 12287\n",
      "10030 / 12287\n",
      "10130 / 12287\n",
      "10230 / 12287\n",
      "10330 / 12287\n",
      "10430 / 12287\n",
      "10530 / 12287\n",
      "10630 / 12287\n",
      "10730 / 12287\n",
      "10830 / 12287\n",
      "10930 / 12287\n",
      "11030 / 12287\n",
      "11130 / 12287\n",
      "11230 / 12287\n",
      "11330 / 12287\n",
      "11430 / 12287\n",
      "11530 / 12287\n",
      "11630 / 12287\n",
      "11730 / 12287\n",
      "11830 / 12287\n",
      "11930 / 12287\n",
      "12030 / 12287\n",
      "12130 / 12287\n",
      "12230 / 12287\n"
     ]
    }
   ],
   "source": [
    "# loop around groups of drifters and\n",
    "Nc = 100\n",
    "i0 = 0 # historic restart at 730\n",
    "for i in range(i0,len(files),Nc):\n",
    "    \n",
    "    file = data_dir+'drifters/pairs_%d.p' %i\n",
    "    \n",
    "    if not os.path.isfile(file):\n",
    "\n",
    "        iD = slice(i, min(i+Nc,len(files)))\n",
    "\n",
    "        # load dask bag\n",
    "        b = ( db.from_sequence(files[i+1:], npartitions=100)\n",
    "              .map(lambda f: pickle.load(open(f, 'rb'))) )\n",
    "\n",
    "        # cross data\n",
    "        p = b.map(cross, iD).compute()\n",
    "        p = [llp for lp in p if lp is not None for llp in lp]\n",
    "        p = [lp for lp in p if (lp[0]!=lp[1])]\n",
    "\n",
    "        pickle.dump( p, open( file, 'wb' ) , protocol=-1)\n",
    "    \n",
    "    print('%d / %d'%(i,len(files)))"
   ]
  },
  {
   "cell_type": "code",
   "execution_count": 16,
   "metadata": {},
   "outputs": [
    {
     "data": {
      "text/plain": [
       "189"
      ]
     },
     "execution_count": 16,
     "metadata": {},
     "output_type": "execute_result"
    }
   ],
   "source": [
    "# concatenate all pairs files into one\n",
    "pfiles = glob(data_dir+'drifters/pairs_*.p')\n",
    "len(pfiles)"
   ]
  },
  {
   "cell_type": "code",
   "execution_count": 17,
   "metadata": {},
   "outputs": [
    {
     "data": {
      "text/plain": [
       "107490"
      ]
     },
     "execution_count": 17,
     "metadata": {},
     "output_type": "execute_result"
    }
   ],
   "source": [
    "pairs = []\n",
    "for f in pfiles:\n",
    "    pairs+=pickle.load(open(f, 'rb'))\n",
    "len(pairs)"
   ]
  },
  {
   "cell_type": "code",
   "execution_count": null,
   "metadata": {},
   "outputs": [],
   "source": [
    "# concatenating is not necessary:\n",
    "#pickle.dump( pairs, open(data_dir+'drifters/pairs.p' , 'wb' ) , protocol=-1)"
   ]
  },
  {
   "cell_type": "markdown",
   "metadata": {},
   "source": [
    "### gather stats about pairs and store"
   ]
  },
  {
   "cell_type": "code",
   "execution_count": 45,
   "metadata": {},
   "outputs": [],
   "source": [
    "d0, d1 = load_pair(pairs[1])"
   ]
  },
  {
   "cell_type": "code",
   "execution_count": 41,
   "metadata": {},
   "outputs": [],
   "source": [
    "#d0[pd.isnull(d0.index)]"
   ]
  },
  {
   "cell_type": "code",
   "execution_count": 42,
   "metadata": {},
   "outputs": [
    {
     "data": {
      "text/html": [
       "<div>\n",
       "<style scoped>\n",
       "    .dataframe tbody tr th:only-of-type {\n",
       "        vertical-align: middle;\n",
       "    }\n",
       "\n",
       "    .dataframe tbody tr th {\n",
       "        vertical-align: top;\n",
       "    }\n",
       "\n",
       "    .dataframe thead th {\n",
       "        text-align: right;\n",
       "    }\n",
       "</style>\n",
       "<table border=\"1\" class=\"dataframe\">\n",
       "  <thead>\n",
       "    <tr style=\"text-align: right;\">\n",
       "      <th></th>\n",
       "      <th>LAT</th>\n",
       "      <th>LON</th>\n",
       "      <th>U</th>\n",
       "      <th>V</th>\n",
       "      <th>LAT_ERR</th>\n",
       "      <th>LON_ERR</th>\n",
       "      <th>U_ERR</th>\n",
       "      <th>V_ERR</th>\n",
       "      <th>GAP</th>\n",
       "      <th>RMSGAP</th>\n",
       "      <th>DROGUE</th>\n",
       "      <th>geometry</th>\n",
       "    </tr>\n",
       "    <tr>\n",
       "      <th>TIME</th>\n",
       "      <th></th>\n",
       "      <th></th>\n",
       "      <th></th>\n",
       "      <th></th>\n",
       "      <th></th>\n",
       "      <th></th>\n",
       "      <th></th>\n",
       "      <th></th>\n",
       "      <th></th>\n",
       "      <th></th>\n",
       "      <th></th>\n",
       "      <th></th>\n",
       "    </tr>\n",
       "  </thead>\n",
       "  <tbody>\n",
       "    <tr>\n",
       "      <th>2011-03-12 17:00:00</th>\n",
       "      <td>26.50681</td>\n",
       "      <td>308.80461</td>\n",
       "      <td>0.4897</td>\n",
       "      <td>-0.0682</td>\n",
       "      <td>0.00020</td>\n",
       "      <td>0.00254</td>\n",
       "      <td>0.1103</td>\n",
       "      <td>0.0058</td>\n",
       "      <td>01:04:48</td>\n",
       "      <td>00:56:27.600000</td>\n",
       "      <td>1.0</td>\n",
       "      <td>POINT (308.80461 26.50681)</td>\n",
       "    </tr>\n",
       "    <tr>\n",
       "      <th>2011-03-12 18:00:00</th>\n",
       "      <td>26.50490</td>\n",
       "      <td>308.82241</td>\n",
       "      <td>0.5235</td>\n",
       "      <td>-0.0457</td>\n",
       "      <td>0.00086</td>\n",
       "      <td>0.00452</td>\n",
       "      <td>0.2075</td>\n",
       "      <td>0.0348</td>\n",
       "      <td>00:33:07.200000</td>\n",
       "      <td>01:09:50.400000</td>\n",
       "      <td>1.0</td>\n",
       "      <td>POINT (308.82241 26.5049)</td>\n",
       "    </tr>\n",
       "    <tr>\n",
       "      <th>2011-03-12 19:00:00</th>\n",
       "      <td>26.50416</td>\n",
       "      <td>308.84088</td>\n",
       "      <td>0.3725</td>\n",
       "      <td>0.0096</td>\n",
       "      <td>0.00069</td>\n",
       "      <td>0.00510</td>\n",
       "      <td>0.0680</td>\n",
       "      <td>0.0094</td>\n",
       "      <td>01:30:43.200000</td>\n",
       "      <td>01:28:40.800000</td>\n",
       "      <td>1.0</td>\n",
       "      <td>POINT (308.84088 26.50416)</td>\n",
       "    </tr>\n",
       "    <tr>\n",
       "      <th>2011-03-12 20:00:00</th>\n",
       "      <td>26.50467</td>\n",
       "      <td>308.85416</td>\n",
       "      <td>0.3809</td>\n",
       "      <td>0.0187</td>\n",
       "      <td>0.00034</td>\n",
       "      <td>0.00264</td>\n",
       "      <td>0.0513</td>\n",
       "      <td>0.0046</td>\n",
       "      <td>01:33:36</td>\n",
       "      <td>01:55:04.800000</td>\n",
       "      <td>1.0</td>\n",
       "      <td>POINT (308.85416 26.50467)</td>\n",
       "    </tr>\n",
       "    <tr>\n",
       "      <th>2011-03-12 21:00:00</th>\n",
       "      <td>26.50501</td>\n",
       "      <td>308.86902</td>\n",
       "      <td>0.3898</td>\n",
       "      <td>0.0179</td>\n",
       "      <td>0.00045</td>\n",
       "      <td>0.00224</td>\n",
       "      <td>0.0468</td>\n",
       "      <td>0.0050</td>\n",
       "      <td>01:33:36</td>\n",
       "      <td>01:46:37.200000</td>\n",
       "      <td>1.0</td>\n",
       "      <td>POINT (308.86902 26.50501)</td>\n",
       "    </tr>\n",
       "  </tbody>\n",
       "</table>\n",
       "</div>"
      ],
      "text/plain": [
       "                          LAT        LON       U       V  LAT_ERR  LON_ERR  \\\n",
       "TIME                                                                         \n",
       "2011-03-12 17:00:00  26.50681  308.80461  0.4897 -0.0682  0.00020  0.00254   \n",
       "2011-03-12 18:00:00  26.50490  308.82241  0.5235 -0.0457  0.00086  0.00452   \n",
       "2011-03-12 19:00:00  26.50416  308.84088  0.3725  0.0096  0.00069  0.00510   \n",
       "2011-03-12 20:00:00  26.50467  308.85416  0.3809  0.0187  0.00034  0.00264   \n",
       "2011-03-12 21:00:00  26.50501  308.86902  0.3898  0.0179  0.00045  0.00224   \n",
       "\n",
       "                      U_ERR   V_ERR             GAP          RMSGAP  DROGUE  \\\n",
       "TIME                                                                          \n",
       "2011-03-12 17:00:00  0.1103  0.0058        01:04:48 00:56:27.600000     1.0   \n",
       "2011-03-12 18:00:00  0.2075  0.0348 00:33:07.200000 01:09:50.400000     1.0   \n",
       "2011-03-12 19:00:00  0.0680  0.0094 01:30:43.200000 01:28:40.800000     1.0   \n",
       "2011-03-12 20:00:00  0.0513  0.0046        01:33:36 01:55:04.800000     1.0   \n",
       "2011-03-12 21:00:00  0.0468  0.0050        01:33:36 01:46:37.200000     1.0   \n",
       "\n",
       "                                       geometry  \n",
       "TIME                                             \n",
       "2011-03-12 17:00:00  POINT (308.80461 26.50681)  \n",
       "2011-03-12 18:00:00   POINT (308.82241 26.5049)  \n",
       "2011-03-12 19:00:00  POINT (308.84088 26.50416)  \n",
       "2011-03-12 20:00:00  POINT (308.85416 26.50467)  \n",
       "2011-03-12 21:00:00  POINT (308.86902 26.50501)  "
      ]
     },
     "execution_count": 42,
     "metadata": {},
     "output_type": "execute_result"
    }
   ],
   "source": [
    "d0.head()"
   ]
  },
  {
   "cell_type": "code",
   "execution_count": 44,
   "metadata": {},
   "outputs": [
    {
     "data": {
      "text/plain": [
       "<matplotlib.axes._subplots.AxesSubplot at 0x2ba07d3c0c18>"
      ]
     },
     "execution_count": 44,
     "metadata": {},
     "output_type": "execute_result"
    },
    {
     "data": {
      "image/png": "[encoded data removed]",
      "text/plain": [
       "<Figure size 432x288 with 1 Axes>"
      ]
     },
     "metadata": {
      "needs_background": "light"
     },
     "output_type": "display_data"
    }
   ],
   "source": [
    "ax = plt.subplot(111)\n",
    "d0.plot(ax=ax, markersize=1)\n",
    "d1.plot(ax=ax, markersize=1)"
   ]
  },
  {
   "cell_type": "code",
   "execution_count": null,
   "metadata": {},
   "outputs": [],
   "source": []
  },
  {
   "cell_type": "code",
   "execution_count": null,
   "metadata": {},
   "outputs": [],
   "source": []
  },
  {
   "cell_type": "code",
   "execution_count": null,
   "metadata": {},
   "outputs": [],
   "source": []
  },
  {
   "cell_type": "code",
   "execution_count": null,
   "metadata": {},
   "outputs": [],
   "source": []
  },
  {
   "cell_type": "code",
   "execution_count": null,
   "metadata": {},
   "outputs": [],
   "source": []
  },
  {
   "cell_type": "code",
   "execution_count": null,
   "metadata": {},
   "outputs": [],
   "source": []
  },
  {
   "cell_type": "code",
   "execution_count": null,
   "metadata": {},
   "outputs": [],
   "source": []
  },
  {
   "cell_type": "code",
   "execution_count": null,
   "metadata": {},
   "outputs": [],
   "source": []
  },
  {
   "cell_type": "code",
   "execution_count": null,
   "metadata": {},
   "outputs": [],
   "source": []
  },
  {
   "cell_type": "code",
   "execution_count": null,
   "metadata": {},
   "outputs": [],
   "source": []
  },
  {
   "cell_type": "markdown",
   "metadata": {},
   "source": [
    "## old code, gather stats about single trajectories"
   ]
  },
  {
   "cell_type": "code",
   "execution_count": null,
   "metadata": {},
   "outputs": [],
   "source": [
    "ncfile = data_dir+'driftertrajWMLE_1.02_block1.nc'\n",
    "ds = xr.open_dataset(ncfile)\n",
    "#\n",
    "inan = np.where(np.isnan(ds.LAT.values))[0]\n",
    "#\n",
    "b = (db.from_sequence([(i+1,j) for i,j in zip(np.hstack([-1,inan])[:-1],inan)], \n",
    "                      npartitions=1000)\n",
    "     .map(load_trajectory, ncfile))\n",
    "b.take(1)[0][0].head()"
   ]
  },
  {
   "cell_type": "code",
   "execution_count": 77,
   "metadata": {},
   "outputs": [],
   "source": [
    "def row(d):\n",
    "    d0 = d.isel(TIME=0)\n",
    "    d1 = d.isel(TIME=-1)\n",
    "    dmean = d.mean(dim='TIME')\n",
    "    return {'index': int(d.ID), 't0': d0.TIME.values, 't1': d1.TIME.values, \n",
    "            'lon0': d0.LON.values, 'lat0': d0.LAT.values,\n",
    "            'lon1': d1.LON.values, 'lat1': d1.LAT.values, \n",
    "            'lonm': dmean.LON.values, 'latm': dmean.LAT.values}"
   ]
  },
  {
   "cell_type": "code",
   "execution_count": 78,
   "metadata": {},
   "outputs": [],
   "source": [
    "df = b.map(row).to_dataframe()"
   ]
  },
  {
   "cell_type": "code",
   "execution_count": 79,
   "metadata": {
    "scrolled": true
   },
   "outputs": [
    {
     "data": {
      "text/html": [
       "<div>\n",
       "<style scoped>\n",
       "    .dataframe tbody tr th:only-of-type {\n",
       "        vertical-align: middle;\n",
       "    }\n",
       "\n",
       "    .dataframe tbody tr th {\n",
       "        vertical-align: top;\n",
       "    }\n",
       "\n",
       "    .dataframe thead th {\n",
       "        text-align: right;\n",
       "    }\n",
       "</style>\n",
       "<table border=\"1\" class=\"dataframe\">\n",
       "  <thead>\n",
       "    <tr style=\"text-align: right;\">\n",
       "      <th></th>\n",
       "      <th>index</th>\n",
       "      <th>lat0</th>\n",
       "      <th>lat1</th>\n",
       "      <th>latm</th>\n",
       "      <th>lon0</th>\n",
       "      <th>lon1</th>\n",
       "      <th>lonm</th>\n",
       "      <th>t0</th>\n",
       "      <th>t1</th>\n",
       "    </tr>\n",
       "  </thead>\n",
       "  <tbody>\n",
       "    <tr>\n",
       "      <th>0</th>\n",
       "      <td>72225</td>\n",
       "      <td>-60.68735</td>\n",
       "      <td>-55.37916</td>\n",
       "      <td>inf</td>\n",
       "      <td>301.60824</td>\n",
       "      <td>323.67344</td>\n",
       "      <td>inf</td>\n",
       "      <td>2008-01-13 11:00:00</td>\n",
       "      <td>2008-08-15 01:00:00</td>\n",
       "    </tr>\n",
       "    <tr>\n",
       "      <th>1</th>\n",
       "      <td>139959</td>\n",
       "      <td>-38.35795</td>\n",
       "      <td>-33.17749</td>\n",
       "      <td>-34.802871778588106</td>\n",
       "      <td>212.48165</td>\n",
       "      <td>255.8217</td>\n",
       "      <td>230.78878613020854</td>\n",
       "      <td>2015-09-22 13:00:00</td>\n",
       "      <td>2018-07-05 11:00:00</td>\n",
       "    </tr>\n",
       "    <tr>\n",
       "      <th>2</th>\n",
       "      <td>103796</td>\n",
       "      <td>50.98836</td>\n",
       "      <td>52.30275</td>\n",
       "      <td>50.626032906868815</td>\n",
       "      <td>316.8033</td>\n",
       "      <td>350.06815</td>\n",
       "      <td>328.7902196875</td>\n",
       "      <td>2011-04-27 12:00:00</td>\n",
       "      <td>2012-01-21 19:00:00</td>\n",
       "    </tr>\n",
       "    <tr>\n",
       "      <th>3</th>\n",
       "      <td>36006</td>\n",
       "      <td>49.23945</td>\n",
       "      <td>47.925</td>\n",
       "      <td>inf</td>\n",
       "      <td>194.31873</td>\n",
       "      <td>220.93793</td>\n",
       "      <td>inf</td>\n",
       "      <td>2003-07-17 22:00:00</td>\n",
       "      <td>2004-10-01 00:00:00</td>\n",
       "    </tr>\n",
       "    <tr>\n",
       "      <th>4</th>\n",
       "      <td>90626</td>\n",
       "      <td>47.69302</td>\n",
       "      <td>47.49114</td>\n",
       "      <td>47.16451342971087</td>\n",
       "      <td>307.84693</td>\n",
       "      <td>308.3916</td>\n",
       "      <td>308.0917311714856</td>\n",
       "      <td>2009-05-06 23:00:00</td>\n",
       "      <td>2009-07-29 12:00:00</td>\n",
       "    </tr>\n",
       "  </tbody>\n",
       "</table>\n",
       "</div>"
      ],
      "text/plain": [
       "    index       lat0       lat1                 latm       lon0       lon1  \\\n",
       "0   72225  -60.68735  -55.37916                  inf  301.60824  323.67344   \n",
       "1  139959  -38.35795  -33.17749  -34.802871778588106  212.48165   255.8217   \n",
       "2  103796   50.98836   52.30275   50.626032906868815   316.8033  350.06815   \n",
       "3   36006   49.23945     47.925                  inf  194.31873  220.93793   \n",
       "4   90626   47.69302   47.49114    47.16451342971087  307.84693   308.3916   \n",
       "\n",
       "                 lonm                  t0                  t1  \n",
       "0                 inf 2008-01-13 11:00:00 2008-08-15 01:00:00  \n",
       "1  230.78878613020854 2015-09-22 13:00:00 2018-07-05 11:00:00  \n",
       "2      328.7902196875 2011-04-27 12:00:00 2012-01-21 19:00:00  \n",
       "3                 inf 2003-07-17 22:00:00 2004-10-01 00:00:00  \n",
       "4   308.0917311714856 2009-05-06 23:00:00 2009-07-29 12:00:00  "
      ]
     },
     "execution_count": 79,
     "metadata": {},
     "output_type": "execute_result"
    }
   ],
   "source": [
    "df.head()"
   ]
  },
  {
   "cell_type": "code",
   "execution_count": 12,
   "metadata": {},
   "outputs": [],
   "source": [
    "df = df.repartition(npartitions=1)\n",
    "#df.npartitions"
   ]
  },
  {
   "cell_type": "code",
   "execution_count": 13,
   "metadata": {},
   "outputs": [
    {
     "data": {
      "text/plain": [
       "['/home/mp/pontea/scratch/drifters/bounds-0.csv']"
      ]
     },
     "execution_count": 13,
     "metadata": {},
     "output_type": "execute_result"
    }
   ],
   "source": [
    "df.to_csv(data_dir+'drifters/bounds-*.csv', mode='w')"
   ]
  },
  {
   "cell_type": "markdown",
   "metadata": {},
   "source": [
    "### read stats"
   ]
  },
  {
   "cell_type": "code",
   "execution_count": 60,
   "metadata": {},
   "outputs": [
    {
     "data": {
      "text/plain": [
       "12287"
      ]
     },
     "execution_count": 60,
     "metadata": {},
     "output_type": "execute_result"
    }
   ],
   "source": [
    "df = ( pd.read_csv(data_dir+'drifters/bounds-0.csv', parse_dates=[6,7])\n",
    "       .set_index('index').drop(columns='Unnamed: 0') )\n",
    "len(df)"
   ]
  },
  {
   "cell_type": "code",
   "execution_count": 51,
   "metadata": {},
   "outputs": [
    {
     "data": {
      "text/html": [
       "<div>\n",
       "<style scoped>\n",
       "    .dataframe tbody tr th:only-of-type {\n",
       "        vertical-align: middle;\n",
       "    }\n",
       "\n",
       "    .dataframe tbody tr th {\n",
       "        vertical-align: top;\n",
       "    }\n",
       "\n",
       "    .dataframe thead th {\n",
       "        text-align: right;\n",
       "    }\n",
       "</style>\n",
       "<table border=\"1\" class=\"dataframe\">\n",
       "  <thead>\n",
       "    <tr style=\"text-align: right;\">\n",
       "      <th></th>\n",
       "      <th>lat0</th>\n",
       "      <th>lat1</th>\n",
       "      <th>lon0</th>\n",
       "      <th>lon1</th>\n",
       "      <th>t0</th>\n",
       "      <th>t1</th>\n",
       "    </tr>\n",
       "    <tr>\n",
       "      <th>index</th>\n",
       "      <th></th>\n",
       "      <th></th>\n",
       "      <th></th>\n",
       "      <th></th>\n",
       "      <th></th>\n",
       "      <th></th>\n",
       "    </tr>\n",
       "  </thead>\n",
       "  <tbody>\n",
       "    <tr>\n",
       "      <th>72225</th>\n",
       "      <td>-60.68735</td>\n",
       "      <td>-55.37916</td>\n",
       "      <td>301.60824</td>\n",
       "      <td>323.67344</td>\n",
       "      <td>2008-01-13 11:00:00</td>\n",
       "      <td>2008-08-15 01:00:00</td>\n",
       "    </tr>\n",
       "    <tr>\n",
       "      <th>139959</th>\n",
       "      <td>-38.35795</td>\n",
       "      <td>-33.17749</td>\n",
       "      <td>212.48165</td>\n",
       "      <td>255.82170</td>\n",
       "      <td>2015-09-22 13:00:00</td>\n",
       "      <td>2018-07-05 11:00:00</td>\n",
       "    </tr>\n",
       "    <tr>\n",
       "      <th>103796</th>\n",
       "      <td>50.98836</td>\n",
       "      <td>52.30275</td>\n",
       "      <td>316.80330</td>\n",
       "      <td>350.06815</td>\n",
       "      <td>2011-04-27 12:00:00</td>\n",
       "      <td>2012-01-21 19:00:00</td>\n",
       "    </tr>\n",
       "    <tr>\n",
       "      <th>36006</th>\n",
       "      <td>49.23945</td>\n",
       "      <td>47.92500</td>\n",
       "      <td>194.31873</td>\n",
       "      <td>220.93793</td>\n",
       "      <td>2003-07-17 22:00:00</td>\n",
       "      <td>2004-10-01 00:00:00</td>\n",
       "    </tr>\n",
       "    <tr>\n",
       "      <th>90626</th>\n",
       "      <td>47.69302</td>\n",
       "      <td>47.49114</td>\n",
       "      <td>307.84693</td>\n",
       "      <td>308.39160</td>\n",
       "      <td>2009-05-06 23:00:00</td>\n",
       "      <td>2009-07-29 12:00:00</td>\n",
       "    </tr>\n",
       "  </tbody>\n",
       "</table>\n",
       "</div>"
      ],
      "text/plain": [
       "            lat0      lat1       lon0       lon1                  t0  \\\n",
       "index                                                                  \n",
       "72225  -60.68735 -55.37916  301.60824  323.67344 2008-01-13 11:00:00   \n",
       "139959 -38.35795 -33.17749  212.48165  255.82170 2015-09-22 13:00:00   \n",
       "103796  50.98836  52.30275  316.80330  350.06815 2011-04-27 12:00:00   \n",
       "36006   49.23945  47.92500  194.31873  220.93793 2003-07-17 22:00:00   \n",
       "90626   47.69302  47.49114  307.84693  308.39160 2009-05-06 23:00:00   \n",
       "\n",
       "                        t1  \n",
       "index                       \n",
       "72225  2008-08-15 01:00:00  \n",
       "139959 2018-07-05 11:00:00  \n",
       "103796 2012-01-21 19:00:00  \n",
       "36006  2004-10-01 00:00:00  \n",
       "90626  2009-07-29 12:00:00  "
      ]
     },
     "execution_count": 51,
     "metadata": {},
     "output_type": "execute_result"
    }
   ],
   "source": [
    "df.head()"
   ]
  },
  {
   "cell_type": "code",
   "execution_count": 55,
   "metadata": {},
   "outputs": [],
   "source": [
    "#for id, row in df.iterrows():\n",
    "#    print(type(row))b = \n",
    "b = db.from_sequence(df.iterrows())"
   ]
  },
  {
   "cell_type": "code",
   "execution_count": 56,
   "metadata": {},
   "outputs": [
    {
     "data": {
      "text/plain": [
       "((72225, lat0               -60.6874\n",
       "  lat1               -55.3792\n",
       "  lon0                301.608\n",
       "  lon1                323.673\n",
       "  t0      2008-01-13 11:00:00\n",
       "  t1      2008-08-15 01:00:00\n",
       "  Name: 72225, dtype: object),)"
      ]
     },
     "execution_count": 56,
     "metadata": {},
     "output_type": "execute_result"
    }
   ],
   "source": [
    "b.take(1)"
   ]
  },
  {
   "cell_type": "code",
   "execution_count": 40,
   "metadata": {},
   "outputs": [],
   "source": [
    "item = b.take(1)\n",
    "t0, t1 = item[0][1]['t0'], item[0][1]['t1']"
   ]
  },
  {
   "cell_type": "code",
   "execution_count": 69,
   "metadata": {},
   "outputs": [],
   "source": [
    "dt = datetime.timedelta(days=10)"
   ]
  },
  {
   "cell_type": "code",
   "execution_count": 73,
   "metadata": {},
   "outputs": [],
   "source": [
    "def cross(item):\n",
    "    id = item[0]\n",
    "    t0 = item[1]['t0']\n",
    "    t1 = item[1]['t1']\n",
    "    #\n",
    "    df = ( pd.read_csv(data_dir+'drifters/bounds-0.csv', parse_dates=[6,7])\n",
    "           .set_index('index').drop(columns='Unnamed: 0') )\n",
    "    df = df[~( (df.t1<t0+dt) | (df.t0>t1-dt) )]\n",
    "    return len(df)"
   ]
  },
  {
   "cell_type": "code",
   "execution_count": 71,
   "metadata": {},
   "outputs": [],
   "source": [
    "out = b.map(cross).compute()"
   ]
  },
  {
   "cell_type": "code",
   "execution_count": 72,
   "metadata": {},
   "outputs": [
    {
     "data": {
      "text/plain": [
       "(array([1.281e+03, 5.410e+03, 3.457e+03, 1.152e+03, 5.590e+02, 2.660e+02,\n",
       "        1.060e+02, 5.300e+01, 2.000e+00, 1.000e+00]),\n",
       " array([1.0000e+00, 8.5230e+02, 1.7036e+03, 2.5549e+03, 3.4062e+03,\n",
       "        4.2575e+03, 5.1088e+03, 5.9601e+03, 6.8114e+03, 7.6627e+03,\n",
       "        8.5140e+03]),\n",
       " <a list of 10 Patch objects>)"
      ]
     },
     "execution_count": 72,
     "metadata": {},
     "output_type": "execute_result"
    },
    {
     "data": {
      "image/png": "[encoded data removed]",
      "text/plain": [
       "<Figure size 432x288 with 1 Axes>"
      ]
     },
     "metadata": {
      "needs_background": "light"
     },
     "output_type": "display_data"
    }
   ],
   "source": [
    "plt.hist(out)"
   ]
  },
  {
   "cell_type": "markdown",
   "metadata": {},
   "source": [
    "---\n",
    "\n",
    "## old form bag of pairs, brute force, does not work"
   ]
  },
  {
   "cell_type": "code",
   "execution_count": 14,
   "metadata": {},
   "outputs": [],
   "source": [
    "import itertools"
   ]
  },
  {
   "cell_type": "code",
   "execution_count": null,
   "metadata": {},
   "outputs": [],
   "source": [
    "#b = (db.from_sequence(itertools.combinations(files, 2))\n",
    "#    .map(lambda files: [xr.open_dataset(files[0]), xr.open_dataset(files[1])]))\n",
    "b = (db.from_sequence(itertools.combinations(files, 2),npartitions=1000)\n",
    "    .map(lambda files: [files[0], files[1]]))\n",
    "b"
   ]
  },
  {
   "cell_type": "code",
   "execution_count": 121,
   "metadata": {},
   "outputs": [
    {
     "data": {
      "text/plain": [
       "(['data/drifter_9729742.p', 'data/drifter_25763.p'],)"
      ]
     },
     "execution_count": 121,
     "metadata": {},
     "output_type": "execute_result"
    }
   ],
   "source": [
    "b.take(1)"
   ]
  },
  {
   "cell_type": "code",
   "execution_count": 122,
   "metadata": {},
   "outputs": [
    {
     "data": {
      "text/plain": [
       "({'id0': 9729742,\n",
       "  'id1': 25763,\n",
       "  '0_t0': numpy.datetime64('1998-02-06T05:00:00.000000000'),\n",
       "  '0_t1': numpy.datetime64('2001-02-15T16:00:00.000000000'),\n",
       "  '1_t0': numpy.datetime64('2001-03-30T03:00:00.000000000'),\n",
       "  '1_t1': numpy.datetime64('2004-11-07T17:00:00.000000000')},)"
      ]
     },
     "execution_count": 122,
     "metadata": {},
     "output_type": "execute_result"
    }
   ],
   "source": [
    "def flatten(p):\n",
    "    ds0 = pickle.load(open(p[0], 'rb'))\n",
    "    ds1 = pickle.load(open(p[1], 'rb'))\n",
    "    #ds0 = xr.open_dataset(p[0], lock=False)\n",
    "    #ds1 = xr.open_dataset(p[1], lock=False)\n",
    "    #ds0 = Dataset(p[0])\n",
    "    #ds1 = Dataset(p[1])\n",
    "    return {\n",
    "        'id0': int(ds0.ID.values),\n",
    "        'id1': int(ds1.ID.values),\n",
    "        '0_t0': ds0.isel(TIME=0).TIME.values,\n",
    "        '0_t1': ds0.isel(TIME=-1).TIME.values,\n",
    "        '1_t0': ds1.isel(TIME=0).TIME.values,\n",
    "        '1_t1': ds1.isel(TIME=-1).TIME.values\n",
    "    }\n",
    "#        'id0': p[0],\n",
    "#        'id1': p[1]\n",
    "#        'p0_t0': p[0].isel(TIME=0).TIME.values,\n",
    "#        'p0_t1': p[0].isel(TIME=-2).TIME.values,\n",
    "#        'p1_t0': p[1].isel(TIME=0).TIME.values,\n",
    "#        'p1_t1': p[1].isel(TIME=-2).TIME.values\n",
    "b.map(flatten).take(1)"
   ]
  },
  {
   "cell_type": "code",
   "execution_count": 123,
   "metadata": {},
   "outputs": [],
   "source": [
    "df = b.map(flatten).to_dataframe()"
   ]
  },
  {
   "cell_type": "code",
   "execution_count": 124,
   "metadata": {},
   "outputs": [
    {
     "data": {
      "text/html": [
       "<div>\n",
       "<style scoped>\n",
       "    .dataframe tbody tr th:only-of-type {\n",
       "        vertical-align: middle;\n",
       "    }\n",
       "\n",
       "    .dataframe tbody tr th {\n",
       "        vertical-align: top;\n",
       "    }\n",
       "\n",
       "    .dataframe thead th {\n",
       "        text-align: right;\n",
       "    }\n",
       "</style>\n",
       "<table border=\"1\" class=\"dataframe\">\n",
       "  <thead>\n",
       "    <tr style=\"text-align: right;\">\n",
       "      <th></th>\n",
       "      <th>0_t0</th>\n",
       "      <th>0_t1</th>\n",
       "      <th>1_t0</th>\n",
       "      <th>1_t1</th>\n",
       "      <th>id0</th>\n",
       "      <th>id1</th>\n",
       "    </tr>\n",
       "  </thead>\n",
       "  <tbody>\n",
       "    <tr>\n",
       "      <th>0</th>\n",
       "      <td>1998-02-06 05:00:00</td>\n",
       "      <td>2001-02-15 16:00:00</td>\n",
       "      <td>2001-03-30 03:00:00</td>\n",
       "      <td>2004-11-07 17:00:00</td>\n",
       "      <td>9729742</td>\n",
       "      <td>25763</td>\n",
       "    </tr>\n",
       "    <tr>\n",
       "      <th>1</th>\n",
       "      <td>1998-02-06 05:00:00</td>\n",
       "      <td>2001-02-15 16:00:00</td>\n",
       "      <td>2002-04-01 01:00:00</td>\n",
       "      <td>2005-03-23 03:00:00</td>\n",
       "      <td>9729742</td>\n",
       "      <td>34160</td>\n",
       "    </tr>\n",
       "    <tr>\n",
       "      <th>2</th>\n",
       "      <td>1998-02-06 05:00:00</td>\n",
       "      <td>2001-02-15 16:00:00</td>\n",
       "      <td>2005-05-25 21:00:00</td>\n",
       "      <td>2005-10-12 23:00:00</td>\n",
       "      <td>9729742</td>\n",
       "      <td>2556428</td>\n",
       "    </tr>\n",
       "    <tr>\n",
       "      <th>3</th>\n",
       "      <td>1998-02-06 05:00:00</td>\n",
       "      <td>2001-02-15 16:00:00</td>\n",
       "      <td>2003-01-17 04:00:00</td>\n",
       "      <td>2005-01-15 13:00:00</td>\n",
       "      <td>9729742</td>\n",
       "      <td>36960</td>\n",
       "    </tr>\n",
       "    <tr>\n",
       "      <th>4</th>\n",
       "      <td>1998-02-06 05:00:00</td>\n",
       "      <td>2001-02-15 16:00:00</td>\n",
       "      <td>2002-05-01 10:00:00</td>\n",
       "      <td>2003-12-02 22:00:00</td>\n",
       "      <td>9729742</td>\n",
       "      <td>32042</td>\n",
       "    </tr>\n",
       "  </tbody>\n",
       "</table>\n",
       "</div>"
      ],
      "text/plain": [
       "                 0_t0                0_t1                1_t0  \\\n",
       "0 1998-02-06 05:00:00 2001-02-15 16:00:00 2001-03-30 03:00:00   \n",
       "1 1998-02-06 05:00:00 2001-02-15 16:00:00 2002-04-01 01:00:00   \n",
       "2 1998-02-06 05:00:00 2001-02-15 16:00:00 2005-05-25 21:00:00   \n",
       "3 1998-02-06 05:00:00 2001-02-15 16:00:00 2003-01-17 04:00:00   \n",
       "4 1998-02-06 05:00:00 2001-02-15 16:00:00 2002-05-01 10:00:00   \n",
       "\n",
       "                 1_t1      id0      id1  \n",
       "0 2004-11-07 17:00:00  9729742    25763  \n",
       "1 2005-03-23 03:00:00  9729742    34160  \n",
       "2 2005-10-12 23:00:00  9729742  2556428  \n",
       "3 2005-01-15 13:00:00  9729742    36960  \n",
       "4 2003-12-02 22:00:00  9729742    32042  "
      ]
     },
     "execution_count": 124,
     "metadata": {},
     "output_type": "execute_result"
    }
   ],
   "source": [
    "df.head()"
   ]
  },
  {
   "cell_type": "code",
   "execution_count": null,
   "metadata": {},
   "outputs": [],
   "source": [
    "#df.repartition(1000).to_csv('data/pairs-*.csv')\n",
    "df.to_csv('data/pairs-*.csv', mode='w') # can be done"
   ]
  }
 ],
 "metadata": {
  "kernelspec": {
   "display_name": "equinox",
   "language": "python",
   "name": "equinox"
  },
  "language_info": {
   "codemirror_mode": {
    "name": "ipython",
    "version": 3
   },
   "file_extension": ".py",
   "mimetype": "text/x-python",
   "name": "python",
   "nbconvert_exporter": "python",
   "pygments_lexer": "ipython3",
   "version": "3.6.7"
  }
 },
 "nbformat": 4,
 "nbformat_minor": 2
}
