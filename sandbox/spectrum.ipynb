{
 "cells": [
  {
   "cell_type": "markdown",
   "metadata": {},
   "source": [
    "# compute spectra on mitgcm outputs"
   ]
  },
  {
   "cell_type": "markdown",
   "metadata": {},
   "source": [
    "---"
   ]
  },
  {
   "cell_type": "code",
   "execution_count": 1,
   "metadata": {},
   "outputs": [
    {
     "name": "stderr",
     "output_type": "stream",
     "text": [
      "/home1/datahome/aponte/.miniconda3/envs/equinox/lib/python3.6/site-packages/cmocean/tools.py:76: MatplotlibDeprecationWarning: The is_string_like function was deprecated in version 2.1.\n",
      "  if not mpl.cbook.is_string_like(rgbin[0]):\n"
     ]
    }
   ],
   "source": [
    "import os\n",
    "from glob import glob\n",
    "import numpy as np\n",
    "import dask\n",
    "#from dask_jobqueue import PBSCluster\n",
    "import xarray as xr\n",
    "from matplotlib import pyplot as plt\n",
    "%matplotlib inline\n",
    "\n",
    "import xrft\n",
    "\n",
    "from mitequinox.utils import *"
   ]
  },
  {
   "cell_type": "code",
   "execution_count": 2,
   "metadata": {},
   "outputs": [
    {
     "name": "stderr",
     "output_type": "stream",
     "text": [
      "/home1/datahome/aponte/.miniconda3/envs/equinox/lib/python3.6/site-packages/distributed/utils.py:128: RuntimeWarning: Couldn't detect a suitable IP address for reaching '8.8.8.8', defaulting to '127.0.0.1': [Errno 101] Network is unreachable\n",
      "  % (host, default, e), RuntimeWarning)\n"
     ]
    }
   ],
   "source": [
    "dmethod = 1\n",
    "#\n",
    "if dmethod == 1:\n",
    "    from dask.distributed import Client\n",
    "    scheduler = os.getenv('DATAWORK')+'/dask/scheduler.json'\n",
    "    client = Client(scheduler_file=scheduler)\n",
    "elif dmethod == 2:\n",
    "    from dask_jobqueue import PBSCluster\n",
    "    # folder where data is spilled when RAM is filled up\n",
    "    local_dir = os.getenv('TMPDIR')\n",
    "    #\n",
    "    cluster = PBSCluster(queue='mpi_1', local_directory=local_dir, interface='ib0', walltime='24:00:00',\n",
    "                         threads=14, processes=2, memory='50GB', resource_spec='select=1:ncpus=28:mem=100g', \n",
    "                         death_timeout=100)\n",
    "    w = cluster.start_workers(40)"
   ]
  },
  {
   "cell_type": "code",
   "execution_count": 3,
   "metadata": {},
   "outputs": [],
   "source": [
    "# you need to wait for workers to spin up\n",
    "if dmethod == 2:\n",
    "    cluster.scheduler"
   ]
  },
  {
   "cell_type": "code",
   "execution_count": 4,
   "metadata": {},
   "outputs": [],
   "source": [
    "# get dask handles and check dask server status\n",
    "if dmethod == 2:\n",
    "    from dask.distributed import Client\n",
    "    client = Client(cluster)"
   ]
  },
  {
   "cell_type": "code",
   "execution_count": 5,
   "metadata": {},
   "outputs": [
    {
     "data": {
      "text/html": [
       "<table style=\"border: 2px solid white;\">\n",
       "<tr>\n",
       "<td style=\"vertical-align: top; border: 0px solid white\">\n",
       "<h3>Client</h3>\n",
       "<ul>\n",
       "  <li><b>Scheduler: </b>tcp://10.148.0.76:8786\n",
       "  <li><b>Dashboard: </b><a href='http://10.148.0.76:8787/status' target='_blank'>http://10.148.0.76:8787/status</a>\n",
       "</ul>\n",
       "</td>\n",
       "<td style=\"vertical-align: top; border: 0px solid white\">\n",
       "<h3>Cluster</h3>\n",
       "<ul>\n",
       "  <li><b>Workers: </b>7</li>\n",
       "  <li><b>Cores: </b>98</li>\n",
       "  <li><b>Memory: </b>700.00 GB</li>\n",
       "</ul>\n",
       "</td>\n",
       "</tr>\n",
       "</table>"
      ],
      "text/plain": [
       "<Client: scheduler='tcp://10.148.0.76:8786' processes=7 cores=98>"
      ]
     },
     "execution_count": 5,
     "metadata": {},
     "output_type": "execute_result"
    }
   ],
   "source": [
    "client"
   ]
  },
  {
   "cell_type": "markdown",
   "metadata": {},
   "source": [
    "--- \n",
    "\n",
    "# load data"
   ]
  },
  {
   "cell_type": "code",
   "execution_count": 7,
   "metadata": {},
   "outputs": [],
   "source": [
    "v = 'Eta'\n",
    "data_dir = root_data_dir+v+'/'\n",
    "ncdata_dir = scratch+'/mit_nc_t/'\n",
    "ncdata_dir = datawork+'/mit_nc_t/'\n",
    "\n",
    "face = 1\n",
    "\n",
    "# search for right files, for example: Eta_f01_t*.nc\n",
    "filenames = sorted(glob(ncdata_dir+v+'_f%02d_t*.nc' %(face)))"
   ]
  },
  {
   "cell_type": "code",
   "execution_count": 8,
   "metadata": {},
   "outputs": [
    {
     "name": "stdout",
     "output_type": "stream",
     "text": [
      "CPU times: user 620 ms, sys: 100 ms, total: 720 ms\n",
      "Wall time: 1.01 s\n",
      "<xarray.Dataset>\n",
      "Dimensions:  (i: 4320, j: 4320, time: 3000)\n",
      "Coordinates:\n",
      "  * i        (i) int64 0 1 2 3 4 5 6 7 8 9 10 11 12 13 14 15 16 17 18 19 20 ...\n",
      "  * j        (j) int64 0 1 2 3 4 5 6 7 8 9 10 11 12 13 14 15 16 17 18 19 20 ...\n",
      "    face     int64 1\n",
      "  * time     (time) float64 2.592e+05 2.628e+05 2.664e+05 2.7e+05 2.736e+05 ...\n",
      "Data variables:\n",
      "    Eta      (i, j, time) float32 dask.array<shape=(4320, 4320, 3000), chunksize=(10, 432, 240)>\n",
      "\n",
      " data size: 223.9 GB\n"
     ]
    }
   ],
   "source": [
    "\n",
    "# open files# open f \n",
    "#%time ds = xr.open_mfdataset(filenames, concat_dim='time', compat='equals')\n",
    "%time ds = xr.open_mfdataset(filenames, chunks={'i':10, 'j':432}, concat_dim='time', compat='equals')\n",
    "\n",
    "ds = ds.isel(time=slice(0,3000))\n",
    "#iters, time = get_iters_time(v, data_dir, delta_t=25.)\n",
    "#ds = get_compressed_data('Eta', data_dir, grid_dir, iters='all', time=time, client=client)\n",
    "\n",
    "print(ds)\n",
    "print('\\n data size: %.1f GB' %(ds.nbytes / 1e9))"
   ]
  },
  {
   "cell_type": "code",
   "execution_count": 8,
   "metadata": {},
   "outputs": [],
   "source": [
    "#%time ds['Eta'].mean(dim=('i','j')).plot()"
   ]
  },
  {
   "cell_type": "markdown",
   "metadata": {},
   "source": [
    "---\n",
    "\n",
    "# spectral computations "
   ]
  },
  {
   "cell_type": "code",
   "execution_count": 9,
   "metadata": {},
   "outputs": [
    {
     "name": "stdout",
     "output_type": "stream",
     "text": [
      "CPU times: user 216 ms, sys: 20 ms, total: 236 ms\n",
      "Wall time: 242 ms\n",
      "<xarray.Dataset>\n",
      "Dimensions:  (i: 4320, j: 4320, time: 3000)\n",
      "Coordinates:\n",
      "  * i        (i) int64 0 1 2 3 4 5 6 7 8 9 10 11 12 13 14 15 16 17 18 19 20 ...\n",
      "  * j        (j) int64 0 1 2 3 4 5 6 7 8 9 10 11 12 13 14 15 16 17 18 19 20 ...\n",
      "    face     int64 1\n",
      "  * time     (time) float64 2.592e+05 2.628e+05 2.664e+05 2.7e+05 2.736e+05 ...\n",
      "Data variables:\n",
      "    Eta      (i, j, time) float32 dask.array<shape=(4320, 4320, 3000), chunksize=(10, 432, 3000)>\n"
     ]
    }
   ],
   "source": [
    "#chunks={'time': len(ds['time']), 'face':1,  'i': 100, 'j': 100}\n",
    "#chunks={'time': len(ds['time']), 'i': 10, 'j': 432}\n",
    "chunks={'time': len(ds['time'])}\n",
    "%time ds = ds.chunk(chunks)\n",
    "print(ds)"
   ]
  },
  {
   "cell_type": "code",
   "execution_count": 10,
   "metadata": {},
   "outputs": [
    {
     "name": "stdout",
     "output_type": "stream",
     "text": [
      "CPU times: user 14.3 s, sys: 232 ms, total: 14.5 s\n",
      "Wall time: 14.5 s\n"
     ]
    }
   ],
   "source": [
    "#%time eta = ds['Eta'].isel(face=1).persist()\n",
    "%time eta = ds['Eta'].persist()\n",
    "#%time eta = ds['Eta']"
   ]
  },
  {
   "cell_type": "code",
   "execution_count": 11,
   "metadata": {},
   "outputs": [
    {
     "name": "stderr",
     "output_type": "stream",
     "text": [
      "/home1/datahome/aponte/.miniconda3/envs/equinox/lib/python3.6/site-packages/xrft/xrft.py:272: FutureWarning: xarray.DataArray.__contains__ currently checks membership in DataArray.coords, but in xarray v0.11 will change to check membership in array values.\n",
      "  elif d in da:\n"
     ]
    }
   ],
   "source": [
    "v_fft = xrft.dft(eta.fillna(0.), dim=['time'], shift=False, detrend='linear')\n",
    "E = (v_fft*v_fft.conj()).where(v_fft!=0., drop=False).mean(dim=('i','j'))\n",
    "E = E.astype('f8').rename('eta_power_spectrum ()')"
   ]
  },
  {
   "cell_type": "code",
   "execution_count": 12,
   "metadata": {},
   "outputs": [
    {
     "name": "stdout",
     "output_type": "stream",
     "text": [
      "CPU times: user 23.4 s, sys: 240 ms, total: 23.7 s\n",
      "Wall time: 9min 22s\n"
     ]
    },
    {
     "data": {
      "text/plain": [
       "<xarray.DataArray 'eta_power_spectrum ()' (freq_time: 3000)>\n",
       "array([1.191682e-07, 8.775267e+03, 6.499990e+03, ..., 3.174824e+03,\n",
       "       6.499990e+03, 8.775267e+03])\n",
       "Coordinates:\n",
       "  * freq_time          (freq_time) float64 0.0 9.259e-08 1.852e-07 2.778e-07 ...\n",
       "    freq_time_spacing  float64 9.259e-08"
      ]
     },
     "execution_count": 12,
     "metadata": {},
     "output_type": "execute_result"
    }
   ],
   "source": [
    "%time E.load()"
   ]
  },
  {
   "cell_type": "code",
   "execution_count": null,
   "metadata": {},
   "outputs": [],
   "source": []
  },
  {
   "cell_type": "code",
   "execution_count": 13,
   "metadata": {},
   "outputs": [
    {
     "data": {
      "image/png": "[encoded data removed]",
      "text/plain": [
       "<Figure size 504x504 with 1 Axes>"
      ]
     },
     "metadata": {},
     "output_type": "display_data"
    }
   ],
   "source": [
    "# and plot\n",
    "fig, ax = plt.subplots(figsize=(7,7))\n",
    "E.plot(ax=ax)\n",
    "ax.legend(); ax.grid()\n",
    "ax.set_xscale('log'); ax.set_yscale('log')\n",
    "ax.set_ylabel(''); \n",
    "#ax.set_ylim([1e-1,1e5])"
   ]
  },
  {
   "cell_type": "markdown",
   "metadata": {},
   "source": [
    "---\n",
    "# i averaged"
   ]
  },
  {
   "cell_type": "code",
   "execution_count": 18,
   "metadata": {},
   "outputs": [
    {
     "name": "stderr",
     "output_type": "stream",
     "text": [
      "/home1/datahome/aponte/.miniconda3/envs/equinox/lib/python3.6/site-packages/xrft/xrft.py:272: FutureWarning: xarray.DataArray.__contains__ currently checks membership in DataArray.coords, but in xarray v0.11 will change to check membership in array values.\n",
      "  elif d in da:\n"
     ]
    },
    {
     "name": "stdout",
     "output_type": "stream",
     "text": [
      "CPU times: user 20.8 s, sys: 204 ms, total: 21 s\n",
      "Wall time: 5min 39s\n"
     ]
    },
    {
     "data": {
      "text/plain": [
       "<xarray.DataArray 'eta_power_spectrum ()' (j: 4320, freq_time: 3000)>\n",
       "array([[6.100417e-07, 1.709440e+04, 8.777749e+03, ..., 3.885412e+03,\n",
       "        8.777749e+03, 1.709440e+04],\n",
       "       [6.133078e-07, 1.695549e+04, 8.691818e+03, ..., 3.844150e+03,\n",
       "        8.691818e+03, 1.695549e+04],\n",
       "       [6.271161e-07, 1.682240e+04, 8.605289e+03, ..., 3.805105e+03,\n",
       "        8.605289e+03, 1.682240e+04],\n",
       "       ...,\n",
       "       [6.401297e-08, 3.744548e+03, 6.442668e+02, ..., 3.887815e+02,\n",
       "        6.442668e+02, 3.744548e+03],\n",
       "       [7.888247e-08, 3.731280e+03, 6.406590e+02, ..., 3.971922e+02,\n",
       "        6.406590e+02, 3.731280e+03],\n",
       "       [5.328227e-08, 3.711034e+03, 6.334194e+02, ..., 4.055229e+02,\n",
       "        6.334194e+02, 3.711034e+03]])\n",
       "Coordinates:\n",
       "  * j                  (j) int64 0 1 2 3 4 5 6 7 8 9 10 11 12 13 14 15 16 17 ...\n",
       "  * freq_time          (freq_time) float64 0.0 9.259e-08 1.852e-07 2.778e-07 ...\n",
       "    freq_time_spacing  float64 9.259e-08"
      ]
     },
     "execution_count": 18,
     "metadata": {},
     "output_type": "execute_result"
    }
   ],
   "source": [
    "v_fft = xrft.dft(eta.fillna(0.), dim=['time'], shift=False, detrend='linear')\n",
    "E = (v_fft*v_fft.conj()).where(v_fft!=0., drop=False).mean(dim=('i'))\n",
    "E = E.astype('f8').rename('eta_power_spectrum ()')\n",
    "%time E.load()"
   ]
  },
  {
   "cell_type": "code",
   "execution_count": 23,
   "metadata": {},
   "outputs": [
    {
     "data": {
      "text/plain": [
       "[<matplotlib.lines.Line2D at 0x2aaafa2cf278>]"
      ]
     },
     "execution_count": 23,
     "metadata": {},
     "output_type": "execute_result"
    },
    {
     "data": {
      "image/png": "[encoded data removed]",
      "text/plain": [
       "<Figure size 432x288 with 1 Axes>"
      ]
     },
     "metadata": {},
     "output_type": "display_data"
    }
   ],
   "source": [
    "E['freq_time'].plot()\n",
    "#E['j'].plot()"
   ]
  },
  {
   "cell_type": "code",
   "execution_count": null,
   "metadata": {},
   "outputs": [
    {
     "name": "stderr",
     "output_type": "stream",
     "text": [
      "No handles with labels found to put in legend.\n"
     ]
    }
   ],
   "source": [
    "# and plot\n",
    "fig, ax = plt.subplots(figsize=(7,7))\n",
    "plt.pcolormesh(np.log10(E.values))\n",
    "#E.plot.pcolormesh(y=E['freq_time'], x=E['j'])\n",
    "#np.log10(E).plot(ax=ax)\n",
    "ax.legend(); ax.grid()\n",
    "#ax.set_xscale('log'); ax.set_yscale('log')\n",
    "ax.set_ylabel('');\n",
    "#ax.set_ylim([1e-1,1e5])"
   ]
  },
  {
   "cell_type": "code",
   "execution_count": 17,
   "metadata": {},
   "outputs": [
    {
     "data": {
      "text/plain": [
       "<xarray.DataArray 'time' ()>\n",
       "array(3600.)\n",
       "Coordinates:\n",
       "    face     int64 1"
      ]
     },
     "execution_count": 17,
     "metadata": {},
     "output_type": "execute_result"
    }
   ],
   "source": [
    "ds['time'][1]-ds['time'][0]"
   ]
  },
  {
   "cell_type": "code",
   "execution_count": 2,
   "metadata": {},
   "outputs": [
    {
     "ename": "NameError",
     "evalue": "name 'E' is not defined",
     "output_type": "error",
     "traceback": [
      "\u001b[0;31m---------------------------------------------------------------------------\u001b[0m",
      "\u001b[0;31mNameError\u001b[0m                                 Traceback (most recent call last)",
      "\u001b[0;32m<ipython-input-2-d36af52b3039>\u001b[0m in \u001b[0;36m<module>\u001b[0;34m()\u001b[0m\n\u001b[0;32m----> 1\u001b[0;31m \u001b[0mE\u001b[0m\u001b[0;34m.\u001b[0m\u001b[0mvalues\u001b[0m\u001b[0;34m(\u001b[0m\u001b[0;34m)\u001b[0m\u001b[0;34m\u001b[0m\u001b[0m\n\u001b[0m",
      "\u001b[0;31mNameError\u001b[0m: name 'E' is not defined"
     ]
    }
   ],
   "source": [
    "E.values()"
   ]
  },
  {
   "cell_type": "code",
   "execution_count": null,
   "metadata": {},
   "outputs": [],
   "source": []
  },
  {
   "cell_type": "code",
   "execution_count": 3,
   "metadata": {},
   "outputs": [
    {
     "ename": "NameError",
     "evalue": "name 'client' is not defined",
     "output_type": "error",
     "traceback": [
      "\u001b[0;31m---------------------------------------------------------------------------\u001b[0m",
      "\u001b[0;31mNameError\u001b[0m                                 Traceback (most recent call last)",
      "\u001b[0;32m<ipython-input-3-7380c3068654>\u001b[0m in \u001b[0;36m<module>\u001b[0;34m()\u001b[0m\n\u001b[0;32m----> 1\u001b[0;31m \u001b[0mclient\u001b[0m\u001b[0;34m.\u001b[0m\u001b[0mrestart\u001b[0m\u001b[0;34m(\u001b[0m\u001b[0;34m)\u001b[0m\u001b[0;34m\u001b[0m\u001b[0m\n\u001b[0m",
      "\u001b[0;31mNameError\u001b[0m: name 'client' is not defined"
     ]
    }
   ],
   "source": [
    "client.restart()"
   ]
  },
  {
   "cell_type": "code",
   "execution_count": 14,
   "metadata": {},
   "outputs": [
    {
     "name": "stdout",
     "output_type": "stream",
     "text": [
      "/home1/datawork/aponte\n"
     ]
    }
   ],
   "source": [
    "print(datawork)"
   ]
  },
  {
   "cell_type": "code",
   "execution_count": null,
   "metadata": {},
   "outputs": [],
   "source": [
    "\n",
    "data_dir = root_data_dir+'Eta/'\n",
    "\n",
    "iters, time = get_iters_time('Eta', data_dir, delta_t=25.)\n",
    "\n",
    "ds = get_compressed_data('Eta', data_dir, grid_dir, iters='all', time=time, client=client)\n",
    "print(ds)\n",
    "print('\\n data size: %.1f GB' %(ds.nbytes / 1e9))\n"
   ]
  }
 ],
 "metadata": {
  "kernelspec": {
   "display_name": "Python 3",
   "language": "python",
   "name": "python3"
  },
  "language_info": {
   "codemirror_mode": {
    "name": "ipython",
    "version": 3
   },
   "file_extension": ".py",
   "mimetype": "text/x-python",
   "name": "python",
   "nbconvert_exporter": "python",
   "pygments_lexer": "ipython3",
   "version": "3.6.5"
  }
 },
 "nbformat": 4,
 "nbformat_minor": 2
}
