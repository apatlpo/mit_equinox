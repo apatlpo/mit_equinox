{
 "cells": [
  {
   "cell_type": "markdown",
   "metadata": {},
   "source": [
    "# compute spectra on mitgcm outputs"
   ]
  },
  {
   "cell_type": "markdown",
   "metadata": {},
   "source": [
    "---"
   ]
  },
  {
   "cell_type": "code",
   "execution_count": 1,
   "metadata": {},
   "outputs": [],
   "source": [
    "import os\n",
    "\n",
    "from matplotlib import pyplot as plt\n",
    "%matplotlib inline\n",
    "\n",
    "import xrft\n",
    "\n",
    "#from utils import *"
   ]
  },
  {
   "cell_type": "code",
   "execution_count": 2,
   "metadata": {},
   "outputs": [],
   "source": [
    "\n",
    "# utils.py\n",
    "\n",
    "# for some reason the code hangs if I place this in utils.py and try to import it\n",
    "\n",
    "import os\n",
    "\n",
    "import numpy as np\n",
    "import dask\n",
    "import xarray as xr\n",
    "\n",
    "import xmitgcm as xm\n",
    "\n",
    "def get_compressed_level_index(grid_dir, index_fname='llc4320_compressed_level_index.nc', geometry='llc'):\n",
    "    ''' Some doc\n",
    "    '''\n",
    "    #\n",
    "    ds = xm.open_mdsdataset('', grid_dir=grid_dir,\n",
    "                             iters=None, geometry=geometry, read_grid=True,\n",
    "                             default_dtype=np.dtype('>f4'),\n",
    "                             ignore_unknown_vars=True)\n",
    "    \n",
    "    # get shape\n",
    "    #nz, nface, ny, nx = ds.hFacC.shape\n",
    "    #shape = (1, nface, ny, nx)\n",
    "    \n",
    "    try:\n",
    "        ds_index = xr.open_dataset(grid_dir+index_fname)\n",
    "    except OSError:\n",
    "        # compute and save mask indices\n",
    "        print('Create llc4320_compressed_level_index.nc in grid_dir')\n",
    "        ds_index = ((ds.reset_coords()[['hFacC', 'hFacW','hFacS']] > 0).sum(axis=(1, 2, 3)))\n",
    "        ds_index.coords['k'] = ds.k\n",
    "        ds_index.load().to_netcdf(grid_dir+index_fname)\n",
    "        print('done')\n",
    "\n",
    "    return ds_index, ds\n",
    "    \n",
    "\n",
    "def load_level_from_3D_field(data_dir, varname, inum, offset, count, mask, dtype):\n",
    "    ''' Some doc\n",
    "    '''\n",
    "\n",
    "    inum_str = '%010d' % inum\n",
    "    # all iters in one directory:\n",
    "    fname = os.path.join(data_dir, '%s.%s.data.shrunk' % (varname, inum_str))\n",
    "    \n",
    "    with open(fname, mode='rb') as file:\n",
    "        file.seek(offset * dtype.itemsize)\n",
    "        data = np.fromfile(file, dtype=dtype, count=count)\n",
    "    \n",
    "    data_blank = np.full_like(mask, np.nan, dtype='f4')\n",
    "    data_blank[mask] = data\n",
    "    data_blank.shape = mask.shape\n",
    "    data_llc = xm.utils._reshape_llc_data(data_blank, jdim=0).compute(get=dask.get)\n",
    "    data_llc.shape = (1,) + data_llc.shape\n",
    "    return data_llc\n",
    "\n",
    "\n",
    "def lazily_load_level_from_3D_field(data_dir, varname, inum, offset, count, mask, shape, dtype):\n",
    "    ''' Some doc\n",
    "    '''\n",
    "    return dask.array.from_delayed(dask.delayed(load_level_from_3D_field)\n",
    "                            (data_dir, varname, inum, offset, count, mask, dtype),\n",
    "                            shape, dtype)\n",
    "\n",
    "\n",
    "def get_compressed_data(varname, data_dir, grid_dir, ds_index=None, ds=None, iters='all', \n",
    "                        time=None, client=None, k=0, point='C', **kwargs):\n",
    "    ''' Get mitgcm compressed data\n",
    "    \n",
    "    Parameters\n",
    "    ----------\n",
    "    varname: string\n",
    "        Variable name to load (should allow for list?)\n",
    "    data_dir: string\n",
    "        Path to the directory where the mds .data and .meta files are stored\n",
    "    grid_dir: string\n",
    "        Path to the directory where grid files are stored\n",
    "    ds_index: xarray Dataset, optional\n",
    "        Contains compressed file\n",
    "    iters: list, 'all', optional\n",
    "        The iterations numbers of the files to be read. If 'all' (default), all iterations \n",
    "        will be read.\n",
    "    k: int\n",
    "        vertical level loaded\n",
    "    point: string\n",
    "        grid point used for the mask\n",
    "    '''\n",
    "    dtype = np.dtype('>f4')\n",
    "    \n",
    "    if ds_index is None or shape is None or ds is None:\n",
    "        ds_index, ds = get_compressed_level_index(grid_dir, **kwargs)\n",
    "        # get shape\n",
    "        nz, nface, ny, nx = ds.hFacC.shape\n",
    "        shape = (1, nface, ny, nx)        \n",
    "        \n",
    "    strides = [0,] + list(ds_index['hFac' + point].data)\n",
    "    offset = strides[k]\n",
    "    count = strides[k+1]\n",
    "    \n",
    "    if iters is 'all':\n",
    "        iters = xm.mds_store._get_all_iternums(data_dir, file_prefixes=varname, file_format='*.??????????.data.shrunk')\n",
    "    \n",
    "    # load mask from raw data\n",
    "    hfac = xm.utils.read_mds(grid_dir + 'hFac' + point,\n",
    "                            use_mmap=True, dask_delayed=False, force_dict=False)\n",
    "    mask = hfac[k]>0\n",
    "    if client is None:\n",
    "        mask_future = mask\n",
    "    else:\n",
    "        mask_future = client.scatter(mask)\n",
    "    \n",
    "    data = dask.array.concatenate([lazily_load_level_from_3D_field\n",
    "                            (data_dir, varname, i, offset, count, mask_future, shape, dtype)\n",
    "                            for i in iters], axis=0)\n",
    "\n",
    "    ds[varname] = xr.Variable(['time', 'face', 'j', 'i'], data)   \n",
    "    if time is not None:\n",
    "        ds['time'] = time.sel(iters=iters).values\n",
    "    \n",
    "    return ds\n",
    "\n",
    "\n",
    "def get_iters_time(varname, data_dir, delta_t=25.):\n",
    "    ''' get iteration numbers and derives corresponding time\n",
    "    Parameters\n",
    "    ----------\n",
    "    varname: string\n",
    "        Variable name to load (should allow for list?)\n",
    "    data_dir: string\n",
    "        Path to the directory where the mds .data and .meta files are stored\n",
    "    delta_t: float\n",
    "        Model time step\n",
    "    \n",
    "    Returns\n",
    "    -------\n",
    "    iters: xarray DataArray\n",
    "        iteration numbers indexed by time\n",
    "    time: xarray DataArray\n",
    "        time in seconds\n",
    "    '''\n",
    "    iters = xm.mds_store._get_all_iternums(data_dir, file_prefixes=varname, file_format='*.??????????.data.shrunk')\n",
    "    time = delta_t * np.array(iters)\n",
    "    \n",
    "    iters = xr.DataArray(iters, coords=[time], dims=['time'])\n",
    "    time = xr.DataArray(time, coords=[iters.values], dims=['iters'])\n",
    "    \n",
    "    return iters, time\n",
    "    "
   ]
  },
  {
   "cell_type": "code",
   "execution_count": 3,
   "metadata": {},
   "outputs": [
    {
     "name": "stderr",
     "output_type": "stream",
     "text": [
      "/home1/datahome/aponte/.miniconda3/envs/pangeo/lib/python3.6/site-packages/distributed/utils.py:121: RuntimeWarning: Couldn't detect a suitable IP address for reaching '8.8.8.8', defaulting to '127.0.0.1': [Errno 101] Network is unreachable\n",
      "  % (host, default, e), RuntimeWarning)\n",
      "distributed.client - ERROR - Restart timed out after 5.000000 seconds\n"
     ]
    },
    {
     "data": {
      "text/html": [
       "<table style=\"border: 2px solid white;\">\n",
       "<tr>\n",
       "<td style=\"vertical-align: top; border: 0px solid white\">\n",
       "<h3>Client</h3>\n",
       "<ul>\n",
       "  <li><b>Scheduler: </b>tcp://10.148.1.31:8786\n",
       "  <li><b>Dashboard: </b><a href='http://10.148.1.31:8787' target='_blank'>http://10.148.1.31:8787</a>\n",
       "</ul>\n",
       "</td>\n",
       "<td style=\"vertical-align: top; border: 0px solid white\">\n",
       "<h3>Cluster</h3>\n",
       "<ul>\n",
       "  <li><b>Workers: </b>118</li>\n",
       "  <li><b>Cores: </b>472</li>\n",
       "  <li><b>Memory: </b>1180.00 GB</li>\n",
       "</ul>\n",
       "</td>\n",
       "</tr>\n",
       "</table>"
      ],
      "text/plain": [
       "<Client: scheduler='tcp://10.148.1.31:8786' processes=118 cores=472>"
      ]
     },
     "execution_count": 3,
     "metadata": {},
     "output_type": "execute_result"
    }
   ],
   "source": [
    "from dask.distributed import Client\n",
    "client = Client(scheduler_file=os.path.expanduser('/home1/datawork/aponte/dask/scheduler.json'))\n",
    "client.restart()"
   ]
  },
  {
   "cell_type": "code",
   "execution_count": 4,
   "metadata": {},
   "outputs": [
    {
     "name": "stderr",
     "output_type": "stream",
     "text": [
      "/home1/datahome/aponte/.miniconda3/envs/pangeo/lib/python3.6/site-packages/xmitgcm-0.2.1-py3.6.egg/xmitgcm/mds_store.py:721: UserWarning: Couldn't find available_diagnostics.log in . Using default version.\n",
      "  \"in %s. Using default version.\" % data_dir)\n",
      "/home1/datahome/aponte/.miniconda3/envs/pangeo/lib/python3.6/site-packages/xmitgcm-0.2.1-py3.6.egg/xmitgcm/utils.py:314: UserWarning: Not sure what to do with rlev = L\n",
      "  warnings.warn(\"Not sure what to do with rlev = \" + rlev)\n",
      "/home1/datahome/aponte/.miniconda3/envs/pangeo/lib/python3.6/site-packages/xmitgcm-0.2.1-py3.6.egg/xmitgcm/mds_store.py:235: FutureWarning: iteration over an xarray.Dataset will change in xarray v0.11 to only include data variables, not coordinates. Iterate over the Dataset.variables property instead to preserve existing behavior in a forwards compatible manner.\n",
      "  for vname in ds:\n"
     ]
    },
    {
     "name": "stdout",
     "output_type": "stream",
     "text": [
      "<xarray.Dataset>\n",
      "Dimensions:  (face: 13, i: 4320, i_g: 4320, j: 4320, j_g: 4320, k: 90, k_l: 90, k_p1: 91, k_u: 90, time: 4096)\n",
      "Coordinates:\n",
      "  * i        (i) int64 0 1 2 3 4 5 6 7 8 9 10 11 12 13 14 15 16 17 18 19 20 ...\n",
      "  * i_g      (i_g) int64 0 1 2 3 4 5 6 7 8 9 10 11 12 13 14 15 16 17 18 19 ...\n",
      "  * j        (j) int64 0 1 2 3 4 5 6 7 8 9 10 11 12 13 14 15 16 17 18 19 20 ...\n",
      "  * j_g      (j_g) int64 0 1 2 3 4 5 6 7 8 9 10 11 12 13 14 15 16 17 18 19 ...\n",
      "  * k        (k) int64 0 1 2 3 4 5 6 7 8 9 10 11 12 13 14 15 16 17 18 19 20 ...\n",
      "  * k_u      (k_u) int64 0 1 2 3 4 5 6 7 8 9 10 11 12 13 14 15 16 17 18 19 ...\n",
      "  * k_l      (k_l) int64 0 1 2 3 4 5 6 7 8 9 10 11 12 13 14 15 16 17 18 19 ...\n",
      "  * k_p1     (k_p1) int64 0 1 2 3 4 5 6 7 8 9 10 11 12 13 14 15 16 17 18 19 ...\n",
      "  * face     (face) int64 0 1 2 3 4 5 6 7 8 9 10 11 12\n",
      "    XC       (face, j, i) >f4 dask.array<shape=(13, 4320, 4320), chunksize=(1, 4320, 4320)>\n",
      "    YC       (face, j, i) >f4 dask.array<shape=(13, 4320, 4320), chunksize=(1, 4320, 4320)>\n",
      "    XG       (face, j_g, i_g) >f4 dask.array<shape=(13, 4320, 4320), chunksize=(1, 4320, 4320)>\n",
      "    YG       (face, j_g, i_g) >f4 dask.array<shape=(13, 4320, 4320), chunksize=(1, 4320, 4320)>\n",
      "    Z        (k) float32 -0.5 -1.57 -2.79 -4.185 -5.78 -7.595 -9.66 -12.01 ...\n",
      "    Zp1      (k_p1) float32 0.0 -1.0 -2.14 -3.44 -4.93 -6.63 -8.56 -10.76 ...\n",
      "    Zu       (k_u) float32 -1.0 -2.14 -3.44 -4.93 -6.63 -8.56 -10.76 -13.26 ...\n",
      "    Zl       (k_l) float32 0.0 -1.0 -2.14 -3.44 -4.93 -6.63 -8.56 -10.76 ...\n",
      "    rA       (face, j, i) >f4 dask.array<shape=(13, 4320, 4320), chunksize=(1, 4320, 4320)>\n",
      "    dxG      (face, j_g, i) >f4 dask.array<shape=(13, 4320, 4320), chunksize=(1, 4320, 4320)>\n",
      "    dyG      (face, j, i_g) >f4 dask.array<shape=(13, 4320, 4320), chunksize=(1, 4320, 4320)>\n",
      "    Depth    (face, j, i) >f4 dask.array<shape=(13, 4320, 4320), chunksize=(1, 4320, 4320)>\n",
      "    rAz      (face, j_g, i_g) >f4 dask.array<shape=(13, 4320, 4320), chunksize=(1, 4320, 4320)>\n",
      "    dxC      (face, j, i_g) >f4 dask.array<shape=(13, 4320, 4320), chunksize=(1, 4320, 4320)>\n",
      "    dyC      (face, j_g, i) >f4 dask.array<shape=(13, 4320, 4320), chunksize=(1, 4320, 4320)>\n",
      "    rAw      (face, j, i_g) >f4 dask.array<shape=(13, 4320, 4320), chunksize=(1, 4320, 4320)>\n",
      "    rAs      (face, j_g, i) >f4 dask.array<shape=(13, 4320, 4320), chunksize=(1, 4320, 4320)>\n",
      "    drC      (k_p1) float32 0.5 1.07 1.22 1.395 1.595 1.815 2.065 2.35 2.67 ...\n",
      "    drF      (k) float32 1.0 1.14 1.3 1.49 1.7 1.93 2.2 2.5 2.84 3.21 3.63 ...\n",
      "    PHrefC   (k) float32 4.905 15.4017 27.3699 41.0549 56.7018 74.507 ...\n",
      "    PHrefF   (k_p1) float32 0.0 9.81 20.9934 33.7464 48.3633 65.0403 83.9736 ...\n",
      "    hFacC    (k, face, j, i) >f4 dask.array<shape=(90, 13, 4320, 4320), chunksize=(1, 1, 4320, 4320)>\n",
      "    hFacW    (k, face, j, i_g) >f4 dask.array<shape=(90, 13, 4320, 4320), chunksize=(1, 1, 4320, 4320)>\n",
      "    hFacS    (k, face, j_g, i) >f4 dask.array<shape=(90, 13, 4320, 4320), chunksize=(1, 1, 4320, 4320)>\n",
      "  * time     (time) float64 2.592e+05 2.628e+05 2.664e+05 2.7e+05 2.736e+05 ...\n",
      "Data variables:\n",
      "    Eta      (time, face, j, i) float32 dask.array<shape=(4096, 13, 4320, 4320), chunksize=(1, 13, 4320, 4320)>\n",
      "Attributes:\n",
      "    Conventions:  CF-1.6\n",
      "    title:        netCDF wrapper of MITgcm MDS binary data\n",
      "    source:       MITgcm\n",
      "    history:      Created by calling `open_mdsdataset(llc_method='smallchunks...\n",
      "\n",
      " data size: 4249.6 GB\n"
     ]
    }
   ],
   "source": [
    "\n",
    "data_dir = '/home/datawork-lops-osi/data/mit4320/Eta/'\n",
    "grid_dir = '/home/datawork-lops-osi/data/mit4320/grid/'\n",
    "\n",
    "iters, time = get_iters_time('Eta', data_dir, delta_t=25.)\n",
    "\n",
    "#ds = get_compressed_data('Eta', data_dir, grid_dir, iters=iters.isel(time=slice(0,10)), time=time, client=client)\n",
    "ds = get_compressed_data('Eta', data_dir, grid_dir, iters='all', time=time, client=client)\n",
    "print(ds)\n",
    "print('\\n data size: %.1f GB' %(ds.nbytes / 1e9))\n"
   ]
  },
  {
   "cell_type": "code",
   "execution_count": null,
   "metadata": {},
   "outputs": [
    {
     "data": {
      "text/plain": [
       "<matplotlib.collections.QuadMesh at 0x2abf598f94a8>"
      ]
     },
     "execution_count": 5,
     "metadata": {},
     "output_type": "execute_result"
    },
    {
     "data": {
      "image/png": "[encoded data removed]",
      "text/plain": [
       "<matplotlib.figure.Figure at 0x2aaae2766630>"
      ]
     },
     "metadata": {},
     "output_type": "display_data"
    }
   ],
   "source": [
    "ds['Eta'].isel(face=1, time=0).plot()\n",
    "ds['Eta'].isel(face=1, time=0, i=slice(0,100), j=slice(0,100)).plot()"
   ]
  },
  {
   "cell_type": "code",
   "execution_count": null,
   "metadata": {},
   "outputs": [],
   "source": [
    "ds['Eta'].isel(face=1, i=0, j=0).plot()"
   ]
  },
  {
   "cell_type": "code",
   "execution_count": null,
   "metadata": {},
   "outputs": [],
   "source": []
  },
  {
   "cell_type": "code",
   "execution_count": null,
   "metadata": {},
   "outputs": [],
   "source": [
    "ds['Eta'].isel(face=1, i=slice(0,100), j=slice(0,100)).mean(dim=['i','j']).plot()"
   ]
  },
  {
   "cell_type": "markdown",
   "metadata": {},
   "source": [
    "---\n",
    "\n",
    "# spectral computations "
   ]
  },
  {
   "cell_type": "code",
   "execution_count": null,
   "metadata": {},
   "outputs": [],
   "source": [
    "chunks={'time': len(time), 'face':1,  'i': 10, 'j': 10}\n",
    "%time ds = ds.chunk(chunks)"
   ]
  },
  {
   "cell_type": "code",
   "execution_count": null,
   "metadata": {},
   "outputs": [],
   "source": [
    "ds"
   ]
  },
  {
   "cell_type": "code",
   "execution_count": null,
   "metadata": {},
   "outputs": [],
   "source": []
  },
  {
   "cell_type": "code",
   "execution_count": null,
   "metadata": {},
   "outputs": [],
   "source": [
    "v_fft = xrft.dft(ds['eta'].isel(face=1).fillna(0.), dim=['time_counter'], shift=False, detrend='linear')\n",
    "E = (v_fft*v_fft.conj()).where(v_fft!=0.,drop=False).mean(dim=('i','j'))\n",
    "E = E.astype('f8').rename('eta_power_spectrum ()')"
   ]
  },
  {
   "cell_type": "code",
   "execution_count": null,
   "metadata": {},
   "outputs": [],
   "source": [
    "%time E.load();"
   ]
  },
  {
   "cell_type": "code",
   "execution_count": null,
   "metadata": {},
   "outputs": [],
   "source": [
    "# and plot\n",
    "fig, ax = plt.subplots(figsize=(7,7))\n",
    "E.plot(ax=ax)\n",
    "ax.legend(); ax.grid()\n",
    "ax.set_xscale('log'); ax.set_yscale('log')\n",
    "ax.set_ylabel(''); \n",
    "#ax.set_ylim([1e-1,1e5])"
   ]
  },
  {
   "cell_type": "code",
   "execution_count": null,
   "metadata": {},
   "outputs": [],
   "source": []
  },
  {
   "cell_type": "code",
   "execution_count": null,
   "metadata": {},
   "outputs": [],
   "source": []
  }
 ],
 "metadata": {
  "kernelspec": {
   "display_name": "Python 3",
   "language": "python",
   "name": "python3"
  },
  "language_info": {
   "codemirror_mode": {
    "name": "ipython",
    "version": 3
   },
   "file_extension": ".py",
   "mimetype": "text/x-python",
   "name": "python",
   "nbconvert_exporter": "python",
   "pygments_lexer": "ipython3",
   "version": "3.6.3"
  }
 },
 "nbformat": 4,
 "nbformat_minor": 2
}
