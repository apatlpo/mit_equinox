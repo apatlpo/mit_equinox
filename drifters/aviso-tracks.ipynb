{
 "cells": [
  {
   "cell_type": "markdown",
   "metadata": {},
   "source": [
    "# load drifter tracks and add aviso maps"
   ]
  },
  {
   "cell_type": "code",
   "execution_count": 2,
   "metadata": {},
   "outputs": [],
   "source": [
    "import re\n",
    "import os\n",
    "\n",
    "import numpy as np\n",
    "#import netCDF4\n",
    "import xarray as xr\n",
    "import pandas as pd\n",
    "#import dask.bag as db\n",
    "#import dask.distributed\n",
    "\n",
    "import datetime\n",
    "\n",
    "import pyinterp.core\n",
    "import pyinterp.trivariate\n",
    "\n",
    "from matplotlib import pyplot as plt\n",
    "%matplotlib inline\n",
    "\n",
    "#import mitequinox.drifters as edr\n",
    "import mitequinox.utils as eut\n",
    "\n",
    "#data_dir = '/work/ALT/swot/aval/syn/drifters/'\n",
    "data_dir = eut.work_data_dir+'drifters/'\n",
    "aviso_dir = '/work/ALT/odatis/AVISO/2019/'"
   ]
  },
  {
   "cell_type": "code",
   "execution_count": 3,
   "metadata": {},
   "outputs": [
    {
     "name": "stderr",
     "output_type": "stream",
     "text": [
      "/home/mp/pontea/.conda/envs/equinox/lib/python3.7/site-packages/distributed/dashboard/core.py:74: UserWarning: \n",
      "Port 8787 is already in use. \n",
      "Perhaps you already have a cluster running?\n",
      "Hosting the diagnostics dashboard on a random port instead.\n",
      "  warnings.warn(\"\\n\" + msg)\n"
     ]
    }
   ],
   "source": [
    "from dask_jobqueue import PBSCluster\n",
    "#cluster = PBSCluster(cores=6, walltime='12:00:00', memory='20GB')\n",
    "cluster = PBSCluster()\n",
    "w = cluster.scale(1*12)\n",
    "#w = cluster.scale(10) # postprocessing"
   ]
  },
  {
   "cell_type": "code",
   "execution_count": 4,
   "metadata": {},
   "outputs": [],
   "source": [
    "# get dask handles and check dask server status\n",
    "from dask.distributed import Client\n",
    "client = Client(cluster)\n",
    "#client = Client()"
   ]
  },
  {
   "cell_type": "code",
   "execution_count": 5,
   "metadata": {},
   "outputs": [
    {
     "data": {
      "application/vnd.jupyter.widget-view+json": {
       "model_id": "5b7394bdf6be49049ed8a7660c8304b5",
       "version_major": 2,
       "version_minor": 0
      },
      "text/plain": [
       "VBox(children=(HTML(value='<h2>PBSCluster</h2>'), HBox(children=(HTML(value='\\n<div>\\n  <style scoped>\\n    .d…"
      ]
     },
     "metadata": {},
     "output_type": "display_data"
    },
    {
     "name": "stderr",
     "output_type": "stream",
     "text": [
      "/home/mp/pontea/.conda/envs/equinox/lib/python3.7/site-packages/distributed/scheduler.py:313: UserWarning: WorkerState.ncores has moved to WorkerState.nthreads\n",
      "  warnings.warn(\"WorkerState.ncores has moved to WorkerState.nthreads\")\n"
     ]
    }
   ],
   "source": [
    "#client\n",
    "cluster"
   ]
  },
  {
   "cell_type": "code",
   "execution_count": 6,
   "metadata": {},
   "outputs": [
    {
     "data": {
      "text/html": [
       "<table style=\"border: 2px solid white;\">\n",
       "<tr>\n",
       "<td style=\"vertical-align: top; border: 0px solid white\">\n",
       "<h3>Client</h3>\n",
       "<ul>\n",
       "  <li><b>Scheduler: </b>tcp://10.135.39.59:57219\n",
       "  <li><b>Dashboard: </b><a href='http://10.135.39.59:50283/status' target='_blank'>http://10.135.39.59:50283/status</a>\n",
       "</ul>\n",
       "</td>\n",
       "<td style=\"vertical-align: top; border: 0px solid white\">\n",
       "<h3>Cluster</h3>\n",
       "<ul>\n",
       "  <li><b>Workers: </b>12</li>\n",
       "  <li><b>Cores: </b>24</li>\n",
       "  <li><b>Memory: </b>99.96 GB</li>\n",
       "</ul>\n",
       "</td>\n",
       "</tr>\n",
       "</table>"
      ],
      "text/plain": [
       "<Client: scheduler='tcp://10.135.39.59:57219' processes=12 cores=24>"
      ]
     },
     "execution_count": 6,
     "metadata": {},
     "output_type": "execute_result"
    }
   ],
   "source": [
    "client"
   ]
  },
  {
   "cell_type": "code",
   "execution_count": 9,
   "metadata": {},
   "outputs": [],
   "source": [
    "#client.close()\n",
    "#cluster.close()"
   ]
  },
  {
   "cell_type": "markdown",
   "metadata": {},
   "source": [
    "---"
   ]
  },
  {
   "cell_type": "code",
   "execution_count": 7,
   "metadata": {},
   "outputs": [],
   "source": [
    "class GridSeries:\n",
    "    def __init__(self, dirname):\n",
    "        self.dirname = dirname\n",
    "        self.df, self.dt = self._load_ts()\n",
    "\n",
    "    def _load_ts(self):\n",
    "        pattern = re.compile(r\"dt_global_allsat_phy_l4_(\\d{4})(\\d{2})(\\d{2})_\\d{8}\\.nc\").search\n",
    "        times = []\n",
    "        files = []\n",
    "        for root, dirs, items in os.walk(self.dirname):\n",
    "            for item in items:\n",
    "                match = pattern(item)\n",
    "                if match is None:\n",
    "                    continue\n",
    "                times.append(datetime.datetime(\n",
    "                    int(match.group(1)),\n",
    "                    int(match.group(2)),\n",
    "                    int(match.group(3))))\n",
    "                files.append(os.path.join(root, item))\n",
    "        times = np.array(times)\n",
    "        files = np.array(files)\n",
    "        indices = np.argsort(times)\n",
    "\n",
    "        df = pd.DataFrame(data=dict(path=files[indices]), index=times[indices])\n",
    "        frequency = set(pd.Series(np.diff(df.index)).dt.total_seconds())\n",
    "        if len(frequency) != 1:\n",
    "            raise RuntimeError(\n",
    "                \"Time series does not have a constant step between two \"\n",
    "                f\"grids: {frequency}\")\n",
    "        return df, datetime.timedelta(seconds=frequency.pop())\n",
    "\n",
    "    def load_dataset(self, varname, start, end):\n",
    "        if start < self.df.index[0] or end > self.df.index[-1]:\n",
    "            raise IndexError(\n",
    "                f\"period [{start}, {end}] out of range [{self.df.index[0]}, \"\n",
    "                f\"{self.df.index[-1]}]\")\n",
    "        first = start - self.dt\n",
    "        last = end + self.dt\n",
    "\n",
    "        selected = self.df[(self.df.index >= first) & (self.df.index < last)]\n",
    "\n",
    "        x_axis = y_axis = None\n",
    "        t_axis = pyinterp.core.Axis(selected.index)\n",
    "\n",
    "        var = []\n",
    "\n",
    "        for item in selected[\"path\"]:\n",
    "            print(\"*** load: \" + item)\n",
    "            \n",
    "            #with netCDF4.Dataset(item) as ds:\n",
    "            #    if x_axis is None:\n",
    "            #        x_axis = pyinterp.core.Axis(\n",
    "            #            ds.variables[\"longitude\"][:])\n",
    "            #        y_axis = pyinterp.core.Axis(ds.variables[\"latitude\"][:])\n",
    "                \n",
    "            with xarray.open_dataset(item) as ds:\n",
    "                if x_axis is None:\n",
    "                    x_axis = pyinterp.core.Axis(\n",
    "                        ds[\"longitude\"].values[:])\n",
    "                    y_axis = pyinterp.core.Axis(ds[\"latitude\"].values[:])\n",
    "\n",
    "                def _load(grid):\n",
    "                    grid[grid.mask] = np.nan\n",
    "                    return grid[0, :]\n",
    "\n",
    "                #var.append(_load(ds.variables[varname][:]))\n",
    "                var.append(_load(ds[varname].values[:]))\n",
    "\n",
    "        var = np.stack(var).transpose(2, 1, 0)\n",
    "\n",
    "        return pyinterp.trivariate.Trivariate(x_axis, y_axis, t_axis, var)"
   ]
  },
  {
   "cell_type": "code",
   "execution_count": 16,
   "metadata": {},
   "outputs": [],
   "source": [
    "def cnes_jd_to_datetime(seconds):\n",
    "    return datetime.datetime.utcfromtimestamp(\n",
    "        ((seconds / 86400.0) - 7305.0) * 86400.0)"
   ]
  },
  {
   "cell_type": "code",
   "execution_count": null,
   "metadata": {},
   "outputs": [],
   "source": [
    "class DataSet:\n",
    "    def __init__(self, files):\n",
    "        ds = xr.open_mfdataset(files, \n",
    "                    concat_dim='index', parallel=True, combine='nested')\n",
    "        ds[\"time\"] = cnes_jd_to_datetime df[\"time\"].apply(cnes_jd_to_datetime)\n",
    "        self.ds = ds.sortby(ds.t0).persist()\n",
    "        \n",
    "    def periods(self, grid_series, frequency='D'):\n",
    "        period_start = self.df.groupby(\n",
    "            self.df.index.to_period(frequency))[\"sla\"].count().index\n",
    "        period_start = self.ds.t0.groupby\n",
    "        \n",
    "        for start, end in zip(period_start, period_start[1:]):\n",
    "            start = start.to_timestamp()\n",
    "            if start < grid_series.df.index[0]:\n",
    "                start = grid_series.df.index[0]\n",
    "            end = end.to_timestamp()\n",
    "            yield start, end\n",
    "        yield end, self.df.index[-1] + grid_series.dt\n",
    "\n",
    "    def interpolate(self, grid_series, varname, start, end):\n",
    "        interpolator = grid_series.load_dataset(varname, start, end)\n",
    "        mask = (self.df.index >= start) & (self.df.index < end)\n",
    "        selected = self.df.loc[mask, [\"lon\", \"lat\"]]\n",
    "        self.df.loc[mask, [\"sla\"]] = interpolator.evaluate(\n",
    "            selected[\"lon\"].values,\n",
    "            selected[\"lat\"].values,\n",
    "            selected.index.values,\n",
    "            interpolator=\"inverse_distance_weighting\",\n",
    "            num_threads=0)"
   ]
  },
  {
   "cell_type": "code",
   "execution_count": 9,
   "metadata": {},
   "outputs": [],
   "source": [
    "ds = xr.open_mfdataset(data_dir+'single_tfilt/low_inertial_*.nc', \n",
    "                       concat_dim='index', parallel=True, combine='nested')"
   ]
  },
  {
   "cell_type": "code",
   "execution_count": 12,
   "metadata": {},
   "outputs": [
    {
     "data": {
      "text/plain": [
       "<xarray.Dataset>\n",
       "Dimensions:           (TIME: 721, index: 11327)\n",
       "Coordinates:\n",
       "  * TIME              (TIME) timedelta64[ns] 00:00:00 ... 30 days 00:00:00\n",
       "Dimensions without coordinates: index\n",
       "Data variables:\n",
       "    LAT               (index, TIME) float64 dask.array<shape=(11327, 721), chunksize=(100, 721)>\n",
       "    LON               (index, TIME) float64 dask.array<shape=(11327, 721), chunksize=(100, 721)>\n",
       "    U                 (index, TIME) float64 dask.array<shape=(11327, 721), chunksize=(100, 721)>\n",
       "    V                 (index, TIME) float64 dask.array<shape=(11327, 721), chunksize=(100, 721)>\n",
       "    LAT_ERR           (index, TIME) float64 dask.array<shape=(11327, 721), chunksize=(100, 721)>\n",
       "    LON_ERR           (index, TIME) float64 dask.array<shape=(11327, 721), chunksize=(100, 721)>\n",
       "    U_ERR             (index, TIME) float64 dask.array<shape=(11327, 721), chunksize=(100, 721)>\n",
       "    V_ERR             (index, TIME) float64 dask.array<shape=(11327, 721), chunksize=(100, 721)>\n",
       "    DROGUE            (index, TIME) float64 dask.array<shape=(11327, 721), chunksize=(100, 721)>\n",
       "    v0                (index, TIME) float64 dask.array<shape=(11327, 721), chunksize=(100, 721)>\n",
       "    v1                (index, TIME) float64 dask.array<shape=(11327, 721), chunksize=(100, 721)>\n",
       "    v2                (index, TIME) float64 dask.array<shape=(11327, 721), chunksize=(100, 721)>\n",
       "    LAT_low           (index, TIME) float64 dask.array<shape=(11327, 721), chunksize=(100, 721)>\n",
       "    LON_low           (index, TIME) float64 dask.array<shape=(11327, 721), chunksize=(100, 721)>\n",
       "    U_low             (index, TIME) float64 dask.array<shape=(11327, 721), chunksize=(100, 721)>\n",
       "    V_low             (index, TIME) float64 dask.array<shape=(11327, 721), chunksize=(100, 721)>\n",
       "    LAT_ERR_low       (index, TIME) float64 dask.array<shape=(11327, 721), chunksize=(100, 721)>\n",
       "    LON_ERR_low       (index, TIME) float64 dask.array<shape=(11327, 721), chunksize=(100, 721)>\n",
       "    U_ERR_low         (index, TIME) float64 dask.array<shape=(11327, 721), chunksize=(100, 721)>\n",
       "    V_ERR_low         (index, TIME) float64 dask.array<shape=(11327, 721), chunksize=(100, 721)>\n",
       "    DROGUE_low        (index, TIME) float64 dask.array<shape=(11327, 721), chunksize=(100, 721)>\n",
       "    v0_low            (index, TIME) float64 dask.array<shape=(11327, 721), chunksize=(100, 721)>\n",
       "    v1_low            (index, TIME) float64 dask.array<shape=(11327, 721), chunksize=(100, 721)>\n",
       "    v2_low            (index, TIME) float64 dask.array<shape=(11327, 721), chunksize=(100, 721)>\n",
       "    LAT_inertial      (index, TIME) float64 dask.array<shape=(11327, 721), chunksize=(100, 721)>\n",
       "    LON_inertial      (index, TIME) float64 dask.array<shape=(11327, 721), chunksize=(100, 721)>\n",
       "    U_inertial        (index, TIME) float64 dask.array<shape=(11327, 721), chunksize=(100, 721)>\n",
       "    V_inertial        (index, TIME) float64 dask.array<shape=(11327, 721), chunksize=(100, 721)>\n",
       "    LAT_ERR_inertial  (index, TIME) float64 dask.array<shape=(11327, 721), chunksize=(100, 721)>\n",
       "    LON_ERR_inertial  (index, TIME) float64 dask.array<shape=(11327, 721), chunksize=(100, 721)>\n",
       "    U_ERR_inertial    (index, TIME) float64 dask.array<shape=(11327, 721), chunksize=(100, 721)>\n",
       "    V_ERR_inertial    (index, TIME) float64 dask.array<shape=(11327, 721), chunksize=(100, 721)>\n",
       "    DROGUE_inertial   (index, TIME) float64 dask.array<shape=(11327, 721), chunksize=(100, 721)>\n",
       "    v0_inertial       (index, TIME) float64 dask.array<shape=(11327, 721), chunksize=(100, 721)>\n",
       "    v1_inertial       (index, TIME) float64 dask.array<shape=(11327, 721), chunksize=(100, 721)>\n",
       "    v2_inertial       (index, TIME) float64 dask.array<shape=(11327, 721), chunksize=(100, 721)>\n",
       "    ID                (index) object dask.array<shape=(11327,), chunksize=(100,)>\n",
       "    t0                (index) datetime64[ns] dask.array<shape=(11327,), chunksize=(100,)>"
      ]
     },
     "execution_count": 12,
     "metadata": {},
     "output_type": "execute_result"
    }
   ],
   "source": [
    "ds"
   ]
  },
  {
   "cell_type": "code",
   "execution_count": 14,
   "metadata": {},
   "outputs": [
    {
     "name": "stderr",
     "output_type": "stream",
     "text": [
      "/home/mp/pontea/.conda/envs/equinox/lib/python3.7/site-packages/xarray/core/indexing.py:1201: PerformanceWarning: Slicing with an out-of-order index is generating 81 times more chunks\n",
      "  return self.array[key]\n",
      "/home/mp/pontea/.conda/envs/equinox/lib/python3.7/site-packages/distributed/scheduler.py:313: UserWarning: WorkerState.ncores has moved to WorkerState.nthreads\n",
      "  warnings.warn(\"WorkerState.ncores has moved to WorkerState.nthreads\")\n"
     ]
    }
   ],
   "source": [
    "ds = ds.sortby(ds.t0).persist()"
   ]
  },
  {
   "cell_type": "code",
   "execution_count": 15,
   "metadata": {},
   "outputs": [
    {
     "name": "stderr",
     "output_type": "stream",
     "text": [
      "/home/mp/pontea/.conda/envs/equinox/lib/python3.7/site-packages/pandas/plotting/_converter.py:129: FutureWarning: Using an implicitly registered datetime converter for a matplotlib plotting method. The converter was registered by pandas on import. Future versions of pandas will require you to explicitly register matplotlib converters.\n",
      "\n",
      "To register the converters:\n",
      "\t>>> from pandas.plotting import register_matplotlib_converters\n",
      "\t>>> register_matplotlib_converters()\n",
      "  warnings.warn(msg, FutureWarning)\n"
     ]
    },
    {
     "data": {
      "text/plain": [
       "[<matplotlib.lines.Line2D at 0x2b5a56954f98>]"
      ]
     },
     "execution_count": 15,
     "metadata": {},
     "output_type": "execute_result"
    },
    {
     "data": {
      "image/png": "[encoded data removed]",
      "text/plain": [
       "<Figure size 432x288 with 1 Axes>"
      ]
     },
     "metadata": {
      "needs_background": "light"
     },
     "output_type": "display_data"
    },
    {
     "name": "stderr",
     "output_type": "stream",
     "text": [
      "/home/mp/pontea/.conda/envs/equinox/lib/python3.7/site-packages/distributed/scheduler.py:313: UserWarning: WorkerState.ncores has moved to WorkerState.nthreads\n",
      "  warnings.warn(\"WorkerState.ncores has moved to WorkerState.nthreads\")\n"
     ]
    }
   ],
   "source": [
    "ds.t0.plot()"
   ]
  },
  {
   "cell_type": "code",
   "execution_count": 19,
   "metadata": {},
   "outputs": [
    {
     "data": {
      "text/plain": [
       "<xarray.DataArray 't0' (index: 11327)>\n",
       "dask.array<shape=(11327,), dtype=datetime64[ns], chunksize=(3,)>\n",
       "Dimensions without coordinates: index"
      ]
     },
     "execution_count": 19,
     "metadata": {},
     "output_type": "execute_result"
    }
   ],
   "source": [
    "ds.t0"
   ]
  },
  {
   "cell_type": "code",
   "execution_count": 22,
   "metadata": {},
   "outputs": [
    {
     "name": "stderr",
     "output_type": "stream",
     "text": [
      "/home/mp/pontea/.conda/envs/equinox/lib/python3.7/site-packages/distributed/scheduler.py:313: UserWarning: WorkerState.ncores has moved to WorkerState.nthreads\n",
      "  warnings.warn(\"WorkerState.ncores has moved to WorkerState.nthreads\")\n"
     ]
    }
   ],
   "source": [
    "lt = ds.t0.isel(index=0).values"
   ]
  },
  {
   "cell_type": "code",
   "execution_count": 23,
   "metadata": {},
   "outputs": [
    {
     "data": {
      "text/plain": [
       "['T',\n",
       " '__abs__',\n",
       " '__add__',\n",
       " '__and__',\n",
       " '__array__',\n",
       " '__array_interface__',\n",
       " '__array_priority__',\n",
       " '__array_struct__',\n",
       " '__array_wrap__',\n",
       " '__bool__',\n",
       " '__class__',\n",
       " '__copy__',\n",
       " '__deepcopy__',\n",
       " '__delattr__',\n",
       " '__dir__',\n",
       " '__divmod__',\n",
       " '__doc__',\n",
       " '__eq__',\n",
       " '__float__',\n",
       " '__floordiv__',\n",
       " '__format__',\n",
       " '__ge__',\n",
       " '__getattribute__',\n",
       " '__getitem__',\n",
       " '__gt__',\n",
       " '__hash__',\n",
       " '__init__',\n",
       " '__init_subclass__',\n",
       " '__int__',\n",
       " '__invert__',\n",
       " '__le__',\n",
       " '__lshift__',\n",
       " '__lt__',\n",
       " '__mod__',\n",
       " '__mul__',\n",
       " '__ne__',\n",
       " '__neg__',\n",
       " '__new__',\n",
       " '__or__',\n",
       " '__pos__',\n",
       " '__pow__',\n",
       " '__radd__',\n",
       " '__rand__',\n",
       " '__rdivmod__',\n",
       " '__reduce__',\n",
       " '__reduce_ex__',\n",
       " '__repr__',\n",
       " '__rfloordiv__',\n",
       " '__rlshift__',\n",
       " '__rmod__',\n",
       " '__rmul__',\n",
       " '__ror__',\n",
       " '__round__',\n",
       " '__rpow__',\n",
       " '__rrshift__',\n",
       " '__rshift__',\n",
       " '__rsub__',\n",
       " '__rtruediv__',\n",
       " '__rxor__',\n",
       " '__setattr__',\n",
       " '__setstate__',\n",
       " '__sizeof__',\n",
       " '__str__',\n",
       " '__sub__',\n",
       " '__subclasshook__',\n",
       " '__truediv__',\n",
       " '__xor__',\n",
       " 'all',\n",
       " 'any',\n",
       " 'argmax',\n",
       " 'argmin',\n",
       " 'argsort',\n",
       " 'astype',\n",
       " 'base',\n",
       " 'byteswap',\n",
       " 'choose',\n",
       " 'clip',\n",
       " 'compress',\n",
       " 'conj',\n",
       " 'conjugate',\n",
       " 'copy',\n",
       " 'cumprod',\n",
       " 'cumsum',\n",
       " 'data',\n",
       " 'diagonal',\n",
       " 'dtype',\n",
       " 'dump',\n",
       " 'dumps',\n",
       " 'fill',\n",
       " 'flags',\n",
       " 'flat',\n",
       " 'flatten',\n",
       " 'getfield',\n",
       " 'imag',\n",
       " 'item',\n",
       " 'itemset',\n",
       " 'itemsize',\n",
       " 'max',\n",
       " 'mean',\n",
       " 'min',\n",
       " 'nbytes',\n",
       " 'ndim',\n",
       " 'newbyteorder',\n",
       " 'nonzero',\n",
       " 'prod',\n",
       " 'ptp',\n",
       " 'put',\n",
       " 'ravel',\n",
       " 'real',\n",
       " 'repeat',\n",
       " 'reshape',\n",
       " 'resize',\n",
       " 'round',\n",
       " 'searchsorted',\n",
       " 'setfield',\n",
       " 'setflags',\n",
       " 'shape',\n",
       " 'size',\n",
       " 'sort',\n",
       " 'squeeze',\n",
       " 'std',\n",
       " 'strides',\n",
       " 'sum',\n",
       " 'swapaxes',\n",
       " 'take',\n",
       " 'tobytes',\n",
       " 'tofile',\n",
       " 'tolist',\n",
       " 'tostring',\n",
       " 'trace',\n",
       " 'transpose',\n",
       " 'var',\n",
       " 'view']"
      ]
     },
     "execution_count": 23,
     "metadata": {},
     "output_type": "execute_result"
    }
   ],
   "source": [
    "dir(lt)"
   ]
  },
  {
   "cell_type": "code",
   "execution_count": null,
   "metadata": {},
   "outputs": [],
   "source": []
  },
  {
   "cell_type": "code",
   "execution_count": null,
   "metadata": {},
   "outputs": [],
   "source": []
  },
  {
   "cell_type": "code",
   "execution_count": null,
   "metadata": {},
   "outputs": [],
   "source": []
  },
  {
   "cell_type": "code",
   "execution_count": null,
   "metadata": {},
   "outputs": [],
   "source": [
    "ds.t"
   ]
  },
  {
   "cell_type": "code",
   "execution_count": 7,
   "metadata": {},
   "outputs": [
    {
     "name": "stderr",
     "output_type": "stream",
     "text": [
      "/home/mp/pontea/.conda/envs/equinox/lib/python3.6/site-packages/pandas/core/indexes/base.py:2825: RuntimeWarning: invalid value encountered in less\n",
      "  indexer = np.where(op(left_distances, right_distances) |\n"
     ]
    }
   ],
   "source": [
    "ds = ds.chunk({'index': 500})\n",
    "ds['UV'] = (ds.U + 1j * ds.V).where(~np.isnan(ds.U*ds.V), other=np.nan)\n",
    "ds['f'] = eut.coriolis(ds.LAT, signed=True)\n",
    "ds['depth'] = edr.compute_depth(ds.LON, ds.LAT)"
   ]
  },
  {
   "cell_type": "code",
   "execution_count": 8,
   "metadata": {},
   "outputs": [],
   "source": [
    "ds = ds.persist()"
   ]
  },
  {
   "cell_type": "markdown",
   "metadata": {},
   "source": [
    "check typical percentages of bad points"
   ]
  },
  {
   "cell_type": "code",
   "execution_count": 9,
   "metadata": {
    "scrolled": true
   },
   "outputs": [
    {
     "data": {
      "text/plain": [
       "(array([   21.,    18.,    13.,    17.,    28.,    32.,    26.,    34.,\n",
       "           65., 11073.]),\n",
       " array([0.9001387 , 0.91012483, 0.92011096, 0.93009709, 0.94008322,\n",
       "        0.95006935, 0.96005548, 0.97004161, 0.98002774, 0.99001387,\n",
       "        1.        ]),\n",
       " <a list of 10 Patch objects>)"
      ]
     },
     "execution_count": 9,
     "metadata": {},
     "output_type": "execute_result"
    },
    {
     "data": {
      "image/png": "[encoded data removed]",
      "text/plain": [
       "<Figure size 432x288 with 1 Axes>"
      ]
     },
     "metadata": {
      "needs_background": "light"
     },
     "output_type": "display_data"
    }
   ],
   "source": [
    "gd_points_percent = ( ds.U.where(np.isnan(ds.U), other=1.)\n",
    "                      .fillna(0.).sum('TIME')/len(ds.TIME) )\n",
    "gd_points_percent.plot.hist()"
   ]
  },
  {
   "cell_type": "code",
   "execution_count": 10,
   "metadata": {
    "scrolled": true
   },
   "outputs": [],
   "source": [
    "# interpolate NaNs\n",
    "ds['UV'] = ds.UV.fillna(0.)\n",
    "# below not working, xarray version issue?\n",
    "#ds['UV'] = ds.UV.interpolate_na(dim='TIME', method='linear', \n",
    "#                                limit=12, right=0., left=0.)"
   ]
  },
  {
   "cell_type": "code",
   "execution_count": null,
   "metadata": {},
   "outputs": [],
   "source": []
  },
  {
   "cell_type": "code",
   "execution_count": null,
   "metadata": {},
   "outputs": [],
   "source": []
  },
  {
   "cell_type": "markdown",
   "metadata": {},
   "source": [
    "---"
   ]
  },
  {
   "cell_type": "code",
   "execution_count": 25,
   "metadata": {
    "scrolled": true
   },
   "outputs": [],
   "source": [
    "cluster.close()"
   ]
  },
  {
   "cell_type": "code",
   "execution_count": null,
   "metadata": {},
   "outputs": [],
   "source": []
  }
 ],
 "metadata": {
  "kernelspec": {
   "display_name": "equinox",
   "language": "python",
   "name": "equinox"
  },
  "language_info": {
   "codemirror_mode": {
    "name": "ipython",
    "version": 3
   },
   "file_extension": ".py",
   "mimetype": "text/x-python",
   "name": "python",
   "nbconvert_exporter": "python",
   "pygments_lexer": "ipython3",
   "version": "3.7.3"
  }
 },
 "nbformat": 4,
 "nbformat_minor": 2
}
