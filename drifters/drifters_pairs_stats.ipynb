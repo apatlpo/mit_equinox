{
 "cells": [
  {
   "cell_type": "markdown",
   "metadata": {},
   "source": [
    "# load drifter processed pair data and derive statistics"
   ]
  },
  {
   "cell_type": "code",
   "execution_count": 1,
   "metadata": {},
   "outputs": [],
   "source": [
    "import os\n",
    "from glob import glob\n",
    "#import pickle\n",
    "\n",
    "#import dask\n",
    "#import dask.bag as db\n",
    "#import dask.dataframe as dd\n",
    "#import dask.array as da\n",
    "#from dask import delayed\n",
    "from dask.distributed import Client\n",
    "import xarray as xr\n",
    "#import pandas as pd\n",
    "#import geopandas\n",
    "import numpy as np\n",
    "#import datetime\n",
    "\n",
    "#from scipy import signal\n",
    "#import scipy.ndimage as im\n",
    "\n",
    "from matplotlib import pyplot as plt\n",
    "%matplotlib inline\n",
    "import cartopy.crs as ccrs\n",
    "import cartopy.feature as cfeature\n",
    "\n",
    "import mitequinox.drifters as edr\n",
    "\n",
    "data_dir = '/work/ALT/swot/aval/syn/drifters/'"
   ]
  },
  {
   "cell_type": "code",
   "execution_count": 2,
   "metadata": {},
   "outputs": [
    {
     "name": "stderr",
     "output_type": "stream",
     "text": [
      "/home/mp/pontea/.conda/envs/equinox/lib/python3.6/site-packages/dask_jobqueue/config.py:12: YAMLLoadWarning: calling yaml.load() without Loader=... is deprecated, as the default Loader is unsafe. Please read https://msg.pyyaml.org/load for full details.\n",
      "  defaults = yaml.load(f)\n",
      "/home/mp/pontea/.conda/envs/equinox/lib/python3.6/site-packages/distributed/deploy/local.py:138: UserWarning: diagnostics_port has been deprecated. Please use `dashboard_address=` instead\n",
      "  \"diagnostics_port has been deprecated. \"\n"
     ]
    }
   ],
   "source": [
    "from dask_jobqueue import PBSCluster\n",
    "cluster = PBSCluster(cores=1, walltime='12:00:00', memory='20GB')\n",
    "w = cluster.scale(10) # postprocessing"
   ]
  },
  {
   "cell_type": "code",
   "execution_count": 3,
   "metadata": {},
   "outputs": [],
   "source": [
    "# get dask handles and check dask server status\n",
    "#from dask.distributed import Client\n",
    "client = Client(cluster)\n",
    "#client = Client()"
   ]
  },
  {
   "cell_type": "code",
   "execution_count": 4,
   "metadata": {},
   "outputs": [
    {
     "data": {
      "application/vnd.jupyter.widget-view+json": {
       "model_id": "730b4ae889954d73907324a12d501468",
       "version_major": 2,
       "version_minor": 0
      },
      "text/plain": [
       "VBox(children=(HTML(value='<h2>PBSCluster</h2>'), HBox(children=(HTML(value='\\n<div>\\n  <style scoped>\\n    .d…"
      ]
     },
     "metadata": {},
     "output_type": "display_data"
    }
   ],
   "source": [
    "cluster"
   ]
  },
  {
   "cell_type": "code",
   "execution_count": 5,
   "metadata": {},
   "outputs": [],
   "source": [
    "def drop(ds, ndrop):\n",
    "    vdrop = list(ds)\n",
    "    for v in ndrop:\n",
    "        vdrop.remove(v)\n",
    "    return ds.drop(vdrop)"
   ]
  },
  {
   "cell_type": "markdown",
   "metadata": {},
   "source": [
    "---\n",
    "\n",
    "## load data"
   ]
  },
  {
   "cell_type": "code",
   "execution_count": 29,
   "metadata": {},
   "outputs": [],
   "source": [
    "ds = xr.open_mfdataset(data_dir+'pairs_tfilt/joined_filtered_pairs_*.nc', \n",
    "                       concat_dim='index', parallel=True)"
   ]
  },
  {
   "cell_type": "code",
   "execution_count": 30,
   "metadata": {
    "scrolled": true
   },
   "outputs": [
    {
     "data": {
      "text/plain": [
       "<xarray.Dataset>\n",
       "Dimensions:     (TIME: 721, index: 323114)\n",
       "Coordinates:\n",
       "  * TIME        (TIME) timedelta64[ns] 00:00:00 01:00:00 ... 30 days 00:00:00\n",
       "Dimensions without coordinates: index\n",
       "Data variables:\n",
       "    LAT_0       (index, TIME) float64 dask.array<shape=(323114, 721), chunksize=(1000, 721)>\n",
       "    LON_0       (index, TIME) float64 dask.array<shape=(323114, 721), chunksize=(1000, 721)>\n",
       "    U_0         (index, TIME) float64 dask.array<shape=(323114, 721), chunksize=(1000, 721)>\n",
       "    V_0         (index, TIME) float64 dask.array<shape=(323114, 721), chunksize=(1000, 721)>\n",
       "    LAT_ERR_0   (index, TIME) float64 dask.array<shape=(323114, 721), chunksize=(1000, 721)>\n",
       "    LON_ERR_0   (index, TIME) float64 dask.array<shape=(323114, 721), chunksize=(1000, 721)>\n",
       "    U_ERR_0     (index, TIME) float64 dask.array<shape=(323114, 721), chunksize=(1000, 721)>\n",
       "    V_ERR_0     (index, TIME) float64 dask.array<shape=(323114, 721), chunksize=(1000, 721)>\n",
       "    DROGUE_0    (index, TIME) float64 dask.array<shape=(323114, 721), chunksize=(1000, 721)>\n",
       "    v0_0        (index, TIME) float64 dask.array<shape=(323114, 721), chunksize=(1000, 721)>\n",
       "    v1_0        (index, TIME) float64 dask.array<shape=(323114, 721), chunksize=(1000, 721)>\n",
       "    v2_0        (index, TIME) float64 dask.array<shape=(323114, 721), chunksize=(1000, 721)>\n",
       "    LAT_1       (index, TIME) float64 dask.array<shape=(323114, 721), chunksize=(1000, 721)>\n",
       "    LON_1       (index, TIME) float64 dask.array<shape=(323114, 721), chunksize=(1000, 721)>\n",
       "    U_1         (index, TIME) float64 dask.array<shape=(323114, 721), chunksize=(1000, 721)>\n",
       "    V_1         (index, TIME) float64 dask.array<shape=(323114, 721), chunksize=(1000, 721)>\n",
       "    LAT_ERR_1   (index, TIME) float64 dask.array<shape=(323114, 721), chunksize=(1000, 721)>\n",
       "    LON_ERR_1   (index, TIME) float64 dask.array<shape=(323114, 721), chunksize=(1000, 721)>\n",
       "    U_ERR_1     (index, TIME) float64 dask.array<shape=(323114, 721), chunksize=(1000, 721)>\n",
       "    V_ERR_1     (index, TIME) float64 dask.array<shape=(323114, 721), chunksize=(1000, 721)>\n",
       "    DROGUE_1    (index, TIME) float64 dask.array<shape=(323114, 721), chunksize=(1000, 721)>\n",
       "    v0_1        (index, TIME) float64 dask.array<shape=(323114, 721), chunksize=(1000, 721)>\n",
       "    v1_1        (index, TIME) float64 dask.array<shape=(323114, 721), chunksize=(1000, 721)>\n",
       "    v2_1        (index, TIME) float64 dask.array<shape=(323114, 721), chunksize=(1000, 721)>\n",
       "    LAT_0f      (index, TIME) float64 dask.array<shape=(323114, 721), chunksize=(1000, 721)>\n",
       "    LON_0f      (index, TIME) float64 dask.array<shape=(323114, 721), chunksize=(1000, 721)>\n",
       "    U_0f        (index, TIME) float64 dask.array<shape=(323114, 721), chunksize=(1000, 721)>\n",
       "    V_0f        (index, TIME) float64 dask.array<shape=(323114, 721), chunksize=(1000, 721)>\n",
       "    LAT_ERR_0f  (index, TIME) float64 dask.array<shape=(323114, 721), chunksize=(1000, 721)>\n",
       "    LON_ERR_0f  (index, TIME) float64 dask.array<shape=(323114, 721), chunksize=(1000, 721)>\n",
       "    U_ERR_0f    (index, TIME) float64 dask.array<shape=(323114, 721), chunksize=(1000, 721)>\n",
       "    V_ERR_0f    (index, TIME) float64 dask.array<shape=(323114, 721), chunksize=(1000, 721)>\n",
       "    DROGUE_0f   (index, TIME) float64 dask.array<shape=(323114, 721), chunksize=(1000, 721)>\n",
       "    v0_0f       (index, TIME) float64 dask.array<shape=(323114, 721), chunksize=(1000, 721)>\n",
       "    v1_0f       (index, TIME) float64 dask.array<shape=(323114, 721), chunksize=(1000, 721)>\n",
       "    v2_0f       (index, TIME) float64 dask.array<shape=(323114, 721), chunksize=(1000, 721)>\n",
       "    LAT_1f      (index, TIME) float64 dask.array<shape=(323114, 721), chunksize=(1000, 721)>\n",
       "    LON_1f      (index, TIME) float64 dask.array<shape=(323114, 721), chunksize=(1000, 721)>\n",
       "    U_1f        (index, TIME) float64 dask.array<shape=(323114, 721), chunksize=(1000, 721)>\n",
       "    V_1f        (index, TIME) float64 dask.array<shape=(323114, 721), chunksize=(1000, 721)>\n",
       "    LAT_ERR_1f  (index, TIME) float64 dask.array<shape=(323114, 721), chunksize=(1000, 721)>\n",
       "    LON_ERR_1f  (index, TIME) float64 dask.array<shape=(323114, 721), chunksize=(1000, 721)>\n",
       "    U_ERR_1f    (index, TIME) float64 dask.array<shape=(323114, 721), chunksize=(1000, 721)>\n",
       "    V_ERR_1f    (index, TIME) float64 dask.array<shape=(323114, 721), chunksize=(1000, 721)>\n",
       "    DROGUE_1f   (index, TIME) float64 dask.array<shape=(323114, 721), chunksize=(1000, 721)>\n",
       "    v0_1f       (index, TIME) float64 dask.array<shape=(323114, 721), chunksize=(1000, 721)>\n",
       "    v1_1f       (index, TIME) float64 dask.array<shape=(323114, 721), chunksize=(1000, 721)>\n",
       "    v2_1f       (index, TIME) float64 dask.array<shape=(323114, 721), chunksize=(1000, 721)>\n",
       "    pair        (index) object dask.array<shape=(323114,), chunksize=(1000,)>\n",
       "    t0          (index) datetime64[ns] dask.array<shape=(323114,), chunksize=(1000,)>"
      ]
     },
     "execution_count": 30,
     "metadata": {},
     "output_type": "execute_result"
    }
   ],
   "source": [
    "ds"
   ]
  },
  {
   "cell_type": "code",
   "execution_count": 31,
   "metadata": {},
   "outputs": [
    {
     "data": {
      "text/plain": [
       "<xarray.backends.zarr.ZarrStore at 0x2b62a50d3358>"
      ]
     },
     "execution_count": 31,
     "metadata": {},
     "output_type": "execute_result"
    }
   ],
   "source": [
    "ds = ds.drop('pair') # try to see if this breaks stacking further below\n",
    "ds = ds.chunk({'index': 1e4})\n",
    "ds.to_zarr(data_dir+'pairs_tfilt/joined_filtered_pairs.zarr', mode='w')"
   ]
  },
  {
   "cell_type": "markdown",
   "metadata": {},
   "source": [
    "---"
   ]
  },
  {
   "cell_type": "code",
   "execution_count": 6,
   "metadata": {},
   "outputs": [],
   "source": [
    "ds = xr.open_zarr(data_dir+'pairs_tfilt/joined_filtered_pairs.zarr')\n",
    "ds = ds.chunk({'index': 5*1e3})"
   ]
  },
  {
   "cell_type": "code",
   "execution_count": 7,
   "metadata": {},
   "outputs": [],
   "source": [
    "ndrop = ['v%d_0'%d for d in range(3)]\n",
    "ndrop += ['v%d_1'%d for d in range(3)]\n",
    "ndrop += [v+'_'+d for v in ['U','V','LON','LAT'] for d in ['0','1']]\n",
    "ndrop\n",
    "\n",
    "ds = drop(ds,ndrop)"
   ]
  },
  {
   "cell_type": "code",
   "execution_count": 8,
   "metadata": {},
   "outputs": [
    {
     "data": {
      "text/plain": [
       "<xarray.Dataset>\n",
       "Dimensions:  (TIME: 721, index: 323114)\n",
       "Coordinates:\n",
       "  * TIME     (TIME) timedelta64[ns] 00:00:00 01:00:00 ... 30 days 00:00:00\n",
       "Dimensions without coordinates: index\n",
       "Data variables:\n",
       "    LAT_0    (index, TIME) float64 dask.array<shape=(323114, 721), chunksize=(5000, 721)>\n",
       "    LAT_1    (index, TIME) float64 dask.array<shape=(323114, 721), chunksize=(5000, 721)>\n",
       "    LON_0    (index, TIME) float64 dask.array<shape=(323114, 721), chunksize=(5000, 721)>\n",
       "    LON_1    (index, TIME) float64 dask.array<shape=(323114, 721), chunksize=(5000, 721)>\n",
       "    U_0      (index, TIME) float64 dask.array<shape=(323114, 721), chunksize=(5000, 721)>\n",
       "    U_1      (index, TIME) float64 dask.array<shape=(323114, 721), chunksize=(5000, 721)>\n",
       "    V_0      (index, TIME) float64 dask.array<shape=(323114, 721), chunksize=(5000, 721)>\n",
       "    V_1      (index, TIME) float64 dask.array<shape=(323114, 721), chunksize=(5000, 721)>\n",
       "    v0_0     (index, TIME) float64 dask.array<shape=(323114, 721), chunksize=(5000, 721)>\n",
       "    v0_1     (index, TIME) float64 dask.array<shape=(323114, 721), chunksize=(5000, 721)>\n",
       "    v1_0     (index, TIME) float64 dask.array<shape=(323114, 721), chunksize=(5000, 721)>\n",
       "    v1_1     (index, TIME) float64 dask.array<shape=(323114, 721), chunksize=(5000, 721)>\n",
       "    v2_0     (index, TIME) float64 dask.array<shape=(323114, 721), chunksize=(5000, 721)>\n",
       "    v2_1     (index, TIME) float64 dask.array<shape=(323114, 721), chunksize=(5000, 721)>"
      ]
     },
     "execution_count": 8,
     "metadata": {},
     "output_type": "execute_result"
    }
   ],
   "source": [
    "ds"
   ]
  },
  {
   "cell_type": "code",
   "execution_count": 9,
   "metadata": {},
   "outputs": [],
   "source": [
    "ds0 = ds"
   ]
  },
  {
   "cell_type": "code",
   "execution_count": 10,
   "metadata": {},
   "outputs": [
    {
     "name": "stdout",
     "output_type": "stream",
     "text": [
      "26.092107496\n"
     ]
    }
   ],
   "source": [
    "print(ds0.nbytes/1e9)"
   ]
  },
  {
   "cell_type": "code",
   "execution_count": 53,
   "metadata": {},
   "outputs": [],
   "source": [
    "#ds = ds.chunk({'index': 1000})\n",
    "#ds.to_zarr(data_dir+'pairs_tfilt/joined_filtered_pairs.zarr', mode='w')"
   ]
  },
  {
   "cell_type": "code",
   "execution_count": 8,
   "metadata": {},
   "outputs": [],
   "source": [
    "#ds = xr.open_zarr(data_dir+'pairs_tfilt/joined_filtered_pairs.zarr')"
   ]
  },
  {
   "cell_type": "markdown",
   "metadata": {},
   "source": [
    "---\n",
    "## derives basic statistics"
   ]
  },
  {
   "cell_type": "code",
   "execution_count": 46,
   "metadata": {},
   "outputs": [
    {
     "name": "stderr",
     "output_type": "stream",
     "text": [
      "Worker tcp://10.135.37.18:34026 restart in Job 5041994. This can be due to memory issue.\n",
      "Worker tcp://10.135.37.18:45437 restart in Job 5042002. This can be due to memory issue.\n"
     ]
    }
   ],
   "source": [
    "ds = ds0.persist()\n",
    "#ds = ds0.isel(index=slice(0,10000)).persist()"
   ]
  },
  {
   "cell_type": "code",
   "execution_count": null,
   "metadata": {},
   "outputs": [],
   "source": []
  },
  {
   "cell_type": "code",
   "execution_count": 12,
   "metadata": {},
   "outputs": [],
   "source": []
  },
  {
   "cell_type": "code",
   "execution_count": 13,
   "metadata": {},
   "outputs": [],
   "source": []
  },
  {
   "cell_type": "code",
   "execution_count": 14,
   "metadata": {},
   "outputs": [
    {
     "data": {
      "text/plain": [
       "<xarray.Dataset>\n",
       "Dimensions:  (TIME: 721, index: 323114)\n",
       "Coordinates:\n",
       "  * TIME     (TIME) timedelta64[ns] 00:00:00 01:00:00 ... 30 days 00:00:00\n",
       "Dimensions without coordinates: index\n",
       "Data variables:\n",
       "    v0_0     (index, TIME) float64 dask.array<shape=(323114, 721), chunksize=(1000, 721)>\n",
       "    v1_0     (index, TIME) float64 dask.array<shape=(323114, 721), chunksize=(1000, 721)>\n",
       "    v2_0     (index, TIME) float64 dask.array<shape=(323114, 721), chunksize=(1000, 721)>\n",
       "    v0_1     (index, TIME) float64 dask.array<shape=(323114, 721), chunksize=(1000, 721)>\n",
       "    v1_1     (index, TIME) float64 dask.array<shape=(323114, 721), chunksize=(1000, 721)>\n",
       "    v2_1     (index, TIME) float64 dask.array<shape=(323114, 721), chunksize=(1000, 721)>"
      ]
     },
     "execution_count": 14,
     "metadata": {},
     "output_type": "execute_result"
    }
   ],
   "source": [
    "ds"
   ]
  },
  {
   "cell_type": "code",
   "execution_count": 15,
   "metadata": {},
   "outputs": [],
   "source": [
    "for v in range(3):\n",
    "    ds['v%d_mid'%v] = (ds['v%d_0'%v]+ds['v%d_1'%v])*.5"
   ]
  },
  {
   "cell_type": "code",
   "execution_count": 16,
   "metadata": {},
   "outputs": [],
   "source": [
    "mds = ds.mean('TIME').persist()"
   ]
  },
  {
   "cell_type": "code",
   "execution_count": 21,
   "metadata": {},
   "outputs": [],
   "source": [
    "mds = (edr.compute_lonlat(mds, v0='v0_0', v1='v1_0', v2='v2_0', \\\n",
    "                                lon_key='lon_0', lat_key='lat_0', dropv=False).persist())\n",
    "mds = (edr.compute_lonlat(mds, v0='v0_1', v1='v1_1', v2='v2_1', \\\n",
    "                                lon_key='lon_1', lat_key='lat_1', dropv=False).persist())\n",
    "mds = (edr.compute_lonlat(mds, v0='v0_mid', v1='v1_mid', v2='v2_mid', \\\n",
    "                                lon_key='lon_mid', lat_key='lat_mid', dropv=False).persist())"
   ]
  },
  {
   "cell_type": "code",
   "execution_count": 22,
   "metadata": {},
   "outputs": [
    {
     "data": {
      "text/plain": [
       "<xarray.Dataset>\n",
       "Dimensions:  (index: 323114)\n",
       "Dimensions without coordinates: index\n",
       "Data variables:\n",
       "    v0_0     (index) float64 dask.array<shape=(323114,), chunksize=(1000,)>\n",
       "    v1_0     (index) float64 dask.array<shape=(323114,), chunksize=(1000,)>\n",
       "    v2_0     (index) float64 dask.array<shape=(323114,), chunksize=(1000,)>\n",
       "    v0_1     (index) float64 dask.array<shape=(323114,), chunksize=(1000,)>\n",
       "    v1_1     (index) float64 dask.array<shape=(323114,), chunksize=(1000,)>\n",
       "    v2_1     (index) float64 dask.array<shape=(323114,), chunksize=(1000,)>\n",
       "    v0_mid   (index) float64 dask.array<shape=(323114,), chunksize=(1000,)>\n",
       "    v1_mid   (index) float64 dask.array<shape=(323114,), chunksize=(1000,)>\n",
       "    v2_mid   (index) float64 dask.array<shape=(323114,), chunksize=(1000,)>\n",
       "    lon_mid  (index) float64 dask.array<shape=(323114,), chunksize=(1000,)>\n",
       "    lat_mid  (index) float64 dask.array<shape=(323114,), chunksize=(1000,)>\n",
       "    lon_0    (index) float64 dask.array<shape=(323114,), chunksize=(1000,)>\n",
       "    lat_0    (index) float64 dask.array<shape=(323114,), chunksize=(1000,)>\n",
       "    lon_1    (index) float64 dask.array<shape=(323114,), chunksize=(1000,)>\n",
       "    lat_1    (index) float64 dask.array<shape=(323114,), chunksize=(1000,)>"
      ]
     },
     "execution_count": 22,
     "metadata": {},
     "output_type": "execute_result"
    }
   ],
   "source": [
    "mds"
   ]
  },
  {
   "cell_type": "code",
   "execution_count": 20,
   "metadata": {},
   "outputs": [
    {
     "data": {
      "text/plain": [
       "[<matplotlib.lines.Line2D at 0x2aadaa6e1f60>]"
      ]
     },
     "execution_count": 20,
     "metadata": {},
     "output_type": "execute_result"
    },
    {
     "data": {
      "image/png": "[encoded data removed]",
      "text/plain": [
       "<Figure size 432x288 with 1 Axes>"
      ]
     },
     "metadata": {
      "needs_background": "light"
     },
     "output_type": "display_data"
    }
   ],
   "source": [
    "fig = plt.figure()\n",
    "ax = fig.add_subplot(111)\n",
    "ax.plot(mds.lon_mid, mds.lat_mid, '.')"
   ]
  },
  {
   "cell_type": "code",
   "execution_count": 23,
   "metadata": {},
   "outputs": [],
   "source": [
    "mds['r'] = edr.haversine(mds.lon_0,mds.lat_0, mds.lon_1, mds.lat_1)"
   ]
  },
  {
   "cell_type": "code",
   "execution_count": 25,
   "metadata": {},
   "outputs": [
    {
     "data": {
      "text/plain": [
       "(array([11287., 17280., 22187., 27973., 33426., 38704., 43575., 46835.,\n",
       "        47533., 34314.]),\n",
       " array([1.77580486e-02, 2.99833383e+01, 5.99489185e+01, 8.99144987e+01,\n",
       "        1.19880079e+02, 1.49845659e+02, 1.79811239e+02, 2.09776820e+02,\n",
       "        2.39742400e+02, 2.69707980e+02, 2.99673560e+02]),\n",
       " <a list of 10 Patch objects>)"
      ]
     },
     "execution_count": 25,
     "metadata": {},
     "output_type": "execute_result"
    },
    {
     "data": {
      "image/png": "[encoded data removed]",
      "text/plain": [
       "<Figure size 432x288 with 1 Axes>"
      ]
     },
     "metadata": {
      "needs_background": "light"
     },
     "output_type": "display_data"
    }
   ],
   "source": [
    "mds.r.plot.hist()"
   ]
  },
  {
   "cell_type": "code",
   "execution_count": null,
   "metadata": {},
   "outputs": [],
   "source": []
  },
  {
   "cell_type": "code",
   "execution_count": null,
   "metadata": {},
   "outputs": [],
   "source": []
  },
  {
   "cell_type": "markdown",
   "metadata": {},
   "source": [
    "---\n",
    "## computations of decorrelation length scales for velocity"
   ]
  },
  {
   "cell_type": "code",
   "execution_count": 11,
   "metadata": {},
   "outputs": [
    {
     "data": {
      "text/plain": [
       "Frozen(SortedKeysDict({'index': (5000, 5000, 5000, 5000, 5000, 5000, 5000, 5000, 5000, 5000, 5000, 5000, 5000, 5000, 5000, 5000, 5000, 5000, 5000, 5000, 5000, 5000, 5000, 5000, 5000, 5000, 5000, 5000, 5000, 5000, 5000, 5000, 5000, 5000, 5000, 5000, 5000, 5000, 5000, 5000, 5000, 5000, 5000, 5000, 5000, 5000, 5000, 5000, 5000, 5000, 5000, 5000, 5000, 5000, 5000, 5000, 5000, 5000, 5000, 5000, 5000, 5000, 5000, 5000, 3114), 'TIME': (721,)}))"
      ]
     },
     "execution_count": 11,
     "metadata": {},
     "output_type": "execute_result"
    }
   ],
   "source": [
    "ds.chunks"
   ]
  },
  {
   "cell_type": "code",
   "execution_count": 12,
   "metadata": {},
   "outputs": [],
   "source": [
    "ds = ds.drop('TIME') # try to see if this speeds up stack"
   ]
  },
  {
   "cell_type": "code",
   "execution_count": 13,
   "metadata": {
    "scrolled": true
   },
   "outputs": [
    {
     "data": {
      "text/plain": [
       "<xarray.Dataset>\n",
       "Dimensions:  (TIME: 721, index: 323114)\n",
       "Dimensions without coordinates: TIME, index\n",
       "Data variables:\n",
       "    LAT_0    (index, TIME) float64 dask.array<shape=(323114, 721), chunksize=(5000, 721)>\n",
       "    LAT_1    (index, TIME) float64 dask.array<shape=(323114, 721), chunksize=(5000, 721)>\n",
       "    LON_0    (index, TIME) float64 dask.array<shape=(323114, 721), chunksize=(5000, 721)>\n",
       "    LON_1    (index, TIME) float64 dask.array<shape=(323114, 721), chunksize=(5000, 721)>\n",
       "    U_0      (index, TIME) float64 dask.array<shape=(323114, 721), chunksize=(5000, 721)>\n",
       "    U_1      (index, TIME) float64 dask.array<shape=(323114, 721), chunksize=(5000, 721)>\n",
       "    V_0      (index, TIME) float64 dask.array<shape=(323114, 721), chunksize=(5000, 721)>\n",
       "    V_1      (index, TIME) float64 dask.array<shape=(323114, 721), chunksize=(5000, 721)>\n",
       "    v0_0     (index, TIME) float64 dask.array<shape=(323114, 721), chunksize=(5000, 721)>\n",
       "    v0_1     (index, TIME) float64 dask.array<shape=(323114, 721), chunksize=(5000, 721)>\n",
       "    v1_0     (index, TIME) float64 dask.array<shape=(323114, 721), chunksize=(5000, 721)>\n",
       "    v1_1     (index, TIME) float64 dask.array<shape=(323114, 721), chunksize=(5000, 721)>\n",
       "    v2_0     (index, TIME) float64 dask.array<shape=(323114, 721), chunksize=(5000, 721)>\n",
       "    v2_1     (index, TIME) float64 dask.array<shape=(323114, 721), chunksize=(5000, 721)>"
      ]
     },
     "execution_count": 13,
     "metadata": {},
     "output_type": "execute_result"
    }
   ],
   "source": [
    "ds"
   ]
  },
  {
   "cell_type": "code",
   "execution_count": 14,
   "metadata": {},
   "outputs": [],
   "source": [
    "ds['r'] = edr.haversine(ds.LON_0, ds.LAT_0, ds.LON_1, ds.LAT_1)\n",
    "ds = ds.persist()"
   ]
  },
  {
   "cell_type": "code",
   "execution_count": 30,
   "metadata": {},
   "outputs": [
    {
     "data": {
      "text/plain": [
       "<xarray.Dataset>\n",
       "Dimensions:  (TIME: 721, index: 323114)\n",
       "Dimensions without coordinates: TIME, index\n",
       "Data variables:\n",
       "    LAT_0    (index, TIME) float64 dask.array<shape=(323114, 721), chunksize=(5000, 721)>\n",
       "    LAT_1    (index, TIME) float64 dask.array<shape=(323114, 721), chunksize=(5000, 721)>\n",
       "    LON_0    (index, TIME) float64 dask.array<shape=(323114, 721), chunksize=(5000, 721)>\n",
       "    LON_1    (index, TIME) float64 dask.array<shape=(323114, 721), chunksize=(5000, 721)>\n",
       "    U_0      (index, TIME) float64 dask.array<shape=(323114, 721), chunksize=(5000, 721)>\n",
       "    U_1      (index, TIME) float64 dask.array<shape=(323114, 721), chunksize=(5000, 721)>\n",
       "    V_0      (index, TIME) float64 dask.array<shape=(323114, 721), chunksize=(5000, 721)>\n",
       "    V_1      (index, TIME) float64 dask.array<shape=(323114, 721), chunksize=(5000, 721)>\n",
       "    v0_0     (index, TIME) float64 dask.array<shape=(323114, 721), chunksize=(5000, 721)>\n",
       "    v0_1     (index, TIME) float64 dask.array<shape=(323114, 721), chunksize=(5000, 721)>\n",
       "    v1_0     (index, TIME) float64 dask.array<shape=(323114, 721), chunksize=(5000, 721)>\n",
       "    v1_1     (index, TIME) float64 dask.array<shape=(323114, 721), chunksize=(5000, 721)>\n",
       "    v2_0     (index, TIME) float64 dask.array<shape=(323114, 721), chunksize=(5000, 721)>\n",
       "    v2_1     (index, TIME) float64 dask.array<shape=(323114, 721), chunksize=(5000, 721)>\n",
       "    r        (index, TIME) float64 dask.array<shape=(323114, 721), chunksize=(5000, 721)>"
      ]
     },
     "execution_count": 30,
     "metadata": {},
     "output_type": "execute_result"
    }
   ],
   "source": [
    "ds"
   ]
  },
  {
   "cell_type": "code",
   "execution_count": 31,
   "metadata": {},
   "outputs": [],
   "source": [
    "from functools import partial"
   ]
  },
  {
   "cell_type": "code",
   "execution_count": 67,
   "metadata": {},
   "outputs": [],
   "source": [
    "latb = np.arange(-70.,70.,1.)\n",
    "latc = (latb[:-1]+latb[1:])*.5\n",
    "lonb = np.arange(-180.,180.,1.)\n",
    "lonc = (lonb[:-1]+lonb[1:])*.5\n",
    "rb = np.arange(0.,300.,10.)\n",
    "rc = (rb[:-1]+rb[1:])*.5"
   ]
  },
  {
   "cell_type": "code",
   "execution_count": 41,
   "metadata": {},
   "outputs": [],
   "source": [
    "# https://github.com/pydata/xarray/issues/2817\n",
    "\n",
    "def _bin(bins, v, vbin, weights=True):\n",
    "    # an alternative would be to create xarray dataarrays and use groupby_bins\n",
    "    # https://github.com/pydata/xarray/issues/1765\n",
    "    if weights:\n",
    "        w = v\n",
    "    else:\n",
    "        w = np.ones_like(v)\n",
    "    #h, edges = np.histogram(lat, bins=latb, weights=w, density=False)\n",
    "    h, edges = np.histogram(vbin, bins=bins, weights=w, density=False)\n",
    "    return h[None,:]\n",
    "\n",
    "dims = ['TIME']\n",
    "#v = v.fillna(0.)\n",
    "#lat = v.YC+0.*v\n",
    "\n",
    "B = xr.apply_ufunc(partial(_bin, rb), ds.r, ds.r, kwargs={'weights': False},\n",
    "                output_core_dims=[['rbin']], output_dtypes=[np.float64], \n",
    "                dask='parallelized',\n",
    "                input_core_dims=[dims, dims],\n",
    "                output_sizes={'rbin': len(rc)})\n",
    "B = B.assign_coords(rbin=rc).rename('r_binned')"
   ]
  },
  {
   "cell_type": "code",
   "execution_count": 42,
   "metadata": {},
   "outputs": [],
   "source": [
    "B = B.sum('index')"
   ]
  },
  {
   "cell_type": "code",
   "execution_count": 43,
   "metadata": {},
   "outputs": [
    {
     "data": {
      "text/plain": [
       "[<matplotlib.lines.Line2D at 0x2ab78f8ec1d0>]"
      ]
     },
     "execution_count": 43,
     "metadata": {},
     "output_type": "execute_result"
    },
    {
     "data": {
      "image/png": "[encoded data removed]",
      "text/plain": [
       "<Figure size 432x288 with 1 Axes>"
      ]
     },
     "metadata": {
      "needs_background": "light"
     },
     "output_type": "display_data"
    }
   ],
   "source": [
    "B.plot()"
   ]
  },
  {
   "cell_type": "code",
   "execution_count": 57,
   "metadata": {},
   "outputs": [],
   "source": [
    "def _bin2d(bins1, bins2, v, vbin1, vbin2, weights=True):\n",
    "    # an alternative would be to create xarray dataarrays and use groupby_bins\n",
    "    # https://github.com/pydata/xarray/issues/1765\n",
    "    if weights:\n",
    "        w = v\n",
    "    else:\n",
    "        w = np.ones_like(v)\n",
    "    #h, edges = np.histogram(lat, bins=latb, weights=w, density=False)\n",
    "    h, edges1, edges2 = np.histogram2d(vbin1.flatten(), vbin2.flatten(), \n",
    "                                       bins=[bins1, bins2], weights=w.flatten(), density=False)\n",
    "    return h[None,...]\n",
    "\n",
    "dims = ['TIME']\n",
    "#v = v.fillna(0.)\n",
    "#lat = v.YC+0.*v\n",
    "\n",
    "B = xr.apply_ufunc(partial(_bin2d, lonb, latb), ds.r, ds.LON_0, ds.LAT_0, \n",
    "                   kwargs={'weights': False},\n",
    "                   output_core_dims=[['lon_b','lat_b']], output_dtypes=[np.float64], \n",
    "                   dask='parallelized',\n",
    "                   input_core_dims=[dims, dims, dims],\n",
    "                   output_sizes={'lon_b': len(lonc), 'lat_b': len(latc)})\n",
    "B = B.assign_coords(lon_b=lonc, lat_b=latc).rename('N')"
   ]
  },
  {
   "cell_type": "code",
   "execution_count": 77,
   "metadata": {},
   "outputs": [],
   "source": [
    "def _bin1d(bins, v, vbin, weights=True):\n",
    "\n",
    "    if weights:\n",
    "        w = v\n",
    "    else:\n",
    "        w = np.ones_like(v)\n",
    "    h, edges = np.histogram(vbin, bins=bins, weights=w, density=False)\n",
    "    return h[None,:]\n",
    "\n",
    "\n",
    "def bin1d(v, vbin, bins, weights, bin_dim='bin_dim', name='binned_array'):\n",
    "    # wrapper around apply_ufunc\n",
    "    dims = ['TIME'] # core dim\n",
    "    bins_c = (bins[:-1]+bins[1:])*.5\n",
    "    out = xr.apply_ufunc(partial(_bin1d, bins), v, vbin, kwargs={'weights': weights},\n",
    "                    output_core_dims=[[bin_dim]], output_dtypes=[np.float64], \n",
    "                    dask='parallelized',\n",
    "                    input_core_dims=[dims, dims],\n",
    "                    output_sizes={bin_dim: len(bins_c)})\n",
    "    out = out.assign_coords(**{bin_dim: bins_c}).rename(name)\n",
    "    return out\n",
    "\n",
    "def _bin2d(bins1, bins2, v, vbin1, vbin2, weights=True):\n",
    "    # wrapper around apply_ufunc\n",
    "    if weights:\n",
    "        w = v\n",
    "    else:\n",
    "        w = np.ones_like(v)\n",
    "    h, edges1, edges2 = np.histogram2d(vbin1.flatten(), vbin2.flatten(), \n",
    "                                       bins=[bins1, bins2], weights=w.flatten(), density=False)\n",
    "    return h[None,...]\n",
    "\n",
    "def bin2d(v, vbin1, bins1, vbin2, bins2, weights, \n",
    "          bin_dim1='bin_dim1', bin_dim2='bin_dim2', name='binned_array'):\n",
    "    # wrapper around apply_ufunc\n",
    "    dims = ['TIME'] # core dim\n",
    "    bins1_c = (bins1[:-1]+bins1[1:])*.5\n",
    "    bins2_c = (bins2[:-1]+bins2[1:])*.5\n",
    "    out = xr.apply_ufunc(partial(_bin2d, bins1, bins2), v, vbin1, vbin2, \n",
    "                       kwargs={'weights': weights},\n",
    "                       output_core_dims=[[bin_dim1,bin_dim2]], output_dtypes=[np.float64], \n",
    "                       dask='parallelized',\n",
    "                       input_core_dims=[dims, dims, dims],\n",
    "                       output_sizes={bin_dim1: len(bins1_c), bin_dim2: len(bins2_c)})\n",
    "    out = out.assign_coords(**{bin_dim1: bins1_c, bin_dim2: bins2_c}).rename(name)\n",
    "    return out"
   ]
  },
  {
   "cell_type": "code",
   "execution_count": 78,
   "metadata": {},
   "outputs": [],
   "source": [
    "V = bin1d(ds.r, ds.r, rb, False, bin_dim='rb', name='Ncount')\n",
    "V = V.sum('index')"
   ]
  },
  {
   "cell_type": "code",
   "execution_count": 80,
   "metadata": {},
   "outputs": [
    {
     "data": {
      "text/plain": [
       "[<matplotlib.lines.Line2D at 0x2ab793df6eb8>]"
      ]
     },
     "execution_count": 80,
     "metadata": {},
     "output_type": "execute_result"
    },
    {
     "data": {
      "image/png": "[encoded data removed]",
      "text/plain": [
       "<Figure size 432x288 with 1 Axes>"
      ]
     },
     "metadata": {
      "needs_background": "light"
     },
     "output_type": "display_data"
    }
   ],
   "source": [
    "V.plot()"
   ]
  },
  {
   "cell_type": "code",
   "execution_count": 74,
   "metadata": {},
   "outputs": [],
   "source": [
    "V = bin2d(ds.r, ds.LON_0, lonb, ds.LAT_0, latb, False, bin_dim1='lonb', bin_dim2='latb', name='Ncount')\n",
    "V = V.sum('index')"
   ]
  },
  {
   "cell_type": "code",
   "execution_count": 75,
   "metadata": {},
   "outputs": [
    {
     "data": {
      "text/plain": [
       "<matplotlib.collections.QuadMesh at 0x2ab793c4b438>"
      ]
     },
     "execution_count": 75,
     "metadata": {},
     "output_type": "execute_result"
    },
    {
     "data": {
      "image/png": "[encoded data removed]",
      "text/plain": [
       "<Figure size 432x288 with 2 Axes>"
      ]
     },
     "metadata": {
      "needs_background": "light"
     },
     "output_type": "display_data"
    }
   ],
   "source": [
    "np.log10(V).plot(x='lonb', y='latb')"
   ]
  },
  {
   "cell_type": "code",
   "execution_count": 102,
   "metadata": {},
   "outputs": [],
   "source": [
    "V = bin1d(ds.r, ds.r, rb, False, bin_dim='rb', name='Ncount').sum('index')\n",
    "ods = V.to_dataset()\n",
    "#\n",
    "V = bin1d(ds.U_0*ds.U_1, ds.r, rb, True, bin_dim='rb', name='U1U0')\n",
    "ods['U1U0'] = V.sum('index')/ods['Ncount']\n",
    "#\n",
    "V = bin1d(ds.U_0*ds.U_0, ds.r, rb, True, bin_dim='rb', name='U0U0')\n",
    "ods['U0U0'] = V.sum('index')/ods['Ncount']\n",
    "V = bin1d(ds.U_1*ds.U_1, ds.r, rb, True, bin_dim='rb', name='U1U1')\n",
    "ods['U1U1'] = V.sum('index')/ods['Ncount']\n",
    "#"
   ]
  },
  {
   "cell_type": "code",
   "execution_count": 99,
   "metadata": {},
   "outputs": [],
   "source": [
    "ods = ods.persist()"
   ]
  },
  {
   "cell_type": "code",
   "execution_count": 100,
   "metadata": {},
   "outputs": [
    {
     "data": {
      "text/plain": [
       "<xarray.Dataset>\n",
       "Dimensions:  (rb: 29)\n",
       "Coordinates:\n",
       "  * rb       (rb) float64 5.0 15.0 25.0 35.0 45.0 ... 255.0 265.0 275.0 285.0\n",
       "Data variables:\n",
       "    Ncount   (rb) float64 dask.array<shape=(29,), chunksize=(29,)>\n",
       "    U1U0     (rb) float64 dask.array<shape=(29,), chunksize=(29,)>\n",
       "    U0U0     (rb) float64 dask.array<shape=(29,), chunksize=(29,)>\n",
       "    U1U1     (rb) float64 dask.array<shape=(29,), chunksize=(29,)>"
      ]
     },
     "execution_count": 100,
     "metadata": {},
     "output_type": "execute_result"
    }
   ],
   "source": [
    "ods"
   ]
  },
  {
   "cell_type": "code",
   "execution_count": 104,
   "metadata": {},
   "outputs": [
    {
     "data": {
      "text/plain": [
       "[<matplotlib.lines.Line2D at 0x2ab78ed09208>]"
      ]
     },
     "execution_count": 104,
     "metadata": {},
     "output_type": "execute_result"
    },
    {
     "data": {
      "image/png": "[encoded data removed]",
      "text/plain": [
       "<Figure size 1080x360 with 3 Axes>"
      ]
     },
     "metadata": {
      "needs_background": "light"
     },
     "output_type": "display_data"
    }
   ],
   "source": [
    "fig = plt.figure(figsize=(15,5))\n",
    "ax = fig.add_subplot(131)\n",
    "(ods.U1U0/np.sqrt(ods.U0U0*ods.U1U1)).plot(ax=ax)\n",
    "ax.set_ylim(0.,1.)\n",
    "ax = fig.add_subplot(132)\n",
    "np.sqrt(ods.U0U0).plot(ax=ax)\n",
    "np.sqrt(ods.U1U1).plot(ax=ax)\n",
    "ax = fig.add_subplot(133)\n",
    "ods.Ncount.plot(ax=ax)"
   ]
  },
  {
   "cell_type": "code",
   "execution_count": null,
   "metadata": {},
   "outputs": [],
   "source": []
  },
  {
   "cell_type": "code",
   "execution_count": null,
   "metadata": {},
   "outputs": [],
   "source": []
  },
  {
   "cell_type": "code",
   "execution_count": 15,
   "metadata": {
    "scrolled": true
   },
   "outputs": [
    {
     "name": "stderr",
     "output_type": "stream",
     "text": [
      "distributed.utils_perf - WARNING - full garbage collections took 64% CPU time recently (threshold: 10%)\n"
     ]
    },
    {
     "name": "stdout",
     "output_type": "stream",
     "text": [
      "CPU times: user 1min 39s, sys: 14.1 s, total: 1min 53s\n",
      "Wall time: 1min 51s\n"
     ]
    }
   ],
   "source": [
    "#ds['r'] = edr.haversine(ds.LON_0, ds.LAT_0, ds.LON_1, ds.LAT_1)\n",
    "#%time ds = ds.stack(point=['index','TIME']).persist()"
   ]
  },
  {
   "cell_type": "code",
   "execution_count": null,
   "metadata": {},
   "outputs": [],
   "source": []
  },
  {
   "cell_type": "code",
   "execution_count": 16,
   "metadata": {
    "scrolled": true
   },
   "outputs": [
    {
     "data": {
      "text/plain": [
       "<xarray.Dataset>\n",
       "Dimensions:  (point: 232965194)\n",
       "Coordinates:\n",
       "  * point    (point) MultiIndex\n",
       "  - index    (point) int64 0 0 0 0 0 0 0 0 0 0 0 0 0 ... 0 0 0 0 0 0 0 0 0 0 0 0\n",
       "  - TIME     (point) int64 0 1 2 3 4 5 6 7 8 9 ... 20 21 22 23 24 25 26 27 28 29\n",
       "Data variables:\n",
       "    LAT_0    (point) float64 dask.array<shape=(232965194,), chunksize=(7210000,)>\n",
       "    LAT_1    (point) float64 dask.array<shape=(232965194,), chunksize=(7210000,)>\n",
       "    LON_0    (point) float64 dask.array<shape=(232965194,), chunksize=(7210000,)>\n",
       "    LON_1    (point) float64 dask.array<shape=(232965194,), chunksize=(7210000,)>\n",
       "    U_0      (point) float64 dask.array<shape=(232965194,), chunksize=(7210000,)>\n",
       "    U_1      (point) float64 dask.array<shape=(232965194,), chunksize=(7210000,)>\n",
       "    V_0      (point) float64 dask.array<shape=(232965194,), chunksize=(7210000,)>\n",
       "    V_1      (point) float64 dask.array<shape=(232965194,), chunksize=(7210000,)>\n",
       "    v0_0     (point) float64 dask.array<shape=(232965194,), chunksize=(7210000,)>\n",
       "    v0_1     (point) float64 dask.array<shape=(232965194,), chunksize=(7210000,)>\n",
       "    v1_0     (point) float64 dask.array<shape=(232965194,), chunksize=(7210000,)>\n",
       "    v1_1     (point) float64 dask.array<shape=(232965194,), chunksize=(7210000,)>\n",
       "    v2_0     (point) float64 dask.array<shape=(232965194,), chunksize=(7210000,)>\n",
       "    v2_1     (point) float64 dask.array<shape=(232965194,), chunksize=(7210000,)>\n",
       "    r        (point) float64 dask.array<shape=(232965194,), chunksize=(7210000,)>"
      ]
     },
     "execution_count": 16,
     "metadata": {},
     "output_type": "execute_result"
    }
   ],
   "source": [
    "ds"
   ]
  },
  {
   "cell_type": "code",
   "execution_count": 17,
   "metadata": {},
   "outputs": [],
   "source": [
    "#%time ds = ds.stack(point=['index','TIME']) #.chunk({'point':1e6})  # 721000\n",
    "#ds['r'] = edr.haversine(ds.LON_0, ds.LAT_0, ds.LON_1, ds.LAT_1).persist()"
   ]
  },
  {
   "cell_type": "code",
   "execution_count": 17,
   "metadata": {},
   "outputs": [],
   "source": [
    "UU = (ds.U_0*ds.U_1)"
   ]
  },
  {
   "cell_type": "code",
   "execution_count": 18,
   "metadata": {},
   "outputs": [
    {
     "data": {
      "text/plain": [
       "<xarray.DataArray (point: 232965194)>\n",
       "dask.array<shape=(232965194,), dtype=float64, chunksize=(7210000,)>\n",
       "Coordinates:\n",
       "  * point    (point) MultiIndex\n",
       "  - index    (point) int64 0 0 0 0 0 0 0 0 0 0 0 0 0 ... 0 0 0 0 0 0 0 0 0 0 0 0\n",
       "  - TIME     (point) int64 0 1 2 3 4 5 6 7 8 9 ... 20 21 22 23 24 25 26 27 28 29"
      ]
     },
     "execution_count": 18,
     "metadata": {},
     "output_type": "execute_result"
    }
   ],
   "source": [
    "UU"
   ]
  },
  {
   "cell_type": "code",
   "execution_count": 19,
   "metadata": {},
   "outputs": [
    {
     "name": "stderr",
     "output_type": "stream",
     "text": [
      "distributed.utils_perf - WARNING - full garbage collections took 30% CPU time recently (threshold: 10%)\n",
      "distributed.utils_perf - WARNING - full garbage collections took 27% CPU time recently (threshold: 10%)\n",
      "distributed.utils_perf - WARNING - full garbage collections took 25% CPU time recently (threshold: 10%)\n",
      "distributed.utils_perf - WARNING - full garbage collections took 23% CPU time recently (threshold: 10%)\n",
      "distributed.utils_perf - WARNING - full garbage collections took 21% CPU time recently (threshold: 10%)\n",
      "distributed.utils_perf - WARNING - full garbage collections took 19% CPU time recently (threshold: 10%)\n",
      "distributed.utils_perf - WARNING - full garbage collections took 17% CPU time recently (threshold: 10%)\n",
      "distributed.utils_perf - WARNING - full garbage collections took 16% CPU time recently (threshold: 10%)\n",
      "Exception ignored in: <bound method GCDiagnosis._gc_callback of <distributed.utils_perf.GCDiagnosis object at 0x2b7797934080>>\n",
      "Traceback (most recent call last):\n",
      "  File \"/home/mp/pontea/.conda/envs/equinox/lib/python3.6/site-packages/distributed/utils_perf.py\", line 184, in _gc_callback\n",
      "    def _gc_callback(self, phase, info):\n",
      "KeyboardInterrupt: \n"
     ]
    },
    {
     "ename": "KeyboardInterrupt",
     "evalue": "",
     "output_type": "error",
     "traceback": [
      "\u001b[0;31m---------------------------------------------------------------------------\u001b[0m",
      "\u001b[0;31mKeyboardInterrupt\u001b[0m                         Traceback (most recent call last)",
      "\u001b[0;32m<timed exec>\u001b[0m in \u001b[0;36m<module>\u001b[0;34m\u001b[0m\n",
      "\u001b[0;32m~/.conda/envs/equinox/lib/python3.6/site-packages/xarray/core/common.py\u001b[0m in \u001b[0;36mgroupby_bins\u001b[0;34m(self, group, bins, right, labels, precision, include_lowest, squeeze)\u001b[0m\n\u001b[1;32m    529\u001b[0m                                  cut_kwargs={'right': right, 'labels': labels,\n\u001b[1;32m    530\u001b[0m                                              \u001b[0;34m'precision'\u001b[0m\u001b[0;34m:\u001b[0m \u001b[0mprecision\u001b[0m\u001b[0;34m,\u001b[0m\u001b[0;34m\u001b[0m\u001b[0;34m\u001b[0m\u001b[0m\n\u001b[0;32m--> 531\u001b[0;31m                                              'include_lowest': include_lowest})\n\u001b[0m\u001b[1;32m    532\u001b[0m \u001b[0;34m\u001b[0m\u001b[0m\n\u001b[1;32m    533\u001b[0m     \u001b[0;32mdef\u001b[0m \u001b[0mrolling\u001b[0m\u001b[0;34m(\u001b[0m\u001b[0mself\u001b[0m\u001b[0;34m,\u001b[0m \u001b[0mdim\u001b[0m\u001b[0;34m=\u001b[0m\u001b[0;32mNone\u001b[0m\u001b[0;34m,\u001b[0m \u001b[0mmin_periods\u001b[0m\u001b[0;34m=\u001b[0m\u001b[0;32mNone\u001b[0m\u001b[0;34m,\u001b[0m \u001b[0mcenter\u001b[0m\u001b[0;34m=\u001b[0m\u001b[0;32mFalse\u001b[0m\u001b[0;34m,\u001b[0m \u001b[0;34m**\u001b[0m\u001b[0mdim_kwargs\u001b[0m\u001b[0;34m)\u001b[0m\u001b[0;34m:\u001b[0m\u001b[0;34m\u001b[0m\u001b[0;34m\u001b[0m\u001b[0m\n",
      "\u001b[0;32m~/.conda/envs/equinox/lib/python3.6/site-packages/xarray/core/groupby.py\u001b[0m in \u001b[0;36m__init__\u001b[0;34m(self, obj, group, squeeze, grouper, bins, cut_kwargs)\u001b[0m\n\u001b[1;32m    277\u001b[0m             \u001b[0;31m# look through group to find the unique values\u001b[0m\u001b[0;34m\u001b[0m\u001b[0;34m\u001b[0m\u001b[0;34m\u001b[0m\u001b[0m\n\u001b[1;32m    278\u001b[0m             unique_values, group_indices = unique_value_groups(\n\u001b[0;32m--> 279\u001b[0;31m                 safe_cast_to_index(group), sort=(bins is None))\n\u001b[0m\u001b[1;32m    280\u001b[0m             \u001b[0munique_coord\u001b[0m \u001b[0;34m=\u001b[0m \u001b[0mIndexVariable\u001b[0m\u001b[0;34m(\u001b[0m\u001b[0mgroup\u001b[0m\u001b[0;34m.\u001b[0m\u001b[0mname\u001b[0m\u001b[0;34m,\u001b[0m \u001b[0munique_values\u001b[0m\u001b[0;34m)\u001b[0m\u001b[0;34m\u001b[0m\u001b[0;34m\u001b[0m\u001b[0m\n\u001b[1;32m    281\u001b[0m \u001b[0;34m\u001b[0m\u001b[0m\n",
      "\u001b[0;32m~/.conda/envs/equinox/lib/python3.6/site-packages/xarray/core/groupby.py\u001b[0m in \u001b[0;36munique_value_groups\u001b[0;34m(ar, sort)\u001b[0m\n\u001b[1;32m     36\u001b[0m     \u001b[0minverse\u001b[0m\u001b[0;34m,\u001b[0m \u001b[0mvalues\u001b[0m \u001b[0;34m=\u001b[0m \u001b[0mpd\u001b[0m\u001b[0;34m.\u001b[0m\u001b[0mfactorize\u001b[0m\u001b[0;34m(\u001b[0m\u001b[0mar\u001b[0m\u001b[0;34m,\u001b[0m \u001b[0msort\u001b[0m\u001b[0;34m=\u001b[0m\u001b[0msort\u001b[0m\u001b[0;34m)\u001b[0m\u001b[0;34m\u001b[0m\u001b[0;34m\u001b[0m\u001b[0m\n\u001b[1;32m     37\u001b[0m     \u001b[0mgroups\u001b[0m \u001b[0;34m=\u001b[0m \u001b[0;34m[\u001b[0m\u001b[0;34m[\u001b[0m\u001b[0;34m]\u001b[0m \u001b[0;32mfor\u001b[0m \u001b[0m_\u001b[0m \u001b[0;32min\u001b[0m \u001b[0mrange\u001b[0m\u001b[0;34m(\u001b[0m\u001b[0mlen\u001b[0m\u001b[0;34m(\u001b[0m\u001b[0mvalues\u001b[0m\u001b[0;34m)\u001b[0m\u001b[0;34m)\u001b[0m\u001b[0;34m]\u001b[0m\u001b[0;34m\u001b[0m\u001b[0;34m\u001b[0m\u001b[0m\n\u001b[0;32m---> 38\u001b[0;31m     \u001b[0;32mfor\u001b[0m \u001b[0mn\u001b[0m\u001b[0;34m,\u001b[0m \u001b[0mg\u001b[0m \u001b[0;32min\u001b[0m \u001b[0menumerate\u001b[0m\u001b[0;34m(\u001b[0m\u001b[0minverse\u001b[0m\u001b[0;34m)\u001b[0m\u001b[0;34m:\u001b[0m\u001b[0;34m\u001b[0m\u001b[0;34m\u001b[0m\u001b[0m\n\u001b[0m\u001b[1;32m     39\u001b[0m         \u001b[0;32mif\u001b[0m \u001b[0mg\u001b[0m \u001b[0;34m>=\u001b[0m \u001b[0;36m0\u001b[0m\u001b[0;34m:\u001b[0m\u001b[0;34m\u001b[0m\u001b[0;34m\u001b[0m\u001b[0m\n\u001b[1;32m     40\u001b[0m             \u001b[0;31m# pandas uses -1 to mark NaN, but doesn't include them in values\u001b[0m\u001b[0;34m\u001b[0m\u001b[0;34m\u001b[0m\u001b[0;34m\u001b[0m\u001b[0m\n",
      "\u001b[0;31mKeyboardInterrupt\u001b[0m: "
     ]
    }
   ],
   "source": [
    "rbins = np.arange(0,300,10)\n",
    "%time uu = UU.groupby_bins(ds.r, bins=rbins).mean()"
   ]
  },
  {
   "cell_type": "code",
   "execution_count": 20,
   "metadata": {},
   "outputs": [
    {
     "name": "stderr",
     "output_type": "stream",
     "text": [
      "\n",
      "KeyboardInterrupt\n",
      "\n"
     ]
    }
   ],
   "source": [
    "uu.plot()"
   ]
  },
  {
   "cell_type": "code",
   "execution_count": 21,
   "metadata": {},
   "outputs": [
    {
     "data": {
      "text/plain": [
       "array([  0,  10,  20,  30,  40,  50,  60,  70,  80,  90, 100, 110, 120,\n",
       "       130, 140, 150, 160, 170, 180, 190, 200, 210, 220, 230, 240, 250,\n",
       "       260, 270, 280, 290])"
      ]
     },
     "execution_count": 21,
     "metadata": {},
     "output_type": "execute_result"
    }
   ],
   "source": [
    "np.arange(0,300,10)"
   ]
  },
  {
   "cell_type": "code",
   "execution_count": null,
   "metadata": {},
   "outputs": [],
   "source": []
  },
  {
   "cell_type": "code",
   "execution_count": null,
   "metadata": {},
   "outputs": [],
   "source": []
  },
  {
   "cell_type": "code",
   "execution_count": null,
   "metadata": {},
   "outputs": [],
   "source": []
  },
  {
   "cell_type": "code",
   "execution_count": null,
   "metadata": {},
   "outputs": [],
   "source": []
  },
  {
   "cell_type": "code",
   "execution_count": null,
   "metadata": {},
   "outputs": [],
   "source": [
    "deg2rad = np.pi/180.\n",
    "def compute_lonlat(df, dropv=True, v0='v0', v1='v1', v2='v2',\n",
    "                   lon_key='LON', lat_key='LAT'):\n",
    "    # renormalize vectors\n",
    "    #n = df[v0] + df[v1] + df[v2]\n",
    "    #n = np.abs(df[v0])+np.abs(df[v1]**2+df[v2]**2)\n",
    "    #n = df[v2]*df[v2] + df[v1]*df[v1] + df[v2]*df[v2]\n",
    "    #n = np.sqrt(df[v0]*df[v0]+df[v1]*df[v1]+df[v2]*df[v2])\n",
    "    n = np.sqrt(df[v0]**2+df[v1]**2+df[v2]**2)\n",
    "    df[v0], df[v1], df[v2] = df[v0]/n, df[v1]/n, df[v2]/n\n",
    "    # estimate LON/LAT\n",
    "    #df[lon_key] = n\n",
    "    #df[lat_key] = n\n",
    "    df[lon_key] = np.arctan2(df[v1],df[v0])/deg2rad\n",
    "    df[lat_key] = np.arctan2(df[v2],np.sqrt(df[v0]**2+df[v1]**2))/deg2rad\n",
    "    return df\n"
   ]
  },
  {
   "cell_type": "markdown",
   "metadata": {},
   "source": [
    "---"
   ]
  },
  {
   "cell_type": "code",
   "execution_count": 74,
   "metadata": {},
   "outputs": [
    {
     "name": "stderr",
     "output_type": "stream",
     "text": [
      "Worker tcp://10.135.36.43:40910 restart in Job 5038493. This can be due to memory issue.\n",
      "Worker tcp://10.135.36.43:36956 restart in Job 5038494. This can be due to memory issue.\n",
      "Worker tcp://10.135.36.43:40688 restart in Job 5038495. This can be due to memory issue.\n",
      "Worker tcp://10.135.36.68:35990 restart in Job 5038499. This can be due to memory issue.\n",
      "Worker tcp://10.135.36.105:36102 restart in Job 5038502. This can be due to memory issue.\n",
      "Worker tcp://10.135.36.67:38743 restart in Job 5038498. This can be due to memory issue.\n",
      "Worker tcp://10.135.36.55:43525 restart in Job 5038497. This can be due to memory issue.\n",
      "Worker tcp://10.135.36.48:45309 restart in Job 5038496. This can be due to memory issue.\n",
      "Worker tcp://10.135.36.69:37481 restart in Job 5038501. This can be due to memory issue.\n",
      "Worker tcp://10.135.36.69:35500 restart in Job 5038500. This can be due to memory issue.\n"
     ]
    },
    {
     "data": {
      "text/html": [
       "<table style=\"border: 2px solid white;\">\n",
       "<tr>\n",
       "<td style=\"vertical-align: top; border: 0px solid white\">\n",
       "<h3>Client</h3>\n",
       "<ul>\n",
       "  <li><b>Scheduler: </b>tcp://10.135.39.58:41670\n",
       "  <li><b>Dashboard: </b><a href='http://10.135.39.58:8787/status' target='_blank'>http://10.135.39.58:8787/status</a>\n",
       "</ul>\n",
       "</td>\n",
       "<td style=\"vertical-align: top; border: 0px solid white\">\n",
       "<h3>Cluster</h3>\n",
       "<ul>\n",
       "  <li><b>Workers: </b>10</li>\n",
       "  <li><b>Cores: </b>10</li>\n",
       "  <li><b>Memory: </b>200.00 GB</li>\n",
       "</ul>\n",
       "</td>\n",
       "</tr>\n",
       "</table>"
      ],
      "text/plain": [
       "<Client: scheduler='tcp://10.135.39.58:41670' processes=0 cores=0>"
      ]
     },
     "execution_count": 74,
     "metadata": {},
     "output_type": "execute_result"
    }
   ],
   "source": [
    "client.restart()"
   ]
  },
  {
   "cell_type": "code",
   "execution_count": 105,
   "metadata": {},
   "outputs": [
    {
     "name": "stderr",
     "output_type": "stream",
     "text": [
      "distributed.client - ERROR - Failed to reconnect to scheduler after 10.00 seconds, closing client\n"
     ]
    }
   ],
   "source": [
    "cluster.close()"
   ]
  },
  {
   "cell_type": "code",
   "execution_count": null,
   "metadata": {},
   "outputs": [],
   "source": []
  }
 ],
 "metadata": {
  "kernelspec": {
   "display_name": "equinox",
   "language": "python",
   "name": "equinox"
  },
  "language_info": {
   "codemirror_mode": {
    "name": "ipython",
    "version": 3
   },
   "file_extension": ".py",
   "mimetype": "text/x-python",
   "name": "python",
   "nbconvert_exporter": "python",
   "pygments_lexer": "ipython3",
   "version": "3.6.7"
  }
 },
 "nbformat": 4,
 "nbformat_minor": 2
}
