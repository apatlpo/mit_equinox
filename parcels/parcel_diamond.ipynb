{
 "cells": [
  {
   "cell_type": "markdown",
   "metadata": {},
   "source": [
    "# tile llc model run and distribute parcels runs\n",
    "\n",
    "\n",
    "To do:\n",
    "\n",
    "- [ ] try with different interpolation schemes\n",
    "- [ ] try with different compiler?\n",
    "- [X] add online horizontal speed output\n",
    "- [X] change run tree\n",
    "- [X] add tracer and sea level interpolation. Pressure will always be recomputed offline\n",
    "- [X] on the fly parcel seeding\n"
   ]
  },
  {
   "cell_type": "code",
   "execution_count": 1,
   "metadata": {},
   "outputs": [],
   "source": [
    "import os, shutil\n",
    "\n",
    "import numpy as np\n",
    "import pandas as pd\n",
    "import xarray as xr\n",
    "from datetime import timedelta, datetime\n",
    "\n",
    "#import geopandas\n",
    "\n",
    "import dask\n",
    "#from dask.delayed import delayed\n",
    "\n",
    "#from xmitgcm.llcreader import llcmodel as llc\n",
    "\n",
    "%matplotlib inline\n",
    "from matplotlib import pyplot as plt\n",
    "\n",
    "from parcels import FieldSet, ParticleSet, ParticleFile, plotTrajectoriesFile, Variable\n",
    "from parcels import JITParticle, ScipyParticle\n",
    "from parcels import ErrorCode, NestedField, AdvectionEE, AdvectionRK4\n",
    "\n",
    "import mitequinox.utils as ut\n",
    "import mitequinox.parcels as pa"
   ]
  },
  {
   "cell_type": "code",
   "execution_count": 2,
   "metadata": {},
   "outputs": [
    {
     "name": "stderr",
     "output_type": "stream",
     "text": [
      "/home1/datahome/slgentil/conda-env/equinox/lib/python3.8/site-packages/distributed/node.py:160: UserWarning: Port 8787 is already in use.\n",
      "Perhaps you already have a cluster running?\n",
      "Hosting the HTTP server on port 36384 instead\n",
      "  warnings.warn(\n"
     ]
    },
    {
     "data": {
      "text/html": [
       "<div>\n",
       "    <div style=\"width: 24px; height: 24px; background-color: #e1e1e1; border: 3px solid #9D9D9D; border-radius: 5px; position: absolute;\"> </div>\n",
       "    <div style=\"margin-left: 48px;\">\n",
       "        <h3 style=\"margin-bottom: 0px;\">Client</h3>\n",
       "        <p style=\"color: #9D9D9D; margin-bottom: 0px;\">Client-d16f7957-0fbe-11ec-94d9-eb199e6d3730</p>\n",
       "        <table style=\"width: 100%; text-align: left;\">\n",
       "\n",
       "        <tr>\n",
       "        \n",
       "            <td style=\"text-align: left;\"><strong>Connection method:</strong> Cluster object</td>\n",
       "            <td style=\"text-align: left;\"><strong>Cluster type:</strong> dask_jobqueue.PBSCluster</td>\n",
       "        \n",
       "        </tr>\n",
       "\n",
       "        \n",
       "            <tr>\n",
       "                <td style=\"text-align: left;\">\n",
       "                    <strong>Dashboard: </strong> <a href=\"http://10.148.0.230:36384/status\" target=\"_blank\">http://10.148.0.230:36384/status</a>\n",
       "                </td>\n",
       "                <td style=\"text-align: left;\"></td>\n",
       "            </tr>\n",
       "        \n",
       "\n",
       "        </table>\n",
       "\n",
       "        \n",
       "            <details>\n",
       "            <summary style=\"margin-bottom: 20px;\"><h3 style=\"display: inline;\">Cluster Info</h3></summary>\n",
       "            <div class=\"jp-RenderedHTMLCommon jp-RenderedHTML jp-mod-trusted jp-OutputArea-output\">\n",
       "    <div style=\"width: 24px; height: 24px; background-color: #e1e1e1; border: 3px solid #9D9D9D; border-radius: 5px; position: absolute;\">\n",
       "    </div>\n",
       "    <div style=\"margin-left: 48px;\">\n",
       "        <h3 style=\"margin-bottom: 0px; margin-top: 0px;\">PBSCluster</h3>\n",
       "        <p style=\"color: #9D9D9D; margin-bottom: 0px;\">52f05551</p>\n",
       "        <table style=\"width: 100%; text-align: left;\">\n",
       "            <tr>\n",
       "                <td style=\"text-align: left;\">\n",
       "                    <strong>Dashboard:</strong> <a href=\"http://10.148.0.230:36384/status\" target=\"_blank\">http://10.148.0.230:36384/status</a>\n",
       "                </td>\n",
       "                <td style=\"text-align: left;\">\n",
       "                    <strong>Workers:</strong> 0\n",
       "                </td>\n",
       "            </tr>\n",
       "            <tr>\n",
       "                <td style=\"text-align: left;\">\n",
       "                    <strong>Total threads:</strong> 0\n",
       "                </td>\n",
       "                <td style=\"text-align: left;\">\n",
       "                    <strong>Total memory:</strong> 0 B\n",
       "                </td>\n",
       "            </tr>\n",
       "            \n",
       "        </table>\n",
       "\n",
       "        <details>\n",
       "            <summary style=\"margin-bottom: 20px;\">\n",
       "                <h3 style=\"display: inline;\">Scheduler Info</h3>\n",
       "            </summary>\n",
       "\n",
       "            <div style=\"\">\n",
       "    <div>\n",
       "        <div style=\"width: 24px; height: 24px; background-color: #FFF7E5; border: 3px solid #FF6132; border-radius: 5px; position: absolute;\"> </div>\n",
       "        <div style=\"margin-left: 48px;\">\n",
       "            <h3 style=\"margin-bottom: 0px;\">Scheduler</h3>\n",
       "            <p style=\"color: #9D9D9D; margin-bottom: 0px;\">Scheduler-8c4dc2d6-87c3-4113-8085-b02366626883</p>\n",
       "            <table style=\"width: 100%; text-align: left;\">\n",
       "                <tr>\n",
       "                    <td style=\"text-align: left;\">\n",
       "                        <strong>Comm:</strong> tcp://10.148.0.230:50076\n",
       "                    </td>\n",
       "                    <td style=\"text-align: left;\">\n",
       "                        <strong>Workers:</strong> 0\n",
       "                    </td>\n",
       "                </tr>\n",
       "                <tr>\n",
       "                    <td style=\"text-align: left;\">\n",
       "                        <strong>Dashboard:</strong> <a href=\"http://10.148.0.230:36384/status\" target=\"_blank\">http://10.148.0.230:36384/status</a>\n",
       "                    </td>\n",
       "                    <td style=\"text-align: left;\">\n",
       "                        <strong>Total threads:</strong> 0\n",
       "                    </td>\n",
       "                </tr>\n",
       "                <tr>\n",
       "                    <td style=\"text-align: left;\">\n",
       "                        <strong>Started:</strong> Just now\n",
       "                    </td>\n",
       "                    <td style=\"text-align: left;\">\n",
       "                        <strong>Total memory:</strong> 0 B\n",
       "                    </td>\n",
       "                </tr>\n",
       "            </table>\n",
       "        </div>\n",
       "    </div>\n",
       "\n",
       "    <details style=\"margin-left: 48px;\">\n",
       "        <summary style=\"margin-bottom: 20px;\">\n",
       "            <h3 style=\"display: inline;\">Workers</h3>\n",
       "        </summary>\n",
       "\n",
       "        \n",
       "\n",
       "    </details>\n",
       "</div>\n",
       "\n",
       "        </details>\n",
       "    </div>\n",
       "</div>\n",
       "            </details>\n",
       "        \n",
       "\n",
       "    </div>\n",
       "</div>"
      ],
      "text/plain": [
       "<Client: 'tcp://10.148.0.230:50076' processes=0 threads=0, memory=0 B>"
      ]
     },
     "execution_count": 2,
     "metadata": {},
     "output_type": "execute_result"
    }
   ],
   "source": [
    "from dask.distributed import Client, LocalCluster\n",
    "from dask_jobqueue import PBSCluster\n",
    "\n",
    "# ** processes and cores may be adjusted in order to have more memory or inversely more \n",
    "# ** computational ressource\n",
    "\n",
    "processing = 1\n",
    "\n",
    "if processing==0:\n",
    "    cluster = LocalCluster()\n",
    "elif processing==1:\n",
    "    # parcels simulation\n",
    "    cluster = PBSCluster(processes=4, cores=4, walltime='48:00:00')\n",
    "#    w = cluster.scale(jobs=13)\n",
    "    w = cluster.scale(jobs=1)\n",
    "elif processing==2:\n",
    "    # post processing\n",
    "    cluster = PBSCluster()\n",
    "    w = cluster.scale(jobs=2)\n",
    "    \n",
    "client = Client(cluster)\n",
    "client"
   ]
  },
  {
   "cell_type": "markdown",
   "metadata": {},
   "source": [
    "---\n",
    "## setup directories and run parameters"
   ]
  },
  {
   "cell_type": "code",
   "execution_count": 3,
   "metadata": {},
   "outputs": [],
   "source": [
    "#root_dir = '/home1/scratch/aponte/parcels/'\n",
    "#root_dir = '/home1/datawork/aponte/parcels/'\n",
    "root_dir = '/home1/scratch/slgentil/parcels/'\n",
    "\n",
    "# 5x5 tiles dij=100 T=365 5jobs x 5workers\n",
    "#run_name = 'global_T365j_dt1j_dij50'\n",
    "#run_name = 'debug'\n",
    "run_name = 'californie_T30j_dt1j_dij50'"
   ]
  },
  {
   "cell_type": "code",
   "execution_count": 4,
   "metadata": {},
   "outputs": [],
   "source": [
    "# simulation parameters\n",
    "\n",
    "T = 10. # length of the total run [days]\n",
    "#T = 360 # length of the total run [days]\n",
    "dt_window = timedelta(days=T) \n",
    "dt_outputs = timedelta(hours=1.)\n",
    "dt_step = timedelta(hours=1.)\n",
    "\n",
    "overwrite = False\n",
    " \n",
    "init_dij=10 \n",
    "lonmin=-130.\n",
    "lonmax=-120.\n",
    "latmin=31.5\n",
    "latmax=39.5\n",
    "\n",
    "# first step, create drifters positions\n",
    "npart = 50  # number of particles to be released\n",
    "lon = (lonmin+(lonmax-lonmin)/4) * np.ones(npart)\n",
    "lat = np.linspace(latmin+0.1 , latmax-0.1, npart, dtype=np.float32)\n",
    "time = np.arange(0, npart) * timedelta(hours=1).total_seconds()  # release particle every hour"
   ]
  },
  {
   "cell_type": "code",
   "execution_count": 5,
   "metadata": {},
   "outputs": [
    {
     "name": "stdout",
     "output_type": "stream",
     "text": [
      "Not overwriting /home1/scratch/slgentil/parcels/californie_T30j_dt1j_dij50\n",
      "Not overwriting /home1/scratch/slgentil/parcels/californie_T30j_dt1j_dij50/run\n",
      "Not overwriting /home1/scratch/slgentil/parcels/californie_T30j_dt1j_dij50/tiling\n",
      "Not overwriting /home1/scratch/slgentil/parcels/californie_T30j_dt1j_dij50/parquets\n",
      "Not overwriting /home1/scratch/slgentil/parcels/californie_T30j_dt1j_dij50/diagnostics\n"
     ]
    }
   ],
   "source": [
    "# create run directory tree\n",
    "dirs = pa.create_dir_tree(root_dir, run_name, overwrite=overwrite)"
   ]
  },
  {
   "cell_type": "markdown",
   "metadata": {},
   "source": [
    "---\n",
    "\n",
    "## load llc data"
   ]
  },
  {
   "cell_type": "code",
   "execution_count": 6,
   "metadata": {},
   "outputs": [],
   "source": [
    "# load llc data\n",
    "#ds = ut.load_data(V=['SSU', 'SSV', 'Eta', 'SST', 'SSS'])\n",
    "#grd = ut.load_grd()[['XC', 'YC', 'XG', 'YG']]\n",
    "#ds = xr.merge([ds, grd])"
   ]
  },
  {
   "cell_type": "markdown",
   "metadata": {},
   "source": [
    "---\n",
    "\n",
    "## create tiles\n",
    "\n",
    "*Several tiles in the south and north tiles could be deleted eventually as they are on land or not relevant with criterium on Depth or SST*\n",
    "\n",
    "See `rearrange.ipynb` and `tile.ipynb` for more details"
   ]
  },
  {
   "cell_type": "code",
   "execution_count": 7,
   "metadata": {},
   "outputs": [],
   "source": [
    "create_tiles = False\n",
    "#create_tiles = overwrite\n",
    "\n",
    "if create_tiles:\n",
    "    # create tiling\n",
    "    _ds = grd.reset_coords().persist()\n",
    "    tl = pa.tiler(ds=_ds, factor=(1, 1), overlap=(250, 250), \n",
    "                  global_llc=False, lonmin=lonmin, lonmax=lonmax, latmin=latmin, latmax=latmax)\n",
    "    # store tiler\n",
    "    tl.store(dirs[\"tiling\"])\n",
    "else:\n",
    "    tl = pa.tiler(tile_dir=dirs[\"tiling\"])"
   ]
  },
  {
   "cell_type": "code",
   "execution_count": 8,
   "metadata": {},
   "outputs": [
    {
     "name": "stdout",
     "output_type": "stream",
     "text": [
      "Not overwriting /home1/scratch/slgentil/parcels/californie_T30j_dt1j_dij50/run/data_000\n"
     ]
    }
   ],
   "source": [
    "tl.create_tile_run_tree(dirs[\"run\"], overwrite=overwrite)"
   ]
  },
  {
   "cell_type": "code",
   "execution_count": 9,
   "metadata": {},
   "outputs": [],
   "source": [
    "def format_info(step, t_start, t_end):\n",
    "    print('-------------------------------------------')\n",
    "    print('step={}  /  start={}  /  end={}'\n",
    "          .format(step,\n",
    "                  t_start.strftime(\"%Y-%m-%d:%H\"),\n",
    "                  t_end.strftime(\"%Y-%m-%d:%H\"),\n",
    "                 )\n",
    "         )"
   ]
  },
  {
   "cell_type": "markdown",
   "metadata": {},
   "source": [
    "--- \n",
    "\n",
    "## loop over time windows (main loop)\n",
    "\n",
    "** we will probably need a restart mechanism the loop from a given time, it may be as simple as changing `np.arange(0,T, dt_windows)` into `np.arange(t_restart,T, dt_windows)`\n",
    "\n",
    "** we may need to manually clear memory (for example if llc dataset has been persisted within tile_store_llc)\n"
   ]
  },
  {
   "cell_type": "code",
   "execution_count": 10,
   "metadata": {},
   "outputs": [
    {
     "name": "stdout",
     "output_type": "stream",
     "text": [
      "-------------------------------------------\n",
      "step=0  /  start=2011-11-15:00  /  end=2011-11-25:00\n"
     ]
    },
    {
     "name": "stderr",
     "output_type": "stream",
     "text": [
      "INFO: Compiled ArrayParticle_extendedRemoveOnLand ==> /dev/shm/pbs.6597109.datarmor0/parcels-16088/lib6083ce972c230473c57ac3caa7e1a813_0.so\n",
      "WARNING: dt or runtime are zero, or endtime is equal to Particle.time. The kernels will be executed once, without incrementing time\n",
      "INFO: Compiled ArrayParticle_extendedExtended_SampleAdvectionRK4 ==> /dev/shm/pbs.6597109.datarmor0/parcels-16088/lib489e92ba0df02bbc87c7c2e626ce129c_0.so\n",
      "INFO: Temporary output files are stored in /home1/scratch/slgentil/parcels/californie_T30j_dt1j_dij50/run/data_000/out-ITAXQHYK.\n",
      "INFO: You can use \"parcels_convert_npydir_to_netcdf /home1/scratch/slgentil/parcels/californie_T30j_dt1j_dij50/run/data_000/out-ITAXQHYK\" to convert these to a NetCDF file during the run.\n",
      "100% (864000.0 of 864000.0) |############| Elapsed Time: 0:00:00 Time:  0:00:00\n",
      "/home1/datahome/slgentil/conda-env/equinox/lib/python3.8/site-packages/numpy/lib/arraysetops.py:270: VisibleDeprecationWarning: Creating an ndarray from ragged nested sequences (which is a list-or-tuple of lists-or-tuples-or ndarrays with different lengths or shapes) is deprecated. If you meant to do this, you must specify 'dtype=object' when creating the ndarray.\n",
      "  ar = np.asanyarray(ar)\n"
     ]
    },
    {
     "name": "stdout",
     "output_type": "stream",
     "text": [
      "Total number of particles = 42\n"
     ]
    }
   ],
   "source": [
    "tile = 0\n",
    "step = 0\n",
    "restart = 0\n",
    "\n",
    "# load, tile form llc.nc file (without face dimension)\n",
    "ds_tile = pa.load_ds_tile(tl)[0]\n",
    "\n",
    "t_start = ut.np64toDate(ds_tile['time'][0].values)\n",
    "t_end = t_start + int(T/dt_window.days)*dt_window\n",
    "format_info(step, t_start, t_end)\n",
    "\n",
    "# get new log filename for this run\n",
    "log_file = pa.name_log_file(dirs['run'])\n",
    "\n",
    "# clean up data for restart\n",
    "tl.clean_up(dirs[\"run\"], restart)\n",
    "\n",
    "local_numbers = {tile: 0 for tile in range(tl.N_tiles)}\n",
    "max_ids = {tile: None for tile in range(tl.N_tiles)}\n",
    "\n",
    "#for tile in range(tl.N_tiles):\n",
    "tile = 0\n",
    "step_out = \\\n",
    "        pa.step_window(tile, step, \n",
    "                       t_start, t_end,\n",
    "                       dt_window, dt_step, dt_outputs, \n",
    "                       tl,\n",
    "                       ds_tile=ds_tile,  \n",
    "                       lon=lon, lat=lat, time=time, \n",
    "                       parcels_remove_on_land=True,\n",
    "                       pclass=\"extended\",\n",
    "                       id_max=max_ids[tile],\n",
    "                      )\n",
    "\n",
    "max_ids = {tile: int(step_out[1])}\n",
    "local_numbers = {tile: int(step_out[0])}\n",
    "log = dict(\n",
    "           local_numbers=local_numbers,\n",
    "           max_ids=max_ids,\n",
    "          )\n",
    "\n",
    "# store log\n",
    "pa.store_log(log_file, step, log)\n",
    "\n",
    "print('Total number of particles = {}'\n",
    "      .format(local_numbers[0])\n",
    "     )\n",
    "    "
   ]
  },
  {
   "cell_type": "code",
   "execution_count": 11,
   "metadata": {},
   "outputs": [
    {
     "name": "stdout",
     "output_type": "stream",
     "text": [
      "/home1/scratch/slgentil/parcels/californie_T30j_dt1j_dij50/run/log_20210907_0934.yaml\n"
     ]
    }
   ],
   "source": [
    "print(log_file)"
   ]
  },
  {
   "cell_type": "code",
   "execution_count": 12,
   "metadata": {},
   "outputs": [
    {
     "data": {
      "text/plain": [
       "<matplotlib.collections.QuadMesh at 0x2aac27e2c550>"
      ]
     },
     "execution_count": 12,
     "metadata": {},
     "output_type": "execute_result"
    },
    {
     "data": {
      "image/png": "[encoded data removed]",
      "text/plain": [
       "<Figure size 432x288 with 2 Axes>"
      ]
     },
     "metadata": {
      "needs_background": "light"
     },
     "output_type": "display_data"
    }
   ],
   "source": [
    "ds_tile.Eta.isel(time=0).plot.pcolormesh(x='XC',y='YC')"
   ]
  },
  {
   "cell_type": "code",
   "execution_count": 13,
   "metadata": {},
   "outputs": [],
   "source": [
    "cluster.close()"
   ]
  },
  {
   "cell_type": "code",
   "execution_count": 14,
   "metadata": {},
   "outputs": [],
   "source": [
    "#ds_tiles = [_ds.persist() for _ds in ds_tiles]\n",
    "# 220GB in RAM against 750 GB observed"
   ]
  },
  {
   "cell_type": "code",
   "execution_count": 15,
   "metadata": {},
   "outputs": [
    {
     "data": {
      "text/plain": [
       "'/home1/scratch/slgentil/parcels/californie_T30j_dt1j_dij50/run'"
      ]
     },
     "execution_count": 15,
     "metadata": {},
     "output_type": "execute_result"
    }
   ],
   "source": [
    "dirs[\"run\"]"
   ]
  },
  {
   "cell_type": "code",
   "execution_count": 16,
   "metadata": {},
   "outputs": [
    {
     "data": {
      "text/html": [
       "<div>\n",
       "<style scoped>\n",
       "    .dataframe tbody tr th:only-of-type {\n",
       "        vertical-align: middle;\n",
       "    }\n",
       "\n",
       "    .dataframe tbody tr th {\n",
       "        vertical-align: top;\n",
       "    }\n",
       "\n",
       "    .dataframe thead th {\n",
       "        text-align: right;\n",
       "    }\n",
       "</style>\n",
       "<table border=\"1\" class=\"dataframe\">\n",
       "  <thead>\n",
       "    <tr style=\"text-align: right;\">\n",
       "      <th></th>\n",
       "      <th>trajectory</th>\n",
       "      <th>lat</th>\n",
       "      <th>lon</th>\n",
       "      <th>z</th>\n",
       "      <th>zonal_velocity</th>\n",
       "      <th>meridional_velocity</th>\n",
       "      <th>sea_level</th>\n",
       "      <th>temperature</th>\n",
       "      <th>salinity</th>\n",
       "    </tr>\n",
       "    <tr>\n",
       "      <th>time</th>\n",
       "      <th></th>\n",
       "      <th></th>\n",
       "      <th></th>\n",
       "      <th></th>\n",
       "      <th></th>\n",
       "      <th></th>\n",
       "      <th></th>\n",
       "      <th></th>\n",
       "      <th></th>\n",
       "    </tr>\n",
       "  </thead>\n",
       "  <tbody>\n",
       "    <tr>\n",
       "      <th>2011-11-15 00:00:00</th>\n",
       "      <td>0</td>\n",
       "      <td>31.600000</td>\n",
       "      <td>-127.500000</td>\n",
       "      <td>0.0</td>\n",
       "      <td>0.000000e+00</td>\n",
       "      <td>0.000000e+00</td>\n",
       "      <td>0.000000</td>\n",
       "      <td>0.000000</td>\n",
       "      <td>0.000000</td>\n",
       "    </tr>\n",
       "    <tr>\n",
       "      <th>2011-11-15 01:00:00</th>\n",
       "      <td>0</td>\n",
       "      <td>31.595675</td>\n",
       "      <td>-127.500216</td>\n",
       "      <td>0.0</td>\n",
       "      <td>-2.139593e-07</td>\n",
       "      <td>-1.399217e-06</td>\n",
       "      <td>-0.341830</td>\n",
       "      <td>17.750656</td>\n",
       "      <td>33.328491</td>\n",
       "    </tr>\n",
       "    <tr>\n",
       "      <th>2011-11-15 02:00:00</th>\n",
       "      <td>0</td>\n",
       "      <td>31.591494</td>\n",
       "      <td>-127.501845</td>\n",
       "      <td>0.0</td>\n",
       "      <td>9.397034e-08</td>\n",
       "      <td>-1.011560e-06</td>\n",
       "      <td>-0.278828</td>\n",
       "      <td>17.743690</td>\n",
       "      <td>33.327209</td>\n",
       "    </tr>\n",
       "    <tr>\n",
       "      <th>2011-11-15 03:00:00</th>\n",
       "      <td>0</td>\n",
       "      <td>31.587564</td>\n",
       "      <td>-127.506839</td>\n",
       "      <td>0.0</td>\n",
       "      <td>-1.051156e-06</td>\n",
       "      <td>-1.303293e-06</td>\n",
       "      <td>-0.161748</td>\n",
       "      <td>17.742025</td>\n",
       "      <td>33.329556</td>\n",
       "    </tr>\n",
       "    <tr>\n",
       "      <th>2011-11-15 04:00:00</th>\n",
       "      <td>0</td>\n",
       "      <td>31.584597</td>\n",
       "      <td>-127.514489</td>\n",
       "      <td>0.0</td>\n",
       "      <td>-1.731820e-06</td>\n",
       "      <td>-8.695911e-07</td>\n",
       "      <td>0.006419</td>\n",
       "      <td>17.735298</td>\n",
       "      <td>33.330250</td>\n",
       "    </tr>\n",
       "  </tbody>\n",
       "</table>\n",
       "</div>"
      ],
      "text/plain": [
       "                     trajectory        lat         lon    z  zonal_velocity  \\\n",
       "time                                                                          \n",
       "2011-11-15 00:00:00           0  31.600000 -127.500000  0.0    0.000000e+00   \n",
       "2011-11-15 01:00:00           0  31.595675 -127.500216  0.0   -2.139593e-07   \n",
       "2011-11-15 02:00:00           0  31.591494 -127.501845  0.0    9.397034e-08   \n",
       "2011-11-15 03:00:00           0  31.587564 -127.506839  0.0   -1.051156e-06   \n",
       "2011-11-15 04:00:00           0  31.584597 -127.514489  0.0   -1.731820e-06   \n",
       "\n",
       "                     meridional_velocity  sea_level  temperature   salinity  \n",
       "time                                                                         \n",
       "2011-11-15 00:00:00         0.000000e+00   0.000000     0.000000   0.000000  \n",
       "2011-11-15 01:00:00        -1.399217e-06  -0.341830    17.750656  33.328491  \n",
       "2011-11-15 02:00:00        -1.011560e-06  -0.278828    17.743690  33.327209  \n",
       "2011-11-15 03:00:00        -1.303293e-06  -0.161748    17.742025  33.329556  \n",
       "2011-11-15 04:00:00        -8.695911e-07   0.006419    17.735298  33.330250  "
      ]
     },
     "execution_count": 16,
     "metadata": {},
     "output_type": "execute_result"
    }
   ],
   "source": [
    "df = pa.load_nc(dirs[\"run\"], index='time', persist=True)\n",
    "df.head()"
   ]
  },
  {
   "cell_type": "code",
   "execution_count": 17,
   "metadata": {},
   "outputs": [
    {
     "name": "stdout",
     "output_type": "stream",
     "text": [
      "2011-11-15 00:00:00 2011-11-25 00:00:00\n"
     ]
    }
   ],
   "source": [
    "tmin = str(df.index.min().compute() )\n",
    "tmax = str(df.index.max().compute())\n",
    "print(tmin, tmax)"
   ]
  },
  {
   "cell_type": "code",
   "execution_count": 18,
   "metadata": {},
   "outputs": [
    {
     "name": "stdout",
     "output_type": "stream",
     "text": [
      "2011-11-15 00:00:00 2011-11-25 00:00:00\n"
     ]
    }
   ],
   "source": [
    "tmin = str(df.index.min().compute())\n",
    "tmax = str(df.index.max().compute())\n",
    "print(tmin, tmax)"
   ]
  },
  {
   "cell_type": "code",
   "execution_count": 19,
   "metadata": {},
   "outputs": [
    {
     "data": {
      "text/plain": [
       "<matplotlib.colorbar.Colorbar at 0x2aabc18680d0>"
      ]
     },
     "execution_count": 19,
     "metadata": {},
     "output_type": "execute_result"
    },
    {
     "data": {
      "image/png": "[encoded data removed]",
      "text/plain": [
       "<Figure size 432x288 with 2 Axes>"
      ]
     },
     "metadata": {
      "needs_background": "light"
     },
     "output_type": "display_data"
    }
   ],
   "source": [
    "\n",
    "_df = df.loc[tmin].compute()\n",
    "plt.scatter(_df['lon'], _df['lat'], s=1, c=_df['temperature'], \n",
    "            vmin=0, vmax=35, cmap='plasma')\n",
    "plt.xlim(lonmin,lonmax)\n",
    "plt.ylim(latmin,latmax)\n",
    "plt.colorbar()"
   ]
  },
  {
   "cell_type": "code",
   "execution_count": 20,
   "metadata": {},
   "outputs": [
    {
     "data": {
      "text/plain": [
       "<matplotlib.colorbar.Colorbar at 0x2aaca712c9d0>"
      ]
     },
     "execution_count": 20,
     "metadata": {},
     "output_type": "execute_result"
    },
    {
     "data": {
      "image/png": "[encoded data removed]",
      "text/plain": [
       "<Figure size 432x288 with 2 Axes>"
      ]
     },
     "metadata": {
      "needs_background": "light"
     },
     "output_type": "display_data"
    }
   ],
   "source": [
    "_df = df.loc[tmax, :].compute()\n",
    "plt.scatter(_df['lon'], _df['lat'], s=1, c=_df['temperature'], \n",
    "            vmin=0, vmax=35, cmap='plasma')\n",
    "plt.xlim(lonmin,lonmax)\n",
    "plt.ylim(latmin,latmax)\n",
    "plt.colorbar()"
   ]
  },
  {
   "cell_type": "markdown",
   "metadata": {},
   "source": [
    "## Close cluster"
   ]
  },
  {
   "cell_type": "code",
   "execution_count": 21,
   "metadata": {},
   "outputs": [
    {
     "name": "stderr",
     "output_type": "stream",
     "text": [
      "distributed.client - ERROR - Failed to reconnect to scheduler after 10.00 seconds, closing client\n",
      "_GatheringFuture exception was never retrieved\n",
      "future: <_GatheringFuture finished exception=CancelledError()>\n",
      "asyncio.exceptions.CancelledError\n"
     ]
    }
   ],
   "source": [
    "cluster.close()"
   ]
  },
  {
   "cell_type": "code",
   "execution_count": null,
   "metadata": {},
   "outputs": [],
   "source": []
  }
 ],
 "metadata": {
  "kernelspec": {
   "display_name": "Python 3 (ipykernel)",
   "language": "python",
   "name": "python3"
  },
  "language_info": {
   "codemirror_mode": {
    "name": "ipython",
    "version": 3
   },
   "file_extension": ".py",
   "mimetype": "text/x-python",
   "name": "python",
   "nbconvert_exporter": "python",
   "pygments_lexer": "ipython3",
   "version": "3.8.10"
  }
 },
 "nbformat": 4,
 "nbformat_minor": 4
}
