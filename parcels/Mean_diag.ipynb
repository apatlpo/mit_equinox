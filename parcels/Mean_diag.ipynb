{
 "cells": [
  {
   "cell_type": "code",
   "execution_count": 1,
   "metadata": {},
   "outputs": [],
   "source": [
    "import os\n",
    "\n",
    "import numpy as np\n",
    "import pandas as pd\n",
    "import xarray as xr\n",
    "import dask.dataframe as dd\n",
    "\n",
    "import geopandas as gpd\n",
    "from shapely.geometry import Polygon\n",
    "\n",
    "%matplotlib inline\n",
    "from matplotlib import pyplot as plt\n",
    "\n",
    "import cartopy.crs as ccrs\n",
    "import cartopy.feature as cfeature\n",
    "\n",
    "import mitequinox.utils as ut\n",
    "import mitequinox.parcels as pa"
   ]
  },
  {
   "cell_type": "code",
   "execution_count": null,
   "metadata": {},
   "outputs": [],
   "source": [
    "from dask.distributed import Client, LocalCluster\n",
    "if True:\n",
    "    from dask_jobqueue import PBSCluster\n",
    "    cluster = PBSCluster()\n",
    "    w = cluster.scale(jobs=2)\n",
    "else:    \n",
    "    cluster = LocalCluster()\n",
    "client = Client(cluster)\n",
    "client"
   ]
  },
  {
   "cell_type": "code",
   "execution_count": null,
   "metadata": {},
   "outputs": [],
   "source": [
    "root_dir = '/home1/datawork/aponte/parcels/'\n",
    "run_name = 'global_extra_T365j_dt1j_dij50'\n",
    "\n",
    "p = pa.parcels_output(root_dir+run_name, parquets=['time'])\n",
    "df = p.df['time']\n",
    "df.head()"
   ]
  },
  {
   "cell_type": "code",
   "execution_count": null,
   "metadata": {},
   "outputs": [],
   "source": [
    "t_start = df.index.min().compute()\n",
    "t_end = df.index.max().compute()\n",
    "delta_t = (t_end - t_start)/pd.Timedelta('1D') # in days\n",
    "\n",
    "print(t_start, t_end, delta_t)"
   ]
  },
  {
   "cell_type": "code",
   "execution_count": null,
   "metadata": {},
   "outputs": [],
   "source": [
    "# geographical bins\n",
    "dl = 2.\n",
    "lon_bins = np.arange(-180.,180., dl)\n",
    "lat_bins = np.arange(-90.,90., dl)\n",
    "\n",
    "# temporal bins\n",
    "#t_bins = pd.date_range(t_start, t_end, freq='1M')\n",
    "t_bins = pd.date_range(t_start, t_end, freq='1MS') # starts at the beginning of each month\n",
    "cut = lambda df, bins: pd.cut(df.index.to_series(), bins=bins)"
   ]
  },
  {
   "cell_type": "code",
   "execution_count": null,
   "metadata": {},
   "outputs": [],
   "source": [
    "df['lon'] = (df['lon']+180)%360 - 180\n",
    "df['lon_cut'] = df['lon'].map_partitions(pd.cut, lon_bins)\n",
    "df['lat_cut'] = df['lat'].map_partitions(pd.cut, lat_bins)\n",
    "df['time_cut'] = df.map_partitions(cut, t_bins)"
   ]
  }
 ],
 "metadata": {
  "kernelspec": {
   "display_name": "Python 3",
   "language": "python",
   "name": "python3"
  },
  "language_info": {
   "codemirror_mode": {
    "name": "ipython",
    "version": 3
   },
   "file_extension": ".py",
   "mimetype": "text/x-python",
   "name": "python",
   "nbconvert_exporter": "python",
   "pygments_lexer": "ipython3",
   "version": "3.7.6"
  }
 },
 "nbformat": 4,
 "nbformat_minor": 4
}
