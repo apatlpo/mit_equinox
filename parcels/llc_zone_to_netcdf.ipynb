{
 "cells": [
  {
   "cell_type": "markdown",
   "metadata": {},
   "source": [
    "# Extract a zonal area from the global llc \n",
    "# Save it to the netcdf llc.nc file\n"
   ]
  },
  {
   "cell_type": "code",
   "execution_count": 1,
   "metadata": {},
   "outputs": [],
   "source": [
    "import os, shutil\n",
    "\n",
    "import numpy as np\n",
    "import pandas as pd\n",
    "import xarray as xr\n",
    "from datetime import timedelta, datetime\n",
    "\n",
    "#import geopandas\n",
    "\n",
    "import dask\n",
    "#from dask.delayed import delayed\n",
    "\n",
    "#from xmitgcm.llcreader import llcmodel as llc\n",
    "\n",
    "%matplotlib inline\n",
    "from matplotlib import pyplot as plt\n",
    "\n",
    "from parcels import FieldSet, ParticleSet, ParticleFile, plotTrajectoriesFile, Variable\n",
    "from parcels import JITParticle, ScipyParticle\n",
    "from parcels import ErrorCode, NestedField, AdvectionEE, AdvectionRK4\n",
    "\n",
    "import mitequinox.utils as ut\n",
    "import mitequinox.parcels as pa"
   ]
  },
  {
   "cell_type": "code",
   "execution_count": 2,
   "metadata": {},
   "outputs": [
    {
     "data": {
      "text/html": [
       "<div>\n",
       "    <div style=\"width: 24px; height: 24px; background-color: #e1e1e1; border: 3px solid #9D9D9D; border-radius: 5px; position: absolute;\"> </div>\n",
       "    <div style=\"margin-left: 48px;\">\n",
       "        <h3 style=\"margin-bottom: 0px;\">Client</h3>\n",
       "        <p style=\"color: #9D9D9D; margin-bottom: 0px;\">Client-b6399852-149f-11ec-ab7c-0cc47a3f782d</p>\n",
       "        <table style=\"width: 100%; text-align: left;\">\n",
       "\n",
       "        <tr>\n",
       "        \n",
       "            <td style=\"text-align: left;\"><strong>Connection method:</strong> Cluster object</td>\n",
       "            <td style=\"text-align: left;\"><strong>Cluster type:</strong> dask_jobqueue.PBSCluster</td>\n",
       "        \n",
       "        </tr>\n",
       "\n",
       "        \n",
       "            <tr>\n",
       "                <td style=\"text-align: left;\">\n",
       "                    <strong>Dashboard: </strong> <a href=\"http://10.148.0.248:8787/status\" target=\"_blank\">http://10.148.0.248:8787/status</a>\n",
       "                </td>\n",
       "                <td style=\"text-align: left;\"></td>\n",
       "            </tr>\n",
       "        \n",
       "\n",
       "        </table>\n",
       "\n",
       "        \n",
       "            <details>\n",
       "            <summary style=\"margin-bottom: 20px;\"><h3 style=\"display: inline;\">Cluster Info</h3></summary>\n",
       "            <div class=\"jp-RenderedHTMLCommon jp-RenderedHTML jp-mod-trusted jp-OutputArea-output\">\n",
       "    <div style=\"width: 24px; height: 24px; background-color: #e1e1e1; border: 3px solid #9D9D9D; border-radius: 5px; position: absolute;\">\n",
       "    </div>\n",
       "    <div style=\"margin-left: 48px;\">\n",
       "        <h3 style=\"margin-bottom: 0px; margin-top: 0px;\">PBSCluster</h3>\n",
       "        <p style=\"color: #9D9D9D; margin-bottom: 0px;\">9c667538</p>\n",
       "        <table style=\"width: 100%; text-align: left;\">\n",
       "            <tr>\n",
       "                <td style=\"text-align: left;\">\n",
       "                    <strong>Dashboard:</strong> <a href=\"http://10.148.0.248:8787/status\" target=\"_blank\">http://10.148.0.248:8787/status</a>\n",
       "                </td>\n",
       "                <td style=\"text-align: left;\">\n",
       "                    <strong>Workers:</strong> 0\n",
       "                </td>\n",
       "            </tr>\n",
       "            <tr>\n",
       "                <td style=\"text-align: left;\">\n",
       "                    <strong>Total threads:</strong> 0\n",
       "                </td>\n",
       "                <td style=\"text-align: left;\">\n",
       "                    <strong>Total memory:</strong> 0 B\n",
       "                </td>\n",
       "            </tr>\n",
       "            \n",
       "        </table>\n",
       "\n",
       "        <details>\n",
       "            <summary style=\"margin-bottom: 20px;\">\n",
       "                <h3 style=\"display: inline;\">Scheduler Info</h3>\n",
       "            </summary>\n",
       "\n",
       "            <div style=\"\">\n",
       "    <div>\n",
       "        <div style=\"width: 24px; height: 24px; background-color: #FFF7E5; border: 3px solid #FF6132; border-radius: 5px; position: absolute;\"> </div>\n",
       "        <div style=\"margin-left: 48px;\">\n",
       "            <h3 style=\"margin-bottom: 0px;\">Scheduler</h3>\n",
       "            <p style=\"color: #9D9D9D; margin-bottom: 0px;\">Scheduler-c05c0c35-7b72-46e0-8999-f15079cbc163</p>\n",
       "            <table style=\"width: 100%; text-align: left;\">\n",
       "                <tr>\n",
       "                    <td style=\"text-align: left;\">\n",
       "                        <strong>Comm:</strong> tcp://10.148.0.248:55442\n",
       "                    </td>\n",
       "                    <td style=\"text-align: left;\">\n",
       "                        <strong>Workers:</strong> 0\n",
       "                    </td>\n",
       "                </tr>\n",
       "                <tr>\n",
       "                    <td style=\"text-align: left;\">\n",
       "                        <strong>Dashboard:</strong> <a href=\"http://10.148.0.248:8787/status\" target=\"_blank\">http://10.148.0.248:8787/status</a>\n",
       "                    </td>\n",
       "                    <td style=\"text-align: left;\">\n",
       "                        <strong>Total threads:</strong> 0\n",
       "                    </td>\n",
       "                </tr>\n",
       "                <tr>\n",
       "                    <td style=\"text-align: left;\">\n",
       "                        <strong>Started:</strong> Just now\n",
       "                    </td>\n",
       "                    <td style=\"text-align: left;\">\n",
       "                        <strong>Total memory:</strong> 0 B\n",
       "                    </td>\n",
       "                </tr>\n",
       "            </table>\n",
       "        </div>\n",
       "    </div>\n",
       "\n",
       "    <details style=\"margin-left: 48px;\">\n",
       "        <summary style=\"margin-bottom: 20px;\">\n",
       "            <h3 style=\"display: inline;\">Workers</h3>\n",
       "        </summary>\n",
       "\n",
       "        \n",
       "\n",
       "    </details>\n",
       "</div>\n",
       "\n",
       "        </details>\n",
       "    </div>\n",
       "</div>\n",
       "            </details>\n",
       "        \n",
       "\n",
       "    </div>\n",
       "</div>"
      ],
      "text/plain": [
       "<Client: 'tcp://10.148.0.248:55442' processes=0 threads=0, memory=0 B>"
      ]
     },
     "execution_count": 2,
     "metadata": {},
     "output_type": "execute_result"
    }
   ],
   "source": [
    "from dask.distributed import Client, LocalCluster\n",
    "from dask_jobqueue import PBSCluster\n",
    "\n",
    "# ** processes and cores may be adjusted in order to have more memory or inversely more \n",
    "# ** computational ressource\n",
    "\n",
    "processing = 1\n",
    "\n",
    "if processing==0:\n",
    "    cluster = LocalCluster()\n",
    "elif processing==1:\n",
    "    # parcels simulation\n",
    "    cluster = PBSCluster(processes=4, cores=4, walltime='48:00:00')\n",
    "#    w = cluster.scale(jobs=13)\n",
    "    w = cluster.scale(jobs=1)\n",
    "elif processing==2:\n",
    "    # post processing\n",
    "    cluster = PBSCluster()\n",
    "    w = cluster.scale(jobs=2)\n",
    "    \n",
    "client = Client(cluster)\n",
    "client"
   ]
  },
  {
   "cell_type": "markdown",
   "metadata": {},
   "source": [
    "---\n",
    "### Input parameters"
   ]
  },
  {
   "cell_type": "code",
   "execution_count": 3,
   "metadata": {},
   "outputs": [],
   "source": [
    "# directories\n",
    "root_dir = '/home1/scratch/slgentil/parcels/'\n",
    "site = 'californie'           # 'californie', 'mediterranee'\n",
    "season = 'spring'             # 'spring', 'summer', 'autumn', 'winter'"
   ]
  },
  {
   "cell_type": "markdown",
   "metadata": {},
   "source": [
    "---\n",
    "### init parameters"
   ]
  },
  {
   "cell_type": "code",
   "execution_count": 4,
   "metadata": {},
   "outputs": [],
   "source": [
    "# simulation parameters\n",
    "T = 30. # length of the total run [days]\n",
    "dt_window = timedelta(days=T) \n",
    "dt_step = timedelta(hours=1.) # time step [hour]\n",
    "\n",
    "run_name = site+'_'+season\n",
    "\n",
    "overwrite = True\n",
    "if site == 'californie':\n",
    "    lonmin=-127.\n",
    "    lonmax=-124.\n",
    "    latmin=34\n",
    "    latmax=37\n",
    "    \n",
    "seasons={ 'spring':'2012-05-15T00:00', \n",
    "          'summer':'2012-08-15T00:00', \n",
    "          'autumn':'2011-11-15T00:00', \n",
    "          'winter':'2012-02-15T00:00' \n",
    "        }"
   ]
  },
  {
   "cell_type": "markdown",
   "metadata": {},
   "source": [
    "---\n",
    "\n",
    "## load llc data"
   ]
  },
  {
   "cell_type": "code",
   "execution_count": 5,
   "metadata": {},
   "outputs": [
    {
     "name": "stderr",
     "output_type": "stream",
     "text": [
      "/home1/datahome/slgentil/mit_equinox/mitequinox/utils.py:158: RuntimeWarning: Failed to open Zarr store with consolidated metadata, falling back to try reading non-consolidated metadata. This is typically much slower for opening a dataset. To silence this warning, consider:\n",
      "1. Consolidating metadata in this existing store with zarr.consolidate_metadata().\n",
      "2. Explicitly setting consolidated=False, to avoid trying to read consolidate metadata, or\n",
      "3. Explicitly setting consolidated=True, to raise an error in this case instead of falling back to try reading non-consolidated metadata.\n",
      "  return xr.open_zarr(ref_data_dir + v + \".zarr\")\n",
      "/home1/datahome/slgentil/mit_equinox/mitequinox/utils.py:158: RuntimeWarning: Failed to open Zarr store with consolidated metadata, falling back to try reading non-consolidated metadata. This is typically much slower for opening a dataset. To silence this warning, consider:\n",
      "1. Consolidating metadata in this existing store with zarr.consolidate_metadata().\n",
      "2. Explicitly setting consolidated=False, to avoid trying to read consolidate metadata, or\n",
      "3. Explicitly setting consolidated=True, to raise an error in this case instead of falling back to try reading non-consolidated metadata.\n",
      "  return xr.open_zarr(ref_data_dir + v + \".zarr\")\n",
      "/home1/datahome/slgentil/mit_equinox/mitequinox/utils.py:158: RuntimeWarning: Failed to open Zarr store with consolidated metadata, falling back to try reading non-consolidated metadata. This is typically much slower for opening a dataset. To silence this warning, consider:\n",
      "1. Consolidating metadata in this existing store with zarr.consolidate_metadata().\n",
      "2. Explicitly setting consolidated=False, to avoid trying to read consolidate metadata, or\n",
      "3. Explicitly setting consolidated=True, to raise an error in this case instead of falling back to try reading non-consolidated metadata.\n",
      "  return xr.open_zarr(ref_data_dir + v + \".zarr\")\n",
      "/home1/datahome/slgentil/mit_equinox/mitequinox/utils.py:158: RuntimeWarning: Failed to open Zarr store with consolidated metadata, falling back to try reading non-consolidated metadata. This is typically much slower for opening a dataset. To silence this warning, consider:\n",
      "1. Consolidating metadata in this existing store with zarr.consolidate_metadata().\n",
      "2. Explicitly setting consolidated=False, to avoid trying to read consolidate metadata, or\n",
      "3. Explicitly setting consolidated=True, to raise an error in this case instead of falling back to try reading non-consolidated metadata.\n",
      "  return xr.open_zarr(ref_data_dir + v + \".zarr\")\n",
      "/home1/datahome/slgentil/mit_equinox/mitequinox/utils.py:158: RuntimeWarning: Failed to open Zarr store with consolidated metadata, falling back to try reading non-consolidated metadata. This is typically much slower for opening a dataset. To silence this warning, consider:\n",
      "1. Consolidating metadata in this existing store with zarr.consolidate_metadata().\n",
      "2. Explicitly setting consolidated=False, to avoid trying to read consolidate metadata, or\n",
      "3. Explicitly setting consolidated=True, to raise an error in this case instead of falling back to try reading non-consolidated metadata.\n",
      "  return xr.open_zarr(ref_data_dir + v + \".zarr\")\n",
      "/home1/datahome/slgentil/mit_equinox/mitequinox/utils.py:100: RuntimeWarning: Failed to open Zarr store with consolidated metadata, falling back to try reading non-consolidated metadata. This is typically much slower for opening a dataset. To silence this warning, consider:\n",
      "1. Consolidating metadata in this existing store with zarr.consolidate_metadata().\n",
      "2. Explicitly setting consolidated=False, to avoid trying to read consolidate metadata, or\n",
      "3. Explicitly setting consolidated=True, to raise an error in this case instead of falling back to try reading non-consolidated metadata.\n",
      "  ds = xr.open_zarr(ref_data_dir + \"grid.zarr\")\n"
     ]
    }
   ],
   "source": [
    "# load llc data\n",
    "ds = ut.load_data(V=['SSU', 'SSV', 'Eta', 'SST', 'SSS'])\n",
    "grd = ut.load_grd()[['XC', 'YC', 'XG', 'YG']]\n",
    "ds = xr.merge([ds, grd])"
   ]
  },
  {
   "cell_type": "code",
   "execution_count": 6,
   "metadata": {},
   "outputs": [
    {
     "name": "stdout",
     "output_type": "stream",
     "text": [
      "<xarray.DataArray 'time' (time: 8785)>\n",
      "array(['2011-11-15T00:00:00.000000000', '2011-11-15T01:00:00.000000000',\n",
      "       '2011-11-15T02:00:00.000000000', ..., '2012-11-14T22:00:00.000000000',\n",
      "       '2012-11-14T23:00:00.000000000', '2012-11-15T00:00:00.000000000'],\n",
      "      dtype='datetime64[ns]')\n",
      "Coordinates:\n",
      "  * time     (time) datetime64[ns] 2011-11-15 2011-11-15T01:00:00 ... 2012-11-15\n",
      "    niter    (time) int64 dask.array<chunksize=(88,), meta=np.ndarray>\n"
     ]
    }
   ],
   "source": [
    "print(ds.time)"
   ]
  },
  {
   "cell_type": "markdown",
   "metadata": {},
   "source": [
    "---\n",
    "\n",
    "## create tiles\n",
    "\n",
    "*Several tiles in the south and north tiles could be deleted eventually as they are on land or not relevant with criterium on Depth or SST*\n",
    "\n",
    "See `rearrange.ipynb` and `tile.ipynb` for more details"
   ]
  },
  {
   "cell_type": "code",
   "execution_count": 7,
   "metadata": {},
   "outputs": [],
   "source": [
    "# create run directory tree\n",
    "dirs = pa.create_dir_tree(root_dir, run_name, overwrite=overwrite)"
   ]
  },
  {
   "cell_type": "code",
   "execution_count": 8,
   "metadata": {},
   "outputs": [
    {
     "name": "stdout",
     "output_type": "stream",
     "text": [
      "Tiler stored in /home1/scratch/slgentil/parcels/californie_spring/tiling\n"
     ]
    }
   ],
   "source": [
    "create_tiles = True\n",
    "#create_tiles = overwrite\n",
    "\n",
    "if create_tiles:\n",
    "    # create tiling\n",
    "    _ds = grd.reset_coords().persist()\n",
    "    tl = pa.tiler(ds=_ds, factor=(1, 1), overlap=(1, 1), \n",
    "                  global_llc=False, lonmin=lonmin, lonmax=lonmax, latmin=latmin, latmax=latmax)\n",
    "    # store tiler\n",
    "    tl.store(dirs[\"tiling\"])\n",
    "else:\n",
    "    tl = pa.tiler(tile_dir=dirs[\"tiling\"])"
   ]
  },
  {
   "cell_type": "code",
   "execution_count": 9,
   "metadata": {},
   "outputs": [],
   "source": [
    "tl.create_tile_run_tree(dirs[\"run\"], overwrite=overwrite)"
   ]
  },
  {
   "cell_type": "markdown",
   "metadata": {},
   "source": [
    "---\n",
    "\n",
    "## create llc.nc netcdf file of the extracted zone\n"
   ]
  },
  {
   "cell_type": "code",
   "execution_count": 10,
   "metadata": {},
   "outputs": [],
   "source": [
    "def format_info(step, t_start, t_end):\n",
    "    print('-------------------------------------------')\n",
    "    print('step={}  /  start={}  /  end={}'\n",
    "          .format(step,\n",
    "                  t_start.strftime(\"%Y-%m-%d:%H\"),\n",
    "                  t_end.strftime(\"%Y-%m-%d:%H\"),\n",
    "                 )\n",
    "         )"
   ]
  },
  {
   "cell_type": "code",
   "execution_count": 11,
   "metadata": {},
   "outputs": [
    {
     "name": "stdout",
     "output_type": "stream",
     "text": [
      "-------------------------------------------\n",
      "step=0  /  start=2012-05-15:00  /  end=2012-06-14:01\n"
     ]
    },
    {
     "name": "stderr",
     "output_type": "stream",
     "text": [
      "/home1/datahome/slgentil/conda-env/test/lib/python3.8/site-packages/xarray/core/indexing.py:1232: PerformanceWarning: Slicing is producing a large chunk. To accept the large\n",
      "chunk and silence this warning, set the option\n",
      "    >>> with dask.config.set(**{'array.slicing.split_large_chunks': False}):\n",
      "    ...     array[indexer]\n",
      "\n",
      "To avoid creating the large chunks, set the option\n",
      "    >>> with dask.config.set(**{'array.slicing.split_large_chunks': True}):\n",
      "    ...     array[indexer]\n",
      "  value = value[(slice(None),) * axis + (subkey,)]\n"
     ]
    }
   ],
   "source": [
    "# print step info\n",
    "#t_start = ut.np64toDate(ds['time'][0].values)\n",
    "t_start = ut.np64toDate(seasons[season])\n",
    "t_end = t_start + dt_window + dt_step\n",
    "format_info(0, t_start, t_end)\n",
    "#tile=0\n",
    "#step=0\n",
    "    \n",
    "# load, tile (and store) llc data\n",
    "ds_tile = pa.tile_store_llc(ds,\n",
    "                             slice(t_start, t_end, None),\n",
    "                             tl,\n",
    "                             netcdf=True,\n",
    "                             global_llc=False,\n",
    "                             lonmin=lonmin, lonmax=lonmax,\n",
    "                             latmin=latmin, latmax=latmax\n",
    "                            )\n"
   ]
  },
  {
   "cell_type": "markdown",
   "metadata": {},
   "source": [
    "---\n",
    "\n",
    "## plot the extracted zone\n"
   ]
  },
  {
   "cell_type": "code",
   "execution_count": 12,
   "metadata": {},
   "outputs": [
    {
     "name": "stdout",
     "output_type": "stream",
     "text": [
      "<xarray.Dataset>\n",
      "Dimensions:  (time: 722, j: 191, i: 144)\n",
      "Coordinates: (12/19)\n",
      "  * time     (time) datetime64[ns] 2012-05-15 ... 2012-06-14T01:00:00\n",
      "    niter    (time) int64 dask.array<chunksize=(1,), meta=np.ndarray>\n",
      "  * j        (j) int64 9805 9806 9807 9808 9809 ... 9991 9992 9993 9994 9995\n",
      "  * i        (i) int64 13008 13009 13010 13011 13012 ... 13148 13149 13150 13151\n",
      "    XC       (j, i) float32 dask.array<chunksize=(191, 144), meta=np.ndarray>\n",
      "    YC       (j, i) float32 dask.array<chunksize=(191, 144), meta=np.ndarray>\n",
      "    ...       ...\n",
      "    dxC      (j, i) float32 dask.array<chunksize=(191, 144), meta=np.ndarray>\n",
      "    dyC      (j, i) float32 dask.array<chunksize=(191, 144), meta=np.ndarray>\n",
      "    dxG      (j, i) float32 dask.array<chunksize=(191, 144), meta=np.ndarray>\n",
      "    dyG      (j, i) float32 dask.array<chunksize=(191, 144), meta=np.ndarray>\n",
      "    rAs      (j, i) float32 dask.array<chunksize=(191, 144), meta=np.ndarray>\n",
      "    rAw      (j, i) float32 dask.array<chunksize=(191, 144), meta=np.ndarray>\n",
      "Data variables:\n",
      "    Eta      (time, j, i) float32 dask.array<chunksize=(1, 191, 144), meta=np.ndarray>\n",
      "    SST      (time, j, i) float32 dask.array<chunksize=(1, 191, 144), meta=np.ndarray>\n",
      "    SSS      (time, j, i) float32 dask.array<chunksize=(1, 191, 144), meta=np.ndarray>\n",
      "    SSU      (time, j, i) float32 dask.array<chunksize=(1, 191, 144), meta=np.ndarray>\n",
      "    SSV      (time, j, i) float32 dask.array<chunksize=(1, 191, 144), meta=np.ndarray>\n"
     ]
    },
    {
     "data": {
      "text/plain": [
       "<matplotlib.collections.QuadMesh at 0x2aabed65e0a0>"
      ]
     },
     "execution_count": 12,
     "metadata": {},
     "output_type": "execute_result"
    },
    {
     "data": {
      "image/png": "[encoded data removed]",
      "text/plain": [
       "<Figure size 432x288 with 2 Axes>"
      ]
     },
     "metadata": {
      "needs_background": "light"
     },
     "output_type": "display_data"
    }
   ],
   "source": [
    "ds_tile = pa.load_ds_tile(tl)[0]\n",
    "print(ds_tile)\n",
    "ds_tile.Eta.isel(time=0).plot.pcolormesh(x='XC',y='YC')"
   ]
  },
  {
   "cell_type": "code",
   "execution_count": 13,
   "metadata": {},
   "outputs": [
    {
     "name": "stderr",
     "output_type": "stream",
     "text": [
      "distributed.client - ERROR - Failed to reconnect to scheduler after 10.00 seconds, closing client\n",
      "_GatheringFuture exception was never retrieved\n",
      "future: <_GatheringFuture finished exception=CancelledError()>\n",
      "asyncio.exceptions.CancelledError\n"
     ]
    }
   ],
   "source": [
    "cluster.close()"
   ]
  }
 ],
 "metadata": {
  "kernelspec": {
   "display_name": "Python 3 (ipykernel)",
   "language": "python",
   "name": "python3"
  },
  "language_info": {
   "codemirror_mode": {
    "name": "ipython",
    "version": 3
   },
   "file_extension": ".py",
   "mimetype": "text/x-python",
   "name": "python",
   "nbconvert_exporter": "python",
   "pygments_lexer": "ipython3",
   "version": "3.8.10"
  }
 },
 "nbformat": 4,
 "nbformat_minor": 4
}
