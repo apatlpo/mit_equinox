{
 "cells": [
  {
   "cell_type": "markdown",
   "metadata": {},
   "source": [
    "# tile llc model run and distribute parcels runs\n",
    "\n",
    "J'ai balisé avec deux étoiles (`**`) les parties qui vont sûrement nécessiter des modifs.\n",
    "\n",
    "Le code principal est dans le [fichier suivant](https://github.com/apatlpo/mit_equinox/blob/master/mitequinox/parcels.py)\n",
    "\n",
    "- [ ] créer le bon environnement, cf [conda.md](https://github.com/apatlpo/mit_equinox/blob/master/doc/conda.md). Ne pas oublier de mettre à jour les fichiers `jobqueue.yml et distributed.yml` dans `.dask/config/`\n",
    "- [ ] parcourir ce notebook et `equinox/parcels.py` pour comprendre ce qui est fait globalement\n",
    "- [ ] Finish implementing main loop around step_window (à la fin)\n",
    "- [ ] verify particles transition smoothly from one grid to the next (pas du tout testé, peut-être gros morceau)\n",
    "- [ ] verify what happens when a particle hit the limit of a tile: il faudrait comprendre ce que parcels fait. Je pense que les flotteurs disparaissent. Il faudrait donc trouver un moyen de les récupérer. Cela va sûrement nécessiter de relancer une (des) simulations sur la fenêtre temporelle concernée et sur le nouveau tile dans lequel le flotteur est arrivé.\n",
    "- [ ] try to speed llc tiling file writing (persist dataset first). It may be faster to rewrite the full (tiled) dataset in a zarr archive.\n",
    "- [ ] adjust tile size and overlap if necessary (may have to wait full dataset runs)\n",
    "- [ ] run particle simulation on full dataset (pas du tout testé, peut-être gros morceau)\n",
    "- [ ] try to change time stepping scheme: RK4\n",
    "- [ ] write a function to load dataset into xarray or dask.dataframe\n"
   ]
  },
  {
   "cell_type": "code",
   "execution_count": 1,
   "metadata": {},
   "outputs": [],
   "source": [
    "import os, shutil\n",
    "\n",
    "import numpy as np\n",
    "import pandas as pd\n",
    "import xarray as xr\n",
    "from datetime import timedelta, datetime\n",
    "import geopandas\n",
    "\n",
    "import dask\n",
    "from dask.delayed import delayed\n",
    "\n",
    "%matplotlib inline\n",
    "from matplotlib import pyplot as plt\n",
    "\n",
    "import xgcm\n",
    "\n",
    "from parcels import FieldSet, ParticleSet, ParticleFile, plotTrajectoriesFile\n",
    "from parcels import JITParticle, ScipyParticle\n",
    "from parcels import ErrorCode, NestedField, AdvectionEE, AdvectionRK4\n",
    "\n",
    "import mitequinox.utils as ut\n",
    "import mitequinox.parcels as pa"
   ]
  },
  {
   "cell_type": "code",
   "execution_count": 2,
   "metadata": {},
   "outputs": [
    {
     "data": {
      "text/html": [
       "<table style=\"border: 2px solid white;\">\n",
       "<tr>\n",
       "<td style=\"vertical-align: top; border: 0px solid white\">\n",
       "<h3 style=\"text-align: left;\">Client</h3>\n",
       "<ul style=\"text-align: left; list-style: none; margin: 0; padding: 0;\">\n",
       "  <li><b>Scheduler: </b>tcp://10.148.0.132:46135</li>\n",
       "  <li><b>Dashboard: </b><a href='http://10.148.0.132:8787/status' target='_blank'>http://10.148.0.132:8787/status</a>\n",
       "</ul>\n",
       "</td>\n",
       "<td style=\"vertical-align: top; border: 0px solid white\">\n",
       "<h3 style=\"text-align: left;\">Cluster</h3>\n",
       "<ul style=\"text-align: left; list-style:none; margin: 0; padding: 0;\">\n",
       "  <li><b>Workers: </b>0</li>\n",
       "  <li><b>Cores: </b>0</li>\n",
       "  <li><b>Memory: </b>0 B</li>\n",
       "</ul>\n",
       "</td>\n",
       "</tr>\n",
       "</table>"
      ],
      "text/plain": [
       "<Client: 'tcp://10.148.0.132:46135' processes=0 threads=0, memory=0 B>"
      ]
     },
     "execution_count": 2,
     "metadata": {},
     "output_type": "execute_result"
    }
   ],
   "source": [
    "from dask.distributed import Client, LocalCluster\n",
    "#\n",
    "#cluster = LocalCluster()\n",
    "#\n",
    "from dask_jobqueue import PBSCluster\n",
    "# ** processes and cores may be adjusted in order to have more memory or inversely more computational ressource\n",
    "#cluster = PBSCluster(processes=4, cores=4, walltime='04:00:00')\n",
    "cluster = PBSCluster(walltime='04:00:00')\n",
    "#cluster = PBSCluster()\n",
    "w = cluster.scale(jobs=5)\n",
    "#\n",
    "client = Client(cluster)\n",
    "client"
   ]
  },
  {
   "cell_type": "markdown",
   "metadata": {},
   "source": [
    "---\n",
    "## setup directories and run parameters"
   ]
  },
  {
   "cell_type": "code",
   "execution_count": 3,
   "metadata": {},
   "outputs": [],
   "source": [
    "#root_dir = ut.root_data_dir+'parcels/'\n",
    "root_dir = '/home1/scratch/aponte/parcels/'\n",
    "\n",
    "run_name = 'test'\n",
    "overwrite = False\n",
    "\n",
    "# create or overwrite run_dir\n",
    "run_dir = root_dir+run_name\n",
    "if os.path.isdir(run_dir):\n",
    "    if overwrite:\n",
    "        shutil.rmtree(run_dir)\n",
    "        os.mkdir(run_dir)\n",
    "    else:\n",
    "        #assert False, 'You need to archive the following directory:\\n'+run_dir\n",
    "        pass\n",
    "else:\n",
    "    os.mkdir(run_dir)"
   ]
  },
  {
   "cell_type": "code",
   "execution_count": 4,
   "metadata": {},
   "outputs": [],
   "source": [
    "# simulation parameters\n",
    "\n",
    "#T = 360? # length of the total run [days]\n",
    "T = 20 # ** debug\n",
    "#dt_windows = 5 # time window\n",
    "dt_windows = 2 # ** debug, 5j devrait être plus approprié je pense\n",
    "dt_stepping = 1 # hours\n",
    "dt_outputs = 1 # hours\n",
    "\n",
    "dij_init = 10 # initial position subsampling compared to llc grid"
   ]
  },
  {
   "cell_type": "markdown",
   "metadata": {},
   "source": [
    "---\n",
    "\n",
    "## load llc data"
   ]
  },
  {
   "cell_type": "code",
   "execution_count": 5,
   "metadata": {},
   "outputs": [],
   "source": [
    "# load llc data\n",
    "ds = ut.load_data(V=['SST', 'SSU', 'SSV'])\n",
    "grd = ut.load_grd()[['XC', 'YC', 'XG', 'YG']]\n",
    "ds = xr.merge([ds, grd])"
   ]
  },
  {
   "cell_type": "markdown",
   "metadata": {},
   "source": [
    "---\n",
    "\n",
    "## create tiles\n",
    "\n",
    "This could be done somewhere else, in another notebook\n",
    "\n",
    "See `rearrange.ipynb` and `tile.ipynb` for more details\n",
    "\n",
    "** Several tiles in the south and north tiles could be deleted eventually as they are on land or not relevant"
   ]
  },
  {
   "cell_type": "code",
   "execution_count": 6,
   "metadata": {},
   "outputs": [],
   "source": [
    "create_tiles = False\n",
    "\n",
    "if create_tiles:\n",
    "    \n",
    "    # ** could filter out tiles that are empty, criterium on Depth or SST should be sufficient\n",
    "\n",
    "    # create tiler\n",
    "    tl = pa.tiler(ds=grd.reset_coords(), factor=(10, 10), overlap=(100, 100))\n",
    "    # store tiler\n",
    "    tl.store(tile_dir)\n",
    "    \n",
    "else:\n",
    "    \n",
    "    #tile_dir = ut.root_data_dir+'parcels/tiling/'\n",
    "    tile_dir = os.path.join(run_dir,'tiling/')\n",
    "    tl = pa.tiler(tile_dir=tile_dir)\n",
    "    \n",
    "tile_data_dirs = [os.path.join(run_dir,'data_{:03d}'.format(t)) \n",
    "                  for t in range(tl.N_tiles)\n",
    "                 ]"
   ]
  },
  {
   "cell_type": "code",
   "execution_count": 7,
   "metadata": {},
   "outputs": [
    {
     "data": {
      "image/png": "[encoded data removed]",
      "text/plain": [
       "<Figure size 864x576 with 1 Axes>"
      ]
     },
     "metadata": {
      "needs_background": "light"
     },
     "output_type": "display_data"
    }
   ],
   "source": [
    "crs = tl.crs_wgs84\n",
    "\n",
    "world = geopandas.read_file(geopandas.datasets.get_path(\"naturalearth_lowres\"))\n",
    "new_world = world.to_crs(crs)\n",
    "\n",
    "fig, ax = plt.subplots(1, 1, figsize=(12, 8))\n",
    "new_world.plot(ax=ax)\n",
    "for t in tl.G['tiles']:\n",
    "    t.to_crs(crs).boundary.plot(ax=ax, color=\"black\")\n",
    "for b in tl.G['boundaries']:\n",
    "    b.to_crs(crs).boundary.plot(ax=ax, color=\"red\")\n",
    "ax.set_axis_off()\n",
    "plt.show()"
   ]
  },
  {
   "cell_type": "code",
   "execution_count": 8,
   "metadata": {},
   "outputs": [],
   "source": [
    "# create a tree of directories to store data\n",
    "for t in tile_data_dirs:\n",
    "    os.mkdir(t)"
   ]
  },
  {
   "cell_type": "markdown",
   "metadata": {},
   "source": [
    "---\n",
    "\n",
    "## !!Not used for now!! \n",
    "\n",
    "initial distribution of floats is performed within `step_window` now.\n",
    "\n",
    "We start from llc grid"
   ]
  },
  {
   "cell_type": "code",
   "execution_count": null,
   "metadata": {},
   "outputs": [],
   "source": [
    "dij = 100 # 1 float every 10 grid points\n",
    "x = (grd[['XC','YC']]\n",
    "          .isel(i=slice(0,None,dij), j=slice(0,None,dij))\n",
    "          .stack(drifter=('i','j','face'))\n",
    "          .reset_coords()\n",
    "         )\n",
    "x = x.where(x.Depth>0, drop=True).persist()\n",
    "\n",
    "x.plot.scatter(x='XC', y='YC', hue='Depth', s=2, size=10)"
   ]
  },
  {
   "cell_type": "code",
   "execution_count": null,
   "metadata": {},
   "outputs": [],
   "source": [
    "# assign to tiles\n",
    "#df_tiles = tl.assign(lon=x_init.XC, lat=x_init.YC)\n",
    "\n",
    "# distributed version\n",
    "def assign(lon, lat):\n",
    "    #import mitequinox.parcels as pa\n",
    "    #tile_dir = '/home/datawork-lops-osi/equinox/mit4320/parcels/tiling/'\n",
    "    tl = pa.tiler(tile_dir=tile_dir)\n",
    "    df = tl.assign(lon=lon.squeeze(), lat=lat.squeeze())\n",
    "    return df.values\n",
    "\n",
    "x['tiles'] = xr.apply_ufunc(assign, \n",
    "                            x.XC, x.YC, \n",
    "                            dask='parallelized', \n",
    "                            output_dtypes=[int]\n",
    "                           ).persist()"
   ]
  },
  {
   "cell_type": "code",
   "execution_count": null,
   "metadata": {},
   "outputs": [],
   "source": [
    "%time x.plot.scatter(x='XC', y='YC', hue='tiles', s=3, size=10, vmin=0, vmax=tl.N_tiles)\n",
    "# dij=100, single node: 1 min35s\n",
    "# dij=100, 5x(4,4) cluster: 2 min 5s"
   ]
  },
  {
   "cell_type": "code",
   "execution_count": null,
   "metadata": {},
   "outputs": [],
   "source": [
    "# drop -1 (drifter without box)\n",
    "x = x.where(x.tiles>-1, drop=True)"
   ]
  },
  {
   "cell_type": "code",
   "execution_count": null,
   "metadata": {},
   "outputs": [],
   "source": [
    "x = (x\n",
    "     .rename({'XC': 'lon', 'YC': 'lat'})\n",
    "     .drop_vars(['CS','SN','rA'])\n",
    "    )"
   ]
  },
  {
   "cell_type": "code",
   "execution_count": null,
   "metadata": {},
   "outputs": [],
   "source": [
    "# store in file to be processed\n",
    "def store_floats_init(x):\n",
    "    ''' store initial float positions\n",
    "    '''\n",
    "    tile = int(x.tiles.values[0])\n",
    "    x = x.chunk({'drifter': -1}).reset_index('drifter')\n",
    "    x.to_netcdf(os.path.join(tile_data_dirs[tile], 'x_init.nc'), mode='w')\n",
    "    return x.mean(dim='drifter')\n",
    "\n",
    "x_mean = x.groupby('tiles').apply(store_floats_init)\n",
    "x_mean.lon.plot()"
   ]
  },
  {
   "cell_type": "markdown",
   "metadata": {},
   "source": [
    "--- \n",
    "\n",
    "## tests on one window\n"
   ]
  },
  {
   "cell_type": "markdown",
   "metadata": {},
   "source": [
    "### rewrite llc data into tiles\n",
    "\n",
    "** Bottle neck to the whole computation: \n",
    "\n",
    "1. it may be more efficient to rewrite the full dataset once with a large dask cluster\n",
    "2. use zarr files"
   ]
  },
  {
   "cell_type": "code",
   "execution_count": null,
   "metadata": {},
   "outputs": [],
   "source": [
    "# store data, may not be necessary eventually\n",
    "\n",
    "# Note:inspection of dash board confirms data for each tile is spread all over workers\n",
    "# we may be able to do better by assigning each tile objects to a worker\n",
    "#    see https://distributed.dask.org/en/latest/locality.html#user-control\n",
    "\n",
    "t=0\n",
    "pa.tile_store_llc(ds,\n",
    "                  slice(t, t+dt_windows*24, None),\n",
    "                  tl,\n",
    "                  tile_data_dirs,\n",
    "                 )\n",
    "\n",
    "# does not go through if data has been persisted before hand !? bizar\n",
    "# we are probably creating more data reads than necessary with the present solution\n",
    "\n",
    "# dt_windows = 2d, 10x10 tiles, 35 workers on 5 nodes: 15min\n",
    "# increasing number of workers does not seem to help: disk access is probably the limiting factor"
   ]
  },
  {
   "cell_type": "code",
   "execution_count": null,
   "metadata": {},
   "outputs": [],
   "source": [
    "# same but not working, reasons unclear, we may be asking too much to the scheduler \n",
    "# as data is spread over all workers\n",
    "if False:\n",
    "    # with D items (tiles) persisted\n",
    "    delayed_results = []\n",
    "    for tile, ds_tile in enumerate(D):\n",
    "        nc_file = os.path.join(tile_data_dirs[tile], 'llc.nc')\n",
    "        delayed = ds_tile.to_netcdf(nc_file, compute=False)\n",
    "        delayed_results.append(delayed)\n",
    "        \n",
    "    results = dask.compute(*delayed_results)"
   ]
  },
  {
   "cell_type": "markdown",
   "metadata": {},
   "source": [
    "### distribute parcels computations over tiles"
   ]
  },
  {
   "cell_type": "code",
   "execution_count": 8,
   "metadata": {},
   "outputs": [],
   "source": [
    "step = 0\n",
    "dij = 10\n",
    "dsteps = [delayed(pa.step_window)(tile, step, dt_windows, tl, run_dir,\n",
    "                                  init_dij=dij, \n",
    "                                  parcels_remove_on_land=True,\n",
    "                                 ) \n",
    "          for tile in range(tl.N_tiles)\n",
    "         ]\n",
    "dsteps_out = dask.compute(*dsteps)"
   ]
  },
  {
   "cell_type": "code",
   "execution_count": 10,
   "metadata": {},
   "outputs": [],
   "source": [
    "# test on one tile\n",
    "#psize = pa.step_window(5,0, dt_windows, tl, run_dir)"
   ]
  },
  {
   "cell_type": "markdown",
   "metadata": {},
   "source": [
    "--- \n",
    "\n",
    "## loop over time windows (main loop)\n",
    "\n",
    "** we will probably need a restart mechanism the loop from a given time, it may be as simple as changing `np.arange(0,T, dt_windows)` into `np.arange(t_restart,T, dt_windows)`\n",
    "\n",
    "** we may need to manually clear memory (for example if llc dataset has been persisted within tile_store_llc)\n"
   ]
  },
  {
   "cell_type": "code",
   "execution_count": null,
   "metadata": {},
   "outputs": [],
   "source": [
    "dij = 10\n",
    "\n",
    "for step, t in enumerate(np.arange(0,T, dt_windows)):\n",
    "    \n",
    "    # load, tile and store llc data\n",
    "    tile_store_llc(t)\n",
    "    \n",
    "    # distribute parcels computations\n",
    "    dsteps = [delayed(pa.step_window)(tile, step, dt_windows, tl, run_dir,\n",
    "                                  init_dij=dij, \n",
    "                                  parcels_remove_on_land=True,\n",
    "                                 ) \n",
    "              for tile in range(tl.N_tiles)\n",
    "             ]\n",
    "    dsteps_out = dask.compute(*dsteps)    \n",
    "    \n",
    "    # ** remove data from memory manually"
   ]
  },
  {
   "cell_type": "markdown",
   "metadata": {},
   "source": [
    "---\n",
    "## load dataset and plot a subset of trajectories"
   ]
  },
  {
   "cell_type": "code",
   "execution_count": null,
   "metadata": {},
   "outputs": [],
   "source": [
    "# ds = xr.open_mfdataset(...)"
   ]
  },
  {
   "cell_type": "code",
   "execution_count": null,
   "metadata": {},
   "outputs": [],
   "source": []
  },
  {
   "cell_type": "code",
   "execution_count": null,
   "metadata": {},
   "outputs": [],
   "source": []
  },
  {
   "cell_type": "code",
   "execution_count": null,
   "metadata": {},
   "outputs": [],
   "source": []
  },
  {
   "cell_type": "markdown",
   "metadata": {},
   "source": [
    "---"
   ]
  },
  {
   "cell_type": "code",
   "execution_count": null,
   "metadata": {},
   "outputs": [],
   "source": [
    "cluster.close()"
   ]
  },
  {
   "cell_type": "code",
   "execution_count": null,
   "metadata": {},
   "outputs": [],
   "source": []
  }
 ],
 "metadata": {
  "kernelspec": {
   "display_name": "Python 3",
   "language": "python",
   "name": "python3"
  },
  "language_info": {
   "codemirror_mode": {
    "name": "ipython",
    "version": 3
   },
   "file_extension": ".py",
   "mimetype": "text/x-python",
   "name": "python",
   "nbconvert_exporter": "python",
   "pygments_lexer": "ipython3",
   "version": "3.7.6"
  }
 },
 "nbformat": 4,
 "nbformat_minor": 4
}
