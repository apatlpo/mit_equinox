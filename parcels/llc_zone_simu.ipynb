{
 "cells": [
  {
   "cell_type": "markdown",
   "metadata": {},
   "source": [
    "# drifters simulation in an extracted zone of llc4320\n",
    "different sites under crossroads of swot trajectories (site)    \n",
    "several release of drifters (dl)\n"
   ]
  },
  {
   "cell_type": "code",
   "execution_count": 1,
   "metadata": {},
   "outputs": [],
   "source": [
    "import os, shutil\n",
    "\n",
    "import math\n",
    "import numpy as np\n",
    "import pandas as pd\n",
    "import xarray as xr\n",
    "from datetime import timedelta, datetime\n",
    "\n",
    "#import geopandas\n",
    "\n",
    "import dask\n",
    "#from dask.delayed import delayed\n",
    "\n",
    "#from xmitgcm.llcreader import llcmodel as llc\n",
    "\n",
    "%matplotlib inline\n",
    "from matplotlib import pyplot as plt\n",
    "\n",
    "from parcels import FieldSet, ParticleSet, ParticleFile, plotTrajectoriesFile, Variable\n",
    "from parcels import JITParticle, ScipyParticle\n",
    "from parcels import ErrorCode, NestedField, AdvectionEE, AdvectionRK4\n",
    "\n",
    "import mitequinox.utils as ut\n",
    "import mitequinox.parcels as pa"
   ]
  },
  {
   "cell_type": "code",
   "execution_count": 2,
   "metadata": {},
   "outputs": [
    {
     "data": {
      "text/html": [
       "<div>\n",
       "    <div style=\"width: 24px; height: 24px; background-color: #e1e1e1; border: 3px solid #9D9D9D; border-radius: 5px; position: absolute;\"> </div>\n",
       "    <div style=\"margin-left: 48px;\">\n",
       "        <h3 style=\"margin-bottom: 0px;\">Client</h3>\n",
       "        <p style=\"color: #9D9D9D; margin-bottom: 0px;\">Client-11349b0a-1135-11ec-9f8b-0cc47a3f5f37</p>\n",
       "        <table style=\"width: 100%; text-align: left;\">\n",
       "\n",
       "        <tr>\n",
       "        \n",
       "            <td style=\"text-align: left;\"><strong>Connection method:</strong> Cluster object</td>\n",
       "            <td style=\"text-align: left;\"><strong>Cluster type:</strong> dask_jobqueue.PBSCluster</td>\n",
       "        \n",
       "        </tr>\n",
       "\n",
       "        \n",
       "            <tr>\n",
       "                <td style=\"text-align: left;\">\n",
       "                    <strong>Dashboard: </strong> <a href=\"http://10.148.0.245:8787/status\" target=\"_blank\">http://10.148.0.245:8787/status</a>\n",
       "                </td>\n",
       "                <td style=\"text-align: left;\"></td>\n",
       "            </tr>\n",
       "        \n",
       "\n",
       "        </table>\n",
       "\n",
       "        \n",
       "            <details>\n",
       "            <summary style=\"margin-bottom: 20px;\"><h3 style=\"display: inline;\">Cluster Info</h3></summary>\n",
       "            <div class=\"jp-RenderedHTMLCommon jp-RenderedHTML jp-mod-trusted jp-OutputArea-output\">\n",
       "    <div style=\"width: 24px; height: 24px; background-color: #e1e1e1; border: 3px solid #9D9D9D; border-radius: 5px; position: absolute;\">\n",
       "    </div>\n",
       "    <div style=\"margin-left: 48px;\">\n",
       "        <h3 style=\"margin-bottom: 0px; margin-top: 0px;\">PBSCluster</h3>\n",
       "        <p style=\"color: #9D9D9D; margin-bottom: 0px;\">b2f564e2</p>\n",
       "        <table style=\"width: 100%; text-align: left;\">\n",
       "            <tr>\n",
       "                <td style=\"text-align: left;\">\n",
       "                    <strong>Dashboard:</strong> <a href=\"http://10.148.0.245:8787/status\" target=\"_blank\">http://10.148.0.245:8787/status</a>\n",
       "                </td>\n",
       "                <td style=\"text-align: left;\">\n",
       "                    <strong>Workers:</strong> 0\n",
       "                </td>\n",
       "            </tr>\n",
       "            <tr>\n",
       "                <td style=\"text-align: left;\">\n",
       "                    <strong>Total threads:</strong> 0\n",
       "                </td>\n",
       "                <td style=\"text-align: left;\">\n",
       "                    <strong>Total memory:</strong> 0 B\n",
       "                </td>\n",
       "            </tr>\n",
       "            \n",
       "        </table>\n",
       "\n",
       "        <details>\n",
       "            <summary style=\"margin-bottom: 20px;\">\n",
       "                <h3 style=\"display: inline;\">Scheduler Info</h3>\n",
       "            </summary>\n",
       "\n",
       "            <div style=\"\">\n",
       "    <div>\n",
       "        <div style=\"width: 24px; height: 24px; background-color: #FFF7E5; border: 3px solid #FF6132; border-radius: 5px; position: absolute;\"> </div>\n",
       "        <div style=\"margin-left: 48px;\">\n",
       "            <h3 style=\"margin-bottom: 0px;\">Scheduler</h3>\n",
       "            <p style=\"color: #9D9D9D; margin-bottom: 0px;\">Scheduler-b991d4fa-29f7-48d4-8f0c-e07807f99002</p>\n",
       "            <table style=\"width: 100%; text-align: left;\">\n",
       "                <tr>\n",
       "                    <td style=\"text-align: left;\">\n",
       "                        <strong>Comm:</strong> tcp://10.148.0.245:58401\n",
       "                    </td>\n",
       "                    <td style=\"text-align: left;\">\n",
       "                        <strong>Workers:</strong> 0\n",
       "                    </td>\n",
       "                </tr>\n",
       "                <tr>\n",
       "                    <td style=\"text-align: left;\">\n",
       "                        <strong>Dashboard:</strong> <a href=\"http://10.148.0.245:8787/status\" target=\"_blank\">http://10.148.0.245:8787/status</a>\n",
       "                    </td>\n",
       "                    <td style=\"text-align: left;\">\n",
       "                        <strong>Total threads:</strong> 0\n",
       "                    </td>\n",
       "                </tr>\n",
       "                <tr>\n",
       "                    <td style=\"text-align: left;\">\n",
       "                        <strong>Started:</strong> Just now\n",
       "                    </td>\n",
       "                    <td style=\"text-align: left;\">\n",
       "                        <strong>Total memory:</strong> 0 B\n",
       "                    </td>\n",
       "                </tr>\n",
       "            </table>\n",
       "        </div>\n",
       "    </div>\n",
       "\n",
       "    <details style=\"margin-left: 48px;\">\n",
       "        <summary style=\"margin-bottom: 20px;\">\n",
       "            <h3 style=\"display: inline;\">Workers</h3>\n",
       "        </summary>\n",
       "\n",
       "        \n",
       "\n",
       "    </details>\n",
       "</div>\n",
       "\n",
       "        </details>\n",
       "    </div>\n",
       "</div>\n",
       "            </details>\n",
       "        \n",
       "\n",
       "    </div>\n",
       "</div>"
      ],
      "text/plain": [
       "<Client: 'tcp://10.148.0.245:58401' processes=0 threads=0, memory=0 B>"
      ]
     },
     "execution_count": 2,
     "metadata": {},
     "output_type": "execute_result"
    }
   ],
   "source": [
    "from dask.distributed import Client, LocalCluster\n",
    "from dask_jobqueue import PBSCluster\n",
    "\n",
    "# ** processes and cores may be adjusted in order to have more memory or inversely more \n",
    "# ** computational ressource\n",
    "\n",
    "processing = 1\n",
    "\n",
    "if processing==0:\n",
    "    cluster = LocalCluster()\n",
    "elif processing==1:\n",
    "    # parcels simulation\n",
    "    cluster = PBSCluster(processes=4, cores=4, walltime='48:00:00')\n",
    "#    w = cluster.scale(jobs=13)\n",
    "    w = cluster.scale(jobs=1)\n",
    "elif processing==2:\n",
    "    # post processing\n",
    "    cluster = PBSCluster()\n",
    "    w = cluster.scale(jobs=2)\n",
    "    \n",
    "client = Client(cluster)\n",
    "client"
   ]
  },
  {
   "cell_type": "markdown",
   "metadata": {},
   "source": [
    "---\n",
    "## setup input parameters"
   ]
  },
  {
   "cell_type": "code",
   "execution_count": 3,
   "metadata": {},
   "outputs": [],
   "source": [
    "# site directories\n",
    "root_dir = '/home1/scratch/slgentil/parcels/'\n",
    "site = 'californie'\n",
    "dl = 16\n",
    "speed = 5"
   ]
  },
  {
   "cell_type": "markdown",
   "metadata": {},
   "source": [
    "---\n",
    "## setup simulation parameters"
   ]
  },
  {
   "cell_type": "code",
   "execution_count": 4,
   "metadata": {},
   "outputs": [],
   "source": [
    "# simulation parameters\n",
    "run_name = site\n",
    "simu_name = 'dl'+str(dl)+'.speed'+str(speed)\n",
    "\n",
    "T = 30. # length of the simulation [days]\n",
    "dt_outputs = timedelta(hours=1.) # time between two storages of floats  [hour]\n",
    "dt_step = timedelta(hours=1.) # time step [hour]\n",
    "dt_window = timedelta(days=T) \n",
    "\n",
    "overwrite = False\n",
    "\n",
    "if site == 'californie':\n",
    "    lonmin=-127.\n",
    "    lonmax=-124.\n",
    "    latmin=34\n",
    "    latmax=37"
   ]
  },
  {
   "cell_type": "markdown",
   "metadata": {},
   "source": [
    "---\n",
    "\n",
    "## create tiles\n",
    "\n",
    "*Several tiles in the south and north tiles could be deleted eventually as they are on land or not relevant with criterium on Depth or SST*\n",
    "\n",
    "See `rearrange.ipynb` and `tile.ipynb` for more details"
   ]
  },
  {
   "cell_type": "code",
   "execution_count": 5,
   "metadata": {},
   "outputs": [
    {
     "name": "stdout",
     "output_type": "stream",
     "text": [
      "Not overwriting /home1/scratch/slgentil/parcels/californie\n",
      "Not overwriting /home1/scratch/slgentil/parcels/californie/run\n",
      "Not overwriting /home1/scratch/slgentil/parcels/californie/tiling\n",
      "Not overwriting /home1/scratch/slgentil/parcels/californie/parquets\n",
      "Not overwriting /home1/scratch/slgentil/parcels/californie/diagnostics\n"
     ]
    }
   ],
   "source": [
    "# create run directory tree\n",
    "dirs = pa.create_dir_tree(root_dir, run_name, overwrite=overwrite)"
   ]
  },
  {
   "cell_type": "code",
   "execution_count": 6,
   "metadata": {},
   "outputs": [],
   "source": [
    "create_tiles = False\n",
    "#create_tiles = overwrite\n",
    "\n",
    "if create_tiles:\n",
    "    # create tiling\n",
    "    _ds = grd.reset_coords().persist()\n",
    "    tl = pa.tiler(ds=_ds, factor=(1, 1), overlap=(250, 250), \n",
    "                  global_llc=False, lonmin=lonmin, lonmax=lonmax, latmin=latmin, latmax=latmax)\n",
    "    # store tiler\n",
    "    tl.store(dirs[\"tiling\"])\n",
    "else:\n",
    "    tl = pa.tiler(tile_dir=dirs[\"tiling\"])"
   ]
  },
  {
   "cell_type": "code",
   "execution_count": 7,
   "metadata": {},
   "outputs": [
    {
     "name": "stdout",
     "output_type": "stream",
     "text": [
      "Not overwriting /home1/scratch/slgentil/parcels/californie/run/data_000\n"
     ]
    }
   ],
   "source": [
    "tl.create_tile_run_tree(dirs[\"run\"], overwrite=overwrite)"
   ]
  },
  {
   "cell_type": "markdown",
   "metadata": {},
   "source": [
    "---\n",
    "## build tool to compute initial positions¶"
   ]
  },
  {
   "cell_type": "code",
   "execution_count": 8,
   "metadata": {},
   "outputs": [],
   "source": [
    "# compute mid point\n",
    "mid = lambda a, b: dict(lon = (a[\"lon\"]+b[\"lon\"])*.5,\n",
    "                        lat = (a[\"lat\"]+b[\"lat\"])*.5,\n",
    "                       )\n",
    "def follow_path(lon, lat, dl, speed):\n",
    "    \"\"\" Build a trajectory with dl (nautical miles) along the lon, lat paths\n",
    "    \n",
    "    Parameters\n",
    "    ----------\n",
    "    lon, lat: lists\n",
    "        List of reference positions\n",
    "    dl: float\n",
    "        Distance between drifter release\n",
    "    speed: float\n",
    "        Speed of the ship in knots (nautical miles per hour)\n",
    "    Returns\n",
    "    -------\n",
    "    lon_i, lat_i: lists\n",
    "        Lists of release positions\n",
    "    time: list\n",
    "        Release deployment time in hours\n",
    "    \"\"\"\n",
    "    hour2second = 3600.\n",
    "    r = np.cos(np.pi/180.*np.mean(lat))\n",
    "    time = [0.]\n",
    "    for i in range(len(lon)-1):\n",
    "        dlon = lon[i+1]-lon[i]\n",
    "        dlat = lat[i+1]-lat[i]\n",
    "        dl_segment = np.sqrt(dlon**2 * r**2 + dlat**2) # in deg\n",
    "        ds = dl/60/dl_segment\n",
    "        if i==0:\n",
    "            lon_i, lat_i = [lon[0] - dlon * ds/2], [lat[0] - dlat * ds/2]\n",
    "        s = 0\n",
    "        while s<1:\n",
    "            _lon = lon_i[-1] + dlon * ds\n",
    "            _lat = lat_i[-1] + dlat * ds\n",
    "            lon_i.append( _lon )\n",
    "            lat_i.append( _lat )\n",
    "            time.append( math.ceil(time[-1] + dl/speed) )\n",
    "            s += ds\n",
    "            #flag = ( (_lon-lon[i]) * (_lon-lon[i+1]) < 0 ) | ( (_lat-lat[i]) * (_lat-lat[i+1]) < 0 )\n",
    "    return np.array(lon_i), np.array(lat_i), np.array(time) * timedelta(hours=1).total_seconds()\n"
   ]
  },
  {
   "cell_type": "code",
   "execution_count": 9,
   "metadata": {},
   "outputs": [],
   "source": [
    "# corners of the eastern cross-over diamond\n",
    "\n",
    "if site == 'californie':\n",
    "    south = dict(lon=-125, lat=34.61)\n",
    "    north = dict(lon=-125, lat=36.8)\n",
    "    west = dict(lon=-125.3, lat=35.7)\n",
    "    east = dict(lon=-124.7, lat=35.7)\n",
    "    \n",
    "lon_i, lat_i = [], []\n",
    "\n",
    "lon_i.append(mid(west, north)[\"lon\"])\n",
    "lat_i.append(mid(west, north)[\"lat\"])\n",
    "\n",
    "lon_i.append(mid(east, south)[\"lon\"])\n",
    "lat_i.append(mid(east, south)[\"lat\"])\n",
    "\n",
    "lon_i.append(mid(west, south)[\"lon\"])\n",
    "lat_i.append(mid(west, south)[\"lat\"])\n",
    "\n",
    "lon_i.append(mid(east, north)[\"lon\"])\n",
    "lat_i.append(mid(east, north)[\"lat\"])"
   ]
  },
  {
   "cell_type": "code",
   "execution_count": 10,
   "metadata": {},
   "outputs": [
    {
     "name": "stdout",
     "output_type": "stream",
     "text": [
      "[     0.  14400.  28800.  43200.  57600.  72000.  86400. 100800. 115200.\n",
      " 129600. 144000. 158400.]\n"
     ]
    }
   ],
   "source": [
    "lon, lat, time = follow_path(lon_i, lat_i, dl, speed)\n",
    "print(time)"
   ]
  },
  {
   "cell_type": "markdown",
   "metadata": {},
   "source": [
    "--- \n",
    "\n",
    "## loop over time windows (main loop)\n",
    "\n",
    "** we will probably need a restart mechanism the loop from a given time, it may be as simple as changing `np.arange(0,T, dt_windows)` into `np.arange(t_restart,T, dt_windows)`\n",
    "\n",
    "** we may need to manually clear memory (for example if llc dataset has been persisted within tile_store_llc)\n"
   ]
  },
  {
   "cell_type": "code",
   "execution_count": 11,
   "metadata": {},
   "outputs": [],
   "source": [
    "def format_info(step, t_start, t_end):\n",
    "    print('-------------------------------------------')\n",
    "    print('step={}  /  start={}  /  end={}'\n",
    "          .format(step,\n",
    "                  t_start.strftime(\"%Y-%m-%d:%H\"),\n",
    "                  t_end.strftime(\"%Y-%m-%d:%H\"),\n",
    "                 )\n",
    "         )"
   ]
  },
  {
   "cell_type": "code",
   "execution_count": 12,
   "metadata": {},
   "outputs": [
    {
     "name": "stdout",
     "output_type": "stream",
     "text": [
      "-------------------------------------------\n",
      "step=0  /  start=2011-11-15:00  /  end=2011-12-15:01\n"
     ]
    },
    {
     "name": "stderr",
     "output_type": "stream",
     "text": [
      "INFO: Compiled ArrayParticle_extendedRemoveOnLand ==> /dev/shm/pbs.6667360.datarmor0/parcels-16088/libca96cffef71a113276a319842bdde1c2_0.so\n",
      "WARNING: dt or runtime are zero, or endtime is equal to Particle.time. The kernels will be executed once, without incrementing time\n",
      "INFO: Compiled ArrayParticle_extendedExtended_SampleAdvectionRK4 ==> /dev/shm/pbs.6667360.datarmor0/parcels-16088/lib40c2f96cd4c07f92f2b39cbb83ef7ac0_0.so\n",
      "INFO: Temporary output files are stored in /home1/scratch/slgentil/parcels/californie/run/data_000/out-PLASUJOQ.\n",
      "INFO: You can use \"parcels_convert_npydir_to_netcdf /home1/scratch/slgentil/parcels/californie/run/data_000/out-PLASUJOQ\" to convert these to a NetCDF file during the run.\n",
      "100% (2595600.0 of 2595600.0) |##########| Elapsed Time: 0:00:14 Time:  0:00:14\n",
      "/home1/datahome/slgentil/conda-env/test/lib/python3.8/site-packages/numpy/lib/arraysetops.py:270: VisibleDeprecationWarning: Creating an ndarray from ragged nested sequences (which is a list-or-tuple of lists-or-tuples-or ndarrays with different lengths or shapes) is deprecated. If you meant to do this, you must specify 'dtype=object' when creating the ndarray.\n",
      "  ar = np.asanyarray(ar)\n"
     ]
    },
    {
     "name": "stdout",
     "output_type": "stream",
     "text": [
      "Total number of particles start/end= 12/2\n"
     ]
    }
   ],
   "source": [
    "tile = 0\n",
    "step = 0\n",
    "restart = 0\n",
    "\n",
    "# load, tile form llc.nc file (without face dimension)\n",
    "ds_tile = pa.load_ds_tile(tl)[0]\n",
    "\n",
    "t_start = ut.np64toDate(ds_tile['time'][0].values)\n",
    "t_end = t_start + dt_window + dt_step\n",
    "format_info(step, t_start, t_end)\n",
    "\n",
    "# get new log filename for this run\n",
    "log_file = pa.name_log_file(dirs['run'])\n",
    "\n",
    "# clean up data for restart\n",
    "tl.clean_up(dirs[\"run\"], restart)\n",
    "\n",
    "local_numbers = {tile: 0 for tile in range(tl.N_tiles)}\n",
    "max_ids = {tile: None for tile in range(tl.N_tiles)}\n",
    "\n",
    "#for tile in range(tl.N_tiles):\n",
    "tile = 0\n",
    "step_out = \\\n",
    "        pa.step_window(tile, step, \n",
    "                       t_start, t_end,\n",
    "                       dt_window, dt_step, dt_outputs, \n",
    "                       tl,\n",
    "                       ds_tile=ds_tile,  \n",
    "                       lon=lon, lat=lat, time=time, \n",
    "                       parcels_remove_on_land=True,\n",
    "                       pclass=\"extended\",\n",
    "                       id_max=max_ids[tile],\n",
    "                      )\n",
    "\n",
    "max_ids = {tile: int(step_out[1])}\n",
    "local_numbers = {tile: int(step_out[0])}\n",
    "log = dict(\n",
    "           local_numbers=local_numbers,\n",
    "           max_ids=max_ids,\n",
    "          )\n",
    "\n",
    "# store log\n",
    "pa.store_log(log_file, step, log)\n",
    "\n",
    "print('Total number of particles start/end= {}/{}'\n",
    "      .format(lon.size,local_numbers[0])\n",
    "     )\n",
    "    "
   ]
  },
  {
   "cell_type": "code",
   "execution_count": 13,
   "metadata": {},
   "outputs": [
    {
     "name": "stdout",
     "output_type": "stream",
     "text": [
      "/home1/scratch/slgentil/parcels/californie/run/log_20210909_0613.yaml\n"
     ]
    }
   ],
   "source": [
    "print(log_file)"
   ]
  },
  {
   "cell_type": "code",
   "execution_count": 14,
   "metadata": {},
   "outputs": [
    {
     "data": {
      "text/plain": [
       "<matplotlib.collections.QuadMesh at 0x2aabc652a490>"
      ]
     },
     "execution_count": 14,
     "metadata": {},
     "output_type": "execute_result"
    },
    {
     "data": {
      "image/png": "[encoded data removed]",
      "text/plain": [
       "<Figure size 432x288 with 2 Axes>"
      ]
     },
     "metadata": {
      "needs_background": "light"
     },
     "output_type": "display_data"
    }
   ],
   "source": [
    "ds_tile.Eta.isel(time=0).plot.pcolormesh(x='XC',y='YC')"
   ]
  },
  {
   "cell_type": "code",
   "execution_count": 15,
   "metadata": {},
   "outputs": [],
   "source": [
    "#ds_tiles = [_ds.persist() for _ds in ds_tiles]\n",
    "# 220GB in RAM against 750 GB observed"
   ]
  },
  {
   "cell_type": "markdown",
   "metadata": {},
   "source": [
    "Change name of the floats netcdf file according to the simulation name. The goal is to keep the same llc.nc file for several simulations, with different float releases"
   ]
  },
  {
   "cell_type": "code",
   "execution_count": 16,
   "metadata": {},
   "outputs": [],
   "source": [
    "run_dir = dirs['run']\n",
    "f = os.path.join(run_dir, \"data_000/floats_000_000.nc\")\n",
    "if os.path.isfile(f):\n",
    "    f_new = f.replace('000_000',simu_name)\n",
    "    os.rename(f, f_new)"
   ]
  },
  {
   "cell_type": "markdown",
   "metadata": {},
   "source": [
    "Plot trajectories"
   ]
  },
  {
   "cell_type": "code",
   "execution_count": 17,
   "metadata": {},
   "outputs": [
    {
     "data": {
      "text/html": [
       "<div>\n",
       "<style scoped>\n",
       "    .dataframe tbody tr th:only-of-type {\n",
       "        vertical-align: middle;\n",
       "    }\n",
       "\n",
       "    .dataframe tbody tr th {\n",
       "        vertical-align: top;\n",
       "    }\n",
       "\n",
       "    .dataframe thead th {\n",
       "        text-align: right;\n",
       "    }\n",
       "</style>\n",
       "<table border=\"1\" class=\"dataframe\">\n",
       "  <thead>\n",
       "    <tr style=\"text-align: right;\">\n",
       "      <th></th>\n",
       "      <th>trajectory</th>\n",
       "      <th>lat</th>\n",
       "      <th>lon</th>\n",
       "      <th>z</th>\n",
       "      <th>zonal_velocity</th>\n",
       "      <th>meridional_velocity</th>\n",
       "      <th>sea_level</th>\n",
       "      <th>temperature</th>\n",
       "      <th>salinity</th>\n",
       "    </tr>\n",
       "    <tr>\n",
       "      <th>time</th>\n",
       "      <th></th>\n",
       "      <th></th>\n",
       "      <th></th>\n",
       "      <th></th>\n",
       "      <th></th>\n",
       "      <th></th>\n",
       "      <th></th>\n",
       "      <th></th>\n",
       "      <th></th>\n",
       "    </tr>\n",
       "  </thead>\n",
       "  <tbody>\n",
       "    <tr>\n",
       "      <th>2011-11-15 00:00:00</th>\n",
       "      <td>0</td>\n",
       "      <td>36.380151</td>\n",
       "      <td>-125.185658</td>\n",
       "      <td>0.0</td>\n",
       "      <td>0.000000e+00</td>\n",
       "      <td>0.000000</td>\n",
       "      <td>0.000000</td>\n",
       "      <td>0.000000</td>\n",
       "      <td>0.000000</td>\n",
       "    </tr>\n",
       "    <tr>\n",
       "      <th>2011-11-15 01:00:00</th>\n",
       "      <td>0</td>\n",
       "      <td>36.372983</td>\n",
       "      <td>-125.177441</td>\n",
       "      <td>0.0</td>\n",
       "      <td>2.319549e-06</td>\n",
       "      <td>-0.000002</td>\n",
       "      <td>-0.696997</td>\n",
       "      <td>13.406317</td>\n",
       "      <td>33.160259</td>\n",
       "    </tr>\n",
       "    <tr>\n",
       "      <th>2011-11-15 02:00:00</th>\n",
       "      <td>0</td>\n",
       "      <td>36.365401</td>\n",
       "      <td>-125.171495</td>\n",
       "      <td>0.0</td>\n",
       "      <td>2.253178e-06</td>\n",
       "      <td>-0.000002</td>\n",
       "      <td>-0.719081</td>\n",
       "      <td>13.392070</td>\n",
       "      <td>33.157738</td>\n",
       "    </tr>\n",
       "    <tr>\n",
       "      <th>2011-11-15 03:00:00</th>\n",
       "      <td>0</td>\n",
       "      <td>36.357647</td>\n",
       "      <td>-125.167873</td>\n",
       "      <td>0.0</td>\n",
       "      <td>1.168528e-06</td>\n",
       "      <td>-0.000002</td>\n",
       "      <td>-0.621342</td>\n",
       "      <td>13.367542</td>\n",
       "      <td>33.133263</td>\n",
       "    </tr>\n",
       "    <tr>\n",
       "      <th>2011-11-15 04:00:00</th>\n",
       "      <td>0</td>\n",
       "      <td>36.352578</td>\n",
       "      <td>-125.165383</td>\n",
       "      <td>0.0</td>\n",
       "      <td>8.287934e-07</td>\n",
       "      <td>-0.000002</td>\n",
       "      <td>-0.387230</td>\n",
       "      <td>13.370584</td>\n",
       "      <td>33.147820</td>\n",
       "    </tr>\n",
       "  </tbody>\n",
       "</table>\n",
       "</div>"
      ],
      "text/plain": [
       "                     trajectory        lat         lon    z  zonal_velocity  \\\n",
       "time                                                                          \n",
       "2011-11-15 00:00:00           0  36.380151 -125.185658  0.0    0.000000e+00   \n",
       "2011-11-15 01:00:00           0  36.372983 -125.177441  0.0    2.319549e-06   \n",
       "2011-11-15 02:00:00           0  36.365401 -125.171495  0.0    2.253178e-06   \n",
       "2011-11-15 03:00:00           0  36.357647 -125.167873  0.0    1.168528e-06   \n",
       "2011-11-15 04:00:00           0  36.352578 -125.165383  0.0    8.287934e-07   \n",
       "\n",
       "                     meridional_velocity  sea_level  temperature   salinity  \n",
       "time                                                                         \n",
       "2011-11-15 00:00:00             0.000000   0.000000     0.000000   0.000000  \n",
       "2011-11-15 01:00:00            -0.000002  -0.696997    13.406317  33.160259  \n",
       "2011-11-15 02:00:00            -0.000002  -0.719081    13.392070  33.157738  \n",
       "2011-11-15 03:00:00            -0.000002  -0.621342    13.367542  33.133263  \n",
       "2011-11-15 04:00:00            -0.000002  -0.387230    13.370584  33.147820  "
      ]
     },
     "execution_count": 17,
     "metadata": {},
     "output_type": "execute_result"
    }
   ],
   "source": [
    "df = pa.load_nc(dirs[\"run\"], index='time', step_tile=simu_name, persist=True)\n",
    "df.head()"
   ]
  },
  {
   "cell_type": "code",
   "execution_count": 18,
   "metadata": {},
   "outputs": [
    {
     "name": "stdout",
     "output_type": "stream",
     "text": [
      "2011-11-15 00:00:00 2011-12-15 01:00:00\n"
     ]
    }
   ],
   "source": [
    "tmin = str(df.index.min().compute() )\n",
    "tmax = str(df.index.max().compute())\n",
    "print(tmin, tmax)"
   ]
  },
  {
   "cell_type": "code",
   "execution_count": 19,
   "metadata": {},
   "outputs": [
    {
     "name": "stdout",
     "output_type": "stream",
     "text": [
      "2011-11-15 00:00:00 2011-12-15 01:00:00 2011-11-16 20:00:00\n"
     ]
    }
   ],
   "source": [
    "tmin = str(df.index.min().compute())\n",
    "tmax = str(df.index.max().compute())\n",
    "tplt = str(df.index.min().compute() + timedelta(seconds=time[-1]))\n",
    "print(tmin, tmax, tplt)"
   ]
  },
  {
   "cell_type": "code",
   "execution_count": 20,
   "metadata": {},
   "outputs": [
    {
     "data": {
      "text/plain": [
       "<matplotlib.colorbar.Colorbar at 0x2aabdd65dc40>"
      ]
     },
     "execution_count": 20,
     "metadata": {},
     "output_type": "execute_result"
    },
    {
     "data": {
      "image/png": "[encoded data removed]",
      "text/plain": [
       "<Figure size 432x288 with 2 Axes>"
      ]
     },
     "metadata": {
      "needs_background": "light"
     },
     "output_type": "display_data"
    }
   ],
   "source": [
    "\n",
    "_df = df.loc[tplt].compute()\n",
    "plt.scatter(_df['lon'], _df['lat'], s=1, c=_df['temperature'], \n",
    "            vmin=0, vmax=35, cmap='plasma')\n",
    "plt.xlim(lonmin,lonmax)\n",
    "plt.ylim(latmin,latmax)\n",
    "plt.colorbar()"
   ]
  },
  {
   "cell_type": "code",
   "execution_count": 21,
   "metadata": {},
   "outputs": [
    {
     "data": {
      "text/plain": [
       "<matplotlib.colorbar.Colorbar at 0x2aac73f66640>"
      ]
     },
     "execution_count": 21,
     "metadata": {},
     "output_type": "execute_result"
    },
    {
     "data": {
      "image/png": "[encoded data removed]",
      "text/plain": [
       "<Figure size 432x288 with 2 Axes>"
      ]
     },
     "metadata": {
      "needs_background": "light"
     },
     "output_type": "display_data"
    }
   ],
   "source": [
    "_df = df.loc[tmax].compute()\n",
    "plt.scatter(_df['lon'], _df['lat'], s=1, c=_df['temperature'], \n",
    "            vmin=0, vmax=35, cmap='plasma')\n",
    "plt.xlim(lonmin,lonmax)\n",
    "plt.ylim(latmin,latmax)\n",
    "plt.colorbar()"
   ]
  },
  {
   "cell_type": "markdown",
   "metadata": {},
   "source": [
    "plot trajectories of the simulation"
   ]
  },
  {
   "cell_type": "code",
   "execution_count": 22,
   "metadata": {},
   "outputs": [
    {
     "name": "stdout",
     "output_type": "stream",
     "text": [
      "Index(['trajectory', 'time', 'lat', 'lon', 'z', 'zonal_velocity',\n",
      "       'meridional_velocity', 'sea_level', 'temperature', 'salinity'],\n",
      "      dtype='object')\n",
      "DatetimeIndex(['2011-11-15 00:00:00', '2011-11-15 01:00:00',\n",
      "               '2011-11-15 02:00:00', '2011-11-15 03:00:00',\n",
      "               '2011-11-15 04:00:00', '2011-11-15 05:00:00',\n",
      "               '2011-11-15 06:00:00', '2011-11-15 07:00:00',\n",
      "               '2011-11-15 08:00:00', '2011-11-15 09:00:00',\n",
      "               ...\n",
      "               '2011-12-14 16:00:00', '2011-12-14 17:00:00',\n",
      "               '2011-12-14 18:00:00', '2011-12-14 19:00:00',\n",
      "               '2011-12-14 20:00:00', '2011-12-14 21:00:00',\n",
      "               '2011-12-14 22:00:00', '2011-12-14 23:00:00',\n",
      "               '2011-12-15 00:00:00', '2011-12-15 01:00:00'],\n",
      "              dtype='datetime64[ns]', length=722, freq='H')\n"
     ]
    }
   ],
   "source": [
    "f = os.path.join(dirs['run'], \"data_000/floats_{}.nc\".format(simu_name))\n",
    "ds = xr.open_dataset(f)\n",
    "df = ds.to_dataframe()\n",
    "print(df.columns)\n",
    "ts = df['time'].min()\n",
    "te = df['time'].max()\n",
    "t_range = pd.date_range(ts, te, freq=\"1H\")\n",
    "print(t_range)"
   ]
  },
  {
   "cell_type": "code",
   "execution_count": 23,
   "metadata": {},
   "outputs": [
    {
     "name": "stdout",
     "output_type": "stream",
     "text": [
      "MultiIndex([( 0,   0),\n",
      "            ( 0,   1),\n",
      "            ( 0,   2),\n",
      "            ( 0,   3),\n",
      "            ( 0,   4),\n",
      "            ( 0,   5),\n",
      "            ( 0,   6),\n",
      "            ( 0,   7),\n",
      "            ( 0,   8),\n",
      "            ( 0,   9),\n",
      "            ...\n",
      "            (11, 712),\n",
      "            (11, 713),\n",
      "            (11, 714),\n",
      "            (11, 715),\n",
      "            (11, 716),\n",
      "            (11, 717),\n",
      "            (11, 718),\n",
      "            (11, 719),\n",
      "            (11, 720),\n",
      "            (11, 721)],\n",
      "           names=['traj', 'obs'], length=8664)\n"
     ]
    }
   ],
   "source": [
    "print(df.index)"
   ]
  },
  {
   "cell_type": "markdown",
   "metadata": {},
   "source": [
    "## Close cluster"
   ]
  },
  {
   "cell_type": "code",
   "execution_count": 24,
   "metadata": {},
   "outputs": [
    {
     "name": "stderr",
     "output_type": "stream",
     "text": [
      "distributed.client - ERROR - Failed to reconnect to scheduler after 10.00 seconds, closing client\n",
      "_GatheringFuture exception was never retrieved\n",
      "future: <_GatheringFuture finished exception=CancelledError()>\n",
      "asyncio.exceptions.CancelledError\n"
     ]
    }
   ],
   "source": [
    "cluster.close()"
   ]
  }
 ],
 "metadata": {
  "kernelspec": {
   "display_name": "Python 3 (ipykernel)",
   "language": "python",
   "name": "python3"
  },
  "language_info": {
   "codemirror_mode": {
    "name": "ipython",
    "version": 3
   },
   "file_extension": ".py",
   "mimetype": "text/x-python",
   "name": "python",
   "nbconvert_exporter": "python",
   "pygments_lexer": "ipython3",
   "version": "3.8.10"
  }
 },
 "nbformat": 4,
 "nbformat_minor": 4
}
